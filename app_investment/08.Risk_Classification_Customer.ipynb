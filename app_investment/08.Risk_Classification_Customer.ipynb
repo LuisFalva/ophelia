{
 "cells": [
  {
   "cell_type": "code",
   "execution_count": 1,
   "metadata": {},
   "outputs": [],
   "source": [
    "import numpy as np\n",
    "\n",
    "from collections import Counter"
   ]
  },
  {
   "cell_type": "code",
   "execution_count": 2,
   "metadata": {},
   "outputs": [],
   "source": [
    "class CustomerObject(object):\n",
    "    \n",
    "    def __init__(self, gender, age, marital, education, occupation):\n",
    "        \"\"\"\n",
    "        Constructor object for input parameters.\n",
    "        :param NAME_PARAM: \"DESCRIPTION HERE\"        \n",
    "        \"\"\"\n",
    "        self.gender = gender\n",
    "        self.age = age\n",
    "        self.marital = marital\n",
    "        self.education = education\n",
    "        self.occupation = occupation"
   ]
  },
  {
   "cell_type": "code",
   "execution_count": 7,
   "metadata": {},
   "outputs": [],
   "source": [
    "epsilon = 0.00000001\n",
    "class DemographicScoring(object):\n",
    "    \n",
    "    #epsilon = 0.00000001\n",
    "    \n",
    "    def score_gender(gender, w):\n",
    "        if (gender == \"mujer\") | (gender == \"femenino\"):\n",
    "            return {\"vote\": float((1+w)*epsilon), \"genW\": float(w), \"riskLabel\": str(\"MA\")}\n",
    "        else:\n",
    "            return {\"vote\": float(w*epsilon), \"genW\": float(w), \"riskLabel\": str(\"A\")}\n",
    "    \n",
    "    def score_age(age, w):\n",
    "        if age > 60:\n",
    "            return {\"vote\": float(1+w), \"ageW\": float(w), \"riskLabel\": str(\"C\")}\n",
    "        elif 50 < age <= 60:\n",
    "            return {\"vote\": float(1+w), \"ageW\": float(w), \"riskLabel\": str(\"MC\")}\n",
    "        elif 40 < age <= 50:\n",
    "            return {\"vote\": float(1+w), \"ageW\": float(w), \"riskLabel\": str(\"M\")}\n",
    "        elif 30 < age <= 40:\n",
    "            return {\"vote\": float(1+w), \"ageW\": float(w), \"riskLabel\": str(\"MA\")}\n",
    "        else:\n",
    "            return {\"vote\": float(1+w), \"ageW\": float(w), \"riskLabel\": str(\"A\")}\n",
    "    \n",
    "    def score_marital(marital, w):\n",
    "        if marital == \"casado\":\n",
    "            return {\"vote\": float((1+w)*epsilon), \"marW\": float(w), \"riskLabel\": str(\"MA\")}\n",
    "        if marital == \"soltero\":\n",
    "            return {\"vote\": float(1+w), \"marW\": float(w), \"riskLabel\": str(\"A\")}\n",
    "        else:\n",
    "            return {\"vote\": float(1+w), \"marW\": float(w), \"riskLabel\": str(\"MC\")}\n",
    "        \n",
    "    def score_education(education, w):\n",
    "        if education == \"primaria\":\n",
    "            return {\"vote\": float(1+w), \"maxW\": float(w), \"riskLabel\": str(\"C\")}\n",
    "        elif education == \"secundaria\":\n",
    "            return {\"vote\": float(1+w), \"maxW\": float(w), \"riskLabel\": str(\"MC\")}\n",
    "        elif education == \"media\":\n",
    "            return {\"vote\": float(1+w), \"maxW\": float(w), \"riskLabel\": str(\"M\")}\n",
    "        elif education == \"superior\":\n",
    "            return {\"vote\": float((1+w)*epsilon), \"maxW\": float(w), \"riskLabel\": str(\"MA\")}\n",
    "        else:\n",
    "            return {\"vote\": float((1+w)*epsilon), \"maxW\": float(w), \"riskLabel\": str(\"A\")}\n",
    "        \n",
    "    def score_occupation(occupation, w):\n",
    "        if occupation == \"retirado\":\n",
    "            return {\"vote\": float(1+w), \"occW\": float(w), \"riskLabel\": str(\"C\")}\n",
    "        elif (occupation == \"independiente\") | (occupation == \"hogar\"):\n",
    "            return {\"vote\": float(1+w), \"occW\": float(w), \"riskLabel\": str(\"M\")}\n",
    "        else:\n",
    "            return {\"vote\": float(1+w), \"occW\": float(w), \"riskLabel\": str(\"A\")}\n",
    "    \n",
    "    def indexFibonacciApproximation(fib_num):\n",
    "        if fib_num == 0.0:\n",
    "            print(\"WARNING: Zero found..\")\n",
    "            return None\n",
    "\n",
    "        Phi = (1+np.sqrt(5))/2\n",
    "        i = np.round((np.log(fib_num) + (np.log(5)/2)) / np.log(Phi))\n",
    "        return float(i)"
   ]
  },
  {
   "cell_type": "code",
   "execution_count": 8,
   "metadata": {},
   "outputs": [],
   "source": [
    "class TreeGenerator(object):\n",
    "    \n",
    "    def __init__(self, person, W):\n",
    "        \n",
    "        first_round_dtree = [\n",
    "            DemographicScoring.score_gender(person.gender, w=W[0]), \n",
    "            DemographicScoring.score_age(person.age, w=W[1]),\n",
    "            DemographicScoring.score_education(person.education, w=W[2]),\n",
    "            DemographicScoring.score_occupation(person.occupation, w=W[3]),\n",
    "            DemographicScoring.score_marital(person.marital, w=W[4])\n",
    "        ]\n",
    "        self.first_round_dtree = first_round_dtree\n",
    "        \n",
    "        second_round_dtree = []\n",
    "        third_round_dtree = []"
   ]
  },
  {
   "cell_type": "code",
   "execution_count": 9,
   "metadata": {},
   "outputs": [],
   "source": [
    "# Definimos los pesos para cada atributo:\n",
    "# indices [ 0  ,  1  ,  2  ,  3  ,  4  ]\n",
    "# esto se puede entrenar a posteriori\n",
    "\n",
    "weights = [0.35, 0.31, 0.25, 0.07, 0.02]"
   ]
  },
  {
   "cell_type": "code",
   "execution_count": 10,
   "metadata": {},
   "outputs": [
    {
     "data": {
      "text/plain": [
       "[{'vote': 3.5e-09, 'genW': 0.35, 'riskLabel': 'A'},\n",
       " {'vote': 1.31, 'ageW': 0.31, 'riskLabel': 'A'},\n",
       " {'vote': 1.25e-08, 'maxW': 0.25, 'riskLabel': 'MA'},\n",
       " {'vote': 1.07, 'occW': 0.07, 'riskLabel': 'A'},\n",
       " {'vote': 1.02e-08, 'marW': 0.02, 'riskLabel': 'MA'}]"
      ]
     },
     "execution_count": 10,
     "metadata": {},
     "output_type": "execute_result"
    }
   ],
   "source": [
    "Luis = CustomerObject(\n",
    "    gender=\"masculino\",\n",
    "    age=29,\n",
    "    education=\"superior\",\n",
    "    marital=\"casado\",\n",
    "    occupation=\"empleado\"\n",
    ")\n",
    "\n",
    "luis_tree = TreeGenerator(person=Luis, W=weights).first_round_dtree\n",
    "luis_tree"
   ]
  },
  {
   "cell_type": "code",
   "execution_count": 11,
   "metadata": {},
   "outputs": [
    {
     "data": {
      "text/plain": [
       "[{'vote': 1.3500000000000002e-08, 'genW': 0.35, 'riskLabel': 'MA'},\n",
       " {'vote': 1.31, 'ageW': 0.31, 'riskLabel': 'MC'},\n",
       " {'vote': 1.25, 'maxW': 0.25, 'riskLabel': 'M'},\n",
       " {'vote': 1.07, 'occW': 0.07, 'riskLabel': 'M'},\n",
       " {'vote': 1.02e-08, 'marW': 0.02, 'riskLabel': 'MA'}]"
      ]
     },
     "execution_count": 11,
     "metadata": {},
     "output_type": "execute_result"
    }
   ],
   "source": [
    "Claudia = CustomerObject(\n",
    "    gender=\"femenino\",\n",
    "    age=52,\n",
    "    education=\"media\",\n",
    "    marital=\"casado\",\n",
    "    occupation=\"hogar\"\n",
    ")\n",
    "# TODO: agregar detección de hombre/mujer para redistribución de los pesos\n",
    "claudia_tree = TreeGenerator(person=Claudia, W=weights).first_round_dtree\n",
    "claudia_tree"
   ]
  },
  {
   "cell_type": "code",
   "execution_count": 12,
   "metadata": {},
   "outputs": [
    {
     "data": {
      "text/plain": [
       "[{'vote': 1.3500000000000002e-08, 'genW': 0.35, 'riskLabel': 'MA'},\n",
       " {'vote': 1.31, 'ageW': 0.31, 'riskLabel': 'A'},\n",
       " {'vote': 1.25e-08, 'maxW': 0.25, 'riskLabel': 'A'},\n",
       " {'vote': 1.07, 'occW': 0.07, 'riskLabel': 'M'},\n",
       " {'vote': 1.02e-08, 'marW': 0.02, 'riskLabel': 'MA'}]"
      ]
     },
     "execution_count": 12,
     "metadata": {},
     "output_type": "execute_result"
    }
   ],
   "source": [
    "Lily = CustomerObject(\n",
    "    gender=\"femenino\",\n",
    "    age=30,\n",
    "    education=\"postgrado\",\n",
    "    marital=\"casado\",\n",
    "    occupation=\"independiente\"\n",
    ")\n",
    "# TODO: agregar detección de hombre/mujer para redistribución de los pesos\n",
    "lily_tree = TreeGenerator(person=Lily, W=weights).first_round_dtree\n",
    "lily_tree"
   ]
  },
  {
   "cell_type": "code",
   "execution_count": 13,
   "metadata": {},
   "outputs": [
    {
     "data": {
      "text/plain": [
       "[{'vote': 3.5e-09, 'genW': 0.35, 'riskLabel': 'A'},\n",
       " {'vote': 1.31, 'ageW': 0.31, 'riskLabel': 'C'},\n",
       " {'vote': 1.25, 'maxW': 0.25, 'riskLabel': 'C'},\n",
       " {'vote': 1.07, 'occW': 0.07, 'riskLabel': 'C'},\n",
       " {'vote': 1.02e-08, 'marW': 0.02, 'riskLabel': 'MA'}]"
      ]
     },
     "execution_count": 13,
     "metadata": {},
     "output_type": "execute_result"
    }
   ],
   "source": [
    "Bruno = CustomerObject(\n",
    "    gender=\"masculino\",\n",
    "    age=62,\n",
    "    education=\"primaria\",\n",
    "    marital=\"casado\",\n",
    "    occupation=\"retirado\"\n",
    ")\n",
    "# TODO: agregar detección de hombre/mujer para redistribución de los pesos\n",
    "bruno_tree = TreeGenerator(person=Bruno, W=weights).first_round_dtree\n",
    "bruno_tree"
   ]
  },
  {
   "cell_type": "code",
   "execution_count": 14,
   "metadata": {},
   "outputs": [
    {
     "data": {
      "text/plain": [
       "[{'vote': 3.5e-09, 'genW': 0.35, 'riskLabel': 'A'},\n",
       " {'vote': 1.31, 'ageW': 0.31, 'riskLabel': 'C'},\n",
       " {'vote': 1.25e-08, 'maxW': 0.25, 'riskLabel': 'MA'},\n",
       " {'vote': 1.07, 'occW': 0.07, 'riskLabel': 'C'},\n",
       " {'vote': 1.02e-08, 'marW': 0.02, 'riskLabel': 'MA'}]"
      ]
     },
     "execution_count": 14,
     "metadata": {},
     "output_type": "execute_result"
    }
   ],
   "source": [
    "Jose = CustomerObject(\n",
    "    gender=\"masculino\",\n",
    "    age=62,\n",
    "    education=\"superior\",\n",
    "    marital=\"casado\",\n",
    "    occupation=\"retirado\"\n",
    ")\n",
    "# TODO: agregar detección de hombre/mujer para redistribución de los pesos\n",
    "jose_tree = TreeGenerator(person=Jose, W=weights).first_round_dtree\n",
    "jose_tree"
   ]
  },
  {
   "cell_type": "code",
   "execution_count": 15,
   "metadata": {},
   "outputs": [
    {
     "data": {
      "text/plain": [
       "[{'vote': 3.5e-09, 'genW': 0.35, 'riskLabel': 'A'},\n",
       " {'vote': 1.31, 'ageW': 0.31, 'riskLabel': 'MC'},\n",
       " {'vote': 1.25e-08, 'maxW': 0.25, 'riskLabel': 'A'},\n",
       " {'vote': 1.07, 'occW': 0.07, 'riskLabel': 'A'},\n",
       " {'vote': 1.02e-08, 'marW': 0.02, 'riskLabel': 'MA'}]"
      ]
     },
     "execution_count": 15,
     "metadata": {},
     "output_type": "execute_result"
    }
   ],
   "source": [
    "Jorge = CustomerObject(\n",
    "    gender=\"masculino\",\n",
    "    age=52,\n",
    "    education=\"postgrado\",\n",
    "    marital=\"casado\",\n",
    "    occupation=\"empleado\"\n",
    ")\n",
    "# TODO: agregar detección de hombre/mujer para redistribución de los pesos\n",
    "jorge_tree = TreeGenerator(person=Jorge, W=weights).first_round_dtree\n",
    "jorge_tree"
   ]
  },
  {
   "cell_type": "code",
   "execution_count": 16,
   "metadata": {},
   "outputs": [
    {
     "data": {
      "text/plain": [
       "[{'vote': 3.5e-09, 'genW': 0.35, 'riskLabel': 'A'},\n",
       " {'vote': 1.31, 'ageW': 0.31, 'riskLabel': 'M'},\n",
       " {'vote': 1.25, 'maxW': 0.25, 'riskLabel': 'M'},\n",
       " {'vote': 1.07, 'occW': 0.07, 'riskLabel': 'M'},\n",
       " {'vote': 1.02e-08, 'marW': 0.02, 'riskLabel': 'MA'}]"
      ]
     },
     "execution_count": 16,
     "metadata": {},
     "output_type": "execute_result"
    }
   ],
   "source": [
    "Javier = CustomerObject(\n",
    "    gender=\"masculino\",\n",
    "    age=48,\n",
    "    education=\"media\",\n",
    "    marital=\"casado\",\n",
    "    occupation=\"independiente\"\n",
    ")\n",
    "# TODO: agregar detección de hombre/mujer para redistribución de los pesos\n",
    "javier_tree = TreeGenerator(person=Javier, W=weights).first_round_dtree\n",
    "javier_tree"
   ]
  },
  {
   "cell_type": "code",
   "execution_count": 17,
   "metadata": {},
   "outputs": [
    {
     "data": {
      "text/plain": [
       "[{'vote': 1.3500000000000002e-08, 'genW': 0.35, 'riskLabel': 'MA'},\n",
       " {'vote': 1.31, 'ageW': 0.31, 'riskLabel': 'M'},\n",
       " {'vote': 1.25e-08, 'maxW': 0.25, 'riskLabel': 'MA'},\n",
       " {'vote': 1.07, 'occW': 0.07, 'riskLabel': 'M'},\n",
       " {'vote': 1.02e-08, 'marW': 0.02, 'riskLabel': 'MA'}]"
      ]
     },
     "execution_count": 17,
     "metadata": {},
     "output_type": "execute_result"
    }
   ],
   "source": [
    "Carolina = CustomerObject(\n",
    "    gender=\"femenino\",\n",
    "    age=46,\n",
    "    education=\"superior\",\n",
    "    marital=\"casado\",\n",
    "    occupation=\"independiente\"\n",
    ")\n",
    "# TODO: agregar detección de hombre/mujer para redistribución de los pesos\n",
    "carolina_tree = TreeGenerator(person=Carolina, W=weights).first_round_dtree\n",
    "carolina_tree"
   ]
  },
  {
   "cell_type": "code",
   "execution_count": 18,
   "metadata": {},
   "outputs": [
    {
     "data": {
      "text/plain": [
       "[{'vote': 1.3500000000000002e-08, 'genW': 0.35, 'riskLabel': 'MA'},\n",
       " {'vote': 1.31, 'ageW': 0.31, 'riskLabel': 'C'},\n",
       " {'vote': 1.25, 'maxW': 0.25, 'riskLabel': 'MC'},\n",
       " {'vote': 1.07, 'occW': 0.07, 'riskLabel': 'C'},\n",
       " {'vote': 1.02, 'marW': 0.02, 'riskLabel': 'MC'}]"
      ]
     },
     "execution_count": 18,
     "metadata": {},
     "output_type": "execute_result"
    }
   ],
   "source": [
    "Magu = CustomerObject(\n",
    "    gender=\"femenino\",\n",
    "    age=74,\n",
    "    education=\"secundaria\",\n",
    "    marital=\"viuda\",\n",
    "    occupation=\"retirado\"\n",
    ")\n",
    "# TODO: agregar detección de hombre/mujer para redistribución de los pesos\n",
    "magu_tree = TreeGenerator(person=Magu, W=weights).first_round_dtree\n",
    "magu_tree"
   ]
  },
  {
   "cell_type": "code",
   "execution_count": 19,
   "metadata": {},
   "outputs": [
    {
     "data": {
      "text/plain": [
       "[{'vote': 3.5e-09, 'genW': 0.35, 'riskLabel': 'A'},\n",
       " {'vote': 1.31, 'ageW': 0.31, 'riskLabel': 'MC'},\n",
       " {'vote': 1.25e-08, 'maxW': 0.25, 'riskLabel': 'MA'},\n",
       " {'vote': 1.07, 'occW': 0.07, 'riskLabel': 'C'},\n",
       " {'vote': 1.02e-08, 'marW': 0.02, 'riskLabel': 'MA'}]"
      ]
     },
     "execution_count": 19,
     "metadata": {},
     "output_type": "execute_result"
    }
   ],
   "source": [
    "Hipotetico = CustomerObject(\n",
    "    gender=\"masculino\",\n",
    "    age=55,\n",
    "    education=\"superior\",\n",
    "    marital=\"casado\",\n",
    "    occupation=\"retirado\"\n",
    ")\n",
    "# TODO: agregar detección de hombre/mujer para redistribución de los pesos\n",
    "hipo_tree = TreeGenerator(person=Hipotetico, W=weights).first_round_dtree\n",
    "hipo_tree"
   ]
  },
  {
   "cell_type": "code",
   "execution_count": 20,
   "metadata": {},
   "outputs": [
    {
     "data": {
      "text/plain": [
       "[{'vote': 1.3500000000000002e-08, 'genW': 0.35, 'riskLabel': 'MA'},\n",
       " {'vote': 1.31, 'ageW': 0.31, 'riskLabel': 'MC'},\n",
       " {'vote': 1.25e-08, 'maxW': 0.25, 'riskLabel': 'MA'},\n",
       " {'vote': 1.07, 'occW': 0.07, 'riskLabel': 'C'},\n",
       " {'vote': 1.02e-08, 'marW': 0.02, 'riskLabel': 'MA'}]"
      ]
     },
     "execution_count": 20,
     "metadata": {},
     "output_type": "execute_result"
    }
   ],
   "source": [
    "Hipotetico2 = CustomerObject(\n",
    "    gender=\"femenino\",\n",
    "    age=55,\n",
    "    education=\"superior\",\n",
    "    marital=\"casado\",\n",
    "    occupation=\"retirado\"\n",
    ")\n",
    "# TODO: agregar detección de hombre/mujer para redistribución de los pesos\n",
    "hipo2_tree = TreeGenerator(person=Hipotetico2, W=weights).first_round_dtree\n",
    "hipo2_tree"
   ]
  },
  {
   "cell_type": "code",
   "execution_count": 21,
   "metadata": {},
   "outputs": [],
   "source": [
    "class ConsensusVotes(object):\n",
    "    \n",
    "    def __label_picking(tree):\n",
    "        v = []\n",
    "        for i in range(len(tree)):\n",
    "            v.append(tree[i][\"riskLabel\"])\n",
    "        return list(v)\n",
    "\n",
    "    def __count_votes(tree):\n",
    "        c = Counter()\n",
    "        for v in tree:\n",
    "            c[v[\"riskLabel\"]] += v[\"vote\"]\n",
    "        return {riskLabel: round(vote) for riskLabel, vote in c.items()}\n",
    "    \n",
    "    def majority_vote_label(tree):\n",
    "        count_votes = ConsensusVotes.__count_votes(tree)\n",
    "        return max(count_votes, key=lambda key: count_votes[key])"
   ]
  },
  {
   "cell_type": "code",
   "execution_count": 22,
   "metadata": {},
   "outputs": [
    {
     "data": {
      "text/plain": [
       "'A'"
      ]
     },
     "execution_count": 22,
     "metadata": {},
     "output_type": "execute_result"
    }
   ],
   "source": [
    "ConsensusVotes.majority_vote_label(tree=luis_tree)"
   ]
  },
  {
   "cell_type": "code",
   "execution_count": 23,
   "metadata": {},
   "outputs": [
    {
     "data": {
      "text/plain": [
       "'M'"
      ]
     },
     "execution_count": 23,
     "metadata": {},
     "output_type": "execute_result"
    }
   ],
   "source": [
    "ConsensusVotes.majority_vote_label(tree=claudia_tree)"
   ]
  },
  {
   "cell_type": "code",
   "execution_count": 24,
   "metadata": {},
   "outputs": [
    {
     "data": {
      "text/plain": [
       "'A'"
      ]
     },
     "execution_count": 24,
     "metadata": {},
     "output_type": "execute_result"
    }
   ],
   "source": [
    "ConsensusVotes.majority_vote_label(tree=lily_tree)"
   ]
  },
  {
   "cell_type": "code",
   "execution_count": 25,
   "metadata": {},
   "outputs": [
    {
     "data": {
      "text/plain": [
       "'C'"
      ]
     },
     "execution_count": 25,
     "metadata": {},
     "output_type": "execute_result"
    }
   ],
   "source": [
    "ConsensusVotes.majority_vote_label(tree=bruno_tree)"
   ]
  },
  {
   "cell_type": "code",
   "execution_count": 26,
   "metadata": {},
   "outputs": [
    {
     "data": {
      "text/plain": [
       "'C'"
      ]
     },
     "execution_count": 26,
     "metadata": {},
     "output_type": "execute_result"
    }
   ],
   "source": [
    "ConsensusVotes.majority_vote_label(tree=jose_tree)"
   ]
  },
  {
   "cell_type": "code",
   "execution_count": 27,
   "metadata": {},
   "outputs": [
    {
     "data": {
      "text/plain": [
       "'A'"
      ]
     },
     "execution_count": 27,
     "metadata": {},
     "output_type": "execute_result"
    }
   ],
   "source": [
    "ConsensusVotes.majority_vote_label(tree=jorge_tree)"
   ]
  },
  {
   "cell_type": "code",
   "execution_count": 28,
   "metadata": {},
   "outputs": [
    {
     "data": {
      "text/plain": [
       "'M'"
      ]
     },
     "execution_count": 28,
     "metadata": {},
     "output_type": "execute_result"
    }
   ],
   "source": [
    "ConsensusVotes.majority_vote_label(tree=javier_tree)"
   ]
  },
  {
   "cell_type": "code",
   "execution_count": 29,
   "metadata": {},
   "outputs": [
    {
     "data": {
      "text/plain": [
       "'M'"
      ]
     },
     "execution_count": 29,
     "metadata": {},
     "output_type": "execute_result"
    }
   ],
   "source": [
    "ConsensusVotes.majority_vote_label(tree=carolina_tree)"
   ]
  },
  {
   "cell_type": "code",
   "execution_count": 30,
   "metadata": {},
   "outputs": [
    {
     "data": {
      "text/plain": [
       "'C'"
      ]
     },
     "execution_count": 30,
     "metadata": {},
     "output_type": "execute_result"
    }
   ],
   "source": [
    "ConsensusVotes.majority_vote_label(tree=magu_tree)"
   ]
  },
  {
   "cell_type": "code",
   "execution_count": 31,
   "metadata": {},
   "outputs": [
    {
     "data": {
      "text/plain": [
       "'MC'"
      ]
     },
     "execution_count": 31,
     "metadata": {},
     "output_type": "execute_result"
    }
   ],
   "source": [
    "ConsensusVotes.majority_vote_label(tree=hipo_tree)"
   ]
  },
  {
   "cell_type": "code",
   "execution_count": 32,
   "metadata": {},
   "outputs": [
    {
     "data": {
      "text/plain": [
       "'MC'"
      ]
     },
     "execution_count": 32,
     "metadata": {},
     "output_type": "execute_result"
    }
   ],
   "source": [
    "ConsensusVotes.majority_vote_label(tree=hipo2_tree)"
   ]
  },
  {
   "cell_type": "code",
   "execution_count": null,
   "metadata": {},
   "outputs": [],
   "source": []
  },
  {
   "cell_type": "code",
   "execution_count": null,
   "metadata": {},
   "outputs": [],
   "source": []
  },
  {
   "cell_type": "code",
   "execution_count": null,
   "metadata": {},
   "outputs": [],
   "source": []
  },
  {
   "cell_type": "code",
   "execution_count": null,
   "metadata": {},
   "outputs": [],
   "source": []
  },
  {
   "cell_type": "code",
   "execution_count": null,
   "metadata": {},
   "outputs": [],
   "source": []
  },
  {
   "cell_type": "code",
   "execution_count": null,
   "metadata": {},
   "outputs": [],
   "source": []
  },
  {
   "cell_type": "code",
   "execution_count": null,
   "metadata": {},
   "outputs": [],
   "source": []
  },
  {
   "cell_type": "code",
   "execution_count": null,
   "metadata": {},
   "outputs": [],
   "source": []
  },
  {
   "cell_type": "code",
   "execution_count": null,
   "metadata": {},
   "outputs": [],
   "source": [
    "class ClassifyCustomer(object):\n",
    "    \n",
    "    def risk_profile_age(customer):\n",
    "        age_score = ClassificationScoring.score_age(customer.age)\n",
    "        i_fib = ClassificationScoring.indexFibonacciApproximation(customer.age)        \n",
    "        if 7 <= i_fib <= 8:\n",
    "            return int(1), int(age_score), str(\"A\")\n",
    "        elif i_fib == 9:\n",
    "            return int(1), int(age_score), str(\"MA\")\n",
    "        elif i_fib == 10:\n",
    "            return int(1), int(age_score), str(\"M\")\n",
    "        elif i_fib == 11:\n",
    "            return int(1), int(age_score), str(\"CM\")\n",
    "        elif i_fib == 13:\n",
    "            return int(1), int(age_score), str(\"C\")\n",
    "        \n",
    "    def risk_profile_education(customer):\n",
    "        education_score = ClassificationScoring.score_education(customer.education)\n",
    "        if education_score == 2:\n",
    "            return int(1), int(education_score), str(\"A\")\n",
    "        elif education_score == 3:\n",
    "            return int(1), int(education_score), str(\"MA\")\n",
    "        elif education_score == 5:\n",
    "            return int(1), int(education_score), str(\"M\")\n",
    "        elif education_score == 8:\n",
    "            return int(1), int(education_score), str(\"CM\")\n",
    "        elif education_score == 13:\n",
    "            return int(1), int(education_score), str(\"C\")\n",
    "        \n",
    "    def risk_profile_marital(customer, constant_w=0.18):\n",
    "        if ClassificationScoring.score_marriage(customer.marriage_status) == 1:\n",
    "            rp_age = ClassifyCustomer.risk_profile_age(customer)\n",
    "            w = np.abs(1 - np.log((rp_age[1] * constant_w)))\n",
    "            return float(w), int(rp_age[1]), str(rp_age[2])\n",
    "        \n",
    "        else:\n",
    "            rp_age = ClassifyCustomer.risk_profile_age(customer)\n",
    "            rp_age = ClassifyCustomer.risk_profile_age(customer)\n",
    "            w = np.abs(1 - (rp_age[1] * constant_w))\n",
    "            return float(w), int(rp_age[1]), str(rp_age[2])\n",
    "        \n",
    "    def phi_distance(customer):\n",
    "        rp_age = ClassifyCustomer.risk_profile_age(customer)\n",
    "        rp_education = ClassifyCustomer.risk_profile_education(customer)\n",
    "        upper_fib = max(rp_age[1], rp_education[1])\n",
    "        lower_fib = min(rp_age[1], rp_education[1])\n",
    "        if np.round(upper_fib / lower_fib, 1) == 1.6:\n",
    "            return int(1)\n",
    "        else:\n",
    "            return int(0)\n",
    "    \n",
    "    def phi_similarity(customer):\n",
    "        rp_marital = ClassifyCustomer.risk_profile_marital(customer)\n",
    "        similarity = ClassifyCustomer.phi_distance(customer)\n",
    "        if similarity == 1:\n",
    "            phi = (1+np.sqrt(5))/2\n",
    "            return float(phi)\n",
    "        return float(1)"
   ]
  },
  {
   "cell_type": "code",
   "execution_count": null,
   "metadata": {},
   "outputs": [],
   "source": [
    "def indexFibonacciApproximation(fib_num):\n",
    "    if fib_num == 0.0:\n",
    "        print(\"WARNING: Zero found..\")\n",
    "        return None\n",
    "\n",
    "    Phi = (1+np.sqrt(5))/2\n",
    "    i = np.round((np.log(fib_num) + (np.log(5)/2)) / np.log(Phi))\n",
    "    return float(i)"
   ]
  },
  {
   "cell_type": "code",
   "execution_count": null,
   "metadata": {},
   "outputs": [],
   "source": [
    "31/2"
   ]
  },
  {
   "cell_type": "code",
   "execution_count": null,
   "metadata": {},
   "outputs": [],
   "source": [
    "a = []\n",
    "for x in range(15, 99):\n",
    "    a.append(x)\n",
    "    b = sum(a)\n",
    "    print(x, indexFibonacciApproximation(x), b, a)"
   ]
  },
  {
   "cell_type": "code",
   "execution_count": null,
   "metadata": {},
   "outputs": [],
   "source": [
    "Luis = CustomerObject(\n",
    "    gender=\"masculino\",\n",
    "    age=29,\n",
    "    education=\"superior\",\n",
    "    marriage_status=\"casado\",\n",
    "    occupation=\"empleado\"\n",
    ")\n",
    "print(\"age triplet:\", ClassifyCustomer.risk_profile_age(Luis))\n",
    "print(\"education triplet:\", ClassifyCustomer.risk_profile_education(Luis))\n",
    "print(\"marital triplet:\", ClassifyCustomer.risk_profile_marital(Luis))\n",
    "print(\"phi distance:\", ClassifyCustomer.phi_distance(Luis))\n",
    "print(\"phi similarity:\", ClassifyCustomer.phi_similarity(Luis))\n",
    "#print(\"phi similarity:\", ClassifyCustomer.indexFibonacciApproximation(Luis))"
   ]
  },
  {
   "cell_type": "code",
   "execution_count": null,
   "metadata": {},
   "outputs": [],
   "source": [
    "# si tu divides el término más alto de la sucesión entre el término más bajo de la sucesión fibonacci,\n",
    "# y ambos son contiguos, existirá siempre una razón áurea, i.e. Phi ~ 1.6, por lo tanto la función phi_distance(),\n",
    "# regresa 1 cuando existe razón áurea y 0 cuando no.\n",
    "\n",
    "np.round(13/8, 2)"
   ]
  },
  {
   "cell_type": "code",
   "execution_count": null,
   "metadata": {},
   "outputs": [],
   "source": [
    "(8+5)/2"
   ]
  },
  {
   "cell_type": "code",
   "execution_count": null,
   "metadata": {},
   "outputs": [],
   "source": [
    "5**1.6"
   ]
  },
  {
   "cell_type": "code",
   "execution_count": null,
   "metadata": {},
   "outputs": [],
   "source": []
  }
 ],
 "metadata": {
  "kernelspec": {
   "display_name": "Python 3",
   "language": "python",
   "name": "python3"
  },
  "language_info": {
   "codemirror_mode": {
    "name": "ipython",
    "version": 3
   },
   "file_extension": ".py",
   "mimetype": "text/x-python",
   "name": "python",
   "nbconvert_exporter": "python",
   "pygments_lexer": "ipython3",
   "version": "3.6.9"
  }
 },
 "nbformat": 4,
 "nbformat_minor": 2
}
