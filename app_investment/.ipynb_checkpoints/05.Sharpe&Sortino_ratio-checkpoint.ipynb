{
 "cells": [
  {
   "cell_type": "code",
   "execution_count": 310,
   "metadata": {},
   "outputs": [],
   "source": [
    "import numpy as np\n",
    "import pandas as pd\n",
    "import matplotlib.pyplot as plt\n",
    "\n",
    "from matplotlib import style\n",
    "from sklearn import preprocessing\n",
    "from sklearn.decomposition import PCA\n",
    "from functools import reduce\n",
    "from pyspark.sql.window import Window \n",
    "from pyspark.sql import SparkSession, DataFrame\n",
    "from pyspark.sql.functions import monotonically_increasing_id, col, lit, isnull, when, udf, row_number,\\\n",
    "                                  avg as spark_avg, stddev as spark_stddev, sqrt, abs as spark_abs\n",
    "style.use('ggplot')"
   ]
  },
  {
   "cell_type": "code",
   "execution_count": 2,
   "metadata": {},
   "outputs": [],
   "source": [
    "pd.set_option('display.max_columns', 10000000)\n",
    "pd.set_option('display.max_rows', 10000000)\n",
    "pd.set_option('display.width', 10000000)"
   ]
  },
  {
   "cell_type": "markdown",
   "metadata": {},
   "source": [
    "------------------------------------------------------------------------------------------------------------------------------------------------------------------"
   ]
  },
  {
   "cell_type": "markdown",
   "metadata": {},
   "source": [
    "# Defining Spark Session for pseudo-distributed computing:"
   ]
  },
  {
   "cell_type": "code",
   "execution_count": 3,
   "metadata": {},
   "outputs": [
    {
     "data": {
      "text/html": [
       "\n",
       "        <div>\n",
       "            <p><b>SparkContext</b></p>\n",
       "\n",
       "            <p><a href=\"http://127.0.0.1:4040\">Spark UI</a></p>\n",
       "\n",
       "            <dl>\n",
       "              <dt>Version</dt>\n",
       "                <dd><code>v2.2.1</code></dd>\n",
       "              <dt>Master</dt>\n",
       "                <dd><code>local[*]</code></dd>\n",
       "              <dt>AppName</dt>\n",
       "                <dd><code>Sharpe&Sortino_ratio</code></dd>\n",
       "            </dl>\n",
       "        </div>\n",
       "        "
      ],
      "text/plain": [
       "<SparkContext master=local[*] appName=Sharpe&Sortino_ratio>"
      ]
     },
     "execution_count": 3,
     "metadata": {},
     "output_type": "execute_result"
    }
   ],
   "source": [
    "spark = SparkSession.builder.appName('Sharpe&Sortino_ratio').getOrCreate()\n",
    "sc = spark.sparkContext\n",
    "sc"
   ]
  },
  {
   "cell_type": "markdown",
   "metadata": {},
   "source": [
    "# Reading persisted Portfolio Yields dataframe:"
   ]
  },
  {
   "cell_type": "code",
   "execution_count": null,
   "metadata": {},
   "outputs": [],
   "source": [
    "portfolio_yield_window_path = '/data/core/fince/data/portfolioOptimization/portfolio_yield_window/'\n",
    "portfolio_yield_df = spark.read.parquet(portfolio_yield_window_path)\n",
    "portfolio_yield_df.limit(5).toPandas()"
   ]
  },
  {
   "cell_type": "code",
   "execution_count": null,
   "metadata": {},
   "outputs": [],
   "source": [
    "dataframes = [\n",
    "    portfolio_yield_df.select(lit(fund).alias('fund_name'), col(fund).alias('fund_yield')) for fund in portfolio_yield_df.columns[:-1]\n",
    "]"
   ]
  },
  {
   "cell_type": "code",
   "execution_count": null,
   "metadata": {},
   "outputs": [],
   "source": [
    "def unionAll_df(*dfs):\n",
    "    return reduce(DataFrame.unionAll, dfs)"
   ]
  },
  {
   "cell_type": "code",
   "execution_count": null,
   "metadata": {},
   "outputs": [],
   "source": [
    "portfolio_yield_T = unionAll_df(*dataframes).cache()\n",
    "portfolio_yield_T.show(5)"
   ]
  },
  {
   "cell_type": "markdown",
   "metadata": {},
   "source": [
    "# Writing Portfolio's Yield Transpose dataframe."
   ]
  },
  {
   "cell_type": "code",
   "execution_count": null,
   "metadata": {},
   "outputs": [],
   "source": [
    "writing_path_mod3 = '/data/core/fince/data/portfolioOptimization/portfolio_yield_transpose/'\n",
    "\n",
    "print('\\nWriting parquets ...')\n",
    "portfolio_yield_T.repartition(1).write.mode('overwrite').parquet(writing_path_mod3)\n",
    "\n",
    "%time\n",
    "print('\\nSUCCESS \\nPARQUET DATA SAVED!')\n",
    "print('\\nNew root path tabla data:', writing_path_mod3)"
   ]
  },
  {
   "cell_type": "markdown",
   "metadata": {},
   "source": [
    "# Reading persisted Portfolio Yields Transpose."
   ]
  },
  {
   "cell_type": "code",
   "execution_count": 5,
   "metadata": {},
   "outputs": [
    {
     "data": {
      "text/plain": [
       "2"
      ]
     },
     "execution_count": 5,
     "metadata": {},
     "output_type": "execute_result"
    }
   ],
   "source": [
    "portfolio_yield_T_path = '/data/core/fince/data/portfolioOptimization/portfolio_yield_transpose/'\n",
    "portfolio_yield_T_df = spark.read.parquet(portfolio_yield_T_path)\n",
    "len(portfolio_yield_T_df.columns)"
   ]
  },
  {
   "cell_type": "code",
   "execution_count": 6,
   "metadata": {},
   "outputs": [
    {
     "name": "stdout",
     "output_type": "stream",
     "text": [
      "+---------+--------------------+\n",
      "|fund_name|          fund_yield|\n",
      "+---------+--------------------+\n",
      "|  BMERGOB|-1.29325486954767...|\n",
      "|  BMERGOB|-6.40913335234749...|\n",
      "|  BMERGOB|-7.90350106694148...|\n",
      "+---------+--------------------+\n",
      "\n",
      "+-------+--------------------+\n",
      "|summary|          fund_yield|\n",
      "+-------+--------------------+\n",
      "|   mean|-6.71067738483947...|\n",
      "| stddev|6.076713194236449E-5|\n",
      "|    min|-1.29325486954767...|\n",
      "|    max|-7.90350106694148...|\n",
      "+-------+--------------------+\n",
      "\n",
      "after filtering negative yields we've got following parameters:\n",
      "{stddev:8.547E-5 , min: -1.872, max: -4.646}\n"
     ]
    }
   ],
   "source": [
    "TRESHOLD = float(0.0)\n",
    "CASE = \"BMERGOB\"\n",
    "\n",
    "negative_fund_yield = portfolio_yield_T_df.where(col(\"fund_yield\") < TRESHOLD)\n",
    "negative_fund_yield.where(col(\"fund_name\") == CASE).show(5)\n",
    "negative_fund_yield.where(col(\"fund_name\") == CASE)\\\n",
    "                   .describe(\"fund_yield\")\\\n",
    "                   .where((col(\"summary\") == \"min\")\n",
    "                        | (col(\"summary\") == \"max\")\n",
    "                        | (col(\"summary\") == \"mean\")\n",
    "                        | (col(\"summary\") == \"stddev\")).show()\n",
    "print(\"after filtering negative yields we've got following parameters:\")\n",
    "print(\"{stddev:8.547E-5 , min: -1.872, max: -4.646}\")"
   ]
  },
  {
   "cell_type": "code",
   "execution_count": 13,
   "metadata": {},
   "outputs": [
    {
     "name": "stdout",
     "output_type": "stream",
     "text": [
      "mean yield df:\n",
      "+----------+--------------------+---------------------+\n",
      "| fund_name| downside_mean_yield|downside_stddev_yield|\n",
      "+----------+--------------------+---------------------+\n",
      "|   GBMGUBL|1.099368103774089...|                  NaN|\n",
      "|BBVADOL183| 0.00579980927442825| 0.004863633229285721|\n",
      "|FRANOPR266|0.008007743804013093| 0.007309654086156611|\n",
      "|   SUR2018|6.460768954551053E-4| 5.831877103672135E-4|\n",
      "|   SCOTILP|8.824289094986441E-4| 0.001143585886582...|\n",
      "+----------+--------------------+---------------------+\n",
      "only showing top 5 rows\n",
      "\n"
     ]
    }
   ],
   "source": [
    "mean_yield_df = negative_fund_yield.groupBy(\"fund_name\")\\\n",
    "                                   .agg(spark_abs(spark_avg(col('fund_yield'))).alias(\"downside_mean_yield\"),\n",
    "                                        when(isnull(spark_stddev(col('fund_yield'))), 0).otherwise(\n",
    "                                            spark_stddev(col('fund_yield'))).alias(\"downside_stddev_yield\"))\n",
    "                                                                \n",
    "print(\"mean yield df:\")\n",
    "mean_yield_df.show(5)"
   ]
  },
  {
   "cell_type": "markdown",
   "metadata": {},
   "source": [
    "# Sortino ratio:\n",
    "\n",
    "## **The Formula for the Sortino Ratio Is:**\n",
    "## Sortino Ratio = $\\frac{ R_p - r_f }{ \\sigma_d }$ \n",
    "## **Where:**\n",
    "### *R_p = Actual or expected portfolio return*\n",
    "### *r_f = Risk-free rate*\n",
    "### *sigma_d = Standard deviation of the downside*"
   ]
  },
  {
   "cell_type": "code",
   "execution_count": 24,
   "metadata": {},
   "outputs": [
    {
     "name": "stdout",
     "output_type": "stream",
     "text": [
      "+---------+--------------------+---------------------+-------------+\n",
      "|fund_name| downside_mean_yield|downside_stddev_yield|sortino_ratio|\n",
      "+---------+--------------------+---------------------+-------------+\n",
      "|  SBANKCP|3.276647334449212E-5|                  0.0|          0.0|\n",
      "| BLKLIQ/A|1.016411032339625...|                  0.0|          0.0|\n",
      "|  INVEXCP|3.902936725697081...|                  0.0|          0.0|\n",
      "|  GBMGUBL|1.099368103774089...|                  0.0|          0.0|\n",
      "|  VALUEF4|1.600801396772766...|                  0.0|          0.0|\n",
      "+---------+--------------------+---------------------+-------------+\n",
      "only showing top 5 rows\n",
      "\n",
      "+---------+--------------------+---------------------+------------------+\n",
      "|fund_name| downside_mean_yield|downside_stddev_yield|     sortino_ratio|\n",
      "+---------+--------------------+---------------------+------------------+\n",
      "|  BMERGOB|6.710677384839474E-5| 6.076713194236449E-5|1.1043268244425817|\n",
      "+---------+--------------------+---------------------+------------------+\n",
      "\n"
     ]
    }
   ],
   "source": [
    "risk_free_rate = 0\n",
    "sortino_df = mean_yield_df.select(\"*\", \n",
    "                                  ((col(\"downside_mean_yield\") - lit(risk_free_rate)) / col(\"downside_stddev_yield\")).alias(\"sortino_ratio\"))\\\n",
    "                          .na.fill(0)\n",
    "sortino_df.orderBy(col(\"sortino_ratio\")).show(5)\n",
    "sortino_df.where(col(\"fund_name\") == CASE).show(100)"
   ]
  },
  {
   "cell_type": "markdown",
   "metadata": {},
   "source": [
    "# Sharpe ratio:"
   ]
  },
  {
   "cell_type": "code",
   "execution_count": 25,
   "metadata": {},
   "outputs": [
    {
     "name": "stdout",
     "output_type": "stream",
     "text": [
      "+---------+--------------------+--------------------+------------------+\n",
      "|fund_name|          mean_yield|        stddev_yield|      sharpe_ratio|\n",
      "+---------+--------------------+--------------------+------------------+\n",
      "| BLKDIA55|2.358784027915452...|1.689519836820708E-4| 1.396126861910155|\n",
      "|  BLKDIA7|2.358784477168301E-4|1.692180089543465...|  1.39393229582596|\n",
      "| BLKPLUSA|2.342348069449809E-4|1.680802392106352...|1.3935892050429672|\n",
      "|  SBANKCP| 2.39663842156313E-4| 1.72248845913586E-4| 1.391381410337854|\n",
      "| NTEGUB13|2.295282488095913...|1.651735041327382...| 1.389619055518346|\n",
      "+---------+--------------------+--------------------+------------------+\n",
      "only showing top 5 rows\n",
      "\n",
      "+---------+--------------------+--------------------+------------------+\n",
      "|fund_name|          mean_yield|        stddev_yield|      sharpe_ratio|\n",
      "+---------+--------------------+--------------------+------------------+\n",
      "|  BMERGOB|2.362863631149087...|1.731680840039292E-4|1.3644914100311198|\n",
      "+---------+--------------------+--------------------+------------------+\n",
      "\n"
     ]
    }
   ],
   "source": [
    "sharpe_df = portfolio_yield_T_df.groupBy(\"fund_name\")\\\n",
    "                                .agg(spark_avg('fund_yield').alias(\"mean_yield\"), spark_stddev('fund_yield').alias(\"stddev_yield\"))\\\n",
    "                                .select(\"*\", ((col(\"mean_yield\") - lit(risk_free_rate)) / col(\"stddev_yield\")).alias(\"sharpe_ratio\"))\n",
    "sharpe_df.orderBy(col(\"sharpe_ratio\").desc()).show(5)\n",
    "sharpe_df.where(col(\"fund_name\") == CASE).show(100)"
   ]
  },
  {
   "cell_type": "markdown",
   "metadata": {},
   "source": [
    "# Joined Both Ratios:"
   ]
  },
  {
   "cell_type": "code",
   "execution_count": 313,
   "metadata": {},
   "outputs": [
    {
     "name": "stdout",
     "output_type": "stream",
     "text": [
      "root\n",
      " |-- fund_name: string (nullable = true)\n",
      " |-- downside_mean_yield: double (nullable = false)\n",
      " |-- downside_stddev_yield: double (nullable = false)\n",
      " |-- sortino_ratio: double (nullable = false)\n",
      " |-- mean_yield: double (nullable = true)\n",
      " |-- stddev_yield: double (nullable = true)\n",
      " |-- sharpe_ratio: double (nullable = true)\n",
      " |-- id: integer (nullable = true)\n",
      "\n",
      "+----------+--------------------+---------------------+------------------+--------------------+--------------------+--------------------+---+\n",
      "| fund_name| downside_mean_yield|downside_stddev_yield|     sortino_ratio|          mean_yield|        stddev_yield|        sharpe_ratio| id|\n",
      "+----------+--------------------+---------------------+------------------+--------------------+--------------------+--------------------+---+\n",
      "|ACTI500261|0.006620465272681245| 0.005870289691341385|1.1277919184203737|5.656079402992825E-4|0.009156177496855041|0.061773370000041745|  1|\n",
      "|ACTI500272|0.006620465272681245| 0.005870289691341385|1.1277919184203737|5.656079402992825E-4|0.009156177496855041|0.061773370000041745|  2|\n",
      "|   ACTICOB|0.005619670496624573| 0.004741557382447444| 1.185195083250026|2.072086165784484...|0.008015050121611356| 0.02585244177322636|  3|\n",
      "|ACTIGOB401|1.649666074424103...| 2.066146877173601...|0.7984263329240053|2.267044882388689E-4|1.810327728314810...|  1.2522842394393554|  4|\n",
      "| ACTIGOB74|1.649666074424103...| 2.066146877173601...|0.7984263329240053|2.267044882388689E-4|1.810327728314810...|  1.2522842394393554|  5|\n",
      "+----------+--------------------+---------------------+------------------+--------------------+--------------------+--------------------+---+\n",
      "only showing top 5 rows\n",
      "\n"
     ]
    }
   ],
   "source": [
    "w = Window.orderBy(\"fund_name\") \n",
    "joined_ratios_df = sortino_df.join(sharpe_df, on=\"fund_name\", how=\"left\").select(\"*\", row_number().over(w).alias(\"id\"))\n",
    "joined_ratios_df.printSchema()\n",
    "joined_ratios_df.show(5)"
   ]
  },
  {
   "cell_type": "markdown",
   "metadata": {},
   "source": [
    "# PCA analysis"
   ]
  },
  {
   "cell_type": "code",
   "execution_count": 163,
   "metadata": {},
   "outputs": [
    {
     "name": "stdout",
     "output_type": "stream",
     "text": [
      "+----------+--------------------+---------------------+------------------+--------------------+--------------------+--------------------+---+\n",
      "| fund_name| downside_mean_yield|downside_stddev_yield|     sortino_ratio|          mean_yield|        stddev_yield|        sharpe_ratio| id|\n",
      "+----------+--------------------+---------------------+------------------+--------------------+--------------------+--------------------+---+\n",
      "|ACTI500261|0.006620465272681245| 0.005870289691341385|1.1277919184203737|5.656079402992825E-4|0.009156177496855041|0.061773370000041745|  1|\n",
      "|ACTI500272|0.006620465272681245| 0.005870289691341385|1.1277919184203737|5.656079402992825E-4|0.009156177496855041|0.061773370000041745|  2|\n",
      "|   ACTICOB|0.005619670496624573| 0.004741557382447444| 1.185195083250026|2.072086165784484...|0.008015050121611356| 0.02585244177322636|  3|\n",
      "|ACTIGOB401|1.649666074424103...| 2.066146877173601...|0.7984263329240053|2.267044882388689E-4|1.810327728314810...|  1.2522842394393554|  4|\n",
      "| ACTIGOB74|1.649666074424103...| 2.066146877173601...|0.7984263329240053|2.267044882388689E-4|1.810327728314810...|  1.2522842394393554|  5|\n",
      "+----------+--------------------+---------------------+------------------+--------------------+--------------------+--------------------+---+\n",
      "only showing top 5 rows\n",
      "\n"
     ]
    }
   ],
   "source": [
    "joined_ratios_df.show(5)"
   ]
  },
  {
   "cell_type": "code",
   "execution_count": 226,
   "metadata": {},
   "outputs": [],
   "source": [
    "f = joined_ratios_df.columns[1:-1]\n",
    "\n",
    "def pca_sklearn(spark_df, col_features, scree_plot=False):\n",
    "    data = spark_df.select(col_features).toPandas()\n",
    "    scaled_data = preprocessing.scale(data.T)\n",
    "    pca = PCA()\n",
    "    pca.fit(scaled_data)\n",
    "    pca_data = pca.transform(scaled_data)\n",
    "    per_var = np.round(pca.explained_variance_* 100, decimals=1)\n",
    "    labels = [\"PC\" + str(x) for x in range(1, len(per_var)+1)]\n",
    "    if scree_plot == True:\n",
    "        plt.bar(x=range(1, len(per_var)+1), height=per_var, tick_label=labels)\n",
    "        plt.ylabel(\"Percentage of Explained Variance\")\n",
    "        plt.xlabel(\"Principal Component\")\n",
    "        plt.show()\n",
    "    return pca_data"
   ]
  },
  {
   "cell_type": "code",
   "execution_count": 228,
   "metadata": {},
   "outputs": [
    {
     "data": {
      "image/png": "[encoded data removed]",
      "text/plain": [
       "<Figure size 432x288 with 1 Axes>"
      ]
     },
     "metadata": {
      "needs_background": "light"
     },
     "output_type": "display_data"
    },
    {
     "data": {
      "text/plain": [
       "array([[-7.10882293e+00, -2.36593944e+00, -9.44321536e-03,\n",
       "        -7.02426844e-03,  4.60525587e-03, -4.20696839e-15],\n",
       "       [-7.11070357e+00, -2.36291973e+00, -8.49865020e-03,\n",
       "         1.16589779e-02,  1.38670033e-03, -4.37256645e-15],\n",
       "       [ 2.47652303e+01, -4.85874467e+00,  2.44716562e-04,\n",
       "         9.94439031e-07,  5.44978711e-07,  1.42219036e-14],\n",
       "       [-7.20007485e+00, -2.31067429e+00,  5.08635678e-02,\n",
       "        -1.43282879e-03, -1.69861695e-03, -6.58467062e-15],\n",
       "       [-7.06929916e+00, -2.38716251e+00, -3.29937294e-02,\n",
       "        -3.20158451e-03, -4.29387919e-03, -4.83412339e-15],\n",
       "       [ 3.72367025e+00,  1.42854406e+01, -1.72689383e-04,\n",
       "        -1.29056969e-06, -5.03766555e-09,  7.11736647e-15]])"
      ]
     },
     "execution_count": 228,
     "metadata": {},
     "output_type": "execute_result"
    }
   ],
   "source": [
    "pca_sklearn(spark_df=joined_ratios_df, col_features=f, scree_plot=True)"
   ]
  },
  {
   "cell_type": "code",
   "execution_count": 232,
   "metadata": {},
   "outputs": [],
   "source": [
    "def numpy_spark(numpy_array, labels_col):\n",
    "    pca_rdd = sc.parallelize(numpy_array)\n",
    "    return pca_rdd.map(lambda x: x.tolist()).toDF(labels_col)\n",
    "\n",
    "def numpy_pandas(numpy_array, labels_col):\n",
    "    pca_rdd = sc.parallelize(numpy_array)\n",
    "    return pca_rdd.map(lambda x: x.tolist()).toDF(labels_col).toPandas()"
   ]
  },
  {
   "cell_type": "code",
   "execution_count": 236,
   "metadata": {},
   "outputs": [],
   "source": [
    "pca_df = numpy_pandas(numpy_array=pca_data, labels_col=labels)"
   ]
  },
  {
   "cell_type": "code",
   "execution_count": 238,
   "metadata": {},
   "outputs": [
    {
     "data": {
      "image/png": "[encoded data removed]",
      "text/plain": [
       "<Figure size 432x288 with 1 Axes>"
      ]
     },
     "metadata": {
      "needs_background": "light"
     },
     "output_type": "display_data"
    }
   ],
   "source": [
    "plt.scatter(pca_df.PC1, pca_df.PC2)\n",
    "plt.title(\"My PCA Graph\")\n",
    "plt.xlabel(\"PC1 - {0}%\".format(per_var[0]))\n",
    "plt.ylabel(\"PC2 - {0}%\".format(per_var[1]))\n",
    "for sample in pca_df.index:\n",
    "    plt.annotate(sample, (pca_df.PC1.loc[sample], pca_df.PC2.loc[sample]))\n",
    "plt.show()"
   ]
  },
  {
   "cell_type": "markdown",
   "metadata": {},
   "source": [
    "### Centils grouping test"
   ]
  },
  {
   "cell_type": "code",
   "execution_count": 54,
   "metadata": {},
   "outputs": [],
   "source": [
    "def column_collection(df, col_collect):\n",
    "    row_collection = df.select(col_collect).collect()\n",
    "    list_collection = []\n",
    "    for row in range(len(row_collection)):\n",
    "        list_collection.append(row_collection[row][0])\n",
    "    return sorted(list_collection)"
   ]
  },
  {
   "cell_type": "code",
   "execution_count": 55,
   "metadata": {},
   "outputs": [],
   "source": [
    "volatile_yield_list = column_collection(df=joined_ratios_df, col_collect=\"stddev_yield\")"
   ]
  },
  {
   "cell_type": "code",
   "execution_count": 57,
   "metadata": {},
   "outputs": [
    {
     "data": {
      "text/plain": [
       "0.0022438363795231763"
      ]
     },
     "execution_count": 57,
     "metadata": {},
     "output_type": "execute_result"
    }
   ],
   "source": [
    "import numpy as np\n",
    "a = np.array(volatile_yield_list)\n",
    "p = np.percentile(a, 50)\n",
    "p"
   ]
  },
  {
   "cell_type": "code",
   "execution_count": 58,
   "metadata": {},
   "outputs": [
    {
     "data": {
      "text/plain": [
       "0.5"
      ]
     },
     "execution_count": 58,
     "metadata": {},
     "output_type": "execute_result"
    }
   ],
   "source": [
    "33, 66, 100, "
   ]
  },
  {
   "cell_type": "code",
   "execution_count": 64,
   "metadata": {},
   "outputs": [
    {
     "data": {
      "text/plain": [
       "99"
      ]
     },
     "execution_count": 64,
     "metadata": {},
     "output_type": "execute_result"
    }
   ],
   "source": [
    "33+33+33"
   ]
  },
  {
   "cell_type": "markdown",
   "metadata": {},
   "source": [
    "# K-Means model for Clustering Sharpe and Sortino Ratios"
   ]
  },
  {
   "cell_type": "code",
   "execution_count": 143,
   "metadata": {},
   "outputs": [],
   "source": [
    "from pyspark.ml.clustering import KMeans\n",
    "from pyspark.ml.linalg import Vector, VectorUDT, Vectors\n",
    "from pyspark.mllib.linalg.distributed import IndexedRowMatrix, IndexedRow\n",
    "from pyspark.ml.feature import VectorAssembler, StandardScaler"
   ]
  },
  {
   "cell_type": "markdown",
   "metadata": {},
   "source": [
    "### But first! PCA dimension reduction analysis"
   ]
  },
  {
   "cell_type": "markdown",
   "metadata": {},
   "source": [
    "### After PCA dimension reduction analysis, the 93% of de variance is explained by sortino and sharpe ratio (we don't need more)"
   ]
  },
  {
   "cell_type": "code",
   "execution_count": 290,
   "metadata": {},
   "outputs": [],
   "source": [
    "features_list = [\"sortino_ratio\", \"sharpe_ratio\"]\n",
    "vector_assembler = VectorAssembler(inputCols=features_list, outputCol=\"features\")"
   ]
  },
  {
   "cell_type": "code",
   "execution_count": 291,
   "metadata": {},
   "outputs": [
    {
     "data": {
      "text/html": [
       "<div>\n",
       "<style scoped>\n",
       "    .dataframe tbody tr th:only-of-type {\n",
       "        vertical-align: middle;\n",
       "    }\n",
       "\n",
       "    .dataframe tbody tr th {\n",
       "        vertical-align: top;\n",
       "    }\n",
       "\n",
       "    .dataframe thead th {\n",
       "        text-align: right;\n",
       "    }\n",
       "</style>\n",
       "<table border=\"1\" class=\"dataframe\">\n",
       "  <thead>\n",
       "    <tr style=\"text-align: right;\">\n",
       "      <th></th>\n",
       "      <th>fund_name</th>\n",
       "      <th>downside_mean_yield</th>\n",
       "      <th>downside_stddev_yield</th>\n",
       "      <th>sortino_ratio</th>\n",
       "      <th>mean_yield</th>\n",
       "      <th>stddev_yield</th>\n",
       "      <th>sharpe_ratio</th>\n",
       "      <th>id</th>\n",
       "      <th>features</th>\n",
       "    </tr>\n",
       "  </thead>\n",
       "  <tbody>\n",
       "    <tr>\n",
       "      <th>0</th>\n",
       "      <td>ACTI500261</td>\n",
       "      <td>0.006620</td>\n",
       "      <td>0.005870</td>\n",
       "      <td>1.127792</td>\n",
       "      <td>0.000566</td>\n",
       "      <td>0.009156</td>\n",
       "      <td>0.061773</td>\n",
       "      <td>1</td>\n",
       "      <td>[1.1277919184203737, 0.061773370000041745]</td>\n",
       "    </tr>\n",
       "    <tr>\n",
       "      <th>1</th>\n",
       "      <td>ACTI500272</td>\n",
       "      <td>0.006620</td>\n",
       "      <td>0.005870</td>\n",
       "      <td>1.127792</td>\n",
       "      <td>0.000566</td>\n",
       "      <td>0.009156</td>\n",
       "      <td>0.061773</td>\n",
       "      <td>2</td>\n",
       "      <td>[1.1277919184203737, 0.061773370000041745]</td>\n",
       "    </tr>\n",
       "    <tr>\n",
       "      <th>2</th>\n",
       "      <td>ACTICOB</td>\n",
       "      <td>0.005620</td>\n",
       "      <td>0.004742</td>\n",
       "      <td>1.185195</td>\n",
       "      <td>0.000207</td>\n",
       "      <td>0.008015</td>\n",
       "      <td>0.025852</td>\n",
       "      <td>3</td>\n",
       "      <td>[1.185195083250026, 0.02585244177322636]</td>\n",
       "    </tr>\n",
       "    <tr>\n",
       "      <th>3</th>\n",
       "      <td>ACTIGOB401</td>\n",
       "      <td>0.000165</td>\n",
       "      <td>0.000207</td>\n",
       "      <td>0.798426</td>\n",
       "      <td>0.000227</td>\n",
       "      <td>0.000181</td>\n",
       "      <td>1.252284</td>\n",
       "      <td>4</td>\n",
       "      <td>[0.7984263329240053, 1.2522842394393554]</td>\n",
       "    </tr>\n",
       "    <tr>\n",
       "      <th>4</th>\n",
       "      <td>ACTIGOB74</td>\n",
       "      <td>0.000165</td>\n",
       "      <td>0.000207</td>\n",
       "      <td>0.798426</td>\n",
       "      <td>0.000227</td>\n",
       "      <td>0.000181</td>\n",
       "      <td>1.252284</td>\n",
       "      <td>5</td>\n",
       "      <td>[0.7984263329240053, 1.2522842394393554]</td>\n",
       "    </tr>\n",
       "  </tbody>\n",
       "</table>\n",
       "</div>"
      ],
      "text/plain": [
       "    fund_name  downside_mean_yield  downside_stddev_yield  sortino_ratio  mean_yield  stddev_yield  sharpe_ratio  id                                    features\n",
       "0  ACTI500261             0.006620               0.005870       1.127792    0.000566      0.009156      0.061773   1  [1.1277919184203737, 0.061773370000041745]\n",
       "1  ACTI500272             0.006620               0.005870       1.127792    0.000566      0.009156      0.061773   2  [1.1277919184203737, 0.061773370000041745]\n",
       "2     ACTICOB             0.005620               0.004742       1.185195    0.000207      0.008015      0.025852   3    [1.185195083250026, 0.02585244177322636]\n",
       "3  ACTIGOB401             0.000165               0.000207       0.798426    0.000227      0.000181      1.252284   4    [0.7984263329240053, 1.2522842394393554]\n",
       "4   ACTIGOB74             0.000165               0.000207       0.798426    0.000227      0.000181      1.252284   5    [0.7984263329240053, 1.2522842394393554]"
      ]
     },
     "execution_count": 291,
     "metadata": {},
     "output_type": "execute_result"
    }
   ],
   "source": [
    "vector_assembler_df = vector_assembler.transform(joined_ratios_df)\n",
    "vector_assembler_df.limit(5).toPandas()"
   ]
  },
  {
   "cell_type": "code",
   "execution_count": 152,
   "metadata": {},
   "outputs": [
    {
     "name": "stdout",
     "output_type": "stream",
     "text": [
      "n: 180\n",
      "p: 6\n"
     ]
    }
   ],
   "source": [
    "n = joined_ratios_df.count()\n",
    "print(\"n:\", n)\n",
    "p = len(features_list)\n",
    "print(\"p:\", p)"
   ]
  },
  {
   "cell_type": "code",
   "execution_count": 292,
   "metadata": {},
   "outputs": [
    {
     "data": {
      "text/html": [
       "<div>\n",
       "<style scoped>\n",
       "    .dataframe tbody tr th:only-of-type {\n",
       "        vertical-align: middle;\n",
       "    }\n",
       "\n",
       "    .dataframe tbody tr th {\n",
       "        vertical-align: top;\n",
       "    }\n",
       "\n",
       "    .dataframe thead th {\n",
       "        text-align: right;\n",
       "    }\n",
       "</style>\n",
       "<table border=\"1\" class=\"dataframe\">\n",
       "  <thead>\n",
       "    <tr style=\"text-align: right;\">\n",
       "      <th></th>\n",
       "      <th>fund_name</th>\n",
       "      <th>downside_mean_yield</th>\n",
       "      <th>downside_stddev_yield</th>\n",
       "      <th>sortino_ratio</th>\n",
       "      <th>mean_yield</th>\n",
       "      <th>stddev_yield</th>\n",
       "      <th>sharpe_ratio</th>\n",
       "      <th>id</th>\n",
       "      <th>features</th>\n",
       "    </tr>\n",
       "  </thead>\n",
       "  <tbody>\n",
       "    <tr>\n",
       "      <th>0</th>\n",
       "      <td>ACTI500261</td>\n",
       "      <td>0.006620</td>\n",
       "      <td>0.005870</td>\n",
       "      <td>1.127792</td>\n",
       "      <td>0.000566</td>\n",
       "      <td>0.009156</td>\n",
       "      <td>0.061773</td>\n",
       "      <td>1</td>\n",
       "      <td>[1.1277919184203737, 0.061773370000041745]</td>\n",
       "    </tr>\n",
       "    <tr>\n",
       "      <th>1</th>\n",
       "      <td>ACTI500272</td>\n",
       "      <td>0.006620</td>\n",
       "      <td>0.005870</td>\n",
       "      <td>1.127792</td>\n",
       "      <td>0.000566</td>\n",
       "      <td>0.009156</td>\n",
       "      <td>0.061773</td>\n",
       "      <td>2</td>\n",
       "      <td>[1.1277919184203737, 0.061773370000041745]</td>\n",
       "    </tr>\n",
       "    <tr>\n",
       "      <th>2</th>\n",
       "      <td>ACTICOB</td>\n",
       "      <td>0.005620</td>\n",
       "      <td>0.004742</td>\n",
       "      <td>1.185195</td>\n",
       "      <td>0.000207</td>\n",
       "      <td>0.008015</td>\n",
       "      <td>0.025852</td>\n",
       "      <td>3</td>\n",
       "      <td>[1.185195083250026, 0.02585244177322636]</td>\n",
       "    </tr>\n",
       "    <tr>\n",
       "      <th>3</th>\n",
       "      <td>ACTIGOB401</td>\n",
       "      <td>0.000165</td>\n",
       "      <td>0.000207</td>\n",
       "      <td>0.798426</td>\n",
       "      <td>0.000227</td>\n",
       "      <td>0.000181</td>\n",
       "      <td>1.252284</td>\n",
       "      <td>4</td>\n",
       "      <td>[0.7984263329240053, 1.2522842394393554]</td>\n",
       "    </tr>\n",
       "    <tr>\n",
       "      <th>4</th>\n",
       "      <td>ACTIGOB74</td>\n",
       "      <td>0.000165</td>\n",
       "      <td>0.000207</td>\n",
       "      <td>0.798426</td>\n",
       "      <td>0.000227</td>\n",
       "      <td>0.000181</td>\n",
       "      <td>1.252284</td>\n",
       "      <td>5</td>\n",
       "      <td>[0.7984263329240053, 1.2522842394393554]</td>\n",
       "    </tr>\n",
       "  </tbody>\n",
       "</table>\n",
       "</div>"
      ],
      "text/plain": [
       "    fund_name  downside_mean_yield  downside_stddev_yield  sortino_ratio  mean_yield  stddev_yield  sharpe_ratio  id                                    features\n",
       "0  ACTI500261             0.006620               0.005870       1.127792    0.000566      0.009156      0.061773   1  [1.1277919184203737, 0.061773370000041745]\n",
       "1  ACTI500272             0.006620               0.005870       1.127792    0.000566      0.009156      0.061773   2  [1.1277919184203737, 0.061773370000041745]\n",
       "2     ACTICOB             0.005620               0.004742       1.185195    0.000207      0.008015      0.025852   3    [1.185195083250026, 0.02585244177322636]\n",
       "3  ACTIGOB401             0.000165               0.000207       0.798426    0.000227      0.000181      1.252284   4    [0.7984263329240053, 1.2522842394393554]\n",
       "4   ACTIGOB74             0.000165               0.000207       0.798426    0.000227      0.000181      1.252284   5    [0.7984263329240053, 1.2522842394393554]"
      ]
     },
     "execution_count": 292,
     "metadata": {},
     "output_type": "execute_result"
    }
   ],
   "source": [
    "udf_change = udf(lambda x: Vectors.dense(x), VectorUDT())\n",
    "vector_dense_df = vector_assembler_df.withColumn(\"features\", udf_change(\"features\"))\n",
    "vector_dense_df.limit(5).toPandas()"
   ]
  },
  {
   "cell_type": "code",
   "execution_count": 293,
   "metadata": {},
   "outputs": [],
   "source": [
    "standard_scaler = StandardScaler(inputCol=\"features\", outputCol=\"scaled_features\", withStd=True, withMean=False)"
   ]
  },
  {
   "cell_type": "code",
   "execution_count": 294,
   "metadata": {},
   "outputs": [],
   "source": [
    "scaler_model = standard_scaler.fit(vector_dense_df.select(\"features\"))"
   ]
  },
  {
   "cell_type": "code",
   "execution_count": 295,
   "metadata": {},
   "outputs": [
    {
     "data": {
      "text/html": [
       "<div>\n",
       "<style scoped>\n",
       "    .dataframe tbody tr th:only-of-type {\n",
       "        vertical-align: middle;\n",
       "    }\n",
       "\n",
       "    .dataframe tbody tr th {\n",
       "        vertical-align: top;\n",
       "    }\n",
       "\n",
       "    .dataframe thead th {\n",
       "        text-align: right;\n",
       "    }\n",
       "</style>\n",
       "<table border=\"1\" class=\"dataframe\">\n",
       "  <thead>\n",
       "    <tr style=\"text-align: right;\">\n",
       "      <th></th>\n",
       "      <th>fund_name</th>\n",
       "      <th>downside_mean_yield</th>\n",
       "      <th>downside_stddev_yield</th>\n",
       "      <th>sortino_ratio</th>\n",
       "      <th>mean_yield</th>\n",
       "      <th>stddev_yield</th>\n",
       "      <th>sharpe_ratio</th>\n",
       "      <th>id</th>\n",
       "      <th>features</th>\n",
       "      <th>scaled_features</th>\n",
       "    </tr>\n",
       "  </thead>\n",
       "  <tbody>\n",
       "    <tr>\n",
       "      <th>0</th>\n",
       "      <td>ACTI500261</td>\n",
       "      <td>0.006620</td>\n",
       "      <td>0.005870</td>\n",
       "      <td>1.127792</td>\n",
       "      <td>0.000566</td>\n",
       "      <td>0.009156</td>\n",
       "      <td>0.061773</td>\n",
       "      <td>1</td>\n",
       "      <td>[1.1277919184203737, 0.061773370000041745]</td>\n",
       "      <td>[3.083097754187729, 0.11273329422314557]</td>\n",
       "    </tr>\n",
       "    <tr>\n",
       "      <th>1</th>\n",
       "      <td>ACTI500272</td>\n",
       "      <td>0.006620</td>\n",
       "      <td>0.005870</td>\n",
       "      <td>1.127792</td>\n",
       "      <td>0.000566</td>\n",
       "      <td>0.009156</td>\n",
       "      <td>0.061773</td>\n",
       "      <td>2</td>\n",
       "      <td>[1.1277919184203737, 0.061773370000041745]</td>\n",
       "      <td>[3.083097754187729, 0.11273329422314557]</td>\n",
       "    </tr>\n",
       "    <tr>\n",
       "      <th>2</th>\n",
       "      <td>ACTICOB</td>\n",
       "      <td>0.005620</td>\n",
       "      <td>0.004742</td>\n",
       "      <td>1.185195</td>\n",
       "      <td>0.000207</td>\n",
       "      <td>0.008015</td>\n",
       "      <td>0.025852</td>\n",
       "      <td>3</td>\n",
       "      <td>[1.185195083250026, 0.02585244177322636]</td>\n",
       "      <td>[3.2400234828429344, 0.04717940634946575]</td>\n",
       "    </tr>\n",
       "    <tr>\n",
       "      <th>3</th>\n",
       "      <td>ACTIGOB401</td>\n",
       "      <td>0.000165</td>\n",
       "      <td>0.000207</td>\n",
       "      <td>0.798426</td>\n",
       "      <td>0.000227</td>\n",
       "      <td>0.000181</td>\n",
       "      <td>1.252284</td>\n",
       "      <td>4</td>\n",
       "      <td>[0.7984263329240053, 1.2522842394393554]</td>\n",
       "      <td>[2.1826955786047733, 2.2853557708706767]</td>\n",
       "    </tr>\n",
       "    <tr>\n",
       "      <th>4</th>\n",
       "      <td>ACTIGOB74</td>\n",
       "      <td>0.000165</td>\n",
       "      <td>0.000207</td>\n",
       "      <td>0.798426</td>\n",
       "      <td>0.000227</td>\n",
       "      <td>0.000181</td>\n",
       "      <td>1.252284</td>\n",
       "      <td>5</td>\n",
       "      <td>[0.7984263329240053, 1.2522842394393554]</td>\n",
       "      <td>[2.1826955786047733, 2.2853557708706767]</td>\n",
       "    </tr>\n",
       "  </tbody>\n",
       "</table>\n",
       "</div>"
      ],
      "text/plain": [
       "    fund_name  downside_mean_yield  downside_stddev_yield  sortino_ratio  mean_yield  stddev_yield  sharpe_ratio  id                                    features                            scaled_features\n",
       "0  ACTI500261             0.006620               0.005870       1.127792    0.000566      0.009156      0.061773   1  [1.1277919184203737, 0.061773370000041745]   [3.083097754187729, 0.11273329422314557]\n",
       "1  ACTI500272             0.006620               0.005870       1.127792    0.000566      0.009156      0.061773   2  [1.1277919184203737, 0.061773370000041745]   [3.083097754187729, 0.11273329422314557]\n",
       "2     ACTICOB             0.005620               0.004742       1.185195    0.000207      0.008015      0.025852   3    [1.185195083250026, 0.02585244177322636]  [3.2400234828429344, 0.04717940634946575]\n",
       "3  ACTIGOB401             0.000165               0.000207       0.798426    0.000227      0.000181      1.252284   4    [0.7984263329240053, 1.2522842394393554]   [2.1826955786047733, 2.2853557708706767]\n",
       "4   ACTIGOB74             0.000165               0.000207       0.798426    0.000227      0.000181      1.252284   5    [0.7984263329240053, 1.2522842394393554]   [2.1826955786047733, 2.2853557708706767]"
      ]
     },
     "execution_count": 295,
     "metadata": {},
     "output_type": "execute_result"
    }
   ],
   "source": [
    "scaled_feature_df = scaler_model.transform(vector_dense_df)\n",
    "scaled_feature_df.limit(5).toPandas()"
   ]
  },
  {
   "cell_type": "code",
   "execution_count": 157,
   "metadata": {},
   "outputs": [
    {
     "data": {
      "text/plain": [
       "['downside_mean_yield',\n",
       " 'downside_stddev_yield',\n",
       " 'sortino_ratio',\n",
       " 'mean_yield',\n",
       " 'stddev_yield',\n",
       " 'sharpe_ratio',\n",
       " 'id',\n",
       " 'features',\n",
       " 'scaled_features']"
      ]
     },
     "execution_count": 157,
     "metadata": {},
     "output_type": "execute_result"
    }
   ],
   "source": [
    "scaled_feature_df.columns[1:]"
   ]
  },
  {
   "cell_type": "code",
   "execution_count": 160,
   "metadata": {},
   "outputs": [],
   "source": [
    "picking_columns = scaled_feature_df.select(\"id\", \"scaled_features\")\n",
    "feature_df = IndexedRowMatrix(picking_columns.rdd.map(lambda x: IndexedRow(x[0], x[1].tolist())))"
   ]
  },
  {
   "cell_type": "code",
   "execution_count": 184,
   "metadata": {},
   "outputs": [],
   "source": [
    "SVD = feature_df.computeSVD(p, True)\n",
    "U = SVD.U\n",
    "S = SVD.s.toArray()\n",
    "eigen_vals = S**2/(n-1)\n",
    "eigvals = np.flipud(np.sort(eigen_vals))\n",
    "cumsum = eigvals.cumsum()\n",
    "total_variance_explained = cumsum/eigvals.sum()\n",
    "K = np.argmax(total_variance_explained>0.95)+1\n",
    "V = SVD.V\n",
    "U = U.rows.map(lambda x: (x.index, x.vector[0:K]*S[0:K]))\n",
    "princ_comps = np.array(list(map(lambda x:x[1], sorted(U.collect(), key = lambda x:x[0]))))"
   ]
  },
  {
   "cell_type": "code",
   "execution_count": 186,
   "metadata": {},
   "outputs": [
    {
     "data": {
      "text/plain": [
       "array([0.77852935, 0.93204467, 0.97699935, 0.99899274, 0.99985824,\n",
       "       1.        ])"
      ]
     },
     "execution_count": 186,
     "metadata": {},
     "output_type": "execute_result"
    }
   ],
   "source": [
    "total_variance_explained"
   ]
  },
  {
   "cell_type": "code",
   "execution_count": null,
   "metadata": {},
   "outputs": [],
   "source": []
  },
  {
   "cell_type": "code",
   "execution_count": null,
   "metadata": {},
   "outputs": [],
   "source": []
  },
  {
   "cell_type": "code",
   "execution_count": null,
   "metadata": {},
   "outputs": [],
   "source": []
  },
  {
   "cell_type": "markdown",
   "metadata": {},
   "source": [
    "### K-Means with selected feature"
   ]
  },
  {
   "cell_type": "code",
   "execution_count": 296,
   "metadata": {},
   "outputs": [],
   "source": [
    "kmeans_5 = KMeans(featuresCol=\"features\", k=5)"
   ]
  },
  {
   "cell_type": "code",
   "execution_count": 302,
   "metadata": {},
   "outputs": [],
   "source": [
    "model_kmeans = kmeans_5.fit(scaled_feature_df)\n",
    "final_fund_class = model_kmeans.transform(scaled_feature_df).select(\"id\", \"fund_name\", \"sortino_ratio\", \"sharpe_ratio\", \"prediction\")"
   ]
  },
  {
   "cell_type": "code",
   "execution_count": 304,
   "metadata": {},
   "outputs": [
    {
     "name": "stdout",
     "output_type": "stream",
     "text": [
      "+----------+-----+\n",
      "|prediction|count|\n",
      "+----------+-----+\n",
      "|         1|   88|\n",
      "|         3|    1|\n",
      "|         4|   26|\n",
      "|         2|   30|\n",
      "|         0|   35|\n",
      "+----------+-----+\n",
      "\n"
     ]
    }
   ],
   "source": [
    "final_fund_class.groupBy(\"prediction\").count().show()"
   ]
  },
  {
   "cell_type": "code",
   "execution_count": 306,
   "metadata": {},
   "outputs": [
    {
     "name": "stdout",
     "output_type": "stream",
     "text": [
      "+---+---------+-----------------+------------------+----------+\n",
      "| id|fund_name|    sortino_ratio|      sharpe_ratio|prediction|\n",
      "+---+---------+-----------------+------------------+----------+\n",
      "|111|  PRINFGU|4.230063212847207|1.3752551531201072|         3|\n",
      "+---+---------+-----------------+------------------+----------+\n",
      "\n"
     ]
    }
   ],
   "source": [
    "final_fund_class.where(col(\"prediction\") == 3).show(100000)"
   ]
  },
  {
   "cell_type": "code",
   "execution_count": 307,
   "metadata": {},
   "outputs": [
    {
     "name": "stdout",
     "output_type": "stream",
     "text": [
      "+---+----------+------------------+--------------------+----------+\n",
      "| id| fund_name|     sortino_ratio|        sharpe_ratio|prediction|\n",
      "+---+----------+------------------+--------------------+----------+\n",
      "| 90|INVEXMP117|0.7849565533064031|  1.2422400697724378|         0|\n",
      "| 91|INVEXMP407|0.7849565533064031|  1.2422400697724378|         0|\n",
      "| 12|   ALTERNA|1.0989259468102701|   1.182887738525222|         0|\n",
      "| 24|  BLKDIN45|0.9682163615285584|  1.3861335361924632|         0|\n",
      "| 92| INVEXMP85|0.7849565533064031|  1.2422400697724378|         0|\n",
      "|  6|   ACTIMED|1.0940417052513196|  1.2762790014619436|         0|\n",
      "| 96|   MONEX28|0.7852049125767526|  1.3329244587375915|         0|\n",
      "| 34|   BMERGOB|1.1043268244425817|  1.3644914100311198|         0|\n",
      "|101|     NTEDP|1.2752737923460242|  1.3737428156692204|         0|\n",
      "|135|   SCOTIA1| 1.023896910353428|   1.371985279072884|         0|\n",
      "| 13|    AXESCP|1.6176293104520527|  1.2778521090328474|         0|\n",
      "| 36| BMERLIQ28| 1.129698476200938|  1.3439992603574182|         0|\n",
      "|144|     SUR1E|1.1583167242392511|  1.3194243927875409|         0|\n",
      "|156|   SURCETE|0.7141161987504681|  1.3436291640493154|         0|\n",
      "| 37| BMERLIQ52| 1.129698476200938|  1.3439992603574182|         0|\n",
      "|173| VECTMD414|1.3478297416462734|  1.2266890103087982|         0|\n",
      "|174|  VECTMD92|1.3478297416462734|  1.2266890103087982|         0|\n",
      "| 17| AXESMP130|0.9320240902125871|  1.1729204053868405|         0|\n",
      "| 38|   BMERTES|1.1618994378095029|  1.3770984553605028|         0|\n",
      "|176|   VECTPRE|1.1524511745698567|   1.348100742540189|         0|\n",
      "|177|  VECTRF48|0.7798923219594557|  1.2779391598398258|         0|\n",
      "| 39|  BMRGOB25|1.0162821356801552|  1.2805676914479078|         0|\n",
      "|178|  VECTRF71|0.7798923219594557|  1.2779391598398258|         0|\n",
      "| 40| BMRGOB254|1.0162821356801552|  1.2821738481838347|         0|\n",
      "|  9|   ACTIREN|0.9537953200472779|  1.3493864447069042|         0|\n",
      "| 18| AXESMP402|0.9320240902125871|  1.1729204053868405|         0|\n",
      "| 41|   BONDDIA|1.1079515206498851|  1.3522597380732695|         0|\n",
      "|  4|ACTIGOB401|0.7984263329240053|  1.2522842394393554|         0|\n",
      "|  5| ACTIGOB74|0.7984263329240053|  1.2522842394393554|         0|\n",
      "| 42|   DINBUR1|0.6971498895878466|  1.3003898761054118|         0|\n",
      "| 11|   AFIRPLU| 0.835288535124048|  1.3723922699390596|         0|\n",
      "| 19|  AXESMP76|0.9320240902125871|  1.1729204053868405|         0|\n",
      "| 58|     GBMM3|0.8819308154647308|  0.9455331185565071|         0|\n",
      "| 85|   INBUMAX|0.9873460293062695|  1.3818695761559214|         0|\n",
      "| 23|  BLK1LIQA|0.6395833982909901|  1.3850584598181623|         0|\n",
      "| 28|   BLKINT1| 1.141548802792114|  0.0537567402260448|         1|\n",
      "| 29|    BLKIPC|1.0034143646255325|-4.61392220807196...|         1|\n",
      "| 32|BLKUSEQ265|1.1341643981044807| 0.05542780000763367|         1|\n",
      "| 48|FRANOPR266|1.0955024286550796|  0.0584409437247388|         1|\n",
      "| 22|   BBVAE50|1.0897167954932778|0.019745619502724278|         1|\n",
      "|119|PRINLS2357|1.1724875326032276| 0.08653723121604906|         1|\n",
      "| 31|    BLKPAT|0.9774022609411372|4.416227460546717E-4|         1|\n",
      "| 33|BLKUSEQ276|1.1341643981044807| 0.05542780000763367|         1|\n",
      "| 35|   BMERIND|0.9987150188072671|-0.00166453246222...|         1|\n",
      "|146|SUR2026320|1.1839066089174464| 0.19128108655352263|         1|\n",
      "| 49|FRANOPR277|1.0955024286550796|  0.0584409437247388|         1|\n",
      "| 52|   FT/REAL|0.9651022563248938| 0.14681671786852515|         1|\n",
      "|  1|ACTI500261|1.1277919184203737|0.061773370000041745|         1|\n",
      "|  2|ACTI500272|1.1277919184203737|0.061773370000041745|         1|\n",
      "|109| NTEUSA280|1.0167664303686574|0.030521785786484727|         1|\n",
      "| 25|   BLKDOLS|1.1984461950302108|0.029073355493939683|         1|\n",
      "|120|PRINLS3331| 1.164989495451437| 0.06118034612255164|         1|\n",
      "|121|PRINLS3358| 1.164989495451437| 0.06118034612255164|         1|\n",
      "|126|   SBANK50|0.9793160485313029| 0.07752859108958486|         1|\n",
      "|130|   SCOT-FX|1.1839834625485854|  0.0449012964903035|         1|\n",
      "|132|   SCOTEUR|1.1071580161529864| 0.03736952970195026|         1|\n",
      "|134|   SCOTI14|0.9827791045134864| 0.12418540912852191|         1|\n",
      "|141|   SCOTQNT|1.0917117150329454| 0.06680119223905197|         1|\n",
      "| 43|DIVER/A324|0.9585320556000907| 0.05131453505936559|         1|\n",
      "|147|SUR2026370|1.1839066089174464| 0.19128108655352263|         1|\n",
      "|148|SUR2034334|1.0235164069100509| 0.11463839533962422|         1|\n",
      "|165|    SURUSD| 1.198633951424721|0.031154422781669244|         1|\n",
      "| 50|FRANUSA267|1.2339246570577123| 0.04108518402846248|         1|\n",
      "|172|   VECTIND|0.9912525754659334|0.001051221090579...|         1|\n",
      "|179|VECTSIC262|1.1460915603346318|0.046116405053881225|         1|\n",
      "| 51|FRANUSA278|1.2339246570577123| 0.04108518402846248|         1|\n",
      "| 26|   BLKFIBR|1.0400913190250425|0.020709364423938375|         1|\n",
      "| 62|GBMPMOD314|0.9504250706868336|0.031795145200768336|         1|\n",
      "|  3|   ACTICOB| 1.185195083250026| 0.02585244177322636|         1|\n",
      "| 65|GOLD4MA329|1.1031271032413648| 0.06501967074571126|         1|\n",
      "| 69|   HSBC-60|0.9740600824926947| 0.07165670714547319|         1|\n",
      "| 74|HSBCDOL189|1.1982363543241767|0.013503027612195477|         1|\n",
      "| 80| HSBCF3347|1.0768191754648953| 0.06718571791698867|         1|\n",
      "|  8|   ACTIPAT|0.9467814261644658|-0.00536376142364...|         1|\n",
      "| 14|   AXESEDM| 1.229337924216284|0.018704797994731015|         1|\n",
      "| 21|BBVADOL195| 1.192484918374492| 0.02047811722129109|         1|\n",
      "|107|    NTESEL|0.9861234833544509|0.007431168133268657|         1|\n",
      "|108| NTEUSA269|1.0167664303686574|0.030521785786484727|         1|\n",
      "|110|    PRGLOB|1.1640498999292836| 0.04321459762416176|         1|\n",
      "|117|   PRINLS1| 1.078282294173238|  0.1263640838976141|         1|\n",
      "|118|PRINLS2319|1.1724875326032276| 0.08653723121604906|         1|\n",
      "|125|   PRINRVA|0.9735434251589795|0.004477038878041443|         1|\n",
      "|128|   SBANKDL|1.1918782231896685| 0.02129464791241991|         1|\n",
      "|131|   SCOTDOL|1.1792028876211083|0.024697570118645963|         1|\n",
      "|133|   SCOTI12|  1.03732868938343| 0.25720376946387247|         1|\n",
      "|139|   SCOTIPC|0.9953735400005707|3.926484515966399E-4|         1|\n",
      "|142|   SCOTUDI|  1.00020161676443| 0.09616047863779612|         1|\n",
      "|143|   SCOTUSA|1.1573570803570612|0.061047234186700924|         1|\n",
      "|145|   SUR2018|1.1078369519280382|  0.2615807860544054|         1|\n",
      "|149|SUR2034377|1.0235164069100509| 0.11463839533962422|         1|\n",
      "|166|   TEMGBIA|1.1522328224500984| 0.03534078335914578|         1|\n",
      "|170|VECTCOB188|1.1915111093444881|0.020286922120293472|         1|\n",
      "|171|VECTCOB200|1.1915111093444881|0.020286922120293472|         1|\n",
      "|175|    VECTPA|1.0122162349376154|-9.51433453984852...|         1|\n",
      "|180|VECTSIC282|1.1460915603346318|0.046116405053881225|         1|\n",
      "| 53|    GBMCRE|1.0079812606746452|-0.02538380628600...|         1|\n",
      "| 59|    GBMMOD| 1.025887302291391|-0.02458808613500545|         1|\n",
      "| 44|DIVER/A340|0.9585320556000907| 0.05131453505936559|         1|\n",
      "| 61|   GBMPICT|1.0945849522512658| 0.05847390984771025|         1|\n",
      "| 63|GBMPMOD344|0.9504250706868336|0.031795145200768336|         1|\n",
      "| 64|    GBMTRV|1.1614717146515723| 0.03872900854620856|         1|\n",
      "| 66|GOLD4MA345|1.1031271032413648| 0.06501967074571126|         1|\n",
      "| 67|   GOLD5MA|1.1001220915940746| 0.04824727200601252|         1|\n",
      "| 68|   HSBC-50|0.9754151300838444| 0.06694733739036748|         1|\n",
      "| 70|   HSBC-70|1.1292345278721583|0.058049978361629034|         1|\n",
      "|  7|   ACTINMO|1.1104649495261791|-0.00350060858729...|         1|\n",
      "| 71|   HSBC-80|1.1623198199710316| 0.05471336855371493|         1|\n",
      "| 72|   HSBCBOL|0.9953706800936956|-0.00737748008360...|         1|\n",
      "| 75|HSBCDOL201|1.1982363543241767|0.013503027612195477|         1|\n",
      "| 78|    HSBCF2|1.0878050847729595| 0.11139991078817463|         1|\n",
      "| 79| HSBCF3317|1.0768191754648953| 0.06718571791698867|         1|\n",
      "| 81|    HSBCF4| 1.089843807208124| 0.04116912336581029|         1|\n",
      "| 10|   ACTIVAR|0.9976612460412261|-0.00339797743523...|         1|\n",
      "| 87|INVEXCO185|1.1973006700728075| 0.01916436641313725|         1|\n",
      "| 88|INVEXCO197|1.1973006700728075| 0.01916436641313725|         1|\n",
      "| 93|   INVEXMX|1.0774620279873068|-0.00536824681420...|         1|\n",
      "| 94|   INVEXTK|1.1642923692852796|0.028852195656516786|         1|\n",
      "| 95|      MAYA|0.9336976080181384|0.007207271593770355|         1|\n",
      "| 15|   AXESGLO|1.1433708949498964|0.036372480382853206|         1|\n",
      "| 98|   NAFINDX|1.0099485420308425|-0.01023832763821...|         1|\n",
      "|100|   NAVIGTR|1.0996212566893349| 0.05772817475064539|         1|\n",
      "|102|    NTEGLA|1.1828286231597291|0.037321278544088975|         1|\n",
      "| 20|BBVADOL183| 1.192484918374492| 0.02047811722129109|         1|\n",
      "| 30|  BLKLIQ/A|               0.0|   1.370261964985459|         2|\n",
      "| 46| FINDE1110|0.6947075671257306|  0.8321961972356388|         2|\n",
      "| 56|    GBMGUB| 0.646465212720992|  0.9160966387552156|         2|\n",
      "| 47| FINDE1400|0.6947075671257306|  0.8321961972356388|         2|\n",
      "| 57|   GBMGUBL|               0.0|  1.3011329921746824|         2|\n",
      "| 83| HSBCMP405| 0.538086018928686|  0.8492225972971745|         2|\n",
      "|113|PRINFMP410|0.5035488812227604|   0.986238345557027|         2|\n",
      "| 73|   HSBCCOR|0.8558438385382089|  0.6586533753050764|         2|\n",
      "| 84|  HSBCMP83| 0.538086018928686|  0.8492225972971745|         2|\n",
      "|103| NTEMP+105|0.6887650242134725|   1.054340705291813|         2|\n",
      "|114| PRINFMP88|0.5035488812227604|   0.986238345557027|         2|\n",
      "|123|PRINMAS411|0.5707246592910505|   0.682726471435135|         2|\n",
      "|112|PRINFMP119|0.5035488812227604|   0.986238345557027|         2|\n",
      "| 76| HSBCEMP69|0.7014213033620773|   1.210527564182439|         2|\n",
      "| 77| HSBCEMP93|0.7014213033620773|   1.210527564182439|         2|\n",
      "| 89|   INVEXCP|               0.0|  1.2869503352038427|         2|\n",
      "|104| NTEMP+120|0.6887650242134725|   1.054340705291813|         2|\n",
      "|105|  NTEMP+50|0.6887650242134725|   1.054340705291813|         2|\n",
      "|122|PRINMAS125|0.5707246592910505|   0.682726471435135|         2|\n",
      "|124| PRINMAS89|0.5707246592910505|   0.682726471435135|         2|\n",
      "|127|   SBANKCP|               0.0|   1.391381410337854|         2|\n",
      "|157|   SURCORP|0.3185801672376469|  0.5038194507617503|         2|\n",
      "| 55|     GBMF3|0.8411643572144701|  0.9377746682214534|         2|\n",
      "| 27|   BLKGUB1|               0.0|  1.3869536159779667|         2|\n",
      "| 82|   HSBCJUB| 0.663067091998061|  0.8668135351357007|         2|\n",
      "| 97|   NAFFP28| 0.516185115302926|  1.0713057706619582|         2|\n",
      "|106|  NTEMP+86|0.6887650242134725|   1.054340705291813|         2|\n",
      "|136|   SCOTIA2|0.5988769400598816|   0.994082247977946|         2|\n",
      "|168|   VALUEF4|               0.0|  1.3281477680726903|         2|\n",
      "| 54|     GBMF2|0.7414694538329858|  1.1355620996529165|         2|\n",
      "|111|   PRINFGU| 4.230063212847207|  1.3752551531201072|         3|\n",
      "| 16|    AXESLP|0.7074875287449797| 0.24206888590613726|         4|\n",
      "| 45|    DMEDIO| 0.736144444222552|  0.3844331173230905|         4|\n",
      "| 60|   GBMPCON|0.9039532383741742| 0.12617983076922892|         4|\n",
      "|115|   PRINFTR|0.8226387127951243|  0.1801232067337796|         4|\n",
      "| 86|   INBUREX|0.8777452843209281|  0.2199937683271634|         4|\n",
      "|116|   PRINGLP|0.8070049104485343| 0.09142597487900915|         4|\n",
      "|162|    SURMOD|0.7813459791343976| 0.11927801720433003|         4|\n",
      "| 99|   NAFINTR|0.8504294075250327|  0.2810934073600841|         4|\n",
      "|129|   SBANKMP|0.7792892399774842|  0.4379140287748326|         4|\n",
      "|152|    SUR30E|0.8293720508885315| 0.16053369593634437|         4|\n",
      "|163|    SURPAT|0.8111626459194117|0.003726161373731...|         4|\n",
      "|137|   SCOTILP| 0.771633263274693| 0.18909635796252672|         4|\n",
      "|138|   SCOTIMB|0.7924689170557996| 0.09160479309280319|         4|\n",
      "|153| SURAGR337|  0.65289297408923| 0.05160731187553996|         4|\n",
      "|158| SURCRE321|0.6835008709488121| 0.08543294034125518|         4|\n",
      "|164|    SURUDI| 0.858547944038992|  0.2129187620870752|         4|\n",
      "|169|   VALUEF7|0.7403193971195965| 0.06228127039968064|         4|\n",
      "|140|   SCOTLPG| 0.813954165226386| 0.08711043827749484|         4|\n",
      "|150|SUR2042335|  0.81982185305942|  0.0736827514728825|         4|\n",
      "|154| SURAGR353|  0.65289297408923| 0.05160731187553996|         4|\n",
      "|159| SURCRE352|0.6835008709488121| 0.08543294034125518|         4|\n",
      "|160|   SURGLOB|0.8869211513344251| 0.04338707373142675|         4|\n",
      "|167|   VALUEF2| 0.617914641716988|0.033431796078756154|         4|\n",
      "|151|SUR2042384|  0.81982185305942|  0.0736827514728825|         4|\n",
      "|155|   SURBONO|0.8342366256123314|  0.0918892737489114|         4|\n",
      "|161|    SURIPC|0.8283655086797533|0.001784289476152...|         4|\n",
      "+---+----------+------------------+--------------------+----------+\n",
      "\n"
     ]
    }
   ],
   "source": [
    "final_fund_class.orderBy(col(\"prediction\")).show(10000)"
   ]
  },
  {
   "cell_type": "code",
   "execution_count": 312,
   "metadata": {},
   "outputs": [
    {
     "data": {
      "image/png": "[encoded data removed]",
      "text/plain": [
       "<Figure size 432x288 with 1 Axes>"
      ]
     },
     "metadata": {},
     "output_type": "display_data"
    }
   ],
   "source": [
    "final_fund_pd = final_fund_class.toPandas()\n",
    "plt.scatter(final_fund_pd.sortino_ratio, final_fund_pd.sharpe_ratio)\n",
    "plt.show()"
   ]
  },
  {
   "cell_type": "code",
   "execution_count": 301,
   "metadata": {},
   "outputs": [
    {
     "name": "stdout",
     "output_type": "stream",
     "text": [
      "with k=2\n",
      "within set sum of squared errors =  26.083811273531904\n",
      "------------------------------------------------------------------------------------------\n",
      "with k=3\n",
      "within set sum of squared errors =  21.39392567755047\n",
      "------------------------------------------------------------------------------------------\n",
      "with k=4\n",
      "within set sum of squared errors =  18.729460946853262\n",
      "------------------------------------------------------------------------------------------\n",
      "with k=5\n",
      "within set sum of squared errors =  7.015534391136944\n",
      "------------------------------------------------------------------------------------------\n",
      "with k=6\n",
      "within set sum of squared errors =  4.3838543971583785\n",
      "------------------------------------------------------------------------------------------\n",
      "with k=7\n",
      "within set sum of squared errors =  4.805484294298372\n",
      "------------------------------------------------------------------------------------------\n",
      "with k=8\n",
      "within set sum of squared errors =  2.7724695478867205\n",
      "------------------------------------------------------------------------------------------\n"
     ]
    }
   ],
   "source": [
    "for k in range(2, 9):\n",
    "    kmean = KMeans(featuresCol=\"features\", k=k)\n",
    "    model = kmean.fit(scaled_feature_df)\n",
    "    squared_error = model.computeCost(scaled_feature_df)\n",
    "    print(\"with k={}\".format(k))\n",
    "    print(\"within set sum of squared errors = \", str(squared_error))\n",
    "    print(\"---\"*30)"
   ]
  },
  {
   "cell_type": "markdown",
   "metadata": {},
   "source": [
    "# Se queda con 5 grupos!"
   ]
  },
  {
   "cell_type": "markdown",
   "metadata": {},
   "source": [
    "-------------------------------------------------------------------------------------------------------------------------------------------------------------------"
   ]
  },
  {
   "cell_type": "code",
   "execution_count": null,
   "metadata": {},
   "outputs": [],
   "source": [
    "#Defining the colors that can be used in plots  \n",
    "colors =[\"g\",\"r\",\"c\",\"b\",\"k\"]  \n",
    "  \n",
    "#Defination of the class K_Means  \n",
    "#Using this class we are implementing all the steps required  \n",
    "#to be performed to generate a k-means model  \n",
    "class K_Means:  \n",
    "    def __init__(self, k=5, tol=0.001, max_iter=300):  \n",
    "        self.k = k  \n",
    "        self.tol = tol  \n",
    "        self.max_iter = max_iter  \n",
    "  \n",
    "    #Function to fit the dummy mode on to the model  \n",
    "    def fit(self,data):  \n",
    "  \n",
    "        self.centroids = {}  \n",
    "  \n",
    "        for i in range(self.k):  \n",
    "            self.centroids[i] = data[i]  \n",
    "  \n",
    "        for i in range(self.max_iter):  \n",
    "            self.classifications = {}  \n",
    "  \n",
    "            for i in range(self.k):  \n",
    "                self.classifications[i] = []  \n",
    "  \n",
    "            for featureset in data:  \n",
    "                distances = [np.linalg.norm(featureset-self.centroids[centroid]) for centroid in self.centroids]  \n",
    "                classification = distances.index(min(distances))  \n",
    "                self.classifications[classification].append(featureset)  \n",
    "  \n",
    "            prev_centroids = dict(self.centroids)  \n",
    "  \n",
    "            for classification in self.classifications:  \n",
    "                self.centroids[classification] = np.average(self.classifications[classification],axis=0)  \n",
    "  \n",
    "            optimized = True  \n",
    "  \n",
    "            for c in self.centroids:  \n",
    "                original_centroid = prev_centroids[c]  \n",
    "                current_centroid = self.centroids[c]  \n",
    "                if np.sum((current_centroid-original_centroid)/original_centroid*100.0) > self.tol:  \n",
    "                    np.sum((current_centroid-original_centroid)/original_centroid*100.0)  \n",
    "                    optimized = False  \n",
    "  \n",
    "            if optimized:  \n",
    "                break  \n",
    "  \n",
    "    #Function to generate prediction result  \n",
    "    def predict(self,data):  \n",
    "        distances = [np.linalg.norm(data-self.centroids[centroid]) for centroid in self.centroids]  \n",
    "        classification = distances.index(min(distances))  \n",
    "        return classification  \n",
    "  \n",
    "clf = K_Means()  \n",
    "clf.fit(X)  \n",
    "  \n",
    "#putting the centroid values on to the plot  \n",
    "for centroid in clf.centroids:  \n",
    "    plt.scatter(clf.centroids[centroid][0], clf.centroids[centroid][1],  \n",
    "                marker=\"o\", color=\"k\", s=150, linewidths=5)  \n",
    "  \n",
    "for classification in clf.classifications:  \n",
    "    color = colors[classification]  \n",
    "    for featureset in clf.classifications[classification]:  \n",
    "        plt.scatter(featureset[0], featureset[1], marker=\"x\", color=color, s=150, linewidths=5)  \n",
    "  \n",
    "#Priting the centroid values  \n",
    "for centroid in clf.centroids:  \n",
    "    print(clf.centroids[centroid][0],clf.centroids[centroid][1])  \n",
    "  \n",
    "plt.show()  "
   ]
  }
 ],
 "metadata": {
  "kernelspec": {
   "display_name": "Python 3",
   "language": "python",
   "name": "python3"
  },
  "language_info": {
   "codemirror_mode": {
    "name": "ipython",
    "version": 3
   },
   "file_extension": ".py",
   "mimetype": "text/x-python",
   "name": "python",
   "nbconvert_exporter": "python",
   "pygments_lexer": "ipython3",
   "version": "3.6.9"
  }
 },
 "nbformat": 4,
 "nbformat_minor": 2
}
