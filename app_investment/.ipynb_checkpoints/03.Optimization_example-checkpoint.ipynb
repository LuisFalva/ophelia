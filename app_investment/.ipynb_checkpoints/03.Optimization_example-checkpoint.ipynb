{
 "cells": [
  {
   "cell_type": "code",
   "execution_count": null,
   "metadata": {},
   "outputs": [],
   "source": [
    "import numpy as np\n",
    "import matplotlib.pyplot as plt"
   ]
  },
  {
   "cell_type": "markdown",
   "metadata": {},
   "source": [
    "# The Efficient Frontier: Markowitz Portfolio Optimization in Python.\n",
    "- A simple approach to linear optimization problems:"
   ]
  },
  {
   "cell_type": "code",
   "execution_count": null,
   "metadata": {},
   "outputs": [],
   "source": [
    "x_vals = np.linspace(0, 800, 10)"
   ]
  },
  {
   "cell_type": "code",
   "execution_count": null,
   "metadata": {},
   "outputs": [],
   "source": [
    "y1 = ((750 - x_vals) / 1.5)\n",
    "y2 = (1000 - 2*x_vals)"
   ]
  },
  {
   "cell_type": "code",
   "execution_count": null,
   "metadata": {},
   "outputs": [],
   "source": [
    "plt.figure(figsize=(10,8))\n",
    "plt.plot(x_vals, y1, label=r'$x_1 + 1.5x_2 \\leq 750$')\n",
    "plt.plot(x_vals, y2, label=r'$2x_1 + x_2 \\leq 1000$')\n",
    "plt.plot(375, 250, 'b*', markersize=15)\n",
    "\n",
    "y3 = np.minimum(y1, y2)\n",
    "plt.fill_between(x_vals, 0, y3, alpha=0.15, color='b')\n",
    "plt.axis(ymin = 0)\n",
    "plt.title('Optimización lineal')\n",
    "plt.legend()\n",
    "plt.show()"
   ]
  }
 ],
 "metadata": {
  "kernelspec": {
   "display_name": "Python 3",
   "language": "python",
   "name": "python3"
  },
  "language_info": {
   "codemirror_mode": {
    "name": "ipython",
    "version": 3
   },
   "file_extension": ".py",
   "mimetype": "text/x-python",
   "name": "python",
   "nbconvert_exporter": "python",
   "pygments_lexer": "ipython3",
   "version": "3.6.8"
  }
 },
 "nbformat": 4,
 "nbformat_minor": 2
}
