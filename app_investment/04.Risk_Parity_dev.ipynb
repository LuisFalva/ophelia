{
 "cells": [
  {
   "cell_type": "code",
   "execution_count": null,
   "metadata": {},
   "outputs": [],
   "source": [
    "import time\n",
    "import sys\n",
    "import math\n",
    "import numpy as np\n",
    "import pandas as pd\n",
    "import matplotlib.pyplot as plt\n",
    "\n",
    "from functools import reduce\n",
    "from itertools import chain\n",
    "from scipy.stats import stats\n",
    "from scipy.stats import rankdata\n",
    "from scipy.optimize import minimize\n",
    "\n",
    "from mpl_toolkits.mplot3d import Axes3D\n",
    "\n",
    "from pyspark.mllib.linalg.distributed import IndexedRowMatrix, IndexedRow\n",
    "from pyspark.ml.feature import StandardScaler\n",
    "from pyspark.ml.linalg import Vectors, VectorUDT\n",
    "from pyspark.sql.functions import create_map, col, to_date, date_format, year, month, dayofmonth, when, lit, lag, array, explode, struct, udf, first\n",
    "from pyspark.sql.functions import sum as spark_sum, avg as spark_avg, count, stddev as spark_stddev\n",
    "from pyspark.sql.types import FloatType, StructField, StructType, DateType, IntegerType, ArrayType\n",
    "from pyspark.sql import SparkSession, Window, DataFrame\n",
    "from pylab import *\n",
    "from matplotlib.ticker import LinearLocator, FormatStrFormatter"
   ]
  },
  {
   "cell_type": "code",
   "execution_count": null,
   "metadata": {},
   "outputs": [],
   "source": [
    "pd.set_option('display.max_columns', 10000000)\n",
    "pd.set_option('display.max_rows', 10000000)\n",
    "pd.set_option('display.width', 10000000)"
   ]
  },
  {
   "cell_type": "markdown",
   "metadata": {},
   "source": [
    "------------------------------------------------------------------------------------------------------------------------------------------------------------------"
   ]
  },
  {
   "cell_type": "markdown",
   "metadata": {},
   "source": [
    "# Defining Spark Session for pseudo-distributed computing:"
   ]
  },
  {
   "cell_type": "code",
   "execution_count": null,
   "metadata": {},
   "outputs": [],
   "source": [
    "spark = SparkSession.builder.appName('Portfolio_Optimization').getOrCreate()\n",
    "sc = spark.sparkContext\n",
    "sc"
   ]
  },
  {
   "cell_type": "markdown",
   "metadata": {},
   "source": [
    "# Reading persisted Portfolio Yields dataframe:"
   ]
  },
  {
   "cell_type": "code",
   "execution_count": null,
   "metadata": {},
   "outputs": [],
   "source": [
    "portfolio_yield_window_path = '/data/core/fince/data/portfolioOptimization/portfolio_yield_window/'\n",
    "portfolio_yield_df = spark.read.parquet(portfolio_yield_window_path)"
   ]
  },
  {
   "cell_type": "code",
   "execution_count": null,
   "metadata": {},
   "outputs": [],
   "source": [
    "portfolio_yield_df.limit(10).toPandas()"
   ]
  },
  {
   "cell_type": "markdown",
   "metadata": {},
   "source": [
    "# From now on we construct yield portfolio matrix for Risk Parity process."
   ]
  },
  {
   "cell_type": "code",
   "execution_count": null,
   "metadata": {},
   "outputs": [],
   "source": [
    "field_array = portfolio_yield_df.columns[:-1]\n",
    "print('test with', len(field_array), 'funds\\n')\n",
    "\n",
    "monthly_return = np.array(portfolio_yield_df.select(*field_array).collect())\n",
    "print(\"numpy matrix generated correctly!\\n\")\n",
    "print('monthly_return matrix:\\n', monthly_return)"
   ]
  },
  {
   "cell_type": "markdown",
   "metadata": {},
   "source": [
    "### Get model parameters Class:\n",
    "#### This calss will have defined functions that will help us as utilities for creating specific matrices objects."
   ]
  },
  {
   "cell_type": "code",
   "execution_count": null,
   "metadata": {},
   "outputs": [],
   "source": [
    "class ModelParameters(object):\n",
    "    \n",
    "    def get_shape_matrix(numpy_matrix):\n",
    "        \"\"\"\n",
    "        Gets numpy.array matrix shape.\n",
    "        :param numpy_matrix: yield numpy.array matrix.\n",
    "        :return: tuple with matrix shape (rows, cols).\n",
    "        \"\"\"\n",
    "        if isinstance(numpy_matrix, (np.ndarray)):\n",
    "            n_rows, n_cols = numpy_matrix.shape[0], numpy_matrix.shape[1]\n",
    "        else:\n",
    "            print(\"matrix not valid, must be numpy.array object with float terms.\")\n",
    "            return None\n",
    "        \n",
    "        return n_rows, n_cols\n",
    "    \n",
    "    def set_time_prediction(numpy_matrix, time_predict=None, n_month=None):\n",
    "        \"\"\"\n",
    "        Set time prediction function it creates an returns time prediction window, \n",
    "        starting month variable for analysis and historical observations variable.\n",
    "        :param numpy_matrix: yield portfolio numpy.array matrix.\n",
    "        :param time_predict: time to predict int, 11 default.\n",
    "        :param n_month: number of months int, 1 default.\n",
    "        :return: tuple with initial model optimization params.\n",
    "        \"\"\"\n",
    "        if not isinstance(numpy_matrix, (np.ndarray)):\n",
    "            print(\"matrix not valid, must be numpy.array object with float terms.\")\n",
    "            return None\n",
    "        else:\n",
    "            n_rows, n_cols = ModelParameters.get_shape_matrix(numpy_matrix)\n",
    "            \n",
    "        if time_predict is None:\n",
    "            time_predict = 11\n",
    "        if n_month is None:\n",
    "            n_month = 1\n",
    "\n",
    "        if time_predict is not None:\n",
    "            if isinstance(time_predict, int):\n",
    "                time_predict = time_predict\n",
    "            else:\n",
    "                print(\"time predict params not valid, must be integer.\")\n",
    "                return None\n",
    "        \n",
    "        if n_month is not None:\n",
    "            if isinstance(n_month, int):\n",
    "                n_month =  n_month\n",
    "            else:\n",
    "                print(\"number of months params not valid, must be integer.\")\n",
    "                return None\n",
    "            \n",
    "        start_month = time_predict + n_month\n",
    "        time_observed = n_rows - start_month\n",
    "        end_month = n_rows\n",
    "          \n",
    "        return start_month, end_month, time_predict, time_observed\n",
    "    \n",
    "    def create_zero_matrix(time_observed, n_cols):\n",
    "        \"\"\"\n",
    "        Create zero matrix initializes a zero filled numpy.array matrix with adapting dimensions.\n",
    "        :param n_cols: int number columns N (fund target).\n",
    "        :param time_observed: time to analyze, int.\n",
    "        :return: tuple with initial zero filled numpy.array objects.\n",
    "        \"\"\"\n",
    "        if isinstance(n_cols, int):\n",
    "            n_cols = n_cols\n",
    "        else:\n",
    "            print(\"number of columns params not valid, must be integer.\")\n",
    "            return None\n",
    "        \n",
    "        if isinstance(time_observed, int):\n",
    "            time_observed = time_observed\n",
    "        else:\n",
    "            print(\"time observed params not valid, must be integer.\")\n",
    "            return None\n",
    "        \n",
    "        cov_matrix = np.zeros((n_cols, n_cols))\n",
    "        weight_riskparity_matrix = np.zeros((time_observed, n_cols))\n",
    "        \n",
    "        return cov_matrix, weight_riskparity_matrix\n",
    "    \n",
    "    def matrix_transpose(numpy_matrix):\n",
    "        \"\"\"\n",
    "        Matrix transpose creates an numpy.array object to its transposed shape.\n",
    "        :param numpy_matrix: yield portfolio numpy.array matrix.\n",
    "        :return: numpy.array object transposed.\n",
    "        \"\"\"\n",
    "        if not isinstance(numpy_matrix, (np.ndarray)):\n",
    "            print(\"matrix not valid, must be numpy.array object with float terms.\")\n",
    "            return None\n",
    "            \n",
    "        return numpy_matrix.T\n",
    "    \n",
    "    def wr_equally_weighted_matrix(time_observed, n_cols):\n",
    "        \"\"\"\n",
    "        w & r Equally Weighted Matrix creates a zero filled numpy.array matrix\n",
    "        for filling them with its ponderations.\n",
    "        :param time_observed: int time window observations.\n",
    "        :param n_cols: int number columns N (fund target).\n",
    "        :return: numpy.array object W matrix Equally Weighted with time & cols dimensions.\n",
    "        \"\"\"\n",
    "        if isinstance(time_observed, int):\n",
    "            time_observed = time_observed\n",
    "        else:\n",
    "            print(\"time observed params not valid, must be integer.\")\n",
    "            return None\n",
    "        \n",
    "        if isinstance(n_cols, int):\n",
    "            n_cols = n_cols\n",
    "        else:\n",
    "            print(\"number of columns params not valid, must be integer.\")\n",
    "            return None\n",
    "        \n",
    "        w_ew = np.zeros((time_observed, n_cols))\n",
    "        r_ew  = np .zeros((time_observed, n_cols))\n",
    "        \n",
    "        return w_ew, r_ew\n",
    "    \n",
    "    def one_n_matrix(n_cols):\n",
    "        \"\"\"\n",
    "        One/n creates a equeally weighted numpy.array matrix.\n",
    "        :param n_cols: int number columns N (fund target).\n",
    "        :return: numpy.array object Onen/n weights with (1 x N) dimensions.\n",
    "        \"\"\"\n",
    "        if isinstance(n_cols, int):\n",
    "            n_cols = n_cols\n",
    "        else:\n",
    "            print(\"number of columns params not valid, must be integer.\")\n",
    "            return None\n",
    "        \n",
    "        return np.full((1, n_cols), 1/n_cols)\n",
    "    \n",
    "    def zero_filled_vector(list_vector, time_observed):\n",
    "        \"\"\"\n",
    "        Zero Filled Vector creates a zero filled numpy.array 1-column matrix, aka: zero-vector.\n",
    "        :param list_vector: array type with string names for different type of vector.\n",
    "        :param time_observed: int time window observations.\n",
    "        :return: numpy.array objectZero Filled Vector with (N x 1) dimensions.\n",
    "        \"\"\"\n",
    "        if isinstance(time_observed, int):\n",
    "            time_observed = time_observed\n",
    "        else:\n",
    "            print(\"time observed params not valid, must be integer.\")\n",
    "            return None\n",
    "        \n",
    "        mapped_vec = {}\n",
    "        for i in list_vector:\n",
    "            mapped_vec[i] = np.zeros((time_observed, 1))\n",
    "        \n",
    "        return mapped_vec\n",
    "    \n",
    "    def return_weights_matrices(numpy_matrix, start_month, end_month, time_observed, n_cols):\n",
    "        \"\"\"\n",
    "        One/n creates a equally weighted numpy.array matrix.\n",
    "        :param n_cols: int number columns N (fund target).\n",
    "        :return: numpy.array object Onen/n weights with (1 x N) dimensions.\n",
    "        \"\"\"\n",
    "        return_equal_weight = ModelParameters.wr_equally_weighted_matrix(time_observed=time_observed, n_cols=n_cols)[1]\n",
    "        weight_matrix = ModelParameters.zero_filled_vector(list_vector=[\"retEW\"], time_observed=time_observed)\n",
    "    \n",
    "        for y in range(start_month, end_month):\n",
    "            return_equal_weight[y - start_month] = np.dot(numpy_matrix[y,:] , 1/n_cols)\n",
    "            weight_matrix[y - start_month] = sum(return_equal_weight[y - start_month])\n",
    "            \n",
    "        print('Generating optimization parameters...\\n')\n",
    "        for y in range(start_month, end_month):\n",
    "            w_EW[:] = onen\n",
    "            r_ew[y - start_month] = np.dot(monthly_return[y,:] , 1/N)\n",
    "            retEW[y - start_month] = sum(r_ew[y-start_month])\n",
    "        %time\n",
    "        print('\\nDONE!')\n",
    "        \n",
    "        return return_equal_weight, weight_matrix"
   ]
  },
  {
   "cell_type": "markdown",
   "metadata": {},
   "source": [
    "### Lets define **size** and $N$ parameters for optimization model, that will be the same as total rows and total columns; respectively."
   ]
  },
  {
   "cell_type": "code",
   "execution_count": null,
   "metadata": {},
   "outputs": [],
   "source": [
    "size, N = ModelParameters.get_shape_matrix(numpy_matrix=monthly_return)"
   ]
  },
  {
   "cell_type": "markdown",
   "metadata": {},
   "source": [
    "### Now lets define:\n",
    "#### *Start month window: as the start of historical analysis for prediction.*\n",
    "#### *End month window: as the end of historical analysis for prediction.*\n",
    "#### *$T_1$: as the Timing 1 for prediction window (11 months).*\n",
    "#### *$T_2$: as the Timing 2 for window observations (931 unique dates).*\n",
    "\n",
    "**Note 1: Keep on-track with *size* variable, such that is the total count of historical portfolio data (943), and *$T_2$* as the total time to analyze (931), the mathematical difference between this two will be the time to predict (12 months).** "
   ]
  },
  {
   "cell_type": "code",
   "execution_count": null,
   "metadata": {},
   "outputs": [],
   "source": [
    "start_month, end_month, T1, T2 = ModelParameters.set_time_prediction(numpy_matrix=monthly_return)"
   ]
  },
  {
   "cell_type": "code",
   "execution_count": null,
   "metadata": {},
   "outputs": [],
   "source": [
    "# Note 1 ref.\n",
    "size-T2"
   ]
  },
  {
   "cell_type": "markdown",
   "metadata": {},
   "source": [
    "### Then, lets fill with zeros *(initialize)* **covariance matrix** with dimensions $(N x N)$, and **weight Risk Parity** matrix with $(T_2 x N)$.\n",
    "#### *$N$ = as Total columns from portfolio funds data (211).*\n",
    "#### *$T$ = as Tistorical yeilds from portfolio funds data (931).*"
   ]
  },
  {
   "cell_type": "code",
   "execution_count": null,
   "metadata": {},
   "outputs": [],
   "source": [
    "covmatr, w_RP = ModelParameters.create_zero_matrix(time_observed=T2, n_cols=N)"
   ]
  },
  {
   "cell_type": "code",
   "execution_count": null,
   "metadata": {},
   "outputs": [],
   "source": [
    "w_RP"
   ]
  },
  {
   "cell_type": "markdown",
   "metadata": {},
   "source": [
    "### Lets transpose **monthly returns** price difference matrix (yield to date) as *ret*. "
   ]
  },
  {
   "cell_type": "code",
   "execution_count": null,
   "metadata": {},
   "outputs": [],
   "source": [
    "ret = ModelParameters.matrix_transpose(numpy_matrix=monthly_return)"
   ]
  },
  {
   "cell_type": "markdown",
   "metadata": {},
   "source": [
    "### No lets initialize with zeros two matrices:\n",
    "#### 1-. **$W$** matrix for equally weighted inputs with $(T_2 x N)$ dimensions.\n",
    "#### 2-. **$R$** matrix for equally weighted inputs with $(T_2 x N)$ dinensions.\n",
    "\n",
    "**Note 2: One matrix *w_EW* will be the matrix with equal weights with dimensions $(T_2 x N)$, .** "
   ]
  },
  {
   "cell_type": "code",
   "execution_count": null,
   "metadata": {},
   "outputs": [],
   "source": [
    "ret = monthly_return.T\n",
    "w_EW = np.zeros((T2, N)) # no se usa\n",
    "onen = np.full((1, N), 1/N) # no se usa\n",
    "r_ew  = np .zeros((T2, N)) # \n",
    "r_rp = np.zeros((T2, 1))\n",
    "retEW = np.zeros((T2, 1)) # \n",
    "retRP = np.zeros((T2, 1))"
   ]
  },
  {
   "cell_type": "code",
   "execution_count": null,
   "metadata": {},
   "outputs": [],
   "source": [
    "w_EW, r_ew = ModelParameters.wr_equally_weighted_matrix(time_observed=T2, n_cols=N)"
   ]
  },
  {
   "cell_type": "code",
   "execution_count": null,
   "metadata": {},
   "outputs": [],
   "source": [
    "w_EW"
   ]
  },
  {
   "cell_type": "markdown",
   "metadata": {},
   "source": [
    "#### Lets define One/n matrix."
   ]
  },
  {
   "cell_type": "code",
   "execution_count": null,
   "metadata": {},
   "outputs": [],
   "source": [
    "# onen = ModelParameters.one_n_matrix(n_cols=N)"
   ]
  },
  {
   "cell_type": "markdown",
   "metadata": {},
   "source": [
    "#### Lets define vectors shape zero filled investment return by term as r_rp, total sum investment Return Equal Weighted as retEW, and investment Return Risk Parity."
   ]
  },
  {
   "cell_type": "code",
   "execution_count": null,
   "metadata": {},
   "outputs": [],
   "source": [
    "lst = [\n",
    "    \"r_rp\", \n",
    "    \"retRP\",\n",
    "]\n",
    "r_rp = ModelParameters.zero_filled_vector(lst, T2)[\"r_rp\"]\n",
    "retRP = ModelParameters.zero_filled_vector(lst, T2)[\"retRP\"]"
   ]
  },
  {
   "cell_type": "code",
   "execution_count": null,
   "metadata": {},
   "outputs": [],
   "source": [
    "print('Generating optimization parameters...\\n')\n",
    "ModelParameters.return_weights_matrices(numpy_matrix=monthly_return,\n",
    "                                        start_month=start_month,\n",
    "                                        end_month=end_month,\n",
    "                                        time_observed=T2,\n",
    "                                        n_cols=N)\n",
    "%time\n",
    "print('\\nDONE!')"
   ]
  },
  {
   "cell_type": "code",
   "execution_count": null,
   "metadata": {},
   "outputs": [],
   "source": []
  },
  {
   "cell_type": "code",
   "execution_count": null,
   "metadata": {},
   "outputs": [],
   "source": []
  },
  {
   "cell_type": "code",
   "execution_count": null,
   "metadata": {},
   "outputs": [],
   "source": []
  },
  {
   "cell_type": "code",
   "execution_count": null,
   "metadata": {},
   "outputs": [],
   "source": []
  },
  {
   "cell_type": "code",
   "execution_count": null,
   "metadata": {},
   "outputs": [],
   "source": []
  },
  {
   "cell_type": "code",
   "execution_count": null,
   "metadata": {},
   "outputs": [],
   "source": [
    "print('Generating Marginal Risk Contribution variables...\\n')\n",
    "for w in range(start_month, end_month):\n",
    "    covmatr = np.cov(ret[:,w-T1:w])    \n",
    "%time\n",
    "print('\\nDONE!')\n",
    "print('\\nvariance & covariance matrix:')\n",
    "print(covmatr)"
   ]
  },
  {
   "cell_type": "markdown",
   "metadata": {},
   "source": [
    "# Generator function for Risk Contribution variables\n",
    "- mrc aka: marginal risk contribution\n",
    "- rc aka: risk contribution"
   ]
  },
  {
   "cell_type": "code",
   "execution_count": null,
   "metadata": {},
   "outputs": [],
   "source": [
    "def RC(weight, covmatr):\n",
    "    weight = np.array(weight)\n",
    "    variance = weight.T @ covmatr @ weight\n",
    "    sigma = variance ** .5\n",
    "    mrc = 1/sigma * (covmatr @ weight)\n",
    "    rc = weight * mrc\n",
    "    rc = rc/rc.sum()\n",
    "    return rc"
   ]
  },
  {
   "cell_type": "markdown",
   "metadata": {},
   "source": [
    "# Generator function for RiskParity objective variables"
   ]
  },
  {
   "cell_type": "code",
   "execution_count": null,
   "metadata": {},
   "outputs": [],
   "source": [
    "def RiskParity_objective(x):\n",
    "    variance = x.T @ covmatr @ x\n",
    "    sigma = variance ** .5\n",
    "    mrc = 1/sigma * (covmatr @ x)\n",
    "    rc = x * mrc\n",
    "    a = np.reshape(rc, (len(rc),1))\n",
    "    risk_diffs = a - a.T\n",
    "    sum_risk_diffs_squared = np.sum(np.square(np.ravel(risk_diffs)))\n",
    "    return sum_risk_diffs_squared"
   ]
  },
  {
   "cell_type": "markdown",
   "metadata": {},
   "source": [
    "# Generator function for Maximum diversification ratio objective variables"
   ]
  },
  {
   "cell_type": "code",
   "execution_count": null,
   "metadata": {},
   "outputs": [],
   "source": [
    "def Max_div_objective(x):\n",
    "    variance = x.T @ covmatr @ x\n",
    "    sigma = variance ** .5\n",
    "    w_vol = np.dot(np.sqrt(np.diag(covmatr)), x.T)\n",
    "    diver_ratio = w_vol/sigma\n",
    "    return -diver_ratio"
   ]
  },
  {
   "cell_type": "code",
   "execution_count": null,
   "metadata": {},
   "outputs": [],
   "source": [
    "def weight_sum_constraint(x):\n",
    "    return np.sum(x) - 1.0\n",
    "        \n",
    "def weight_longonly(x):\n",
    "    return x"
   ]
  },
  {
   "cell_type": "markdown",
   "metadata": {},
   "source": [
    "# Function object for instance on Minimization scipy function"
   ]
  },
  {
   "cell_type": "code",
   "execution_count": null,
   "metadata": {},
   "outputs": [],
   "source": [
    "def RiskParity(covmatr):\n",
    "    x0 = np.repeat(1/covmatr.shape[1], covmatr.shape[1])\n",
    "    constraints = ({'type': 'eq', 'fun': weight_sum_constraint},\n",
    "                   {'type': 'ineq', 'fun' : weight_longonly})\n",
    "    options = {'ftol' : 1e-20, 'maxiter': 999}\n",
    "    result = minimize(fun = RiskParity_objective,\n",
    "                      x0 = x0,\n",
    "                      constraints = constraints,\n",
    "                      options = options)\n",
    "    return result.x"
   ]
  },
  {
   "cell_type": "code",
   "execution_count": null,
   "metadata": {},
   "outputs": [],
   "source": [
    "print('Generating optimized return matrices...')\n",
    "for w in range(start_month, end_month):\n",
    "    w_RP[w - start_month] = RiskParity(covmatr)\n",
    "    r_rp[w - start_month] = np.dot(monthly_return[w,:], w_RP[w - start_month,:])\n",
    "    retRP[w - start_month] = sum(r_rp[w - start_month])\n",
    "%time\n",
    "print('\\nDONE!')\n",
    "print('\\nw_RP matrix:')\n",
    "print(w_RP)\n",
    "print('\\nretRP matrix:')\n",
    "print(retRP)"
   ]
  },
  {
   "cell_type": "markdown",
   "metadata": {},
   "source": [
    "### The x axis will be the month, the y axis will be the asset (fund), and z will be the active weight of the portfolio."
   ]
  },
  {
   "cell_type": "code",
   "execution_count": null,
   "metadata": {},
   "outputs": [],
   "source": [
    "mx = np.amax(w_RP)\n",
    "mn = np.amin(w_RP)\n",
    "\n",
    "fig = plt.figure()\n",
    "ax = fig.gca(projection = '3d')\n",
    "\n",
    "X = np.arange (0, T2, 1)\n",
    "Y = np.arange( 0, N, 1)\n",
    "X, Y = np.meshgrid(X, Y)\n",
    "Z = np.transpose(w_RP)\n",
    "\n",
    "surf = ax.plot_surface(X, Y, Z, cmap = cm.Reds_r, linewidth = 0)\n",
    "\n",
    "ax.set_zlim(mn-.02, mx+.05)\n",
    "plt.show()"
   ]
  }
 ],
 "metadata": {
  "kernelspec": {
   "display_name": "Python 3",
   "language": "python",
   "name": "python3"
  },
  "language_info": {
   "codemirror_mode": {
    "name": "ipython",
    "version": 3
   },
   "file_extension": ".py",
   "mimetype": "text/x-python",
   "name": "python",
   "nbconvert_exporter": "python",
   "pygments_lexer": "ipython3",
   "version": "3.6.9"
  }
 },
 "nbformat": 4,
 "nbformat_minor": 2
}
