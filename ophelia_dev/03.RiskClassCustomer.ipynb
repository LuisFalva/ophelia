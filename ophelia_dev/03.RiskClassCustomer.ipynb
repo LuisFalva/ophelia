{
 "cells": [
  {
   "cell_type": "code",
   "execution_count": 1,
   "metadata": {},
   "outputs": [
    {
     "data": {
      "text/html": [
       "<style>\n",
       ".output_subarea.output_text.output_stream.output_stdout > pre {\n",
       "    width:max-content;\n",
       "}\n",
       ".p-Widget.jp-RenderedText.jp-OutputArea-output > pre {\n",
       "   width:max-content;\n",
       "}\n",
       "</style>\n"
      ],
      "text/plain": [
       "<IPython.core.display.HTML object>"
      ]
     },
     "metadata": {},
     "output_type": "display_data"
    }
   ],
   "source": [
    "%%html\n",
    "<style>\n",
    ".output_subarea.output_text.output_stream.output_stdout > pre {\n",
    "    width:max-content;\n",
    "}\n",
    ".p-Widget.jp-RenderedText.jp-OutputArea-output > pre {\n",
    "   width:max-content;\n",
    "}\n",
    "</style>"
   ]
  },
  {
   "cell_type": "code",
   "execution_count": 2,
   "metadata": {},
   "outputs": [],
   "source": [
    "import sys\n",
    "import os\n",
    "import operator\n",
    "\n",
    "from pyspark.sql import Row\n",
    "from pyspark.sql.functions import udf, when, rand, struct, col, lit, current_date, current_timestamp, monotonically_increasing_id\n",
    "from pyspark.sql.types import StringType, IntegerType, StructField, StructType, DoubleType, ArrayType, FloatType"
   ]
  },
  {
   "cell_type": "code",
   "execution_count": 3,
   "metadata": {},
   "outputs": [],
   "source": [
    "import visualize\n",
    "from ophelia.ophelib.OpheliaMain import Ophelia"
   ]
  },
  {
   "cell_type": "code",
   "execution_count": null,
   "metadata": {},
   "outputs": [],
   "source": [
    "module_path = os.path.abspath(os.path.join('..'))"
   ]
  },
  {
   "cell_type": "code",
   "execution_count": 5,
   "metadata": {},
   "outputs": [
    {
     "name": "stdout",
     "output_type": "stream",
     "text": [
      "\n",
      "===================================================================================================\n",
      "22:04:06.037 Ophelia [INFO] My name is Ophelia Vendata\n",
      "22:04:06.037 Ophelia [INFO] I am an artificial assistant for data mining & ML engine with spark\n",
      "22:04:06.037 Ophelia [INFO] Welcome to Ophelia spark miner engine\n",
      "22:04:06.037 Ophelia [INFO] Lib Version Ophelia.dev1.0\n",
      "22:04:06.037 Ophelia [WARN] V for Vendata...\n",
      "===================================================================================================\n",
      "\n",
      "22:04:06.037 Ophelia [WARN] Initializing Spark Session\n",
      "22:04:06.040 Ophelia [INFO] Spark Version: 3.0.0\n",
      "22:04:06.040 Ophelia [INFO] This Is: 'Risk Classification' App\n",
      "22:04:06.040 Ophelia [INFO] Spark Context Initialized Success\n"
     ]
    }
   ],
   "source": [
    "ophelia = Ophelia(\"Risk Classification\")\n",
    "sc = ophelia.Spark.build_spark_context()\n",
    "#sc.addFile(module_path+\"/enquire/\", recursive = True)"
   ]
  },
  {
   "cell_type": "code",
   "execution_count": 9,
   "metadata": {},
   "outputs": [
    {
     "name": "stdout",
     "output_type": "stream",
     "text": [
      "root\n",
      " |-- age: integer (nullable = true)\n",
      " |-- job: string (nullable = true)\n",
      " |-- marital: string (nullable = true)\n",
      " |-- education: string (nullable = true)\n",
      " |-- default: string (nullable = true)\n",
      " |-- balance: integer (nullable = true)\n",
      " |-- housing: string (nullable = true)\n",
      " |-- loan: string (nullable = true)\n",
      " |-- contact: string (nullable = true)\n",
      " |-- day: integer (nullable = true)\n",
      " |-- month: string (nullable = true)\n",
      " |-- duration: integer (nullable = true)\n",
      " |-- campaign: integer (nullable = true)\n",
      " |-- pdays: integer (nullable = true)\n",
      " |-- previous: integer (nullable = true)\n",
      " |-- poutcome: string (nullable = true)\n",
      " |-- deposit: string (nullable = true)\n",
      "\n",
      "+---+----------+-------+---------+-------+-------+-------+----+-------+---+-----+--------+--------+-----+--------+--------+-------+\n",
      "|age|job       |marital|education|default|balance|housing|loan|contact|day|month|duration|campaign|pdays|previous|poutcome|deposit|\n",
      "+---+----------+-------+---------+-------+-------+-------+----+-------+---+-----+--------+--------+-----+--------+--------+-------+\n",
      "|59 |admin.    |married|secondary|no     |2343   |yes    |no  |unknown|5  |may  |1042    |1       |-1   |0       |unknown |yes    |\n",
      "|56 |admin.    |married|secondary|no     |45     |no     |no  |unknown|5  |may  |1467    |1       |-1   |0       |unknown |yes    |\n",
      "|41 |technician|married|secondary|no     |1270   |yes    |no  |unknown|5  |may  |1389    |1       |-1   |0       |unknown |yes    |\n",
      "|55 |services  |married|secondary|no     |2476   |yes    |no  |unknown|5  |may  |579     |1       |-1   |0       |unknown |yes    |\n",
      "|54 |admin.    |married|tertiary |no     |184    |no     |no  |unknown|5  |may  |673     |2       |-1   |0       |unknown |yes    |\n",
      "+---+----------+-------+---------+-------+-------+-------+----+-------+---+-----+--------+--------+-----+--------+--------+-------+\n",
      "only showing top 5 rows\n",
      "\n"
     ]
    }
   ],
   "source": [
    "spark = ophelia.SparkSession\n",
    "path = \"data/raw/csv/bank.csv\"\n",
    "customer_data = spark.read.csv(path, header=True, inferSchema=True)\n",
    "customer_data.printSchema()\n",
    "customer_data.show(5, False)"
   ]
  },
  {
   "cell_type": "code",
   "execution_count": 10,
   "metadata": {},
   "outputs": [
    {
     "ename": "AnalysisException",
     "evalue": "cannot resolve '`gender`' given input columns: [age, balance, campaign, contact, day, default, deposit, duration, education, housing, job, loan, marital, month, pdays, poutcome, previous];;\n'Project [cast(age#288 as int) AS age#408, cast(job#289 as string) AS job#409, cast(marital#290 as string) AS marital#410, cast(education#291 as string) AS education#411, cast('gender as string) AS gender#412, cast('child as float) AS child#413, cast('saving as float) AS saving#414, cast('insight as float) AS insight#415, cast('backup as float) AS backup#416, struct(age, cast(age#288 as int), job, cast(job#289 as string), marital, cast(marital#290 as string), education, cast(education#291 as string), NamePlaceholder, cast('gender as string), NamePlaceholder, cast('child as float), NamePlaceholder, cast('saving as float), NamePlaceholder, cast('insight as float), NamePlaceholder, cast('backup as float)) AS struct_assembler#417]\n+- Relation[age#288,job#289,marital#290,education#291,default#292,balance#293,housing#294,loan#295,contact#296,day#297,month#298,duration#299,campaign#300,pdays#301,previous#302,poutcome#303,deposit#304] csv\n",
     "output_type": "error",
     "traceback": [
      "\u001b[0;31m---------------------------------------------------------------------------\u001b[0m",
      "\u001b[0;31mAnalysisException\u001b[0m                         Traceback (most recent call last)",
      "\u001b[0;32m<ipython-input-10-caac13fbfcbc>\u001b[0m in \u001b[0;36m<module>\u001b[0;34m\u001b[0m\n\u001b[1;32m     11\u001b[0m ]\n\u001b[1;32m     12\u001b[0m \u001b[0;34m\u001b[0m\u001b[0m\n\u001b[0;32m---> 13\u001b[0;31m \u001b[0mstruct_assembler\u001b[0m \u001b[0;34m=\u001b[0m \u001b[0mcustomer_data\u001b[0m\u001b[0;34m.\u001b[0m\u001b[0mselect\u001b[0m\u001b[0;34m(\u001b[0m\u001b[0;34m*\u001b[0m\u001b[0mcolumn_selection\u001b[0m\u001b[0;34m,\u001b[0m \u001b[0mstruct\u001b[0m\u001b[0;34m(\u001b[0m\u001b[0mcolumn_selection\u001b[0m\u001b[0;34m)\u001b[0m\u001b[0;34m.\u001b[0m\u001b[0malias\u001b[0m\u001b[0;34m(\u001b[0m\u001b[0;34m\"struct_assembler\"\u001b[0m\u001b[0;34m)\u001b[0m\u001b[0;34m)\u001b[0m\u001b[0;34m\u001b[0m\u001b[0;34m\u001b[0m\u001b[0m\n\u001b[0m\u001b[1;32m     14\u001b[0m \u001b[0mstruct_assembler\u001b[0m\u001b[0;34m.\u001b[0m\u001b[0mshow\u001b[0m\u001b[0;34m(\u001b[0m\u001b[0;36m5\u001b[0m\u001b[0;34m,\u001b[0m \u001b[0;32mFalse\u001b[0m\u001b[0;34m)\u001b[0m\u001b[0;34m\u001b[0m\u001b[0;34m\u001b[0m\u001b[0m\n\u001b[1;32m     15\u001b[0m \u001b[0mstruct_assembler\u001b[0m\u001b[0;34m.\u001b[0m\u001b[0mprintSchema\u001b[0m\u001b[0;34m(\u001b[0m\u001b[0;34m)\u001b[0m\u001b[0;34m\u001b[0m\u001b[0;34m\u001b[0m\u001b[0m\n",
      "\u001b[0;32m~/opt/anaconda3/envs/ophelia/lib/python3.8/site-packages/pyspark/sql/dataframe.py\u001b[0m in \u001b[0;36mselect\u001b[0;34m(self, *cols)\u001b[0m\n\u001b[1;32m   1419\u001b[0m         \u001b[0;34m[\u001b[0m\u001b[0mRow\u001b[0m\u001b[0;34m(\u001b[0m\u001b[0mname\u001b[0m\u001b[0;34m=\u001b[0m\u001b[0;34mu'Alice'\u001b[0m\u001b[0;34m,\u001b[0m \u001b[0mage\u001b[0m\u001b[0;34m=\u001b[0m\u001b[0;36m12\u001b[0m\u001b[0;34m)\u001b[0m\u001b[0;34m,\u001b[0m \u001b[0mRow\u001b[0m\u001b[0;34m(\u001b[0m\u001b[0mname\u001b[0m\u001b[0;34m=\u001b[0m\u001b[0;34mu'Bob'\u001b[0m\u001b[0;34m,\u001b[0m \u001b[0mage\u001b[0m\u001b[0;34m=\u001b[0m\u001b[0;36m15\u001b[0m\u001b[0;34m)\u001b[0m\u001b[0;34m]\u001b[0m\u001b[0;34m\u001b[0m\u001b[0;34m\u001b[0m\u001b[0m\n\u001b[1;32m   1420\u001b[0m         \"\"\"\n\u001b[0;32m-> 1421\u001b[0;31m         \u001b[0mjdf\u001b[0m \u001b[0;34m=\u001b[0m \u001b[0mself\u001b[0m\u001b[0;34m.\u001b[0m\u001b[0m_jdf\u001b[0m\u001b[0;34m.\u001b[0m\u001b[0mselect\u001b[0m\u001b[0;34m(\u001b[0m\u001b[0mself\u001b[0m\u001b[0;34m.\u001b[0m\u001b[0m_jcols\u001b[0m\u001b[0;34m(\u001b[0m\u001b[0;34m*\u001b[0m\u001b[0mcols\u001b[0m\u001b[0;34m)\u001b[0m\u001b[0;34m)\u001b[0m\u001b[0;34m\u001b[0m\u001b[0;34m\u001b[0m\u001b[0m\n\u001b[0m\u001b[1;32m   1422\u001b[0m         \u001b[0;32mreturn\u001b[0m \u001b[0mDataFrame\u001b[0m\u001b[0;34m(\u001b[0m\u001b[0mjdf\u001b[0m\u001b[0;34m,\u001b[0m \u001b[0mself\u001b[0m\u001b[0;34m.\u001b[0m\u001b[0msql_ctx\u001b[0m\u001b[0;34m)\u001b[0m\u001b[0;34m\u001b[0m\u001b[0;34m\u001b[0m\u001b[0m\n\u001b[1;32m   1423\u001b[0m \u001b[0;34m\u001b[0m\u001b[0m\n",
      "\u001b[0;32m~/opt/anaconda3/envs/ophelia/lib/python3.8/site-packages/py4j/java_gateway.py\u001b[0m in \u001b[0;36m__call__\u001b[0;34m(self, *args)\u001b[0m\n\u001b[1;32m   1302\u001b[0m \u001b[0;34m\u001b[0m\u001b[0m\n\u001b[1;32m   1303\u001b[0m         \u001b[0manswer\u001b[0m \u001b[0;34m=\u001b[0m \u001b[0mself\u001b[0m\u001b[0;34m.\u001b[0m\u001b[0mgateway_client\u001b[0m\u001b[0;34m.\u001b[0m\u001b[0msend_command\u001b[0m\u001b[0;34m(\u001b[0m\u001b[0mcommand\u001b[0m\u001b[0;34m)\u001b[0m\u001b[0;34m\u001b[0m\u001b[0;34m\u001b[0m\u001b[0m\n\u001b[0;32m-> 1304\u001b[0;31m         return_value = get_return_value(\n\u001b[0m\u001b[1;32m   1305\u001b[0m             answer, self.gateway_client, self.target_id, self.name)\n\u001b[1;32m   1306\u001b[0m \u001b[0;34m\u001b[0m\u001b[0m\n",
      "\u001b[0;32m~/opt/anaconda3/envs/ophelia/lib/python3.8/site-packages/pyspark/sql/utils.py\u001b[0m in \u001b[0;36mdeco\u001b[0;34m(*a, **kw)\u001b[0m\n\u001b[1;32m    135\u001b[0m                 \u001b[0;31m# Hide where the exception came from that shows a non-Pythonic\u001b[0m\u001b[0;34m\u001b[0m\u001b[0;34m\u001b[0m\u001b[0;34m\u001b[0m\u001b[0m\n\u001b[1;32m    136\u001b[0m                 \u001b[0;31m# JVM exception message.\u001b[0m\u001b[0;34m\u001b[0m\u001b[0;34m\u001b[0m\u001b[0;34m\u001b[0m\u001b[0m\n\u001b[0;32m--> 137\u001b[0;31m                 \u001b[0mraise_from\u001b[0m\u001b[0;34m(\u001b[0m\u001b[0mconverted\u001b[0m\u001b[0;34m)\u001b[0m\u001b[0;34m\u001b[0m\u001b[0;34m\u001b[0m\u001b[0m\n\u001b[0m\u001b[1;32m    138\u001b[0m             \u001b[0;32melse\u001b[0m\u001b[0;34m:\u001b[0m\u001b[0;34m\u001b[0m\u001b[0;34m\u001b[0m\u001b[0m\n\u001b[1;32m    139\u001b[0m                 \u001b[0;32mraise\u001b[0m\u001b[0;34m\u001b[0m\u001b[0;34m\u001b[0m\u001b[0m\n",
      "\u001b[0;32m~/opt/anaconda3/envs/ophelia/lib/python3.8/site-packages/pyspark/sql/utils.py\u001b[0m in \u001b[0;36mraise_from\u001b[0;34m(e)\u001b[0m\n",
      "\u001b[0;31mAnalysisException\u001b[0m: cannot resolve '`gender`' given input columns: [age, balance, campaign, contact, day, default, deposit, duration, education, housing, job, loan, marital, month, pdays, poutcome, previous];;\n'Project [cast(age#288 as int) AS age#408, cast(job#289 as string) AS job#409, cast(marital#290 as string) AS marital#410, cast(education#291 as string) AS education#411, cast('gender as string) AS gender#412, cast('child as float) AS child#413, cast('saving as float) AS saving#414, cast('insight as float) AS insight#415, cast('backup as float) AS backup#416, struct(age, cast(age#288 as int), job, cast(job#289 as string), marital, cast(marital#290 as string), education, cast(education#291 as string), NamePlaceholder, cast('gender as string), NamePlaceholder, cast('child as float), NamePlaceholder, cast('saving as float), NamePlaceholder, cast('insight as float), NamePlaceholder, cast('backup as float)) AS struct_assembler#417]\n+- Relation[age#288,job#289,marital#290,education#291,default#292,balance#293,housing#294,loan#295,contact#296,day#297,month#298,duration#299,campaign#300,pdays#301,previous#302,poutcome#303,deposit#304] csv\n"
     ]
    }
   ],
   "source": [
    "column_selection = [\n",
    "    col('age').cast('int').alias('age'),\n",
    "    col('job').cast('string').alias('job'),\n",
    "    col('marital').cast('string').alias('marital'),\n",
    "    col('education').cast('string').alias('education'),\n",
    "    col('gender').cast('string').alias('gender'),\n",
    "    col('child').cast('float').alias('child'),\n",
    "    col('saving').cast('float').alias('saving'),\n",
    "    col('insight').cast('float').alias('insight'),\n",
    "    col('backup').cast('float').alias('backup')\n",
    "]\n",
    "\n",
    "struct_assembler = customer_data.select(*column_selection, struct(column_selection).alias(\"struct_assembler\"))\n",
    "struct_assembler.show(5, False)\n",
    "struct_assembler.printSchema()"
   ]
  },
  {
   "cell_type": "code",
   "execution_count": null,
   "metadata": {},
   "outputs": [],
   "source": [
    "def build_tree_classifier():\n",
    "    schema_tree = ArrayType(StructType([\n",
    "        StructField(\"vote\", FloatType(), False),\n",
    "        StructField(\"weight\", FloatType(), False),\n",
    "        StructField(\"risk_label\", StringType(), False)\n",
    "    ]))\n",
    "    return udf(ophelia.opClassify.tree_generator, schema_tree)\n",
    "\n",
    "def build_risk_class():\n",
    "    return udf(ophelia.opClassify.run_classification_risk, StringType())"
   ]
  },
  {
   "cell_type": "code",
   "execution_count": null,
   "metadata": {},
   "outputs": [],
   "source": [
    "tree_model_udf = build_tree_classifier()\n",
    "risk_class_udf = build_risk_class()"
   ]
  },
  {
   "cell_type": "code",
   "execution_count": null,
   "metadata": {},
   "outputs": [],
   "source": [
    "tree_model_df = struct_assembler.select(\"*\", tree_model_udf(col(\"struct_assembler\")).alias(\"tree\")).cache()\n",
    "tree_model_df.show(5, False)\n",
    "tree_model_df.printSchema()"
   ]
  },
  {
   "cell_type": "code",
   "execution_count": null,
   "metadata": {},
   "outputs": [],
   "source": [
    "risk_class_df = tree_model_df.select(risk_class_udf(col(\"tree\")).alias(\"risk_label\"),\n",
    "                                     *column_selection, current_date().alias(\"information_date\"),\n",
    "                                     current_timestamp().alias(\"model_date\"))\n",
    "\n",
    "risk_class_df.groupBy(\"risk_label\").count().show(10, False)\n",
    "risk_class_df.show(10, False)\n",
    "risk_class_df.printSchema()"
   ]
  },
  {
   "cell_type": "code",
   "execution_count": null,
   "metadata": {},
   "outputs": [],
   "source": [
    "columns_risk = risk_class_df.columns\n",
    "when_conditions = (\n",
    "    when(col(\"risk_label\") == \"A\", lit(5.0)).otherwise(\n",
    "        when(col(\"risk_label\") == \"MA\", lit(4.0)).otherwise(\n",
    "            when(col(\"risk_label\") == \"M\", lit(3.0)).otherwise(\n",
    "                when(col(\"risk_label\") == \"MC\", lit(2.0)).otherwise(\n",
    "                    when(col(\"risk_label\") == \"C\", lit(1.0))))))\n",
    ")\n",
    "mapped_risk_label = risk_class_df.select((monotonically_increasing_id() + 100000000).alias(\"customer_id\"), \n",
    "                                         when_conditions.alias(\"risk_label_id\"), *columns_risk)\n",
    "mapped_risk_label.groupBy('risk_label_id', 'risk_label').count().orderBy('risk_label_id').show()\n",
    "mapped_risk_label.show(5, False)"
   ]
  },
  {
   "cell_type": "code",
   "execution_count": null,
   "metadata": {},
   "outputs": [],
   "source": [
    "riskClassPath = ophelia.opWrite.write_parquet(\n",
    "    df=mapped_risk_label,\n",
    "    output_type=\"model\",\n",
    "    project=\"RiskClassifier\",\n",
    "    part=\"information_date\"\n",
    ")"
   ]
  }
 ],
 "metadata": {
  "kernelspec": {
   "display_name": "ophelia",
   "language": "python",
   "name": "ophelia"
  },
  "language_info": {
   "codemirror_mode": {
    "name": "ipython",
    "version": 3
   },
   "file_extension": ".py",
   "mimetype": "text/x-python",
   "name": "python",
   "nbconvert_exporter": "python",
   "pygments_lexer": "ipython3",
   "version": "3.8.0"
  }
 },
 "nbformat": 4,
 "nbformat_minor": 4
}
