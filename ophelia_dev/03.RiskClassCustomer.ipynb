{
 "cells": [
  {
   "cell_type": "code",
   "execution_count": null,
   "metadata": {},
   "outputs": [],
   "source": [
    "%%html\n",
    "<style>\n",
    ".output_subarea.output_text.output_stream.output_stdout > pre {\n",
    "    width:max-content;\n",
    "}\n",
    ".p-Widget.jp-RenderedText.jp-OutputArea-output > pre {\n",
    "   width:max-content;\n",
    "}\n",
    "</style>"
   ]
  },
  {
   "cell_type": "code",
   "execution_count": null,
   "metadata": {},
   "outputs": [],
   "source": [
    "import sys\n",
    "import os\n",
    "import operator\n",
    "\n",
    "from pyspark.sql import Row\n",
    "from pyspark.sql.functions import udf, when, rand, struct, col, lit, current_date, current_timestamp, monotonically_increasing_id\n",
    "from pyspark.sql.types import StringType, IntegerType, StructField, StructType, DoubleType, ArrayType, FloatType"
   ]
  },
  {
   "cell_type": "code",
   "execution_count": null,
   "metadata": {},
   "outputs": [],
   "source": [
    "import visualize\n",
    "from ophelia.ophelib.OpheliaMain import Ophelia"
   ]
  },
  {
   "cell_type": "code",
   "execution_count": null,
   "metadata": {},
   "outputs": [],
   "source": [
    "module_path = os.path.abspath(os.path.join('..'))"
   ]
  },
  {
   "cell_type": "code",
   "execution_count": null,
   "metadata": {},
   "outputs": [],
   "source": [
    "ophelia = Ophelia(\"Risk Classification\")\n",
    "sc = ophelia.Spark.build_spark_context()\n",
    "#sc.addFile(module_path+\"/enquire/\", recursive = True)"
   ]
  },
  {
   "cell_type": "code",
   "execution_count": null,
   "metadata": {},
   "outputs": [],
   "source": [
    "spark = ophelia.SparkSession\n",
    "path = \"data/raw/csv/bank.csv\"\n",
    "customer_data = spark.read.csv(path, header=True, inferSchema=True)\n",
    "customer_data.printSchema()\n",
    "customer_data.show(5, False)"
   ]
  },
  {
   "cell_type": "code",
   "execution_count": null,
   "metadata": {},
   "outputs": [],
   "source": [
    "column_selection = [\n",
    "    col('age').cast('int').alias('age'),\n",
    "    col('job').cast('string').alias('job'),\n",
    "    col('marital').cast('string').alias('marital'),\n",
    "    col('education').cast('string').alias('education'),\n",
    "    col('gender').cast('string').alias('gender'),\n",
    "    col('child').cast('float').alias('child'),\n",
    "    col('saving').cast('float').alias('saving'),\n",
    "    col('insight').cast('float').alias('insight'),\n",
    "    col('backup').cast('float').alias('backup')\n",
    "]\n",
    "\n",
    "struct_assembler = customer_data.select(*column_selection, struct(column_selection).alias(\"struct_assembler\"))\n",
    "struct_assembler.show(5, False)\n",
    "struct_assembler.printSchema()"
   ]
  },
  {
   "cell_type": "code",
   "execution_count": null,
   "metadata": {},
   "outputs": [],
   "source": [
    "def build_tree_classifier():\n",
    "    schema_tree = ArrayType(StructType([\n",
    "        StructField(\"vote\", FloatType(), False),\n",
    "        StructField(\"weight\", FloatType(), False),\n",
    "        StructField(\"risk_label\", StringType(), False)\n",
    "    ]))\n",
    "    return udf(ophelia.opClassify.tree_generator, schema_tree)\n",
    "\n",
    "def build_risk_class():\n",
    "    return udf(ophelia.opClassify.run_classification_risk, StringType())"
   ]
  },
  {
   "cell_type": "code",
   "execution_count": null,
   "metadata": {},
   "outputs": [],
   "source": [
    "tree_model_udf = build_tree_classifier()\n",
    "risk_class_udf = build_risk_class()"
   ]
  },
  {
   "cell_type": "code",
   "execution_count": null,
   "metadata": {},
   "outputs": [],
   "source": [
    "tree_model_df = struct_assembler.select(\"*\", tree_model_udf(col(\"struct_assembler\")).alias(\"tree\")).cache()\n",
    "tree_model_df.show(5, False)\n",
    "tree_model_df.printSchema()"
   ]
  },
  {
   "cell_type": "code",
   "execution_count": null,
   "metadata": {},
   "outputs": [],
   "source": [
    "risk_class_df = tree_model_df.select(risk_class_udf(col(\"tree\")).alias(\"risk_label\"),\n",
    "                                     *column_selection, current_date().alias(\"information_date\"),\n",
    "                                     current_timestamp().alias(\"model_date\"))\n",
    "\n",
    "risk_class_df.groupBy(\"risk_label\").count().show(10, False)\n",
    "risk_class_df.show(10, False)\n",
    "risk_class_df.printSchema()"
   ]
  },
  {
   "cell_type": "code",
   "execution_count": null,
   "metadata": {},
   "outputs": [],
   "source": [
    "columns_risk = risk_class_df.columns\n",
    "when_conditions = (\n",
    "    when(col(\"risk_label\") == \"A\", lit(5.0)).otherwise(\n",
    "        when(col(\"risk_label\") == \"MA\", lit(4.0)).otherwise(\n",
    "            when(col(\"risk_label\") == \"M\", lit(3.0)).otherwise(\n",
    "                when(col(\"risk_label\") == \"MC\", lit(2.0)).otherwise(\n",
    "                    when(col(\"risk_label\") == \"C\", lit(1.0))))))\n",
    ")\n",
    "mapped_risk_label = risk_class_df.select((monotonically_increasing_id() + 100000000).alias(\"customer_id\"), \n",
    "                                         when_conditions.alias(\"risk_label_id\"), *columns_risk)\n",
    "mapped_risk_label.groupBy('risk_label_id', 'risk_label').count().orderBy('risk_label_id').show()\n",
    "mapped_risk_label.show(5, False)"
   ]
  },
  {
   "cell_type": "code",
   "execution_count": null,
   "metadata": {},
   "outputs": [],
   "source": [
    "riskClassPath = ophelia.opWrite.write_parquet(\n",
    "    df=mapped_risk_label,\n",
    "    output_type=\"model\",\n",
    "    project=\"RiskClassifier\",\n",
    "    part=\"information_date\"\n",
    ")"
   ]
  }
 ],
 "metadata": {
  "kernelspec": {
   "display_name": "ophelia",
   "language": "python",
   "name": "ophelia"
  },
  "language_info": {
   "codemirror_mode": {
    "name": "ipython",
    "version": 3
   },
   "file_extension": ".py",
   "mimetype": "text/x-python",
   "name": "python",
   "nbconvert_exporter": "python",
   "pygments_lexer": "ipython3",
   "version": "3.8.0"
  }
 },
 "nbformat": 4,
 "nbformat_minor": 4
}
