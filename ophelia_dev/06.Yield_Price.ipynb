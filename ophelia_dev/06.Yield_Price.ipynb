{
 "cells": [
  {
   "cell_type": "code",
   "execution_count": null,
   "metadata": {},
   "outputs": [],
   "source": [
    "%%html\n",
    "<style>\n",
    ".output_subarea.output_text.output_stream.output_stdout > pre {\n",
    "    width:max-content;\n",
    "}\n",
    ".p-Widget.jp-RenderedText.jp-OutputArea-output > pre {\n",
    "   width:max-content;\n",
    "}\n",
    "</style>"
   ]
  },
  {
   "cell_type": "code",
   "execution_count": null,
   "metadata": {},
   "outputs": [],
   "source": [
    "import pandas as pd\n",
    "import matplotlib\n",
    "\n",
    "from pyspark.sql.functions import col, count as spark_count, avg as spark_avg\n",
    "\n",
    "%matplotlib inline\n",
    "pd.set_option('display.max_columns', 10000000)\n",
    "pd.set_option('display.max_rows', 10000000)\n",
    "pd.set_option('display.width', 10000000)\n",
    "matplotlib.style.use('ggplot')"
   ]
  },
  {
   "cell_type": "markdown",
   "metadata": {},
   "source": [
    "------------------------------------------------------------------------------------------------------------------------------------------------------------------"
   ]
  },
  {
   "cell_type": "markdown",
   "metadata": {},
   "source": [
    "# Iniciamos Sesión con Ophelia"
   ]
  },
  {
   "cell_type": "code",
   "execution_count": null,
   "metadata": {},
   "outputs": [],
   "source": [
    "from enquire.vendetta import Ophelia"
   ]
  },
  {
   "cell_type": "code",
   "execution_count": null,
   "metadata": {},
   "outputs": [],
   "source": [
    "ophelia = Ophelia()"
   ]
  },
  {
   "cell_type": "markdown",
   "metadata": {},
   "source": [
    "# Loading CSV daily price Funds file."
   ]
  },
  {
   "cell_type": "code",
   "execution_count": null,
   "metadata": {},
   "outputs": [],
   "source": [
    "def read_portfolio_data(path_file, source, date_col, withSchema=True):\n",
    "    spark = ophelia.spk\n",
    "    portfolio_path_file = path_file\n",
    "    portfolio_data = ophelia.tr.read_file(path_file, source, spark)\n",
    "    if withSchema is True:\n",
    "        return ophelia.tr.schema_define(portfolio_data, date_col)\n",
    "    return portfolio_data"
   ]
  },
  {
   "cell_type": "markdown",
   "metadata": {},
   "source": [
    "## Change impure schema portfolio input data."
   ]
  },
  {
   "cell_type": "code",
   "execution_count": null,
   "metadata": {},
   "outputs": [],
   "source": [
    "portfolio_df = read_portfolio_data(\n",
    "    path_file=\"data/master/ophelia/data/OpheliaData/analytical_base_table/\",\n",
    "    source=\"parquet\",\n",
    "    date_col=\"operation_date\",\n",
    "    withSchema=False\n",
    ")\n",
    "\n",
    "portfolio_df.limit(5).toPandas()"
   ]
  },
  {
   "cell_type": "code",
   "execution_count": null,
   "metadata": {},
   "outputs": [],
   "source": [
    "def join_price_lag(df, on=\"row_num\", how=\"left\"):\n",
    "    portfolio_indexed = ophelia.df.row_index(df, \"operation_date\")\n",
    "    lag_portfolio_df = ophelia.df.lag_min_max_data(df)\n",
    "    lag_portfolio_indexed =ophelia.df.row_index(lag_portfolio_df, \"operation_date_lag\")\n",
    "    join_indexed = portfolio_indexed.join(lag_portfolio_indexed, on=on, how=how)\n",
    "    return join_indexed"
   ]
  },
  {
   "cell_type": "code",
   "execution_count": null,
   "metadata": {},
   "outputs": [],
   "source": [
    "join_price_lag = join_price_lag(portfolio_df)\n",
    "join_price_lag.limit(5).toPandas()"
   ]
  },
  {
   "cell_type": "code",
   "execution_count": null,
   "metadata": {},
   "outputs": [],
   "source": [
    "def price_yield(df, fix_cols):\n",
    "    float_cols = ophelia.arr.feature_picking(portfolio_df)[\"float\"]\n",
    "    formula_yield = [((col(c) / col(\"{0}_lag\".format(c)) - 1)).alias(\"{0}_yield\".format(c)) for c in float_cols]\n",
    "    price_yield = df.select(*fix_cols, *formula_yield).na.fill(0)\n",
    "    return price_yield"
   ]
  },
  {
   "cell_type": "code",
   "execution_count": null,
   "metadata": {},
   "outputs": [],
   "source": [
    "fix_cols = [\n",
    "    \"row_num\", \n",
    "    \"operation_id\", \n",
    "    \"operation_date\"\n",
    "]\n",
    "portfolio_yield_df = price_yield(df=join_price_lag, fix_cols=fix_cols).orderBy(col(\"row_num\"))\n",
    "portfolio_yield_df.limit(5).toPandas()"
   ]
  },
  {
   "cell_type": "code",
   "execution_count": null,
   "metadata": {},
   "outputs": [],
   "source": [
    "fixed_df = portfolio_yield_df.select(portfolio_yield_df.columns[6:]).toPandas()\n",
    "fixed_df.plot(figsize=(15, 10))"
   ]
  },
  {
   "cell_type": "markdown",
   "metadata": {},
   "source": [
    "# Writing Portfolio's Yield dataframe."
   ]
  },
  {
   "cell_type": "code",
   "execution_count": null,
   "metadata": {},
   "outputs": [],
   "source": [
    "price_path = ophelia.tr.write_parquet(\n",
    "    dataframe=portfolio_yield_df, \n",
    "    name_directory=\"yield_portfolio_price\", \n",
    "    partition_field=\"operation_date\"\n",
    ")"
   ]
  },
  {
   "cell_type": "code",
   "execution_count": null,
   "metadata": {},
   "outputs": [],
   "source": [
    "def read_yield(parquet_path, source=\"parquet\"):\n",
    "    spark = ophelia.spk\n",
    "    yield_df = ophelia.tr.read_file(path_source=parquet_path, source=source, spark_session=spark)\n",
    "    return yield_df"
   ]
  },
  {
   "cell_type": "code",
   "execution_count": null,
   "metadata": {},
   "outputs": [],
   "source": [
    "yield_porfolio_df = read_yield(parquet_path=price_path)\n",
    "yield_porfolio_df.orderBy(col(\"operation_date\").desc()).limit(5).toPandas()"
   ]
  }
 ],
 "metadata": {
  "kernelspec": {
   "display_name": "Python 3",
   "language": "python",
   "name": "python3"
  },
  "language_info": {
   "codemirror_mode": {
    "name": "ipython",
    "version": 3
   },
   "file_extension": ".py",
   "mimetype": "text/x-python",
   "name": "python",
   "nbconvert_exporter": "python",
   "pygments_lexer": "ipython3",
   "version": "3.8.0"
  }
 },
 "nbformat": 4,
 "nbformat_minor": 4
}
