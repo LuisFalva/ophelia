{
 "cells": [
  {
   "cell_type": "code",
   "execution_count": 1,
   "id": "d6a243ea-4a8e-4d02-9a78-e84fd659e3d8",
   "metadata": {},
   "outputs": [
    {
     "name": "stdout",
     "output_type": "stream",
     "text": [
      "Collecting ophelia-spark\n",
      "  Downloading ophelia_spark-0.1.3-py3-none-any.whl.metadata (11 kB)\n",
      "Requirement already satisfied: dask>=2021.10.0 in /Users/lvargas/.homebrew/Caskroom/miniconda/base/envs/blackpoint-dev/lib/python3.9/site-packages (from dask[dataframe]>=2021.10.0->ophelia-spark) (2024.5.0)\n",
      "Requirement already satisfied: numpy>=1.21 in /Users/lvargas/.homebrew/Caskroom/miniconda/base/envs/blackpoint-dev/lib/python3.9/site-packages (from ophelia-spark) (1.26.4)\n",
      "Requirement already satisfied: pandas==2.2.2 in /Users/lvargas/.homebrew/Caskroom/miniconda/base/envs/blackpoint-dev/lib/python3.9/site-packages (from ophelia-spark) (2.2.2)\n",
      "Collecting py4j>=0.10.9 (from ophelia-spark)\n",
      "  Using cached py4j-0.10.9.7-py2.py3-none-any.whl.metadata (1.5 kB)\n",
      "Collecting pyarrow==16.0.0 (from ophelia-spark)\n",
      "  Using cached pyarrow-16.0.0-cp39-cp39-macosx_11_0_arm64.whl.metadata (3.0 kB)\n",
      "Collecting pyhocon==0.3.45 (from ophelia-spark)\n",
      "  Using cached pyhocon-0.3.45-py3-none-any.whl\n",
      "Collecting pyspark==3.2.2 (from ophelia-spark)\n",
      "  Using cached pyspark-3.2.2-py2.py3-none-any.whl\n",
      "Collecting quadprog (from ophelia-spark)\n",
      "  Using cached quadprog-0.1.12-cp39-cp39-macosx_11_0_arm64.whl.metadata (1.2 kB)\n",
      "Requirement already satisfied: scikit-learn>=0.23.2 in /Users/lvargas/.homebrew/Caskroom/miniconda/base/envs/blackpoint-dev/lib/python3.9/site-packages (from ophelia-spark) (1.3.1)\n",
      "Requirement already satisfied: python-dateutil>=2.8.2 in /Users/lvargas/.homebrew/Caskroom/miniconda/base/envs/blackpoint-dev/lib/python3.9/site-packages (from pandas==2.2.2->ophelia-spark) (2.9.0)\n",
      "Requirement already satisfied: pytz>=2020.1 in /Users/lvargas/.homebrew/Caskroom/miniconda/base/envs/blackpoint-dev/lib/python3.9/site-packages (from pandas==2.2.2->ophelia-spark) (2024.1)\n",
      "Requirement already satisfied: tzdata>=2022.7 in /Users/lvargas/.homebrew/Caskroom/miniconda/base/envs/blackpoint-dev/lib/python3.9/site-packages (from pandas==2.2.2->ophelia-spark) (2024.1)\n",
      "Requirement already satisfied: pyparsing>=2.0.3 in /Users/lvargas/.homebrew/Caskroom/miniconda/base/envs/blackpoint-dev/lib/python3.9/site-packages (from pyhocon==0.3.45->ophelia-spark) (3.1.2)\n",
      "Collecting py4j>=0.10.9 (from ophelia-spark)\n",
      "  Using cached py4j-0.10.9.5-py2.py3-none-any.whl.metadata (1.5 kB)\n",
      "Requirement already satisfied: click>=8.1 in /Users/lvargas/.homebrew/Caskroom/miniconda/base/envs/blackpoint-dev/lib/python3.9/site-packages (from dask>=2021.10.0->dask[dataframe]>=2021.10.0->ophelia-spark) (8.1.7)\n",
      "Requirement already satisfied: cloudpickle>=1.5.0 in /Users/lvargas/.homebrew/Caskroom/miniconda/base/envs/blackpoint-dev/lib/python3.9/site-packages (from dask>=2021.10.0->dask[dataframe]>=2021.10.0->ophelia-spark) (3.0.0)\n",
      "Requirement already satisfied: fsspec>=2021.09.0 in /Users/lvargas/.homebrew/Caskroom/miniconda/base/envs/blackpoint-dev/lib/python3.9/site-packages (from dask>=2021.10.0->dask[dataframe]>=2021.10.0->ophelia-spark) (2024.3.1)\n",
      "Requirement already satisfied: packaging>=20.0 in /Users/lvargas/.homebrew/Caskroom/miniconda/base/envs/blackpoint-dev/lib/python3.9/site-packages (from dask>=2021.10.0->dask[dataframe]>=2021.10.0->ophelia-spark) (24.0)\n",
      "Requirement already satisfied: partd>=1.2.0 in /Users/lvargas/.homebrew/Caskroom/miniconda/base/envs/blackpoint-dev/lib/python3.9/site-packages (from dask>=2021.10.0->dask[dataframe]>=2021.10.0->ophelia-spark) (1.4.2)\n",
      "Requirement already satisfied: pyyaml>=5.3.1 in /Users/lvargas/.homebrew/Caskroom/miniconda/base/envs/blackpoint-dev/lib/python3.9/site-packages (from dask>=2021.10.0->dask[dataframe]>=2021.10.0->ophelia-spark) (6.0.1)\n",
      "Requirement already satisfied: toolz>=0.10.0 in /Users/lvargas/.homebrew/Caskroom/miniconda/base/envs/blackpoint-dev/lib/python3.9/site-packages (from dask>=2021.10.0->dask[dataframe]>=2021.10.0->ophelia-spark) (0.12.1)\n",
      "Requirement already satisfied: importlib-metadata>=4.13.0 in /Users/lvargas/.homebrew/Caskroom/miniconda/base/envs/blackpoint-dev/lib/python3.9/site-packages (from dask>=2021.10.0->dask[dataframe]>=2021.10.0->ophelia-spark) (7.1.0)\n",
      "Collecting dask-expr<1.2,>=1.1 (from dask[dataframe]>=2021.10.0->ophelia-spark)\n",
      "  Using cached dask_expr-1.1.7-py3-none-any.whl.metadata (2.5 kB)\n",
      "Requirement already satisfied: scipy>=1.5.0 in /Users/lvargas/.homebrew/Caskroom/miniconda/base/envs/blackpoint-dev/lib/python3.9/site-packages (from scikit-learn>=0.23.2->ophelia-spark) (1.13.0)\n",
      "Requirement already satisfied: joblib>=1.1.1 in /Users/lvargas/.homebrew/Caskroom/miniconda/base/envs/blackpoint-dev/lib/python3.9/site-packages (from scikit-learn>=0.23.2->ophelia-spark) (1.4.2)\n",
      "Requirement already satisfied: threadpoolctl>=2.0.0 in /Users/lvargas/.homebrew/Caskroom/miniconda/base/envs/blackpoint-dev/lib/python3.9/site-packages (from scikit-learn>=0.23.2->ophelia-spark) (3.5.0)\n",
      "INFO: pip is looking at multiple versions of dask-expr to determine which version is compatible with other requirements. This could take a while.\n",
      "  Downloading dask_expr-1.1.6-py3-none-any.whl.metadata (2.5 kB)\n",
      "  Downloading dask_expr-1.1.5-py3-none-any.whl.metadata (2.5 kB)\n",
      "  Downloading dask_expr-1.1.4-py3-none-any.whl.metadata (2.5 kB)\n",
      "  Downloading dask_expr-1.1.3-py3-none-any.whl.metadata (2.4 kB)\n",
      "  Downloading dask_expr-1.1.2-py3-none-any.whl.metadata (2.4 kB)\n",
      "  Downloading dask_expr-1.1.1-py3-none-any.whl.metadata (2.4 kB)\n",
      "  Downloading dask_expr-1.1.0-py3-none-any.whl.metadata (2.4 kB)\n",
      "Requirement already satisfied: zipp>=0.5 in /Users/lvargas/.homebrew/Caskroom/miniconda/base/envs/blackpoint-dev/lib/python3.9/site-packages (from importlib-metadata>=4.13.0->dask>=2021.10.0->dask[dataframe]>=2021.10.0->ophelia-spark) (3.17.0)\n",
      "Requirement already satisfied: locket in /Users/lvargas/.homebrew/Caskroom/miniconda/base/envs/blackpoint-dev/lib/python3.9/site-packages (from partd>=1.2.0->dask>=2021.10.0->dask[dataframe]>=2021.10.0->ophelia-spark) (1.0.0)\n",
      "Requirement already satisfied: six>=1.5 in /Users/lvargas/.homebrew/Caskroom/miniconda/base/envs/blackpoint-dev/lib/python3.9/site-packages (from python-dateutil>=2.8.2->pandas==2.2.2->ophelia-spark) (1.16.0)\n",
      "Downloading ophelia_spark-0.1.3-py3-none-any.whl (48 kB)\n",
      "\u001b[2K   \u001b[90m━━━━━━━━━━━━━━━━━━━━━━━━━━━━━━━━━━━━━━━━\u001b[0m \u001b[32m48.9/48.9 kB\u001b[0m \u001b[31m975.5 kB/s\u001b[0m eta \u001b[36m0:00:00\u001b[0ma \u001b[36m0:00:01\u001b[0m\n",
      "\u001b[?25hUsing cached pyarrow-16.0.0-cp39-cp39-macosx_11_0_arm64.whl (26.0 MB)\n",
      "Using cached py4j-0.10.9.5-py2.py3-none-any.whl (199 kB)\n",
      "Using cached quadprog-0.1.12-cp39-cp39-macosx_11_0_arm64.whl (95 kB)\n",
      "Downloading dask_expr-1.1.0-py3-none-any.whl (205 kB)\n",
      "\u001b[2K   \u001b[90m━━━━━━━━━━━━━━━━━━━━━━━━━━━━━━━━━━━━━━━━\u001b[0m \u001b[32m205.1/205.1 kB\u001b[0m \u001b[31m3.7 MB/s\u001b[0m eta \u001b[36m0:00:00\u001b[0ma \u001b[36m0:00:01\u001b[0m\n",
      "\u001b[?25hInstalling collected packages: py4j, quadprog, pyspark, pyhocon, pyarrow, dask-expr, ophelia-spark\n",
      "  Attempting uninstall: pyarrow\n",
      "    Found existing installation: pyarrow 15.0.2\n",
      "    Uninstalling pyarrow-15.0.2:\n",
      "      Successfully uninstalled pyarrow-15.0.2\n",
      "Successfully installed dask-expr-1.1.0 ophelia-spark-0.1.3 py4j-0.10.9.5 pyarrow-16.0.0 pyhocon-0.3.45 pyspark-3.2.2 quadprog-0.1.12\n"
     ]
    }
   ],
   "source": [
    "!pip install ophelia-spark"
   ]
  },
  {
   "cell_type": "code",
   "execution_count": 1,
   "id": "8b099689-499a-4290-b6ac-ed77ecaaeb5e",
   "metadata": {},
   "outputs": [],
   "source": [
    "from ophelia_spark.start import Ophelia"
   ]
  },
  {
   "cell_type": "code",
   "execution_count": 4,
   "id": "d946d18c-0877-489f-8023-d11eb73eee29",
   "metadata": {},
   "outputs": [
    {
     "name": "stdout",
     "output_type": "stream",
     "text": [
      "02:05:30.342 Ophelia [TAPE] +-----------------------------------------------------------------+\n",
      "02:05:30.342 Ophelia [INFO] | Hello! This engine is for data mining & ml pipelines in PySpark |\n",
      "02:05:30.342 Ophelia [INFO] | Welcome to Ophelia Spark miner engine                           |\n",
      "02:05:30.342 Ophelia [INFO] | Package Version Ophelia.0.0.1                                   |\n",
      "02:05:30.342 Ophelia [WARN] | V for Vendata...                                                |\n",
      "02:05:30.342 Ophelia [TAPE] +-----------------------------------------------------------------+\n",
      "02:05:30.342 Ophelia [WARN]                       - Ophelia Spark -                        \n",
      "02:05:30.343 Ophelia [MASK]   █ █ █ █ █ █ █ █ █ █ █ █ █ █ █ █ █ █ █ █ █ █ █ █ █ █ █ █ █ █ █\n",
      "02:05:30.343 Ophelia [MASK]   █ █ █ █ ╬ ╬ ╬ ╬ ╬ ╬ ╬ ╬ ╬ ╬ ╬ ╬ ╬ ╬ ╬ ╬ ╬ ╬ ╬ ╬ ╬ ╬ ╬ █ █ █ █\n",
      "02:05:30.343 Ophelia [MASK]   █ █ ╬ ╬ ╬ ╬ ╬ ╬ ╬ ╬ ╬ ╬ ╬ ╬ ╬ ╬ ╬ ╬ ╬ ╬ ╬ ╬ ╬ ╬ ╬ ╬ ╬ ╬ ╬ █ █\n",
      "02:05:30.343 Ophelia [MASK]   █ ╬ ╬ ╬ ╬ ╬ ╬ ╬ ╬ ╬ ╬ ╬ ╬ ╬ ╬ ╬ ╬ ╬ ╬ ╬ ╬ ╬ ╬ ╬ ╬ ╬ ╬ ╬ ╬ ╬ █\n",
      "02:05:30.343 Ophelia [MASK]   █ ╬ ╬ ╬ █ █ █ █ █ █ █ ╬ ╬ ╬ ╬ ╬ ╬ ╬ ╬ ╬ █ █ █ █ █ █ █ ╬ ╬ ╬ █\n",
      "02:05:30.343 Ophelia [MASK]   █ ╬ ╬ █ █ ╬ ╬ ╬ ╬ █ █ █ ╬ ╬ ╬ ╬ ╬ ╬ ╬ █ █ █ ╬ ╬ ╬ ╬ █ █ ╬ ╬ █\n",
      "02:05:30.343 Ophelia [MASK]   █ ╬ █ █ ╬ ╬ ╬ ╬ ╬ ╬ ╬ █ █ ╬ ╬ ╬ ╬ ╬ █ █ ╬ ╬ ╬ ╬ ╬ ╬ ╬ █ █ ╬ █\n",
      "02:05:30.343 Ophelia [MASK]   █ ╬ ╬ ╬ ╬ ╬ ╬ ╬ ╬ ╬ ╬ ╬ ╬ ╬ ╬ ╬ ╬ ╬ ╬ ╬ ╬ ╬ ╬ ╬ ╬ ╬ ╬ ╬ ╬ ╬ █\n",
      "02:05:30.343 Ophelia [MASK]   █ ╬ ╬ ╬ ╬ █ █ █ █ █ ╬ ╬ ╬ ╬ ╬ ╬ ╬ ╬ ╬ ╬ ╬ █ █ █ █ █ ╬ ╬ ╬ ╬ █\n",
      "02:05:30.343 Ophelia [MASK]   █ ╬ ╬ █ █ █ █ █ █ █ █ █ ╬ ╬ ╬ ╬ ╬ ╬ ╬ █ █ █ █ █ █ █ █ █ ╬ ╬ █\n",
      "02:05:30.343 Ophelia [MASK]   █ ╬ ╬ ╬ ╬ ╬ ╬ ╬ ╬ ╬ ╬ ╬ ╬ ╬ ╬ ╬ ╬ ╬ ╬ ╬ ╬ ╬ ╬ ╬ ╬ ╬ ╬ ╬ ╬ ╬ █\n",
      "02:05:30.343 Ophelia [MASK]   █ ╬ ╬ ╬ ╬ ╬ ╬ ╬ ╬ ╬ ╬ ╬ ╬ ╬ ╬ █ ╬ ╬ ╬ ╬ ╬ ╬ ╬ ╬ ╬ ╬ ╬ ╬ ╬ ╬ █\n",
      "02:05:30.343 Ophelia [MASK]   █ ╬ ╬ ╬ ╬ ╬ ╬ ╬ ╬ ╬ ╬ ╬ ╬ ╬ ╬ █ ╬ ╬ ╬ ╬ ╬ ╬ ╬ ╬ ╬ ╬ ╬ ╬ ╬ ╬ █\n",
      "02:05:30.343 Ophelia [MASK]   █ ╬ ╬ ╬ ╬ ╬ ╬ ╬ ╬ ╬ ╬ ╬ ╬ ╬ ╬ █ ╬ ╬ ╬ ╬ ╬ ╬ ╬ ╬ ╬ ╬ ╬ ╬ ╬ ╬ █\n",
      "02:05:30.343 Ophelia [MASK]   █ ╬ ╬ ╬ ▓ ▓ ▓ ▓ ╬ ╬ ╬ ╬ ╬ ╬ ╬ █ ╬ ╬ ╬ ╬ ╬ ╬ ╬ ▓ ▓ ▓ ▓ ╬ ╬ ╬ █\n",
      "02:05:30.343 Ophelia [MASK]   █ ╬ ╬ ▓ ▓ ▓ ▓ ▓ ▓ ╬ ╬ █ ╬ ╬ ╬ █ ╬ ╬ ╬ █ ╬ ╬ ▓ ▓ ▓ ▓ ▓ ▓ ╬ ╬ █\n",
      "02:05:30.343 Ophelia [MASK]   █ ╬ ╬ ╬ ▓ ▓ ▓ ▓ ╬ ╬ █ █ ╬ ╬ ╬ █ ╬ ╬ ╬ █ █ ╬ ╬ ▓ ▓ ▓ ▓ ╬ ╬ ╬ █\n",
      "02:05:30.343 Ophelia [MASK]   █ ╬ ╬ ╬ ╬ ╬ ╬ ╬ ╬ █ █ ╬ ╬ ╬ ╬ █ ╬ ╬ ╬ ╬ █ █ ╬ ╬ ╬ ╬ ╬ ╬ ╬ ╬ █\n",
      "02:05:30.343 Ophelia [MASK]   █ ╬ ╬ ╬ ╬ ╬ █ █ █ █ ╬ ╬ ╬ ╬ █ █ █ ╬ ╬ ╬ ╬ █ █ █ █ ╬ ╬ ╬ ╬ ╬ █\n",
      "02:05:30.343 Ophelia [MASK]   █ ╬ ╬ ╬ ╬ ╬ ╬ ╬ ╬ ╬ ╬ ╬ ╬ ╬ █ █ █ ╬ ╬ ╬ ╬ ╬ ╬ ╬ ╬ ╬ ╬ ╬ ╬ ╬ █\n",
      "02:05:30.343 Ophelia [MASK]   █ █ ╬ ╬ █ ╬ ╬ ╬ ╬ ╬ ╬ ╬ ╬ █ █ █ █ █ ╬ ╬ ╬ ╬ ╬ ╬ ╬ ╬ █ ╬ ╬ █ █\n",
      "02:05:30.343 Ophelia [MASK]   █ █ ╬ ╬ █ █ ╬ ╬ ╬ ╬ ╬ ╬ █ █ █ █ █ █ █ ╬ ╬ ╬ ╬ ╬ ╬ █ █ ╬ ╬ █ █\n",
      "02:05:30.343 Ophelia [MASK]   █ █ ╬ ╬ ▓ █ █ █ ╬ ╬ ╬ █ █ █ █ ╬ █ █ █ █ ╬ ╬ ╬ █ █ █ ▓ ╬ ╬ █ █\n",
      "02:05:30.343 Ophelia [MASK]   █ █ █ ╬ ╬ ▓ ▓ █ █ █ █ █ █ █ ╬ ╬ ╬ █ █ █ █ █ █ █ ▓ ▓ ╬ ╬ █ █ █\n",
      "02:05:30.343 Ophelia [MASK]   █ █ █ ╬ ╬ ╬ ╬ ▓ ▓ ▓ ▓ ▓ ▓ ▓ ▓ ▓ ▓ ▓ ▓ ▓ ▓ ▓ ▓ ▓ ╬ ╬ ╬ ╬ █ █ █\n",
      "02:05:30.343 Ophelia [MASK]   █ █ █ █ ╬ ╬ ╬ ╬ ╬ ╬ ╬ ╬ ╬ ╬ █ █ █ ╬ ╬ ╬ ╬ ╬ ╬ ╬ ╬ ╬ ╬ █ █ █ █\n",
      "02:05:30.343 Ophelia [MASK]   █ █ █ █ █ ╬ ╬ ╬ ╬ ╬ ╬ ╬ ╬ ╬ ╬ █ ╬ ╬ ╬ ╬ ╬ ╬ ╬ ╬ ╬ ╬ █ █ █ █ █\n",
      "02:05:30.343 Ophelia [MASK]   █ █ █ █ █ █ ╬ ╬ ╬ ╬ ╬ ╬ ╬ ╬ █ █ █ ╬ ╬ ╬ ╬ ╬ ╬ ╬ ╬ █ █ █ █ █ █\n",
      "02:05:30.343 Ophelia [MASK]   █ █ █ █ █ █ █ ╬ ╬ ╬ ╬ ╬ ╬ ╬ █ █ █ ╬ ╬ ╬ ╬ ╬ ╬ ╬ █ █ █ █ █ █ █\n",
      "02:05:30.343 Ophelia [MASK]   █ █ █ █ █ █ █ █ ╬ ╬ ╬ ╬ ╬ ╬ █ █ █ ╬ ╬ ╬ ╬ ╬ ╬ █ █ █ █ █ █ █ █\n",
      "02:05:30.343 Ophelia [MASK]   █ █ █ █ █ █ █ █ █ ╬ ╬ ╬ ╬ ╬ █ █ █ ╬ ╬ ╬ ╬ ╬ █ █ █ █ █ █ █ █ █\n",
      "02:05:30.343 Ophelia [MASK]   █ █ █ █ █ █ █ █ █ █ █ ╬ ╬ ╬ ╬ █ ╬ ╬ ╬ ╬ █ █ █ █ █ █ █ █ █ █ █\n",
      "02:05:30.343 Ophelia [MASK]   █ █ █ █ █ █ █ █ █ █ █ █ █ █ █ █ █ █ █ █ █ █ █ █ █ █ █ █ █ █ █\n",
      " \n",
      "02:05:30.343 Ophelia [WARN] Initializing Spark Session\n",
      "02:05:30.344 Ophelia [INFO] Spark Version: 3.2.2\n",
      "02:05:30.344 Ophelia [INFO] This Is: 'Ophelia-Test' App\n",
      "02:05:30.345 Ophelia [INFO] Spark UI Address: http://192.168.1.70:4040\n",
      "02:05:30.345 Ophelia [INFO] Spark Context Initialized Successfully\n"
     ]
    }
   ],
   "source": [
    "ophelia = Ophelia(\"Ophelia-Test\", no_mask=True)"
   ]
  },
  {
   "cell_type": "code",
   "execution_count": 19,
   "id": "1cd42ee6-28b5-425e-abdd-143552203cc2",
   "metadata": {},
   "outputs": [
    {
     "data": {
      "text/plain": [
       "'blhalaln-blhas-d-jhbdcx-$LDAP'"
      ]
     },
     "execution_count": 19,
     "metadata": {},
     "output_type": "execute_result"
    }
   ],
   "source": [
    "nombre_dag = \"blhalaln-blhas-d-jhbdcx\"\n",
    "\n",
    "docker_image = \"llm-factory:0.1.0-$LDAP\"\n",
    "try:\n",
    "    ldap = docker_image.split(\".\")[-1].split(\"-\")[1]\n",
    "    nombre_dag = nombre_dag + f\"-{ldap}\"\n",
    "except:\n",
    "    pass\n",
    "\n",
    "nombre_dag"
   ]
  },
  {
   "cell_type": "code",
   "execution_count": 22,
   "id": "7b68d37d-3a25-4878-8c26-678bf530a4a5",
   "metadata": {},
   "outputs": [
    {
     "name": "stdout",
     "output_type": "stream",
     "text": [
      "untitled.py\n"
     ]
    }
   ],
   "source": [
    "!ls *ed.py"
   ]
  },
  {
   "cell_type": "code",
   "execution_count": null,
   "id": "3ce123d1-b4ad-4ab7-8f07-8ba54ff3d311",
   "metadata": {},
   "outputs": [],
   "source": []
  }
 ],
 "metadata": {
  "kernelspec": {
   "display_name": "Python (blackpoint-dev)",
   "language": "python",
   "name": "blackpoint-dev"
  },
  "language_info": {
   "codemirror_mode": {
    "name": "ipython",
    "version": 3
   },
   "file_extension": ".py",
   "mimetype": "text/x-python",
   "name": "python",
   "nbconvert_exporter": "python",
   "pygments_lexer": "ipython3",
   "version": "3.9.19"
  }
 },
 "nbformat": 4,
 "nbformat_minor": 5
}
