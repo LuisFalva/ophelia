{
 "cells": [
  {
   "cell_type": "code",
   "execution_count": 1,
   "id": "118308d2-89b0-4d38-ba21-5a85b7ece962",
   "metadata": {},
   "outputs": [],
   "source": [
    "from ophelia.start import Ophelia"
   ]
  },
  {
   "cell_type": "code",
   "execution_count": 4,
   "id": "53208e6d-3787-4e12-b90d-1e5ffbc8c626",
   "metadata": {},
   "outputs": [
    {
     "name": "stdout",
     "output_type": "stream",
     "text": [
      "13:41:19.970 Ophelia [TAPE] +-----------------------------------------------------------------+\n",
      "13:41:19.970 Ophelia [INFO] | Hello! This engine is for data mining & ml pipelines in PySpark |\n",
      "13:41:19.970 Ophelia [INFO] | Welcome to Ophelia Spark miner engine                           |\n",
      "13:41:19.970 Ophelia [INFO] | Package Version Ophelia.0.0.1                                   |\n",
      "13:41:19.970 Ophelia [WARN] | V for Vendata...                                                |\n",
      "13:41:19.970 Ophelia [TAPE] +-----------------------------------------------------------------+\n",
      "13:41:19.970 Ophelia [WARN]                   - Ophelia a Spark miner -                    \n",
      "13:41:19.970 Ophelia [MASK]   █ █ █ █ █ █ █ █ █ █ █ █ █ █ █ █ █ █ █ █ █ █ █ █ █ █ █ █ █ █ █\n",
      "13:41:19.970 Ophelia [MASK]   █ █ █ █ ╬ ╬ ╬ ╬ ╬ ╬ ╬ ╬ ╬ ╬ ╬ ╬ ╬ ╬ ╬ ╬ ╬ ╬ ╬ ╬ ╬ ╬ ╬ █ █ █ █\n",
      "13:41:19.970 Ophelia [MASK]   █ █ ╬ ╬ ╬ ╬ ╬ ╬ ╬ ╬ ╬ ╬ ╬ ╬ ╬ ╬ ╬ ╬ ╬ ╬ ╬ ╬ ╬ ╬ ╬ ╬ ╬ ╬ ╬ █ █\n",
      "13:41:19.970 Ophelia [MASK]   █ ╬ ╬ ╬ ╬ ╬ ╬ ╬ ╬ ╬ ╬ ╬ ╬ ╬ ╬ ╬ ╬ ╬ ╬ ╬ ╬ ╬ ╬ ╬ ╬ ╬ ╬ ╬ ╬ ╬ █\n",
      "13:41:19.970 Ophelia [MASK]   █ ╬ ╬ ╬ █ █ █ █ █ █ █ ╬ ╬ ╬ ╬ ╬ ╬ ╬ ╬ ╬ █ █ █ █ █ █ █ ╬ ╬ ╬ █\n",
      "13:41:19.970 Ophelia [MASK]   █ ╬ ╬ █ █ ╬ ╬ ╬ ╬ █ █ █ ╬ ╬ ╬ ╬ ╬ ╬ ╬ █ █ █ ╬ ╬ ╬ ╬ █ █ ╬ ╬ █\n",
      "13:41:19.970 Ophelia [MASK]   █ ╬ █ █ ╬ ╬ ╬ ╬ ╬ ╬ ╬ █ █ ╬ ╬ ╬ ╬ ╬ █ █ ╬ ╬ ╬ ╬ ╬ ╬ ╬ █ █ ╬ █\n",
      "13:41:19.971 Ophelia [MASK]   █ ╬ ╬ ╬ ╬ ╬ ╬ ╬ ╬ ╬ ╬ ╬ ╬ ╬ ╬ ╬ ╬ ╬ ╬ ╬ ╬ ╬ ╬ ╬ ╬ ╬ ╬ ╬ ╬ ╬ █\n",
      "13:41:19.971 Ophelia [MASK]   █ ╬ ╬ ╬ ╬ █ █ █ █ █ ╬ ╬ ╬ ╬ ╬ ╬ ╬ ╬ ╬ ╬ ╬ █ █ █ █ █ ╬ ╬ ╬ ╬ █\n",
      "13:41:19.971 Ophelia [MASK]   █ ╬ ╬ █ █ █ █ █ █ █ █ █ ╬ ╬ ╬ ╬ ╬ ╬ ╬ █ █ █ █ █ █ █ █ █ ╬ ╬ █\n",
      "13:41:19.971 Ophelia [MASK]   █ ╬ ╬ ╬ ╬ ╬ ╬ ╬ ╬ ╬ ╬ ╬ ╬ ╬ ╬ ╬ ╬ ╬ ╬ ╬ ╬ ╬ ╬ ╬ ╬ ╬ ╬ ╬ ╬ ╬ █\n",
      "13:41:19.971 Ophelia [MASK]   █ ╬ ╬ ╬ ╬ ╬ ╬ ╬ ╬ ╬ ╬ ╬ ╬ ╬ ╬ █ ╬ ╬ ╬ ╬ ╬ ╬ ╬ ╬ ╬ ╬ ╬ ╬ ╬ ╬ █\n",
      "13:41:19.971 Ophelia [MASK]   █ ╬ ╬ ╬ ╬ ╬ ╬ ╬ ╬ ╬ ╬ ╬ ╬ ╬ ╬ █ ╬ ╬ ╬ ╬ ╬ ╬ ╬ ╬ ╬ ╬ ╬ ╬ ╬ ╬ █\n",
      "13:41:19.971 Ophelia [MASK]   █ ╬ ╬ ╬ ╬ ╬ ╬ ╬ ╬ ╬ ╬ ╬ ╬ ╬ ╬ █ ╬ ╬ ╬ ╬ ╬ ╬ ╬ ╬ ╬ ╬ ╬ ╬ ╬ ╬ █\n",
      "13:41:19.971 Ophelia [MASK]   █ ╬ ╬ ╬ ▓ ▓ ▓ ▓ ╬ ╬ ╬ ╬ ╬ ╬ ╬ █ ╬ ╬ ╬ ╬ ╬ ╬ ╬ ▓ ▓ ▓ ▓ ╬ ╬ ╬ █\n",
      "13:41:19.971 Ophelia [MASK]   █ ╬ ╬ ▓ ▓ ▓ ▓ ▓ ▓ ╬ ╬ █ ╬ ╬ ╬ █ ╬ ╬ ╬ █ ╬ ╬ ▓ ▓ ▓ ▓ ▓ ▓ ╬ ╬ █\n",
      "13:41:19.971 Ophelia [MASK]   █ ╬ ╬ ╬ ▓ ▓ ▓ ▓ ╬ ╬ █ █ ╬ ╬ ╬ █ ╬ ╬ ╬ █ █ ╬ ╬ ▓ ▓ ▓ ▓ ╬ ╬ ╬ █\n",
      "13:41:19.971 Ophelia [MASK]   █ ╬ ╬ ╬ ╬ ╬ ╬ ╬ ╬ █ █ ╬ ╬ ╬ ╬ █ ╬ ╬ ╬ ╬ █ █ ╬ ╬ ╬ ╬ ╬ ╬ ╬ ╬ █\n",
      "13:41:19.971 Ophelia [MASK]   █ ╬ ╬ ╬ ╬ ╬ █ █ █ █ ╬ ╬ ╬ ╬ █ █ █ ╬ ╬ ╬ ╬ █ █ █ █ ╬ ╬ ╬ ╬ ╬ █\n",
      "13:41:19.971 Ophelia [MASK]   █ ╬ ╬ ╬ ╬ ╬ ╬ ╬ ╬ ╬ ╬ ╬ ╬ ╬ █ █ █ ╬ ╬ ╬ ╬ ╬ ╬ ╬ ╬ ╬ ╬ ╬ ╬ ╬ █\n",
      "13:41:19.971 Ophelia [MASK]   █ █ ╬ ╬ █ ╬ ╬ ╬ ╬ ╬ ╬ ╬ ╬ █ █ █ █ █ ╬ ╬ ╬ ╬ ╬ ╬ ╬ ╬ █ ╬ ╬ █ █\n",
      "13:41:19.971 Ophelia [MASK]   █ █ ╬ ╬ █ █ ╬ ╬ ╬ ╬ ╬ ╬ █ █ █ █ █ █ █ ╬ ╬ ╬ ╬ ╬ ╬ █ █ ╬ ╬ █ █\n",
      "13:41:19.971 Ophelia [MASK]   █ █ ╬ ╬ ▓ █ █ █ ╬ ╬ ╬ █ █ █ █ ╬ █ █ █ █ ╬ ╬ ╬ █ █ █ ▓ ╬ ╬ █ █\n",
      "13:41:19.971 Ophelia [MASK]   █ █ █ ╬ ╬ ▓ ▓ █ █ █ █ █ █ █ ╬ ╬ ╬ █ █ █ █ █ █ █ ▓ ▓ ╬ ╬ █ █ █\n",
      "13:41:19.971 Ophelia [MASK]   █ █ █ ╬ ╬ ╬ ╬ ▓ ▓ ▓ ▓ ▓ ▓ ▓ ▓ ▓ ▓ ▓ ▓ ▓ ▓ ▓ ▓ ▓ ╬ ╬ ╬ ╬ █ █ █\n",
      "13:41:19.971 Ophelia [MASK]   █ █ █ █ ╬ ╬ ╬ ╬ ╬ ╬ ╬ ╬ ╬ ╬ █ █ █ ╬ ╬ ╬ ╬ ╬ ╬ ╬ ╬ ╬ ╬ █ █ █ █\n",
      "13:41:19.972 Ophelia [MASK]   █ █ █ █ █ ╬ ╬ ╬ ╬ ╬ ╬ ╬ ╬ ╬ ╬ █ ╬ ╬ ╬ ╬ ╬ ╬ ╬ ╬ ╬ ╬ █ █ █ █ █\n",
      "13:41:19.972 Ophelia [MASK]   █ █ █ █ █ █ ╬ ╬ ╬ ╬ ╬ ╬ ╬ ╬ █ █ █ ╬ ╬ ╬ ╬ ╬ ╬ ╬ ╬ █ █ █ █ █ █\n",
      "13:41:19.972 Ophelia [MASK]   █ █ █ █ █ █ █ ╬ ╬ ╬ ╬ ╬ ╬ ╬ █ █ █ ╬ ╬ ╬ ╬ ╬ ╬ ╬ █ █ █ █ █ █ █\n",
      "13:41:19.972 Ophelia [MASK]   █ █ █ █ █ █ █ █ ╬ ╬ ╬ ╬ ╬ ╬ █ █ █ ╬ ╬ ╬ ╬ ╬ ╬ █ █ █ █ █ █ █ █\n",
      "13:41:19.972 Ophelia [MASK]   █ █ █ █ █ █ █ █ █ ╬ ╬ ╬ ╬ ╬ █ █ █ ╬ ╬ ╬ ╬ ╬ █ █ █ █ █ █ █ █ █\n",
      "13:41:19.972 Ophelia [MASK]   █ █ █ █ █ █ █ █ █ █ █ ╬ ╬ ╬ ╬ █ ╬ ╬ ╬ ╬ █ █ █ █ █ █ █ █ █ █ █\n",
      "13:41:19.972 Ophelia [MASK]   █ █ █ █ █ █ █ █ █ █ █ █ █ █ █ █ █ █ █ █ █ █ █ █ █ █ █ █ █ █ █\n",
      " \n",
      "13:41:19.972 Ophelia [WARN] Initializing Spark Session\n",
      "13:41:30.159 Ophelia [INFO] Spark Version: 3.0.0\n",
      "13:41:30.159 Ophelia [INFO] This Is: 'Ophelia-Test' App\n",
      "13:41:30.160 Ophelia [INFO] Spark UI Address: 'http://10.0.0.21:4040\n",
      "13:41:30.160 Ophelia [INFO] Spark Context Initialized Success\n"
     ]
    }
   ],
   "source": [
    "ophelia = Ophelia(\"Ophelia-Test\")"
   ]
  },
  {
   "cell_type": "code",
   "execution_count": 3,
   "id": "40b45118-9aca-410f-81ef-f63ad190a611",
   "metadata": {},
   "outputs": [
    {
     "name": "stdout",
     "output_type": "stream",
     "text": [
      "13:35:50.301 Ophelia [INFO] Spark Context Initialized Success\n"
     ]
    }
   ],
   "source": [
    "sc = ophelia.Spark.build_spark_context()\n",
    "spark = ophelia.SparkSession"
   ]
  },
  {
   "cell_type": "code",
   "execution_count": 4,
   "id": "d908baae-d248-46e1-98b1-d170fea98b1d",
   "metadata": {},
   "outputs": [],
   "source": [
    "from ophelia.read.spark_read import Read"
   ]
  },
  {
   "cell_type": "code",
   "execution_count": 5,
   "id": "0942d8ae-27c8-4920-9c0b-c9f122a8180a",
   "metadata": {},
   "outputs": [
    {
     "name": "stdout",
     "output_type": "stream",
     "text": [
      "13:56:02.164 Ophelia [INFO] Read CSV File From Path: data/csv/100sample_bank\n",
      "+---+-------------+-------+---------+-------+-------+--------+--------+\n",
      "|age|          job|marital|education|housing|balance|duration|poutcome|\n",
      "+---+-------------+-------+---------+-------+-------+--------+--------+\n",
      "| 36| entrepreneur|married|secondary|     no|   2971|     247| failure|\n",
      "| 30|     services| single|  primary|    yes|   5746|     125| unknown|\n",
      "| 29|  blue-collar| single|secondary|     no|   2806|     294|   other|\n",
      "| 35|   technician|married|secondary|     no|      0|     125| unknown|\n",
      "| 30|   management| single| tertiary|     no|    697|     179| success|\n",
      "| 33|       admin.|married|secondary|     no|      0|     214| unknown|\n",
      "| 31|   management| single| tertiary|     no|   1308|     323| unknown|\n",
      "| 55|    housemaid|married|  primary|     no|      4|      85| unknown|\n",
      "| 59|      retired|married|secondary|     no|    136|     301| unknown|\n",
      "| 34|self-employed| single|secondary|    yes|      3|     301| unknown|\n",
      "| 37|  blue-collar|married|secondary|    yes|    374|     944| unknown|\n",
      "| 57|      retired|married|  primary|     no|    333|     336| unknown|\n",
      "| 53|      retired|married|secondary|    yes|    665|     371| unknown|\n",
      "| 53|  blue-collar|married|secondary|     no|    -76|     173|   other|\n",
      "| 27|  blue-collar|married|  primary|    yes|    106|     150| unknown|\n",
      "| 19|      student| single|  primary|     no|    608|     236| success|\n",
      "| 45|     services|married|  primary|    yes|   2406|     108| unknown|\n",
      "| 54|self-employed|married|secondary|    yes|    203|     238| unknown|\n",
      "| 29|   management| single| tertiary|    yes|    600|     170| unknown|\n",
      "| 43|    housemaid|married|secondary|     no|    150|     290| unknown|\n",
      "+---+-------------+-------+---------+-------+-------+--------+--------+\n",
      "only showing top 20 rows\n",
      "\n"
     ]
    }
   ],
   "source": [
    "sample_bank_df = spark.readFile('data/csv/100sample_bank', 'csv')\n",
    "sample_bank_df.show()"
   ]
  },
  {
   "cell_type": "code",
   "execution_count": 6,
   "id": "d7b152d0-cf1a-422b-a15a-de05b3357ed6",
   "metadata": {},
   "outputs": [],
   "source": [
    "from ophelia.functions import DynamicSampling"
   ]
  },
  {
   "cell_type": "code",
   "execution_count": 7,
   "id": "c96f5539-5762-48da-bd4a-7ba7e8016825",
   "metadata": {},
   "outputs": [
    {
     "name": "stdout",
     "output_type": "stream",
     "text": [
      "13:56:10.936 Ophelia [INFO] Ophelia Active Session\n",
      "+---+-------------+--------+---------+-------+-------+--------+--------+\n",
      "|age|          job| marital|education|housing|balance|duration|poutcome|\n",
      "+---+-------------+--------+---------+-------+-------+--------+--------+\n",
      "| 55|   management|divorced| tertiary|     no|   2037|     305| success|\n",
      "| 33|   technician| married|secondary|    yes|   2362|     271| unknown|\n",
      "| 39|   management|  single| tertiary|     no|    633|     105| failure|\n",
      "| 29|     services| married|secondary|    yes|    363|     164| unknown|\n",
      "| 54|self-employed| married| tertiary|     no|    368|       7| unknown|\n",
      "| 52|       admin.| married|secondary|     no|   1113|      83| unknown|\n",
      "| 32|   management|  single| tertiary|    yes|    974|     228| unknown|\n",
      "| 27|      student|  single| tertiary|     no|    311|     462| success|\n",
      "| 33|  blue-collar|  single|secondary|     no|     45|      13| unknown|\n",
      "| 37|  blue-collar|divorced|secondary|    yes|    719|     118| failure|\n",
      "+---+-------------+--------+---------+-------+-------+--------+--------+\n",
      "\n"
     ]
    }
   ],
   "source": [
    "sample_df = sample_bank_df.simple_sample(10)\n",
    "sample_df.show()"
   ]
  },
  {
   "cell_type": "code",
   "execution_count": 8,
   "id": "48b7a547-d69a-47bc-9d53-42bc432d58fb",
   "metadata": {},
   "outputs": [],
   "source": [
    "from schemas.fake_schemas import bank_schema"
   ]
  },
  {
   "cell_type": "code",
   "execution_count": null,
   "id": "9135b556-a8c1-4828-ae7a-f42045e1cd9d",
   "metadata": {},
   "outputs": [],
   "source": [
    "sample_df.coalesce(1).write.mode('overwrite').csv('data/csv/100sample_bank', header=True, sep=',')"
   ]
  },
  {
   "cell_type": "code",
   "execution_count": 10,
   "id": "a3635d34-2c5c-4874-abc4-eedff7477606",
   "metadata": {},
   "outputs": [
    {
     "name": "stdout",
     "output_type": "stream",
     "text": [
      "+---+-------------+-------+---------+-------+-------+--------+--------+\n",
      "|age|          job|marital|education|housing|balance|duration|poutcome|\n",
      "+---+-------------+-------+---------+-------+-------+--------+--------+\n",
      "| 36| entrepreneur|married|secondary|     no|   2971|     247| failure|\n",
      "| 30|     services| single|  primary|    yes|   5746|     125| unknown|\n",
      "| 29|  blue-collar| single|secondary|     no|   2806|     294|   other|\n",
      "| 35|   technician|married|secondary|     no|      0|     125| unknown|\n",
      "| 30|   management| single| tertiary|     no|    697|     179| success|\n",
      "| 33|       admin.|married|secondary|     no|      0|     214| unknown|\n",
      "| 31|   management| single| tertiary|     no|   1308|     323| unknown|\n",
      "| 55|    housemaid|married|  primary|     no|      4|      85| unknown|\n",
      "| 59|      retired|married|secondary|     no|    136|     301| unknown|\n",
      "| 34|self-employed| single|secondary|    yes|      3|     301| unknown|\n",
      "| 37|  blue-collar|married|secondary|    yes|    374|     944| unknown|\n",
      "| 57|      retired|married|  primary|     no|    333|     336| unknown|\n",
      "| 53|      retired|married|secondary|    yes|    665|     371| unknown|\n",
      "| 53|  blue-collar|married|secondary|     no|    -76|     173|   other|\n",
      "| 27|  blue-collar|married|  primary|    yes|    106|     150| unknown|\n",
      "| 19|      student| single|  primary|     no|    608|     236| success|\n",
      "| 45|     services|married|  primary|    yes|   2406|     108| unknown|\n",
      "| 54|self-employed|married|secondary|    yes|    203|     238| unknown|\n",
      "| 29|   management| single| tertiary|    yes|    600|     170| unknown|\n",
      "| 43|    housemaid|married|secondary|     no|    150|     290| unknown|\n",
      "+---+-------------+-------+---------+-------+-------+--------+--------+\n",
      "only showing top 20 rows\n",
      "\n"
     ]
    }
   ],
   "source": [
    "spark.read.csv('data/csv/100sample_bank', schema=bank_schema, header=True).show()"
   ]
  },
  {
   "cell_type": "code",
   "execution_count": null,
   "id": "8b1d8cb0-a4b2-4e30-ab10-640e0b51b26f",
   "metadata": {},
   "outputs": [],
   "source": [
    "sample_schema = sample_df.schema\n",
    "spark.read.csv('data/csv/100sample_bank', sample_schema).show()"
   ]
  },
  {
   "cell_type": "code",
   "execution_count": 11,
   "id": "aa0068c5-b0e4-47c6-9506-03e5b30de056",
   "metadata": {},
   "outputs": [],
   "source": [
    "import pandas as pd\n",
    "from data.fake_datasets import sales_dataset"
   ]
  },
  {
   "cell_type": "code",
   "execution_count": 12,
   "id": "c2a579cd-d9ca-46fa-8bea-0379cb4da691",
   "metadata": {},
   "outputs": [
    {
     "name": "stdout",
     "output_type": "stream",
     "text": [
      "+-------+----+-------+\n",
      "|Product|Year|Revenue|\n",
      "+-------+----+-------+\n",
      "|      A|2010|    100|\n",
      "|      B|2010|    200|\n",
      "|      C|2010|    300|\n",
      "|      A|2011|    110|\n",
      "|      B|2011|    190|\n",
      "+-------+----+-------+\n",
      "only showing top 5 rows\n",
      "\n"
     ]
    }
   ],
   "source": [
    "df = spark.createDataFrame(pd.DataFrame(data=sales_dataset))\n",
    "df.show(5)"
   ]
  },
  {
   "cell_type": "code",
   "execution_count": 13,
   "id": "73a04441-7f1c-40ef-b769-9e3f230555fd",
   "metadata": {},
   "outputs": [
    {
     "data": {
      "text/plain": [
       "(9, 3)"
      ]
     },
     "execution_count": 13,
     "metadata": {},
     "output_type": "execute_result"
    }
   ],
   "source": [
    "from ophelia.functions import Shape\n",
    "\n",
    "df.Shape"
   ]
  },
  {
   "cell_type": "code",
   "execution_count": 14,
   "id": "f254ded8-d683-49d1-b6b1-ef84087738ba",
   "metadata": {},
   "outputs": [
    {
     "name": "stdout",
     "output_type": "stream",
     "text": [
      "+-------------------+\n",
      "|Revenue            |\n",
      "+-------------------+\n",
      "|null               |\n",
      "|1.0                |\n",
      "|0.5                |\n",
      "|-0.6333333333333333|\n",
      "|0.7272727272727273 |\n",
      "+-------------------+\n",
      "only showing top 5 rows\n",
      "\n"
     ]
    }
   ],
   "source": [
    "from ophelia.functions import PctChange\n",
    "\n",
    "df.pctChange().show(5, False)"
   ]
  },
  {
   "cell_type": "code",
   "execution_count": 15,
   "id": "84d3dd7d-187f-477b-a397-740684427d0c",
   "metadata": {},
   "outputs": [
    {
     "name": "stdout",
     "output_type": "stream",
     "text": [
      "+--------------------+\n",
      "|Revenue             |\n",
      "+--------------------+\n",
      "|0.0                 |\n",
      "|0.0                 |\n",
      "|2.0                 |\n",
      "|-0.44999999999999996|\n",
      "|-0.3666666666666667 |\n",
      "+--------------------+\n",
      "only showing top 5 rows\n",
      "\n"
     ]
    }
   ],
   "source": [
    "df.pctChange(periods=2).na.fill(0).show(5, False)"
   ]
  },
  {
   "cell_type": "code",
   "execution_count": 16,
   "id": "2c53b0ca-1610-4576-bd0d-b366f5f1da97",
   "metadata": {},
   "outputs": [
    {
     "name": "stdout",
     "output_type": "stream",
     "text": [
      "+---------------------+\n",
      "|Revenue              |\n",
      "+---------------------+\n",
      "|0.0                  |\n",
      "|-0.050000000000000044|\n",
      "|0.1578947368421053   |\n",
      "|0.0                  |\n",
      "|0.06666666666666665  |\n",
      "+---------------------+\n",
      "only showing top 5 rows\n",
      "\n"
     ]
    }
   ],
   "source": [
    "df.pctChange(partition_by=\"Product\", order_by=\"Year\", pct_cols=\"Revenue\").na.fill(0).show(5, False)"
   ]
  },
  {
   "cell_type": "code",
   "execution_count": 17,
   "id": "222b032e-4b82-4693-93c7-afc5575257e7",
   "metadata": {},
   "outputs": [
    {
     "name": "stdout",
     "output_type": "stream",
     "text": [
      "+--------------------+---------------------+\n",
      "|Year                |Revenue              |\n",
      "+--------------------+---------------------+\n",
      "|0.0                 |0.0                  |\n",
      "|4.975124378110429E-4|-0.050000000000000044|\n",
      "|4.972650422674363E-4|0.1578947368421053   |\n",
      "|0.0                 |0.0                  |\n",
      "|4.975124378110429E-4|0.06666666666666665  |\n",
      "+--------------------+---------------------+\n",
      "only showing top 5 rows\n",
      "\n"
     ]
    }
   ],
   "source": [
    "df.pctChange(partition_by=\"Product\", order_by=\"Year\", pct_cols=[\"Year\", \"Revenue\"]).na.fill(0).show(5, False)"
   ]
  },
  {
   "cell_type": "code",
   "execution_count": 19,
   "id": "7b66a5a9-6b93-4a8b-8838-b89a6066590f",
   "metadata": {},
   "outputs": [
    {
     "name": "stdout",
     "output_type": "stream",
     "text": [
      "+-------+----+----+----+\n",
      "|Product|2010|2011|2012|\n",
      "+-------+----+----+----+\n",
      "|A      |100 |110 |120 |\n",
      "|B      |200 |190 |220 |\n",
      "|C      |300 |320 |350 |\n",
      "+-------+----+----+----+\n",
      "\n"
     ]
    }
   ],
   "source": [
    "from ophelia.functions import Reshape\n",
    "\n",
    "# We can choose either one column to aggregate with one single operation\n",
    "agg_dict_test = {'Revenue': 'max'}\n",
    "\n",
    "# Or moreTthan one column and more than one operation\n",
    "_agg_dict_test = {\n",
    "    'Revenue': 'mean, count, sum, stddev, var, min',\n",
    "    'Year': 'count, sum',\n",
    "    'Product': 'count'\n",
    "}\n",
    "\n",
    "df.toWide(group_by=\"Product\", pivot_col=\"Year\", agg_dict=agg_dict_test).orderBy(\"Product\").show(5, False)"
   ]
  },
  {
   "cell_type": "code",
   "execution_count": 20,
   "id": "5bc3028e-d42b-4211-be2c-6f72b9a8278d",
   "metadata": {},
   "outputs": [],
   "source": [
    "from data.fake_datasets import bank_dataset"
   ]
  },
  {
   "cell_type": "code",
   "execution_count": 21,
   "id": "572de837-5acc-4dae-9b6b-f2569446149f",
   "metadata": {},
   "outputs": [
    {
     "name": "stdout",
     "output_type": "stream",
     "text": [
      "+---+----------+--------+---------+-------+-------+-------+----+---+-----+--------+--------+\n",
      "|age|       job| marital|education|default|balance|housing|loan|day|month|duration|campaign|\n",
      "+---+----------+--------+---------+-------+-------+-------+----+---+-----+--------+--------+\n",
      "| 59|    admin.| married|secondary|     no|   2343|    yes| yes|  5|  may|    1042|       1|\n",
      "| 56|    admin.| married|secondary|    yes|     45|     no|  no|  5|  may|    1467|       1|\n",
      "| 41|technician| married|secondary|     no|   1270|    yes|  no|  5|  jun|    1389|       1|\n",
      "| 55|  services| married|secondary|     no|   2476|    yes|  no|  5|  jul|     579|       1|\n",
      "| 54|    admin.| married| tertiary|    yes|    184|     no|  no|  5|  jan|     673|       2|\n",
      "| 42|management|  single| tertiary|     no|      0|    yes| yes|  5|  dec|     562|       2|\n",
      "| 56|management| married| tertiary|     no|    830|    yes| yes|  6|  oct|    1201|       1|\n",
      "| 60|   retired|divorced|secondary|     no|    545|    yes|  no|  6|  sep|    1030|       1|\n",
      "| 37|technician| married|secondary|     no|      1|    yes| yes|  6|  jan|     608|       1|\n",
      "| 28|  services|  single|secondary|    yes|   5090|    yes|  no|  6|  jul|    1297|       3|\n",
      "+---+----------+--------+---------+-------+-------+-------+----+---+-----+--------+--------+\n",
      "\n"
     ]
    }
   ],
   "source": [
    "bank_df = spark.createDataFrame(pd.DataFrame(bank_dataset))\n",
    "bank_df.show()"
   ]
  },
  {
   "cell_type": "code",
   "execution_count": null,
   "id": "3f4b5587-5143-471e-aa10-95a3398f8652",
   "metadata": {},
   "outputs": [],
   "source": [
    "from ophelia.functions import Selects\n",
    "from ophelia.generic import regex_expr\n",
    "\n",
    "bank_df.selectRegex(regex_expr(['day', 'ous', 'aig'])).show(5, False)"
   ]
  },
  {
   "cell_type": "code",
   "execution_count": null,
   "id": "2cc8f750-e3bd-453b-95fe-5ac533bc4a64",
   "metadata": {},
   "outputs": [],
   "source": [
    "bank_df.selectContains(['day', 'ous', 'aig']).show(5, False)"
   ]
  },
  {
   "cell_type": "code",
   "execution_count": null,
   "id": "5abfe626-88a7-4911-a810-24182c0c36f5",
   "metadata": {},
   "outputs": [],
   "source": [
    "from ophelia.generic import string_match\n",
    "\n",
    "bank_df.where(string_match('housing == yes')).crosstab('education', 'campaign').orderBy('education_campaign').show()"
   ]
  },
  {
   "cell_type": "code",
   "execution_count": null,
   "id": "02e5adaf-468f-45a8-bf73-d9c8de474b34",
   "metadata": {},
   "outputs": [],
   "source": [
    "test_agg_dict_ = {\n",
    "    'balance': 'sum'\n",
    "}\n",
    "bank_df.where(string_match('housing == yes')).toWide('education', 'campaign', test_agg_dict_).orderBy('education_campaign').show()"
   ]
  },
  {
   "cell_type": "code",
   "execution_count": null,
   "id": "1559b3df-9b7f-4e07-bc5f-95de1f78807b",
   "metadata": {},
   "outputs": [],
   "source": [
    "from ophelia.functions import MapItem\n",
    "\n",
    "map_values = {\n",
    "    'A': '0',\n",
    "    'B': '1',\n",
    "    'C': '2'\n",
    "}\n",
    "\n",
    "df.mapItem('Product', 'bin_product', map_values).show()"
   ]
  },
  {
   "cell_type": "code",
   "execution_count": null,
   "id": "355b9fec-dbfd-45f3-beca-021a96d94355",
   "metadata": {},
   "outputs": [],
   "source": []
  }
 ],
 "metadata": {
  "kernelspec": {
   "display_name": "Python 3",
   "language": "python",
   "name": "python3"
  },
  "language_info": {
   "codemirror_mode": {
    "name": "ipython",
    "version": 3
   },
   "file_extension": ".py",
   "mimetype": "text/x-python",
   "name": "python",
   "nbconvert_exporter": "python",
   "pygments_lexer": "ipython3",
   "version": "3.7.10"
  }
 },
 "nbformat": 4,
 "nbformat_minor": 5
}
