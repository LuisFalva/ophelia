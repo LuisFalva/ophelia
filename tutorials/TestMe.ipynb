{
 "cells": [
  {
   "cell_type": "code",
   "execution_count": 1,
   "id": "118308d2-89b0-4d38-ba21-5a85b7ece962",
   "metadata": {},
   "outputs": [],
   "source": [
    "from ophelia.start import Ophelia"
   ]
  },
  {
   "cell_type": "code",
   "execution_count": 2,
   "id": "53208e6d-3787-4e12-b90d-1e5ffbc8c626",
   "metadata": {},
   "outputs": [
    {
     "name": "stdout",
     "output_type": "stream",
     "text": [
      "13:41:19.970 Ophelia [TAPE] +-----------------------------------------------------------------+\n",
      "13:41:19.970 Ophelia [INFO] | Hello! This engine is for data mining & ml pipelines in PySpark |\n",
      "13:41:19.970 Ophelia [INFO] | Welcome to Ophelia Spark miner engine                           |\n",
      "13:41:19.970 Ophelia [INFO] | Package Version Ophelia.0.0.1                                   |\n",
      "13:41:19.970 Ophelia [WARN] | V for Vendata...                                                |\n",
      "13:41:19.970 Ophelia [TAPE] +-----------------------------------------------------------------+\n",
      "13:41:19.970 Ophelia [WARN]                   - Ophelia a Spark miner -                    \n",
      "13:41:19.970 Ophelia [MASK]   █ █ █ █ █ █ █ █ █ █ █ █ █ █ █ █ █ █ █ █ █ █ █ █ █ █ █ █ █ █ █\n",
      "13:41:19.970 Ophelia [MASK]   █ █ █ █ ╬ ╬ ╬ ╬ ╬ ╬ ╬ ╬ ╬ ╬ ╬ ╬ ╬ ╬ ╬ ╬ ╬ ╬ ╬ ╬ ╬ ╬ ╬ █ █ █ █\n",
      "13:41:19.970 Ophelia [MASK]   █ █ ╬ ╬ ╬ ╬ ╬ ╬ ╬ ╬ ╬ ╬ ╬ ╬ ╬ ╬ ╬ ╬ ╬ ╬ ╬ ╬ ╬ ╬ ╬ ╬ ╬ ╬ ╬ █ █\n",
      "13:41:19.970 Ophelia [MASK]   █ ╬ ╬ ╬ ╬ ╬ ╬ ╬ ╬ ╬ ╬ ╬ ╬ ╬ ╬ ╬ ╬ ╬ ╬ ╬ ╬ ╬ ╬ ╬ ╬ ╬ ╬ ╬ ╬ ╬ █\n",
      "13:41:19.970 Ophelia [MASK]   █ ╬ ╬ ╬ █ █ █ █ █ █ █ ╬ ╬ ╬ ╬ ╬ ╬ ╬ ╬ ╬ █ █ █ █ █ █ █ ╬ ╬ ╬ █\n",
      "13:41:19.970 Ophelia [MASK]   █ ╬ ╬ █ █ ╬ ╬ ╬ ╬ █ █ █ ╬ ╬ ╬ ╬ ╬ ╬ ╬ █ █ █ ╬ ╬ ╬ ╬ █ █ ╬ ╬ █\n",
      "13:41:19.970 Ophelia [MASK]   █ ╬ █ █ ╬ ╬ ╬ ╬ ╬ ╬ ╬ █ █ ╬ ╬ ╬ ╬ ╬ █ █ ╬ ╬ ╬ ╬ ╬ ╬ ╬ █ █ ╬ █\n",
      "13:41:19.971 Ophelia [MASK]   █ ╬ ╬ ╬ ╬ ╬ ╬ ╬ ╬ ╬ ╬ ╬ ╬ ╬ ╬ ╬ ╬ ╬ ╬ ╬ ╬ ╬ ╬ ╬ ╬ ╬ ╬ ╬ ╬ ╬ █\n",
      "13:41:19.971 Ophelia [MASK]   █ ╬ ╬ ╬ ╬ █ █ █ █ █ ╬ ╬ ╬ ╬ ╬ ╬ ╬ ╬ ╬ ╬ ╬ █ █ █ █ █ ╬ ╬ ╬ ╬ █\n",
      "13:41:19.971 Ophelia [MASK]   █ ╬ ╬ █ █ █ █ █ █ █ █ █ ╬ ╬ ╬ ╬ ╬ ╬ ╬ █ █ █ █ █ █ █ █ █ ╬ ╬ █\n",
      "13:41:19.971 Ophelia [MASK]   █ ╬ ╬ ╬ ╬ ╬ ╬ ╬ ╬ ╬ ╬ ╬ ╬ ╬ ╬ ╬ ╬ ╬ ╬ ╬ ╬ ╬ ╬ ╬ ╬ ╬ ╬ ╬ ╬ ╬ █\n",
      "13:41:19.971 Ophelia [MASK]   █ ╬ ╬ ╬ ╬ ╬ ╬ ╬ ╬ ╬ ╬ ╬ ╬ ╬ ╬ █ ╬ ╬ ╬ ╬ ╬ ╬ ╬ ╬ ╬ ╬ ╬ ╬ ╬ ╬ █\n",
      "13:41:19.971 Ophelia [MASK]   █ ╬ ╬ ╬ ╬ ╬ ╬ ╬ ╬ ╬ ╬ ╬ ╬ ╬ ╬ █ ╬ ╬ ╬ ╬ ╬ ╬ ╬ ╬ ╬ ╬ ╬ ╬ ╬ ╬ █\n",
      "13:41:19.971 Ophelia [MASK]   █ ╬ ╬ ╬ ╬ ╬ ╬ ╬ ╬ ╬ ╬ ╬ ╬ ╬ ╬ █ ╬ ╬ ╬ ╬ ╬ ╬ ╬ ╬ ╬ ╬ ╬ ╬ ╬ ╬ █\n",
      "13:41:19.971 Ophelia [MASK]   █ ╬ ╬ ╬ ▓ ▓ ▓ ▓ ╬ ╬ ╬ ╬ ╬ ╬ ╬ █ ╬ ╬ ╬ ╬ ╬ ╬ ╬ ▓ ▓ ▓ ▓ ╬ ╬ ╬ █\n",
      "13:41:19.971 Ophelia [MASK]   █ ╬ ╬ ▓ ▓ ▓ ▓ ▓ ▓ ╬ ╬ █ ╬ ╬ ╬ █ ╬ ╬ ╬ █ ╬ ╬ ▓ ▓ ▓ ▓ ▓ ▓ ╬ ╬ █\n",
      "13:41:19.971 Ophelia [MASK]   █ ╬ ╬ ╬ ▓ ▓ ▓ ▓ ╬ ╬ █ █ ╬ ╬ ╬ █ ╬ ╬ ╬ █ █ ╬ ╬ ▓ ▓ ▓ ▓ ╬ ╬ ╬ █\n",
      "13:41:19.971 Ophelia [MASK]   █ ╬ ╬ ╬ ╬ ╬ ╬ ╬ ╬ █ █ ╬ ╬ ╬ ╬ █ ╬ ╬ ╬ ╬ █ █ ╬ ╬ ╬ ╬ ╬ ╬ ╬ ╬ █\n",
      "13:41:19.971 Ophelia [MASK]   █ ╬ ╬ ╬ ╬ ╬ █ █ █ █ ╬ ╬ ╬ ╬ █ █ █ ╬ ╬ ╬ ╬ █ █ █ █ ╬ ╬ ╬ ╬ ╬ █\n",
      "13:41:19.971 Ophelia [MASK]   █ ╬ ╬ ╬ ╬ ╬ ╬ ╬ ╬ ╬ ╬ ╬ ╬ ╬ █ █ █ ╬ ╬ ╬ ╬ ╬ ╬ ╬ ╬ ╬ ╬ ╬ ╬ ╬ █\n",
      "13:41:19.971 Ophelia [MASK]   █ █ ╬ ╬ █ ╬ ╬ ╬ ╬ ╬ ╬ ╬ ╬ █ █ █ █ █ ╬ ╬ ╬ ╬ ╬ ╬ ╬ ╬ █ ╬ ╬ █ █\n",
      "13:41:19.971 Ophelia [MASK]   █ █ ╬ ╬ █ █ ╬ ╬ ╬ ╬ ╬ ╬ █ █ █ █ █ █ █ ╬ ╬ ╬ ╬ ╬ ╬ █ █ ╬ ╬ █ █\n",
      "13:41:19.971 Ophelia [MASK]   █ █ ╬ ╬ ▓ █ █ █ ╬ ╬ ╬ █ █ █ █ ╬ █ █ █ █ ╬ ╬ ╬ █ █ █ ▓ ╬ ╬ █ █\n",
      "13:41:19.971 Ophelia [MASK]   █ █ █ ╬ ╬ ▓ ▓ █ █ █ █ █ █ █ ╬ ╬ ╬ █ █ █ █ █ █ █ ▓ ▓ ╬ ╬ █ █ █\n",
      "13:41:19.971 Ophelia [MASK]   █ █ █ ╬ ╬ ╬ ╬ ▓ ▓ ▓ ▓ ▓ ▓ ▓ ▓ ▓ ▓ ▓ ▓ ▓ ▓ ▓ ▓ ▓ ╬ ╬ ╬ ╬ █ █ █\n",
      "13:41:19.971 Ophelia [MASK]   █ █ █ █ ╬ ╬ ╬ ╬ ╬ ╬ ╬ ╬ ╬ ╬ █ █ █ ╬ ╬ ╬ ╬ ╬ ╬ ╬ ╬ ╬ ╬ █ █ █ █\n",
      "13:41:19.972 Ophelia [MASK]   █ █ █ █ █ ╬ ╬ ╬ ╬ ╬ ╬ ╬ ╬ ╬ ╬ █ ╬ ╬ ╬ ╬ ╬ ╬ ╬ ╬ ╬ ╬ █ █ █ █ █\n",
      "13:41:19.972 Ophelia [MASK]   █ █ █ █ █ █ ╬ ╬ ╬ ╬ ╬ ╬ ╬ ╬ █ █ █ ╬ ╬ ╬ ╬ ╬ ╬ ╬ ╬ █ █ █ █ █ █\n",
      "13:41:19.972 Ophelia [MASK]   █ █ █ █ █ █ █ ╬ ╬ ╬ ╬ ╬ ╬ ╬ █ █ █ ╬ ╬ ╬ ╬ ╬ ╬ ╬ █ █ █ █ █ █ █\n",
      "13:41:19.972 Ophelia [MASK]   █ █ █ █ █ █ █ █ ╬ ╬ ╬ ╬ ╬ ╬ █ █ █ ╬ ╬ ╬ ╬ ╬ ╬ █ █ █ █ █ █ █ █\n",
      "13:41:19.972 Ophelia [MASK]   █ █ █ █ █ █ █ █ █ ╬ ╬ ╬ ╬ ╬ █ █ █ ╬ ╬ ╬ ╬ ╬ █ █ █ █ █ █ █ █ █\n",
      "13:41:19.972 Ophelia [MASK]   █ █ █ █ █ █ █ █ █ █ █ ╬ ╬ ╬ ╬ █ ╬ ╬ ╬ ╬ █ █ █ █ █ █ █ █ █ █ █\n",
      "13:41:19.972 Ophelia [MASK]   █ █ █ █ █ █ █ █ █ █ █ █ █ █ █ █ █ █ █ █ █ █ █ █ █ █ █ █ █ █ █\n",
      " \n",
      "13:41:19.972 Ophelia [WARN] Initializing Spark Session\n",
      "13:41:30.159 Ophelia [INFO] Spark Version: 3.0.0\n",
      "13:41:30.159 Ophelia [INFO] This Is: 'Ophelia-Test' App\n",
      "13:41:30.160 Ophelia [INFO] Spark UI Address: 'http://10.0.0.21:4040\n",
      "13:41:30.160 Ophelia [INFO] Spark Context Initialized Success\n"
     ]
    }
   ],
   "source": [
    "ophelia = Ophelia(\"Ophelia-Test\", True)"
   ]
  },
  {
   "cell_type": "code",
   "execution_count": 3,
   "id": "40b45118-9aca-410f-81ef-f63ad190a611",
   "metadata": {},
   "outputs": [
    {
     "name": "stdout",
     "output_type": "stream",
     "text": [
      "13:13:21.153 Ophelia [INFO] Spark Context Initialized Success\n"
     ]
    }
   ],
   "source": [
    "sc = ophelia.Spark.build_spark_context()\n",
    "spark = ophelia.SparkSession"
   ]
  },
  {
   "cell_type": "code",
   "execution_count": 4,
   "id": "d908baae-d248-46e1-98b1-d170fea98b1d",
   "metadata": {},
   "outputs": [],
   "source": [
    "from ophelia.read.spark_read import Read"
   ]
  },
  {
   "cell_type": "code",
   "execution_count": 5,
   "id": "0942d8ae-27c8-4920-9c0b-c9f122a8180a",
   "metadata": {},
   "outputs": [
    {
     "name": "stdout",
     "output_type": "stream",
     "text": [
      "13:13:21.166 Ophelia [INFO] Read CSV File From Path: data/csv/100sample_bank\n",
      "+---+-------------+-------+---------+-------+-------+--------+--------+\n",
      "|age|          job|marital|education|housing|balance|duration|poutcome|\n",
      "+---+-------------+-------+---------+-------+-------+--------+--------+\n",
      "| 36| entrepreneur|married|secondary|     no|   2971|     247| failure|\n",
      "| 30|     services| single|  primary|    yes|   5746|     125| unknown|\n",
      "| 29|  blue-collar| single|secondary|     no|   2806|     294|   other|\n",
      "| 35|   technician|married|secondary|     no|      0|     125| unknown|\n",
      "| 30|   management| single| tertiary|     no|    697|     179| success|\n",
      "| 33|       admin.|married|secondary|     no|      0|     214| unknown|\n",
      "| 31|   management| single| tertiary|     no|   1308|     323| unknown|\n",
      "| 55|    housemaid|married|  primary|     no|      4|      85| unknown|\n",
      "| 59|      retired|married|secondary|     no|    136|     301| unknown|\n",
      "| 34|self-employed| single|secondary|    yes|      3|     301| unknown|\n",
      "| 37|  blue-collar|married|secondary|    yes|    374|     944| unknown|\n",
      "| 57|      retired|married|  primary|     no|    333|     336| unknown|\n",
      "| 53|      retired|married|secondary|    yes|    665|     371| unknown|\n",
      "| 53|  blue-collar|married|secondary|     no|    -76|     173|   other|\n",
      "| 27|  blue-collar|married|  primary|    yes|    106|     150| unknown|\n",
      "| 19|      student| single|  primary|     no|    608|     236| success|\n",
      "| 45|     services|married|  primary|    yes|   2406|     108| unknown|\n",
      "| 54|self-employed|married|secondary|    yes|    203|     238| unknown|\n",
      "| 29|   management| single| tertiary|    yes|    600|     170| unknown|\n",
      "| 43|    housemaid|married|secondary|     no|    150|     290| unknown|\n",
      "+---+-------------+-------+---------+-------+-------+--------+--------+\n",
      "only showing top 20 rows\n",
      "\n"
     ]
    }
   ],
   "source": [
    "sample_bank_df = spark.readFile('data/csv/100sample_bank', 'csv')\n",
    "sample_bank_df.show()"
   ]
  },
  {
   "cell_type": "code",
   "execution_count": 6,
   "id": "d7b152d0-cf1a-422b-a15a-de05b3357ed6",
   "metadata": {},
   "outputs": [],
   "source": [
    "from ophelia.functions import DynamicSampling"
   ]
  },
  {
   "cell_type": "code",
   "execution_count": 9,
   "id": "c96f5539-5762-48da-bd4a-7ba7e8016825",
   "metadata": {},
   "outputs": [
    {
     "name": "stdout",
     "output_type": "stream",
     "text": [
      "+---+----------+--------+---------+-------+-------+--------+--------+\n",
      "|age|       job| marital|education|housing|balance|duration|poutcome|\n",
      "+---+----------+--------+---------+-------+-------+--------+--------+\n",
      "| 33|management|  single| tertiary|    yes|    816|     383| failure|\n",
      "| 55| housemaid| married|  primary|     no|      4|      85| unknown|\n",
      "| 38|management|divorced| tertiary|    yes|    151|      50| unknown|\n",
      "| 57|management|divorced| tertiary|    yes|   8897|     865| unknown|\n",
      "| 33|    admin.| married|secondary|     no|    920|     111| success|\n",
      "| 43| housemaid| married|secondary|     no|    150|     290| unknown|\n",
      "| 30|    admin.|divorced|secondary|    yes|    377|     524| unknown|\n",
      "| 27|management|  single|secondary|    yes|    116|     138| unknown|\n",
      "| 41|  services|divorced|secondary|    yes|    840|     938| unknown|\n",
      "| 42|management| married| tertiary|     no|    294|     513| unknown|\n",
      "+---+----------+--------+---------+-------+-------+--------+--------+\n",
      "\n"
     ]
    }
   ],
   "source": [
    "sample_df = sample_bank_df.simple_sample(10)\n",
    "sample_df.show()"
   ]
  },
  {
   "cell_type": "code",
   "execution_count": null,
   "id": "17276ea7-7c3e-4994-a976-852c188633f7",
   "metadata": {},
   "outputs": [],
   "source": [
    "sample_schema"
   ]
  },
  {
   "cell_type": "code",
   "execution_count": 9,
   "id": "f85b5661-72e6-4cf3-b0ae-d47fdd4de2a6",
   "metadata": {},
   "outputs": [
    {
     "data": {
      "text/plain": [
       "str"
      ]
     },
     "execution_count": 9,
     "metadata": {},
     "output_type": "execute_result"
    }
   ],
   "source": [
    "spark._sc.uiWebUrl.__class__"
   ]
  },
  {
   "cell_type": "code",
   "execution_count": 28,
   "id": "56bcc386-88f5-4d45-8134-1063e987ae6a",
   "metadata": {},
   "outputs": [
    {
     "data": {
      "text/html": [
       "\n",
       "            <div>\n",
       "                <p><b>SparkSession - in-memory</b></p>\n",
       "                \n",
       "        <div>\n",
       "            <p><b>SparkContext</b></p>\n",
       "\n",
       "            <p><a href=\"http://10.0.0.21:4040\">Spark UI</a></p>\n",
       "\n",
       "            <dl>\n",
       "              <dt>Version</dt>\n",
       "                <dd><code>v3.0.0</code></dd>\n",
       "              <dt>Master</dt>\n",
       "                <dd><code>local[*]</code></dd>\n",
       "              <dt>AppName</dt>\n",
       "                <dd><code>Ophelia-Test</code></dd>\n",
       "            </dl>\n",
       "        </div>\n",
       "        \n",
       "            </div>\n",
       "        "
      ],
      "text/plain": [
       "<pyspark.sql.session.SparkSession at 0x7fe8fceec350>"
      ]
     },
     "execution_count": 28,
     "metadata": {},
     "output_type": "execute_result"
    }
   ],
   "source": [
    "from pyspark.sql import SparkSession\n",
    "\n",
    "SparkSession.getActiveSession()"
   ]
  },
  {
   "cell_type": "code",
   "execution_count": 24,
   "id": "c9f1fcdc-48ad-452c-a085-2ae4a067e021",
   "metadata": {},
   "outputs": [
    {
     "data": {
      "text/plain": [
       "<bound method SparkContext.setJobDescription of <SparkContext master=local[*] appName=Ophelia-Test>>"
      ]
     },
     "execution_count": 24,
     "metadata": {},
     "output_type": "execute_result"
    }
   ],
   "source": [
    "spark._sc.setJobDescription"
   ]
  },
  {
   "cell_type": "code",
   "execution_count": 18,
   "id": "48b7a547-d69a-47bc-9d53-42bc432d58fb",
   "metadata": {},
   "outputs": [],
   "source": [
    "from schemas.fake_schemas import bank_schema"
   ]
  },
  {
   "cell_type": "code",
   "execution_count": null,
   "id": "9135b556-a8c1-4828-ae7a-f42045e1cd9d",
   "metadata": {},
   "outputs": [],
   "source": [
    "sample_df.coalesce(1).write.mode('overwrite').csv('data/csv/100sample_bank', header=True, sep=',')"
   ]
  },
  {
   "cell_type": "code",
   "execution_count": null,
   "id": "a3635d34-2c5c-4874-abc4-eedff7477606",
   "metadata": {},
   "outputs": [],
   "source": [
    "spark.read.csv('data/csv/100sample_bank', header=True).show()"
   ]
  },
  {
   "cell_type": "code",
   "execution_count": null,
   "id": "8b1d8cb0-a4b2-4e30-ab10-640e0b51b26f",
   "metadata": {},
   "outputs": [],
   "source": [
    "sample_schema = sample_df.schema\n",
    "spark.read.csv('data/csv/100sample_bank', sample_schema).show()"
   ]
  },
  {
   "cell_type": "code",
   "execution_count": null,
   "id": "aa0068c5-b0e4-47c6-9506-03e5b30de056",
   "metadata": {},
   "outputs": [],
   "source": [
    "import pandas as pd\n",
    "from data.fake_datasets import sales_dataset"
   ]
  },
  {
   "cell_type": "code",
   "execution_count": null,
   "id": "c2a579cd-d9ca-46fa-8bea-0379cb4da691",
   "metadata": {},
   "outputs": [],
   "source": [
    "df = spark.createDataFrame(pd.DataFrame(data=sales_dataset))\n",
    "df.show(5)"
   ]
  },
  {
   "cell_type": "code",
   "execution_count": null,
   "id": "73a04441-7f1c-40ef-b769-9e3f230555fd",
   "metadata": {},
   "outputs": [],
   "source": [
    "from ophelia.functions import Shape\n",
    "\n",
    "df.Shape"
   ]
  },
  {
   "cell_type": "code",
   "execution_count": null,
   "id": "f254ded8-d683-49d1-b6b1-ef84087738ba",
   "metadata": {},
   "outputs": [],
   "source": [
    "from ophelia.functions import PctChange\n",
    "\n",
    "df.pctChange().show(5, False)"
   ]
  },
  {
   "cell_type": "code",
   "execution_count": null,
   "id": "84d3dd7d-187f-477b-a397-740684427d0c",
   "metadata": {},
   "outputs": [],
   "source": [
    "df.pctChange(periods=2).na.fill(0).show(5, False)"
   ]
  },
  {
   "cell_type": "code",
   "execution_count": null,
   "id": "2c53b0ca-1610-4576-bd0d-b366f5f1da97",
   "metadata": {},
   "outputs": [],
   "source": [
    "df.pctChange(partition_by=\"Product\", order_by=\"Year\", pct_cols=\"Revenue\").na.fill(0).show(5, False)"
   ]
  },
  {
   "cell_type": "code",
   "execution_count": null,
   "id": "222b032e-4b82-4693-93c7-afc5575257e7",
   "metadata": {},
   "outputs": [],
   "source": [
    "df.pctChange(partition_by=\"Product\", order_by=\"Year\", pct_cols=[\"Year\", \"Revenue\"]).na.fill(0).show(5, False)"
   ]
  },
  {
   "cell_type": "code",
   "execution_count": null,
   "id": "7b66a5a9-6b93-4a8b-8838-b89a6066590f",
   "metadata": {},
   "outputs": [],
   "source": [
    "from ophelia.functions import Reshape\n",
    "\n",
    "# We can choose either one column to aggregate with one single operation\n",
    "agg_dict_test = {'Revenue': 'max'}\n",
    "\n",
    "# Or moreTthan one column and more than one operation\n",
    "_agg_dict_test = {\n",
    "    'Revenue': 'mean, count, sum, stddev, var, min',\n",
    "    'Year': 'count, sum',\n",
    "    'Product': 'count'\n",
    "}\n",
    "\n",
    "df.toWide(group_by=\"Product\", pivot_col=\"Year\", agg_dict=agg_dict_test).orderBy(\"Product_Year\").show(5, False)"
   ]
  },
  {
   "cell_type": "code",
   "execution_count": null,
   "id": "5bc3028e-d42b-4211-be2c-6f72b9a8278d",
   "metadata": {},
   "outputs": [],
   "source": [
    "from data.fake_datasets import bank_dataset"
   ]
  },
  {
   "cell_type": "code",
   "execution_count": null,
   "id": "572de837-5acc-4dae-9b6b-f2569446149f",
   "metadata": {},
   "outputs": [],
   "source": [
    "bank_df = spark.createDataFrame(pd.DataFrame(bank_dataset))\n",
    "bank_df.show()"
   ]
  },
  {
   "cell_type": "code",
   "execution_count": null,
   "id": "3f4b5587-5143-471e-aa10-95a3398f8652",
   "metadata": {},
   "outputs": [],
   "source": [
    "from ophelia.functions import Selects\n",
    "from ophelia.generic import regex_expr\n",
    "\n",
    "bank_df.selectRegex(regex_expr(['day', 'ous', 'aig'])).show(5, False)"
   ]
  },
  {
   "cell_type": "code",
   "execution_count": null,
   "id": "2cc8f750-e3bd-453b-95fe-5ac533bc4a64",
   "metadata": {},
   "outputs": [],
   "source": [
    "bank_df.selectContains(['day', 'ous', 'aig']).show(5, False)"
   ]
  },
  {
   "cell_type": "code",
   "execution_count": null,
   "id": "5abfe626-88a7-4911-a810-24182c0c36f5",
   "metadata": {},
   "outputs": [],
   "source": [
    "from ophelia.generic import string_match\n",
    "\n",
    "bank_df.where(string_match('housing == yes')).crosstab('education', 'campaign').orderBy('education_campaign').show()"
   ]
  },
  {
   "cell_type": "code",
   "execution_count": null,
   "id": "02e5adaf-468f-45a8-bf73-d9c8de474b34",
   "metadata": {},
   "outputs": [],
   "source": [
    "test_agg_dict_ = {\n",
    "    'balance': 'sum'\n",
    "}\n",
    "bank_df.where(string_match('housing == yes')).toWide('education', 'campaign', test_agg_dict_).orderBy('education_campaign').show()"
   ]
  },
  {
   "cell_type": "code",
   "execution_count": null,
   "id": "1559b3df-9b7f-4e07-bc5f-95de1f78807b",
   "metadata": {},
   "outputs": [],
   "source": [
    "from ophelia.functions import MapItem\n",
    "\n",
    "map_values = {\n",
    "    'A': '0',\n",
    "    'B': '1',\n",
    "    'C': '2'\n",
    "}\n",
    "\n",
    "df.mapItem('Product', 'bin_product', map_values).show()"
   ]
  },
  {
   "cell_type": "code",
   "execution_count": null,
   "id": "355b9fec-dbfd-45f3-beca-021a96d94355",
   "metadata": {},
   "outputs": [],
   "source": []
  }
 ],
 "metadata": {
  "kernelspec": {
   "display_name": "Python 3",
   "language": "python",
   "name": "python3"
  },
  "language_info": {
   "codemirror_mode": {
    "name": "ipython",
    "version": 3
   },
   "file_extension": ".py",
   "mimetype": "text/x-python",
   "name": "python",
   "nbconvert_exporter": "python",
   "pygments_lexer": "ipython3",
   "version": "3.7.10"
  }
 },
 "nbformat": 4,
 "nbformat_minor": 5
}
