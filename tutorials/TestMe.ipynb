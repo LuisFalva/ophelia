{
 "cells": [
  {
   "cell_type": "code",
   "execution_count": 1,
   "id": "118308d2-89b0-4d38-ba21-5a85b7ece962",
   "metadata": {},
   "outputs": [],
   "source": [
    "from ophelia_spark.start import Ophelia"
   ]
  },
  {
   "cell_type": "code",
   "execution_count": 2,
   "id": "53208e6d-3787-4e12-b90d-1e5ffbc8c626",
   "metadata": {},
   "outputs": [
    {
     "name": "stdout",
     "output_type": "stream",
     "text": [
      "02:22:06.524 Ophelia [INFO] Ophelia Active Session\n",
      "02:22:06.524 Ophelia [INFO] Ophelia Active Session\n",
      "02:22:06.524 Ophelia [INFO] Ophelia Active Session\n",
      "02:22:06.887 Ophelia [TAPE] +-----------------------------------------------------------------+\n",
      "02:22:06.888 Ophelia [INFO] | Hello! This engine is for data mining & ml pipelines in PySpark |\n",
      "02:22:06.888 Ophelia [INFO] | Welcome to Ophelia Spark miner engine                           |\n",
      "02:22:06.888 Ophelia [INFO] | Package Version Ophelia.0.0.1                                   |\n",
      "02:22:06.888 Ophelia [WARN] | V for Vendata...                                                |\n",
      "02:22:06.888 Ophelia [TAPE] +-----------------------------------------------------------------+\n",
      "02:22:06.888 Ophelia [WARN]                       - Ophelia Spark -                        \n",
      "02:22:06.888 Ophelia [MASK]   █ █ █ █ █ █ █ █ █ █ █ █ █ █ █ █ █ █ █ █ █ █ █ █ █ █ █ █ █ █ █\n",
      "02:22:06.888 Ophelia [MASK]   █ █ █ █ ╬ ╬ ╬ ╬ ╬ ╬ ╬ ╬ ╬ ╬ ╬ ╬ ╬ ╬ ╬ ╬ ╬ ╬ ╬ ╬ ╬ ╬ ╬ █ █ █ █\n",
      "02:22:06.888 Ophelia [MASK]   █ █ ╬ ╬ ╬ ╬ ╬ ╬ ╬ ╬ ╬ ╬ ╬ ╬ ╬ ╬ ╬ ╬ ╬ ╬ ╬ ╬ ╬ ╬ ╬ ╬ ╬ ╬ ╬ █ █\n",
      "02:22:06.888 Ophelia [MASK]   █ ╬ ╬ ╬ ╬ ╬ ╬ ╬ ╬ ╬ ╬ ╬ ╬ ╬ ╬ ╬ ╬ ╬ ╬ ╬ ╬ ╬ ╬ ╬ ╬ ╬ ╬ ╬ ╬ ╬ █\n",
      "02:22:06.888 Ophelia [MASK]   █ ╬ ╬ ╬ █ █ █ █ █ █ █ ╬ ╬ ╬ ╬ ╬ ╬ ╬ ╬ ╬ █ █ █ █ █ █ █ ╬ ╬ ╬ █\n",
      "02:22:06.888 Ophelia [MASK]   █ ╬ ╬ █ █ ╬ ╬ ╬ ╬ █ █ █ ╬ ╬ ╬ ╬ ╬ ╬ ╬ █ █ █ ╬ ╬ ╬ ╬ █ █ ╬ ╬ █\n",
      "02:22:06.888 Ophelia [MASK]   █ ╬ █ █ ╬ ╬ ╬ ╬ ╬ ╬ ╬ █ █ ╬ ╬ ╬ ╬ ╬ █ █ ╬ ╬ ╬ ╬ ╬ ╬ ╬ █ █ ╬ █\n",
      "02:22:06.888 Ophelia [MASK]   █ ╬ ╬ ╬ ╬ ╬ ╬ ╬ ╬ ╬ ╬ ╬ ╬ ╬ ╬ ╬ ╬ ╬ ╬ ╬ ╬ ╬ ╬ ╬ ╬ ╬ ╬ ╬ ╬ ╬ █\n",
      "02:22:06.888 Ophelia [MASK]   █ ╬ ╬ ╬ ╬ █ █ █ █ █ ╬ ╬ ╬ ╬ ╬ ╬ ╬ ╬ ╬ ╬ ╬ █ █ █ █ █ ╬ ╬ ╬ ╬ █\n",
      "02:22:06.888 Ophelia [MASK]   █ ╬ ╬ █ █ █ █ █ █ █ █ █ ╬ ╬ ╬ ╬ ╬ ╬ ╬ █ █ █ █ █ █ █ █ █ ╬ ╬ █\n",
      "02:22:06.888 Ophelia [MASK]   █ ╬ ╬ ╬ ╬ ╬ ╬ ╬ ╬ ╬ ╬ ╬ ╬ ╬ ╬ ╬ ╬ ╬ ╬ ╬ ╬ ╬ ╬ ╬ ╬ ╬ ╬ ╬ ╬ ╬ █\n",
      "02:22:06.888 Ophelia [MASK]   █ ╬ ╬ ╬ ╬ ╬ ╬ ╬ ╬ ╬ ╬ ╬ ╬ ╬ ╬ █ ╬ ╬ ╬ ╬ ╬ ╬ ╬ ╬ ╬ ╬ ╬ ╬ ╬ ╬ █\n",
      "02:22:06.888 Ophelia [MASK]   █ ╬ ╬ ╬ ╬ ╬ ╬ ╬ ╬ ╬ ╬ ╬ ╬ ╬ ╬ █ ╬ ╬ ╬ ╬ ╬ ╬ ╬ ╬ ╬ ╬ ╬ ╬ ╬ ╬ █\n",
      "02:22:06.888 Ophelia [MASK]   █ ╬ ╬ ╬ ╬ ╬ ╬ ╬ ╬ ╬ ╬ ╬ ╬ ╬ ╬ █ ╬ ╬ ╬ ╬ ╬ ╬ ╬ ╬ ╬ ╬ ╬ ╬ ╬ ╬ █\n",
      "02:22:06.888 Ophelia [MASK]   █ ╬ ╬ ╬ ▓ ▓ ▓ ▓ ╬ ╬ ╬ ╬ ╬ ╬ ╬ █ ╬ ╬ ╬ ╬ ╬ ╬ ╬ ▓ ▓ ▓ ▓ ╬ ╬ ╬ █\n",
      "02:22:06.888 Ophelia [MASK]   █ ╬ ╬ ▓ ▓ ▓ ▓ ▓ ▓ ╬ ╬ █ ╬ ╬ ╬ █ ╬ ╬ ╬ █ ╬ ╬ ▓ ▓ ▓ ▓ ▓ ▓ ╬ ╬ █\n",
      "02:22:06.888 Ophelia [MASK]   █ ╬ ╬ ╬ ▓ ▓ ▓ ▓ ╬ ╬ █ █ ╬ ╬ ╬ █ ╬ ╬ ╬ █ █ ╬ ╬ ▓ ▓ ▓ ▓ ╬ ╬ ╬ █\n",
      "02:22:06.888 Ophelia [MASK]   █ ╬ ╬ ╬ ╬ ╬ ╬ ╬ ╬ █ █ ╬ ╬ ╬ ╬ █ ╬ ╬ ╬ ╬ █ █ ╬ ╬ ╬ ╬ ╬ ╬ ╬ ╬ █\n",
      "02:22:06.888 Ophelia [MASK]   █ ╬ ╬ ╬ ╬ ╬ █ █ █ █ ╬ ╬ ╬ ╬ █ █ █ ╬ ╬ ╬ ╬ █ █ █ █ ╬ ╬ ╬ ╬ ╬ █\n",
      "02:22:06.888 Ophelia [MASK]   █ ╬ ╬ ╬ ╬ ╬ ╬ ╬ ╬ ╬ ╬ ╬ ╬ ╬ █ █ █ ╬ ╬ ╬ ╬ ╬ ╬ ╬ ╬ ╬ ╬ ╬ ╬ ╬ █\n",
      "02:22:06.888 Ophelia [MASK]   █ █ ╬ ╬ █ ╬ ╬ ╬ ╬ ╬ ╬ ╬ ╬ █ █ █ █ █ ╬ ╬ ╬ ╬ ╬ ╬ ╬ ╬ █ ╬ ╬ █ █\n",
      "02:22:06.888 Ophelia [MASK]   █ █ ╬ ╬ █ █ ╬ ╬ ╬ ╬ ╬ ╬ █ █ █ █ █ █ █ ╬ ╬ ╬ ╬ ╬ ╬ █ █ ╬ ╬ █ █\n",
      "02:22:06.888 Ophelia [MASK]   █ █ ╬ ╬ ▓ █ █ █ ╬ ╬ ╬ █ █ █ █ ╬ █ █ █ █ ╬ ╬ ╬ █ █ █ ▓ ╬ ╬ █ █\n",
      "02:22:06.888 Ophelia [MASK]   █ █ █ ╬ ╬ ▓ ▓ █ █ █ █ █ █ █ ╬ ╬ ╬ █ █ █ █ █ █ █ ▓ ▓ ╬ ╬ █ █ █\n",
      "02:22:06.888 Ophelia [MASK]   █ █ █ ╬ ╬ ╬ ╬ ▓ ▓ ▓ ▓ ▓ ▓ ▓ ▓ ▓ ▓ ▓ ▓ ▓ ▓ ▓ ▓ ▓ ╬ ╬ ╬ ╬ █ █ █\n",
      "02:22:06.888 Ophelia [MASK]   █ █ █ █ ╬ ╬ ╬ ╬ ╬ ╬ ╬ ╬ ╬ ╬ █ █ █ ╬ ╬ ╬ ╬ ╬ ╬ ╬ ╬ ╬ ╬ █ █ █ █\n",
      "02:22:06.888 Ophelia [MASK]   █ █ █ █ █ ╬ ╬ ╬ ╬ ╬ ╬ ╬ ╬ ╬ ╬ █ ╬ ╬ ╬ ╬ ╬ ╬ ╬ ╬ ╬ ╬ █ █ █ █ █\n",
      "02:22:06.888 Ophelia [MASK]   █ █ █ █ █ █ ╬ ╬ ╬ ╬ ╬ ╬ ╬ ╬ █ █ █ ╬ ╬ ╬ ╬ ╬ ╬ ╬ ╬ █ █ █ █ █ █\n",
      "02:22:06.888 Ophelia [MASK]   █ █ █ █ █ █ █ ╬ ╬ ╬ ╬ ╬ ╬ ╬ █ █ █ ╬ ╬ ╬ ╬ ╬ ╬ ╬ █ █ █ █ █ █ █\n",
      "02:22:06.888 Ophelia [MASK]   █ █ █ █ █ █ █ █ ╬ ╬ ╬ ╬ ╬ ╬ █ █ █ ╬ ╬ ╬ ╬ ╬ ╬ █ █ █ █ █ █ █ █\n",
      "02:22:06.888 Ophelia [MASK]   █ █ █ █ █ █ █ █ █ ╬ ╬ ╬ ╬ ╬ █ █ █ ╬ ╬ ╬ ╬ ╬ █ █ █ █ █ █ █ █ █\n",
      "02:22:06.888 Ophelia [MASK]   █ █ █ █ █ █ █ █ █ █ █ ╬ ╬ ╬ ╬ █ ╬ ╬ ╬ ╬ █ █ █ █ █ █ █ █ █ █ █\n",
      "02:22:06.888 Ophelia [MASK]   █ █ █ █ █ █ █ █ █ █ █ █ █ █ █ █ █ █ █ █ █ █ █ █ █ █ █ █ █ █ █\n",
      " \n",
      "02:22:06.888 Ophelia [WARN] Initializing Spark Session\n"
     ]
    },
    {
     "name": "stderr",
     "output_type": "stream",
     "text": [
      "WARNING: An illegal reflective access operation has occurred\n",
      "WARNING: Illegal reflective access by org.apache.spark.unsafe.Platform (file:/Users/lvargas/.homebrew/Caskroom/miniconda/base/envs/blackpoint-dev/lib/python3.9/site-packages/pyspark/jars/spark-unsafe_2.12-3.2.2.jar) to constructor java.nio.DirectByteBuffer(long,int)\n",
      "WARNING: Please consider reporting this to the maintainers of org.apache.spark.unsafe.Platform\n",
      "WARNING: Use --illegal-access=warn to enable warnings of further illegal reflective access operations\n",
      "WARNING: All illegal access operations will be denied in a future release\n",
      "Using Spark's default log4j profile: org/apache/spark/log4j-defaults.properties\n",
      "Setting default log level to \"WARN\".\n",
      "To adjust logging level use sc.setLogLevel(newLevel). For SparkR, use setLogLevel(newLevel).\n",
      "24/07/18 02:22:07 WARN NativeCodeLoader: Unable to load native-hadoop library for your platform... using builtin-java classes where applicable\n",
      "24/07/18 02:22:08 WARN Utils: Service 'SparkUI' could not bind on port 4040. Attempting port 4041.\n"
     ]
    },
    {
     "name": "stdout",
     "output_type": "stream",
     "text": [
      "02:22:08.639 Ophelia [INFO] Spark Version: 3.2.2\n",
      "02:22:08.639 Ophelia [INFO] This Is: 'Ophelia-Test' App\n",
      "02:22:08.640 Ophelia [INFO] Spark UI Address: http://192.168.1.70:4041\n",
      "02:22:08.640 Ophelia [INFO] Spark Context Initialized Successfully\n"
     ]
    }
   ],
   "source": [
    "ophelia = Ophelia(\"Ophelia-Test\", no_mask=True)"
   ]
  },
  {
   "cell_type": "code",
   "execution_count": 3,
   "id": "3d3c7319-f2df-4eec-95ea-8c18318f637d",
   "metadata": {},
   "outputs": [
    {
     "name": "stdout",
     "output_type": "stream",
     "text": [
      "1.3.5\n"
     ]
    }
   ],
   "source": [
    "import pandas as pd\n",
    "\n",
    "print(pd.__version__)"
   ]
  },
  {
   "cell_type": "code",
   "execution_count": 4,
   "id": "40b45118-9aca-410f-81ef-f63ad190a611",
   "metadata": {},
   "outputs": [
    {
     "name": "stdout",
     "output_type": "stream",
     "text": [
      "02:22:54.030 Ophelia [INFO] Spark Context Initialized Successfully\n"
     ]
    }
   ],
   "source": [
    "sc = ophelia.Spark.build_spark_context()\n",
    "spark = ophelia.SparkSession"
   ]
  },
  {
   "cell_type": "code",
   "execution_count": 5,
   "id": "d908baae-d248-46e1-98b1-d170fea98b1d",
   "metadata": {},
   "outputs": [],
   "source": [
    "from ophelia_spark.read.spark_read import Read"
   ]
  },
  {
   "cell_type": "code",
   "execution_count": 6,
   "id": "0942d8ae-27c8-4920-9c0b-c9f122a8180a",
   "metadata": {},
   "outputs": [
    {
     "name": "stdout",
     "output_type": "stream",
     "text": [
      "02:22:56.564 Ophelia [INFO] Read CSV File From Path: data/csv/100sample_bank\n",
      "+---+-------------+-------+---------+-------+-------+--------+--------+\n",
      "|age|          job|marital|education|housing|balance|duration|poutcome|\n",
      "+---+-------------+-------+---------+-------+-------+--------+--------+\n",
      "| 36| entrepreneur|married|secondary|     no|   2971|     247| failure|\n",
      "| 30|     services| single|  primary|    yes|   5746|     125| unknown|\n",
      "| 29|  blue-collar| single|secondary|     no|   2806|     294|   other|\n",
      "| 35|   technician|married|secondary|     no|      0|     125| unknown|\n",
      "| 30|   management| single| tertiary|     no|    697|     179| success|\n",
      "| 33|       admin.|married|secondary|     no|      0|     214| unknown|\n",
      "| 31|   management| single| tertiary|     no|   1308|     323| unknown|\n",
      "| 55|    housemaid|married|  primary|     no|      4|      85| unknown|\n",
      "| 59|      retired|married|secondary|     no|    136|     301| unknown|\n",
      "| 34|self-employed| single|secondary|    yes|      3|     301| unknown|\n",
      "| 37|  blue-collar|married|secondary|    yes|    374|     944| unknown|\n",
      "| 57|      retired|married|  primary|     no|    333|     336| unknown|\n",
      "| 53|      retired|married|secondary|    yes|    665|     371| unknown|\n",
      "| 53|  blue-collar|married|secondary|     no|    -76|     173|   other|\n",
      "| 27|  blue-collar|married|  primary|    yes|    106|     150| unknown|\n",
      "| 19|      student| single|  primary|     no|    608|     236| success|\n",
      "| 45|     services|married|  primary|    yes|   2406|     108| unknown|\n",
      "| 54|self-employed|married|secondary|    yes|    203|     238| unknown|\n",
      "| 29|   management| single| tertiary|    yes|    600|     170| unknown|\n",
      "| 43|    housemaid|married|secondary|     no|    150|     290| unknown|\n",
      "+---+-------------+-------+---------+-------+-------+--------+--------+\n",
      "only showing top 20 rows\n",
      "\n"
     ]
    }
   ],
   "source": [
    "sample_bank_df = spark.readFile(\"data/csv/100sample_bank\", \"csv\")\n",
    "sample_bank_df.show()"
   ]
  },
  {
   "cell_type": "code",
   "execution_count": null,
   "id": "d7b152d0-cf1a-422b-a15a-de05b3357ed6",
   "metadata": {},
   "outputs": [],
   "source": [
    "from ophelia_spark.functions import DynamicSampling"
   ]
  },
  {
   "cell_type": "code",
   "execution_count": null,
   "id": "c96f5539-5762-48da-bd4a-7ba7e8016825",
   "metadata": {},
   "outputs": [],
   "source": [
    "sample_df = sample_bank_df.simple_sample(10)\n",
    "sample_df.show()"
   ]
  },
  {
   "cell_type": "code",
   "execution_count": null,
   "id": "48b7a547-d69a-47bc-9d53-42bc432d58fb",
   "metadata": {},
   "outputs": [],
   "source": [
    "from schemas.fake_schemas import bank_schema"
   ]
  },
  {
   "cell_type": "code",
   "execution_count": null,
   "id": "9135b556-a8c1-4828-ae7a-f42045e1cd9d",
   "metadata": {},
   "outputs": [],
   "source": [
    "sample_df.coalesce(1).write.mode(\"overwrite\").csv(\n",
    "    \"data/csv/100sample_bank\", header=True, sep=\",\"\n",
    ")"
   ]
  },
  {
   "cell_type": "code",
   "execution_count": null,
   "id": "a3635d34-2c5c-4874-abc4-eedff7477606",
   "metadata": {},
   "outputs": [],
   "source": [
    "spark.read.csv(\"data/csv/100sample_bank\", schema=bank_schema, header=True).show()"
   ]
  },
  {
   "cell_type": "code",
   "execution_count": null,
   "id": "8b1d8cb0-a4b2-4e30-ab10-640e0b51b26f",
   "metadata": {},
   "outputs": [],
   "source": [
    "sample_schema = sample_df.schema\n",
    "spark.read.csv(\"data/csv/100sample_bank\", sample_schema).show()"
   ]
  },
  {
   "cell_type": "code",
   "execution_count": null,
   "id": "aa0068c5-b0e4-47c6-9506-03e5b30de056",
   "metadata": {},
   "outputs": [],
   "source": [
    "import pandas as pd\n",
    "from data.fake_datasets import sales_dataset"
   ]
  },
  {
   "cell_type": "code",
   "execution_count": null,
   "id": "1a88269b-4736-4376-b431-8cdf6bae9fcb",
   "metadata": {},
   "outputs": [],
   "source": [
    "sales_dataset"
   ]
  },
  {
   "cell_type": "code",
   "execution_count": null,
   "id": "722f624e-0afd-470c-9595-4f035d044f83",
   "metadata": {},
   "outputs": [],
   "source": [
    "spark.createDataFrame(sales_dataset)"
   ]
  },
  {
   "cell_type": "code",
   "execution_count": null,
   "id": "c2a579cd-d9ca-46fa-8bea-0379cb4da691",
   "metadata": {},
   "outputs": [],
   "source": [
    "df = spark.createDataFrame(pd.DataFrame(data=sales_dataset))\n",
    "df.show(5)"
   ]
  },
  {
   "cell_type": "code",
   "execution_count": null,
   "id": "73a04441-7f1c-40ef-b769-9e3f230555fd",
   "metadata": {},
   "outputs": [],
   "source": [
    "from ophelia.functions import Shape\n",
    "\n",
    "df.Shape"
   ]
  },
  {
   "cell_type": "code",
   "execution_count": null,
   "id": "f254ded8-d683-49d1-b6b1-ef84087738ba",
   "metadata": {},
   "outputs": [],
   "source": [
    "from ophelia.functions import PctChange\n",
    "\n",
    "df.pctChange().show(5, False)"
   ]
  },
  {
   "cell_type": "code",
   "execution_count": null,
   "id": "84d3dd7d-187f-477b-a397-740684427d0c",
   "metadata": {},
   "outputs": [],
   "source": [
    "df.pctChange(periods=2).na.fill(0).show(5, False)"
   ]
  },
  {
   "cell_type": "code",
   "execution_count": null,
   "id": "2c53b0ca-1610-4576-bd0d-b366f5f1da97",
   "metadata": {},
   "outputs": [],
   "source": [
    "df.pctChange(partition_by=\"Product\", order_by=\"Year\", pct_cols=\"Revenue\").na.fill(\n",
    "    0\n",
    ").show(5, False)"
   ]
  },
  {
   "cell_type": "code",
   "execution_count": null,
   "id": "222b032e-4b82-4693-93c7-afc5575257e7",
   "metadata": {},
   "outputs": [],
   "source": [
    "df.pctChange(\n",
    "    partition_by=\"Product\", order_by=\"Year\", pct_cols=[\"Year\", \"Revenue\"]\n",
    ").na.fill(0).show(5, False)"
   ]
  },
  {
   "cell_type": "code",
   "execution_count": null,
   "id": "7b66a5a9-6b93-4a8b-8838-b89a6066590f",
   "metadata": {},
   "outputs": [],
   "source": [
    "from ophelia.functions import Reshape\n",
    "\n",
    "# We can choose either one column to aggregate with one single operation\n",
    "agg_dict_test = {\"Revenue\": \"max\"}\n",
    "\n",
    "# Or moreTthan one column and more than one operation\n",
    "_agg_dict_test = {\n",
    "    \"Revenue\": \"mean, count, sum, stddev, var, min\",\n",
    "    \"Year\": \"count, sum\",\n",
    "    \"Product\": \"count\",\n",
    "}\n",
    "\n",
    "df.toWide(group_by=\"Product\", pivot_col=\"Year\", agg_dict=agg_dict_test).orderBy(\n",
    "    \"Product\"\n",
    ").show(5, False)"
   ]
  },
  {
   "cell_type": "code",
   "execution_count": null,
   "id": "5bc3028e-d42b-4211-be2c-6f72b9a8278d",
   "metadata": {},
   "outputs": [],
   "source": [
    "from data.fake_datasets import bank_dataset"
   ]
  },
  {
   "cell_type": "code",
   "execution_count": null,
   "id": "553794a6-1ee8-4dda-b45d-1e731d02ae07",
   "metadata": {},
   "outputs": [],
   "source": [
    "bank_dataset"
   ]
  },
  {
   "cell_type": "code",
   "execution_count": null,
   "id": "541476d2-ed36-49e2-9f8b-a51f3e7db341",
   "metadata": {},
   "outputs": [],
   "source": [
    "bank_df_pd = pd.DataFrame(bank_dataset)"
   ]
  },
  {
   "cell_type": "code",
   "execution_count": null,
   "id": "4e5ff955-2f77-420d-8f98-340860d49714",
   "metadata": {},
   "outputs": [],
   "source": [
    "print(pd.__version__)"
   ]
  },
  {
   "cell_type": "code",
   "execution_count": null,
   "id": "daa2cbf4-55cc-4920-8487-260f52b73bcc",
   "metadata": {},
   "outputs": [],
   "source": [
    "!pip install pandas==1.3.5"
   ]
  },
  {
   "cell_type": "code",
   "execution_count": null,
   "id": "ae85979d-cfcc-4ff5-87be-7d04dbe5842f",
   "metadata": {},
   "outputs": [],
   "source": [
    "print(pd.__version__)"
   ]
  },
  {
   "cell_type": "code",
   "execution_count": null,
   "id": "3ddb37c4-d480-4e86-b85b-82a191b6bc19",
   "metadata": {},
   "outputs": [],
   "source": [
    "bank_df = spark.createDataFrame(bank_df_pd)"
   ]
  },
  {
   "cell_type": "code",
   "execution_count": null,
   "id": "572de837-5acc-4dae-9b6b-f2569446149f",
   "metadata": {},
   "outputs": [],
   "source": [
    "bank_pdf = pd.DataFrame(bank_dataset)\n",
    "\n",
    "bank_df = spark.createDataFrame(bank_pdf)\n",
    "bank_df.show()"
   ]
  },
  {
   "cell_type": "code",
   "execution_count": null,
   "id": "3f4b5587-5143-471e-aa10-95a3398f8652",
   "metadata": {},
   "outputs": [],
   "source": [
    "from ophelia_spark.functions import Selects\n",
    "from ophelia_spark.generic import regex_expr\n",
    "\n",
    "bank_df.selectRegex(regex_expr([\"day\", \"ous\", \"aig\"])).show(5, False)"
   ]
  },
  {
   "cell_type": "code",
   "execution_count": null,
   "id": "2cc8f750-e3bd-453b-95fe-5ac533bc4a64",
   "metadata": {},
   "outputs": [],
   "source": [
    "bank_df.selectContains([\"day\", \"ous\", \"aig\"]).show(5, False)"
   ]
  },
  {
   "cell_type": "code",
   "execution_count": null,
   "id": "5abfe626-88a7-4911-a810-24182c0c36f5",
   "metadata": {},
   "outputs": [],
   "source": [
    "from ophelia.generic import string_match\n",
    "\n",
    "bank_df.where(string_match(\"housing == yes\")).crosstab(\"education\", \"campaign\").orderBy(\n",
    "    \"education_campaign\"\n",
    ").show()"
   ]
  },
  {
   "cell_type": "code",
   "execution_count": null,
   "id": "02e5adaf-468f-45a8-bf73-d9c8de474b34",
   "metadata": {},
   "outputs": [],
   "source": [
    "test_agg_dict_ = {\"balance\": \"sum\"}\n",
    "bank_df.where(string_match(\"housing == yes\")).toWide(\n",
    "    \"education\", \"campaign\", test_agg_dict_\n",
    ").orderBy(\"education_campaign\").show()"
   ]
  },
  {
   "cell_type": "code",
   "execution_count": null,
   "id": "1559b3df-9b7f-4e07-bc5f-95de1f78807b",
   "metadata": {},
   "outputs": [],
   "source": [
    "from ophelia.functions import MapItem\n",
    "\n",
    "map_values = {\"A\": \"0\", \"B\": \"1\", \"C\": \"2\"}\n",
    "\n",
    "df.mapItem(\"Product\", \"bin_product\", map_values).show()"
   ]
  },
  {
   "cell_type": "code",
   "execution_count": null,
   "id": "355b9fec-dbfd-45f3-beca-021a96d94355",
   "metadata": {},
   "outputs": [],
   "source": []
  }
 ],
 "metadata": {
  "kernelspec": {
   "display_name": "Python (blackpoint-dev)",
   "language": "python",
   "name": "blackpoint-dev"
  },
  "language_info": {
   "codemirror_mode": {
    "name": "ipython",
    "version": 3
   },
   "file_extension": ".py",
   "mimetype": "text/x-python",
   "name": "python",
   "nbconvert_exporter": "python",
   "pygments_lexer": "ipython3",
   "version": "3.9.19"
  }
 },
 "nbformat": 4,
 "nbformat_minor": 5
}
