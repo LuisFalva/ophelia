{
 "cells": [
  {
   "cell_type": "code",
   "execution_count": 1,
   "id": "118308d2-89b0-4d38-ba21-5a85b7ece962",
   "metadata": {},
   "outputs": [],
   "source": [
    "from ophelia.start import Ophelia"
   ]
  },
  {
   "cell_type": "code",
   "execution_count": 2,
   "id": "53208e6d-3787-4e12-b90d-1e5ffbc8c626",
   "metadata": {},
   "outputs": [
    {
     "name": "stdout",
     "output_type": "stream",
     "text": [
      "01:45:33.074 Ophelia [TAPE] +---------------------------------------------------------------------+\n",
      "01:45:33.074 Ophelia [INFO] | Hello! This package is for data mining & ml pipelines using PySpark |\n",
      "01:45:33.074 Ophelia [INFO] | Welcome to Ophelia Spark miner engine                               |\n",
      "01:45:33.074 Ophelia [INFO] | Package Version Ophelia.0.0.1                                       |\n",
      "01:45:33.074 Ophelia [WARN] | V for Vendata...                                                    |\n",
      "01:45:33.074 Ophelia [TAPE] +---------------------------------------------------------------------+\n",
      "01:45:33.074 Ophelia [WARN]                   - Ophelia a pyspark miner -                      \n",
      "01:45:33.074 Ophelia [MASK]   █ █ █ █ █ █ █ █ █ █ █ █ █ █ █ █ █ █ █ █ █ █ █ █ █ █ █ █ █ █ █    \n",
      "01:45:33.074 Ophelia [MASK]   █ █ █ █ ╬ ╬ ╬ ╬ ╬ ╬ ╬ ╬ ╬ ╬ ╬ ╬ ╬ ╬ ╬ ╬ ╬ ╬ ╬ ╬ ╬ ╬ ╬ █ █ █ █    \n",
      "01:45:33.074 Ophelia [MASK]   █ █ ╬ ╬ ╬ ╬ ╬ ╬ ╬ ╬ ╬ ╬ ╬ ╬ ╬ ╬ ╬ ╬ ╬ ╬ ╬ ╬ ╬ ╬ ╬ ╬ ╬ ╬ ╬ █ █    \n",
      "01:45:33.074 Ophelia [MASK]   █ ╬ ╬ ╬ ╬ ╬ ╬ ╬ ╬ ╬ ╬ ╬ ╬ ╬ ╬ ╬ ╬ ╬ ╬ ╬ ╬ ╬ ╬ ╬ ╬ ╬ ╬ ╬ ╬ ╬ █    \n",
      "01:45:33.074 Ophelia [MASK]   █ ╬ ╬ ╬ █ █ █ █ █ █ █ ╬ ╬ ╬ ╬ ╬ ╬ ╬ ╬ ╬ █ █ █ █ █ █ █ ╬ ╬ ╬ █    \n",
      "01:45:33.074 Ophelia [MASK]   █ ╬ ╬ █ █ ╬ ╬ ╬ ╬ █ █ █ ╬ ╬ ╬ ╬ ╬ ╬ ╬ █ █ █ ╬ ╬ ╬ ╬ █ █ ╬ ╬ █    \n",
      "01:45:33.075 Ophelia [MASK]   █ ╬ █ █ ╬ ╬ ╬ ╬ ╬ ╬ ╬ █ █ ╬ ╬ ╬ ╬ ╬ █ █ ╬ ╬ ╬ ╬ ╬ ╬ ╬ █ █ ╬ █    \n",
      "01:45:33.075 Ophelia [MASK]   █ ╬ ╬ ╬ ╬ ╬ ╬ ╬ ╬ ╬ ╬ ╬ ╬ ╬ ╬ ╬ ╬ ╬ ╬ ╬ ╬ ╬ ╬ ╬ ╬ ╬ ╬ ╬ ╬ ╬ █    \n",
      "01:45:33.075 Ophelia [MASK]   █ ╬ ╬ ╬ ╬ █ █ █ █ █ ╬ ╬ ╬ ╬ ╬ ╬ ╬ ╬ ╬ ╬ ╬ █ █ █ █ █ ╬ ╬ ╬ ╬ █    \n",
      "01:45:33.075 Ophelia [MASK]   █ ╬ ╬ █ █ █ █ █ █ █ █ █ ╬ ╬ ╬ ╬ ╬ ╬ ╬ █ █ █ █ █ █ █ █ █ ╬ ╬ █    \n",
      "01:45:33.075 Ophelia [MASK]   █ ╬ ╬ ╬ ╬ ╬ ╬ ╬ ╬ ╬ ╬ ╬ ╬ ╬ ╬ ╬ ╬ ╬ ╬ ╬ ╬ ╬ ╬ ╬ ╬ ╬ ╬ ╬ ╬ ╬ █    \n",
      "01:45:33.075 Ophelia [MASK]   █ ╬ ╬ ╬ ╬ ╬ ╬ ╬ ╬ ╬ ╬ ╬ ╬ ╬ ╬ █ ╬ ╬ ╬ ╬ ╬ ╬ ╬ ╬ ╬ ╬ ╬ ╬ ╬ ╬ █    \n",
      "01:45:33.075 Ophelia [MASK]   █ ╬ ╬ ╬ ╬ ╬ ╬ ╬ ╬ ╬ ╬ ╬ ╬ ╬ ╬ █ ╬ ╬ ╬ ╬ ╬ ╬ ╬ ╬ ╬ ╬ ╬ ╬ ╬ ╬ █    \n",
      "01:45:33.075 Ophelia [MASK]   █ ╬ ╬ ╬ ╬ ╬ ╬ ╬ ╬ ╬ ╬ ╬ ╬ ╬ ╬ █ ╬ ╬ ╬ ╬ ╬ ╬ ╬ ╬ ╬ ╬ ╬ ╬ ╬ ╬ █    \n",
      "01:45:33.075 Ophelia [MASK]   █ ╬ ╬ ╬ ▓ ▓ ▓ ▓ ╬ ╬ ╬ ╬ ╬ ╬ ╬ █ ╬ ╬ ╬ ╬ ╬ ╬ ╬ ▓ ▓ ▓ ▓ ╬ ╬ ╬ █    \n",
      "01:45:33.075 Ophelia [MASK]   █ ╬ ╬ ▓ ▓ ▓ ▓ ▓ ▓ ╬ ╬ █ ╬ ╬ ╬ █ ╬ ╬ ╬ █ ╬ ╬ ▓ ▓ ▓ ▓ ▓ ▓ ╬ ╬ █    \n",
      "01:45:33.075 Ophelia [MASK]   █ ╬ ╬ ╬ ▓ ▓ ▓ ▓ ╬ ╬ █ █ ╬ ╬ ╬ █ ╬ ╬ ╬ █ █ ╬ ╬ ▓ ▓ ▓ ▓ ╬ ╬ ╬ █    \n",
      "01:45:33.075 Ophelia [MASK]   █ ╬ ╬ ╬ ╬ ╬ ╬ ╬ ╬ █ █ ╬ ╬ ╬ ╬ █ ╬ ╬ ╬ ╬ █ █ ╬ ╬ ╬ ╬ ╬ ╬ ╬ ╬ █    \n",
      "01:45:33.075 Ophelia [MASK]   █ ╬ ╬ ╬ ╬ ╬ █ █ █ █ ╬ ╬ ╬ ╬ █ █ █ ╬ ╬ ╬ ╬ █ █ █ █ ╬ ╬ ╬ ╬ ╬ █    \n",
      "01:45:33.075 Ophelia [MASK]   █ ╬ ╬ ╬ ╬ ╬ ╬ ╬ ╬ ╬ ╬ ╬ ╬ ╬ █ █ █ ╬ ╬ ╬ ╬ ╬ ╬ ╬ ╬ ╬ ╬ ╬ ╬ ╬ █    \n",
      "01:45:33.075 Ophelia [MASK]   █ █ ╬ ╬ █ ╬ ╬ ╬ ╬ ╬ ╬ ╬ ╬ █ █ █ █ █ ╬ ╬ ╬ ╬ ╬ ╬ ╬ ╬ █ ╬ ╬ █ █    \n",
      "01:45:33.075 Ophelia [MASK]   █ █ ╬ ╬ █ █ ╬ ╬ ╬ ╬ ╬ ╬ █ █ █ █ █ █ █ ╬ ╬ ╬ ╬ ╬ ╬ █ █ ╬ ╬ █ █    \n",
      "01:45:33.075 Ophelia [MASK]   █ █ ╬ ╬ ▓ █ █ █ ╬ ╬ ╬ █ █ █ █ ╬ █ █ █ █ ╬ ╬ ╬ █ █ █ ▓ ╬ ╬ █ █    \n",
      "01:45:33.075 Ophelia [MASK]   █ █ █ ╬ ╬ ▓ ▓ █ █ █ █ █ █ █ ╬ ╬ ╬ █ █ █ █ █ █ █ ▓ ▓ ╬ ╬ █ █ █    \n",
      "01:45:33.075 Ophelia [MASK]   █ █ █ ╬ ╬ ╬ ╬ ▓ ▓ ▓ ▓ ▓ ▓ ▓ ▓ ▓ ▓ ▓ ▓ ▓ ▓ ▓ ▓ ▓ ╬ ╬ ╬ ╬ █ █ █    \n",
      "01:45:33.075 Ophelia [MASK]   █ █ █ █ ╬ ╬ ╬ ╬ ╬ ╬ ╬ ╬ ╬ ╬ █ █ █ ╬ ╬ ╬ ╬ ╬ ╬ ╬ ╬ ╬ ╬ █ █ █ █    \n",
      "01:45:33.075 Ophelia [MASK]   █ █ █ █ █ ╬ ╬ ╬ ╬ ╬ ╬ ╬ ╬ ╬ ╬ █ ╬ ╬ ╬ ╬ ╬ ╬ ╬ ╬ ╬ ╬ █ █ █ █ █    \n",
      "01:45:33.075 Ophelia [MASK]   █ █ █ █ █ █ ╬ ╬ ╬ ╬ ╬ ╬ ╬ ╬ █ █ █ ╬ ╬ ╬ ╬ ╬ ╬ ╬ ╬ █ █ █ █ █ █    \n",
      "01:45:33.075 Ophelia [MASK]   █ █ █ █ █ █ █ ╬ ╬ ╬ ╬ ╬ ╬ ╬ █ █ █ ╬ ╬ ╬ ╬ ╬ ╬ ╬ █ █ █ █ █ █ █    \n",
      "01:45:33.075 Ophelia [MASK]   █ █ █ █ █ █ █ █ ╬ ╬ ╬ ╬ ╬ ╬ █ █ █ ╬ ╬ ╬ ╬ ╬ ╬ █ █ █ █ █ █ █ █    \n",
      "01:45:33.075 Ophelia [MASK]   █ █ █ █ █ █ █ █ █ ╬ ╬ ╬ ╬ ╬ █ █ █ ╬ ╬ ╬ ╬ ╬ █ █ █ █ █ █ █ █ █    \n",
      "01:45:33.075 Ophelia [MASK]   █ █ █ █ █ █ █ █ █ █ █ ╬ ╬ ╬ ╬ █ ╬ ╬ ╬ ╬ █ █ █ █ █ █ █ █ █ █ █    \n",
      "01:45:33.076 Ophelia [MASK]   █ █ █ █ █ █ █ █ █ █ █ █ █ █ █ █ █ █ █ █ █ █ █ █ █ █ █ █ █ █ █\n",
      "   \n",
      "01:45:33.076 Ophelia [WARN] Initializing Spark Session\n",
      "01:45:53.299 Ophelia [INFO] Spark Version: 3.0.0\n",
      "01:45:53.300 Ophelia [INFO] This Is: 'Ophelia-Test' App\n",
      "01:45:53.300 Ophelia [INFO] Spark Context Initialized Success\n",
      "01:45:53.300 Ophelia [INFO] Spark Context Initialized Success\n"
     ]
    }
   ],
   "source": [
    "ophelia = Ophelia(\"Ophelia-Test\", True)\n",
    "\n",
    "sc = ophelia.Spark.build_spark_context()\n",
    "spark = ophelia.SparkSession"
   ]
  },
  {
   "cell_type": "code",
   "execution_count": 3,
   "id": "aa0068c5-b0e4-47c6-9506-03e5b30de056",
   "metadata": {},
   "outputs": [
    {
     "name": "stdout",
     "output_type": "stream",
     "text": [
      "+-------+----+-------+\n",
      "|Product|Year|Revenue|\n",
      "+-------+----+-------+\n",
      "|      A|2010|    100|\n",
      "|      B|2010|    200|\n",
      "|      C|2010|    300|\n",
      "|      A|2011|    110|\n",
      "|      B|2011|    190|\n",
      "+-------+----+-------+\n",
      "only showing top 5 rows\n",
      "\n"
     ]
    }
   ],
   "source": [
    "import pandas as pd\n",
    "\n",
    "dataset = {\n",
    "    'Product': ['A', 'B', 'C', 'A', 'B', 'C', 'A', 'B', 'C'],\n",
    "    'Year': [2010, 2010, 2010, 2011, 2011, 2011, 2012, 2012, 2012],\n",
    "    'Revenue': [100, 200, 300, 110, 190, 320, 120, 220, 350]\n",
    "}\n",
    "\n",
    "df = spark.createDataFrame(pd.DataFrame(data=dataset))\n",
    "df.show(5)"
   ]
  },
  {
   "cell_type": "code",
   "execution_count": 4,
   "id": "73a04441-7f1c-40ef-b769-9e3f230555fd",
   "metadata": {},
   "outputs": [
    {
     "data": {
      "text/plain": [
       "(9, 3)"
      ]
     },
     "execution_count": 4,
     "metadata": {},
     "output_type": "execute_result"
    }
   ],
   "source": [
    "from ophelia.functions import Shape\n",
    "\n",
    "df.Shape"
   ]
  },
  {
   "cell_type": "code",
   "execution_count": 5,
   "id": "f254ded8-d683-49d1-b6b1-ef84087738ba",
   "metadata": {},
   "outputs": [
    {
     "name": "stdout",
     "output_type": "stream",
     "text": [
      "+-------------------+\n",
      "|Revenue            |\n",
      "+-------------------+\n",
      "|null               |\n",
      "|1.0                |\n",
      "|0.5                |\n",
      "|-0.6333333333333333|\n",
      "|0.7272727272727273 |\n",
      "+-------------------+\n",
      "only showing top 5 rows\n",
      "\n"
     ]
    }
   ],
   "source": [
    "from ophelia.functions import PctChange\n",
    "\n",
    "df.pctChange().show(5, False)"
   ]
  },
  {
   "cell_type": "code",
   "execution_count": 6,
   "id": "84d3dd7d-187f-477b-a397-740684427d0c",
   "metadata": {},
   "outputs": [
    {
     "name": "stdout",
     "output_type": "stream",
     "text": [
      "+--------------------+\n",
      "|Revenue             |\n",
      "+--------------------+\n",
      "|0.0                 |\n",
      "|0.0                 |\n",
      "|2.0                 |\n",
      "|-0.44999999999999996|\n",
      "|-0.3666666666666667 |\n",
      "+--------------------+\n",
      "only showing top 5 rows\n",
      "\n"
     ]
    }
   ],
   "source": [
    "df.pctChange(periods=2).na.fill(0).show(5, False)"
   ]
  },
  {
   "cell_type": "code",
   "execution_count": 7,
   "id": "2c53b0ca-1610-4576-bd0d-b366f5f1da97",
   "metadata": {},
   "outputs": [
    {
     "name": "stdout",
     "output_type": "stream",
     "text": [
      "+---------------------+\n",
      "|Revenue              |\n",
      "+---------------------+\n",
      "|0.0                  |\n",
      "|-0.050000000000000044|\n",
      "|0.1578947368421053   |\n",
      "|0.0                  |\n",
      "|0.06666666666666665  |\n",
      "+---------------------+\n",
      "only showing top 5 rows\n",
      "\n"
     ]
    }
   ],
   "source": [
    "df.pctChange(partition_by=\"Product\", order_by=\"Year\", pct_cols=\"Revenue\").na.fill(0).show(5, False)"
   ]
  },
  {
   "cell_type": "code",
   "execution_count": 8,
   "id": "222b032e-4b82-4693-93c7-afc5575257e7",
   "metadata": {},
   "outputs": [
    {
     "name": "stdout",
     "output_type": "stream",
     "text": [
      "+--------------------+---------------------+\n",
      "|Year                |Revenue              |\n",
      "+--------------------+---------------------+\n",
      "|0.0                 |0.0                  |\n",
      "|4.975124378110429E-4|-0.050000000000000044|\n",
      "|4.972650422674363E-4|0.1578947368421053   |\n",
      "|0.0                 |0.0                  |\n",
      "|4.975124378110429E-4|0.06666666666666665  |\n",
      "+--------------------+---------------------+\n",
      "only showing top 5 rows\n",
      "\n"
     ]
    }
   ],
   "source": [
    "df.pctChange(partition_by=\"Product\", order_by=\"Year\", pct_cols=[\"Year\", \"Revenue\"]).na.fill(0).show(5, False)"
   ]
  },
  {
   "cell_type": "code",
   "execution_count": 9,
   "id": "7b66a5a9-6b93-4a8b-8838-b89a6066590f",
   "metadata": {},
   "outputs": [
    {
     "name": "stdout",
     "output_type": "stream",
     "text": [
      "+------------+----------------+----------------+----------------+\n",
      "|Product_Year|2010_Revenue_max|2011_Revenue_max|2012_Revenue_max|\n",
      "+------------+----------------+----------------+----------------+\n",
      "|A           |100             |110             |120             |\n",
      "|B           |200             |190             |220             |\n",
      "|C           |300             |320             |350             |\n",
      "+------------+----------------+----------------+----------------+\n",
      "\n"
     ]
    }
   ],
   "source": [
    "from ophelia.functions import Reshape\n",
    "\n",
    "# We can choose either one column to aggregate with one single operation\n",
    "agg_dict_test = {'Revenue': 'max'}\n",
    "\n",
    "# Or moreTthan one column and more than one operation\n",
    "_agg_dict_test = {\n",
    "    'Revenue': 'mean, count, sum, stddev, var, min',\n",
    "    'Year': 'count, sum',\n",
    "    'Product': 'count'\n",
    "}\n",
    "\n",
    "df.toWide(group_by=\"Product\", pivot_col=\"Year\", agg_dict=agg_dict_test).orderBy(\"Product_Year\").show(5, False)"
   ]
  },
  {
   "cell_type": "code",
   "execution_count": 10,
   "id": "572de837-5acc-4dae-9b6b-f2569446149f",
   "metadata": {},
   "outputs": [
    {
     "name": "stdout",
     "output_type": "stream",
     "text": [
      "+---+----------+--------+---------+-------+-------+-------+----+---+-----+--------+--------+\n",
      "|age|       job| marital|education|default|balance|housing|loan|day|month|duration|campaign|\n",
      "+---+----------+--------+---------+-------+-------+-------+----+---+-----+--------+--------+\n",
      "| 59|    admin.| married|secondary|     no|   2343|    yes| yes|  5|  may|    1042|       1|\n",
      "| 56|    admin.| married|secondary|    yes|     45|     no|  no|  5|  may|    1467|       1|\n",
      "| 41|technician| married|secondary|     no|   1270|    yes|  no|  5|  jun|    1389|       1|\n",
      "| 55|  services| married|secondary|     no|   2476|    yes|  no|  5|  jul|     579|       1|\n",
      "| 54|    admin.| married| tertiary|    yes|    184|     no|  no|  5|  jan|     673|       2|\n",
      "| 42|management|  single| tertiary|     no|      0|    yes| yes|  5|  dec|     562|       2|\n",
      "| 56|management| married| tertiary|     no|    830|    yes| yes|  6|  oct|    1201|       1|\n",
      "| 60|   retired|divorced|secondary|     no|    545|    yes|  no|  6|  sep|    1030|       1|\n",
      "| 37|technician| married|secondary|     no|      1|    yes| yes|  6|  jan|     608|       1|\n",
      "| 28|  services|  single|secondary|    yes|   5090|    yes|  no|  6|  jul|    1297|       3|\n",
      "+---+----------+--------+---------+-------+-------+-------+----+---+-----+--------+--------+\n",
      "\n"
     ]
    }
   ],
   "source": [
    "bank_dataset = {\n",
    "    'age': [59, 56, 41, 55, 54, 42, 56, 60, 37, 28],\n",
    "    'job': ['admin.', 'admin.', 'technician', 'services', 'admin.', 'management', 'management', 'retired', 'technician', 'services'],\n",
    "    'marital': ['married', 'married', 'married', 'married', 'married', 'single', 'married', 'divorced', 'married', 'single'],\n",
    "    'education': ['secondary', 'secondary', 'secondary', 'secondary', 'tertiary', 'tertiary', 'tertiary', 'secondary', 'secondary', 'secondary'],\n",
    "    'default': ['no', 'yes', 'no', 'no', 'yes', 'no', 'no', 'no', 'no', 'yes'],\n",
    "    'balance': [2343, 45, 1270, 2476, 184, 0, 830, 545, 1, 5090],\n",
    "    'housing': ['yes', 'no', 'yes', 'yes', 'no', 'yes', 'yes', 'yes', 'yes', 'yes'],\n",
    "    'loan': ['yes', 'no', 'no', 'no', 'no', 'yes', 'yes', 'no', 'yes', 'no'],\n",
    "    'day': [5, 5, 5, 5, 5, 5, 6, 6, 6, 6],\n",
    "    'month': ['may', 'may', 'jun', 'jul', 'jan', 'dec', 'oct', 'sep', 'jan', 'jul'],\n",
    "    'duration': [1042, 1467, 1389, 579, 673, 562, 1201, 1030, 608, 1297],\n",
    "    'campaign': [1, 1, 1, 1, 2, 2, 1, 1, 1, 3]\n",
    "}\n",
    "\n",
    "bank_df = spark.createDataFrame(pd.DataFrame(bank_dataset))\n",
    "bank_df.show()"
   ]
  },
  {
   "cell_type": "code",
   "execution_count": 11,
   "id": "3f4b5587-5143-471e-aa10-95a3398f8652",
   "metadata": {},
   "outputs": [
    {
     "name": "stdout",
     "output_type": "stream",
     "text": [
      "+---+-------+--------+\n",
      "|day|housing|campaign|\n",
      "+---+-------+--------+\n",
      "|5  |yes    |1       |\n",
      "|5  |no     |1       |\n",
      "|5  |yes    |1       |\n",
      "|5  |yes    |1       |\n",
      "|5  |no     |2       |\n",
      "+---+-------+--------+\n",
      "only showing top 5 rows\n",
      "\n"
     ]
    }
   ],
   "source": [
    "from ophelia.functions import Selects\n",
    "from ophelia.generic import regex_expr\n",
    "\n",
    "bank_df.selectRegex(regex_expr(['day', 'ous', 'aig'])).show(5, False)"
   ]
  },
  {
   "cell_type": "code",
   "execution_count": 12,
   "id": "2cc8f750-e3bd-453b-95fe-5ac533bc4a64",
   "metadata": {},
   "outputs": [
    {
     "name": "stdout",
     "output_type": "stream",
     "text": [
      "+-------+---+--------+\n",
      "|housing|day|campaign|\n",
      "+-------+---+--------+\n",
      "|yes    |5  |1       |\n",
      "|no     |5  |1       |\n",
      "|yes    |5  |1       |\n",
      "|yes    |5  |1       |\n",
      "|no     |5  |2       |\n",
      "+-------+---+--------+\n",
      "only showing top 5 rows\n",
      "\n"
     ]
    }
   ],
   "source": [
    "bank_df.selectContains(['day', 'ous', 'aig']).show(5, False)"
   ]
  },
  {
   "cell_type": "code",
   "execution_count": 13,
   "id": "5abfe626-88a7-4911-a810-24182c0c36f5",
   "metadata": {},
   "outputs": [
    {
     "name": "stdout",
     "output_type": "stream",
     "text": [
      "+------------------+---+---+---+\n",
      "|education_campaign|  1|  2|  3|\n",
      "+------------------+---+---+---+\n",
      "|         secondary|  5|  0|  1|\n",
      "|          tertiary|  1|  1|  0|\n",
      "+------------------+---+---+---+\n",
      "\n"
     ]
    }
   ],
   "source": [
    "from ophelia.generic import string_match\n",
    "\n",
    "bank_df.where(string_match('housing == yes')).crosstab('education', 'campaign').orderBy('education_campaign').show()"
   ]
  },
  {
   "cell_type": "code",
   "execution_count": 14,
   "id": "02e5adaf-468f-45a8-bf73-d9c8de474b34",
   "metadata": {},
   "outputs": [
    {
     "name": "stdout",
     "output_type": "stream",
     "text": [
      "+------------------+-------------+-------------+-------------+\n",
      "|education_campaign|1_balance_sum|2_balance_sum|3_balance_sum|\n",
      "+------------------+-------------+-------------+-------------+\n",
      "|         secondary|         6635|            0|         5090|\n",
      "|          tertiary|          830|            0|            0|\n",
      "+------------------+-------------+-------------+-------------+\n",
      "\n"
     ]
    }
   ],
   "source": [
    "test_agg_dict_ = {\n",
    "    'balance': 'sum'\n",
    "}\n",
    "bank_df.where(string_match('housing == yes')).toWide('education', 'campaign', test_agg_dict_).orderBy('education_campaign').show()"
   ]
  },
  {
   "cell_type": "code",
   "execution_count": 19,
   "id": "1559b3df-9b7f-4e07-bc5f-95de1f78807b",
   "metadata": {},
   "outputs": [
    {
     "name": "stdout",
     "output_type": "stream",
     "text": [
      "+-------+----+-------+-----------+\n",
      "|Product|Year|Revenue|bin_product|\n",
      "+-------+----+-------+-----------+\n",
      "|      A|2010|    100|          0|\n",
      "|      B|2010|    200|          1|\n",
      "|      C|2010|    300|          2|\n",
      "|      A|2011|    110|          0|\n",
      "|      B|2011|    190|          1|\n",
      "|      C|2011|    320|          2|\n",
      "|      A|2012|    120|          0|\n",
      "|      B|2012|    220|          1|\n",
      "|      C|2012|    350|          2|\n",
      "+-------+----+-------+-----------+\n",
      "\n"
     ]
    }
   ],
   "source": [
    "from ophelia.functions import MapItem\n",
    "\n",
    "map_values = {\n",
    "    'A': '0',\n",
    "    'B': '1',\n",
    "    'C': '2'\n",
    "}\n",
    "\n",
    "df.mapItem('Product', 'bin_product', map_values).show()"
   ]
  }
 ],
 "metadata": {
  "kernelspec": {
   "display_name": "Python 3",
   "language": "python",
   "name": "python3"
  },
  "language_info": {
   "codemirror_mode": {
    "name": "ipython",
    "version": 3
   },
   "file_extension": ".py",
   "mimetype": "text/x-python",
   "name": "python",
   "nbconvert_exporter": "python",
   "pygments_lexer": "ipython3",
   "version": "3.7.10"
  }
 },
 "nbformat": 4,
 "nbformat_minor": 5
}
