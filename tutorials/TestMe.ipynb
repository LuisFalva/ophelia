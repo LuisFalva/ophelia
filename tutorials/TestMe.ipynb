{
 "cells": [
  {
   "cell_type": "code",
   "execution_count": 1,
   "id": "118308d2-89b0-4d38-ba21-5a85b7ece962",
   "metadata": {},
   "outputs": [],
   "source": [
    "from ophelia.start import Ophelia"
   ]
  },
  {
   "cell_type": "code",
   "execution_count": 2,
   "id": "53208e6d-3787-4e12-b90d-1e5ffbc8c626",
   "metadata": {},
   "outputs": [
    {
     "name": "stdout",
     "output_type": "stream",
     "text": [
      "18:18:02.284 Ophelia [TAPE] +---------------------------------------------------------------------+\n",
      "18:18:02.285 Ophelia [INFO] | Hello! This package is for data mining & ml pipelines using PySpark |\n",
      "18:18:02.285 Ophelia [INFO] | Welcome to Ophelia Spark miner engine                               |\n",
      "18:18:02.285 Ophelia [INFO] | Package Version Ophelia.0.0.1                                       |\n",
      "18:18:02.285 Ophelia [WARN] | V for Vendata...                                                    |\n",
      "18:18:02.285 Ophelia [TAPE] +---------------------------------------------------------------------+\n",
      "18:18:02.285 Ophelia [WARN]                   - Ophelia a pyspark miner -                      \n",
      "18:18:02.285 Ophelia [MASK]   █ █ █ █ █ █ █ █ █ █ █ █ █ █ █ █ █ █ █ █ █ █ █ █ █ █ █ █ █ █ █    \n",
      "18:18:02.285 Ophelia [MASK]   █ █ █ █ ╬ ╬ ╬ ╬ ╬ ╬ ╬ ╬ ╬ ╬ ╬ ╬ ╬ ╬ ╬ ╬ ╬ ╬ ╬ ╬ ╬ ╬ ╬ █ █ █ █    \n",
      "18:18:02.285 Ophelia [MASK]   █ █ ╬ ╬ ╬ ╬ ╬ ╬ ╬ ╬ ╬ ╬ ╬ ╬ ╬ ╬ ╬ ╬ ╬ ╬ ╬ ╬ ╬ ╬ ╬ ╬ ╬ ╬ ╬ █ █    \n",
      "18:18:02.285 Ophelia [MASK]   █ ╬ ╬ ╬ ╬ ╬ ╬ ╬ ╬ ╬ ╬ ╬ ╬ ╬ ╬ ╬ ╬ ╬ ╬ ╬ ╬ ╬ ╬ ╬ ╬ ╬ ╬ ╬ ╬ ╬ █    \n",
      "18:18:02.285 Ophelia [MASK]   █ ╬ ╬ ╬ █ █ █ █ █ █ █ ╬ ╬ ╬ ╬ ╬ ╬ ╬ ╬ ╬ █ █ █ █ █ █ █ ╬ ╬ ╬ █    \n",
      "18:18:02.285 Ophelia [MASK]   █ ╬ ╬ █ █ ╬ ╬ ╬ ╬ █ █ █ ╬ ╬ ╬ ╬ ╬ ╬ ╬ █ █ █ ╬ ╬ ╬ ╬ █ █ ╬ ╬ █    \n",
      "18:18:02.285 Ophelia [MASK]   █ ╬ █ █ ╬ ╬ ╬ ╬ ╬ ╬ ╬ █ █ ╬ ╬ ╬ ╬ ╬ █ █ ╬ ╬ ╬ ╬ ╬ ╬ ╬ █ █ ╬ █    \n",
      "18:18:02.285 Ophelia [MASK]   █ ╬ ╬ ╬ ╬ ╬ ╬ ╬ ╬ ╬ ╬ ╬ ╬ ╬ ╬ ╬ ╬ ╬ ╬ ╬ ╬ ╬ ╬ ╬ ╬ ╬ ╬ ╬ ╬ ╬ █    \n",
      "18:18:02.285 Ophelia [MASK]   █ ╬ ╬ ╬ ╬ █ █ █ █ █ ╬ ╬ ╬ ╬ ╬ ╬ ╬ ╬ ╬ ╬ ╬ █ █ █ █ █ ╬ ╬ ╬ ╬ █    \n",
      "18:18:02.285 Ophelia [MASK]   █ ╬ ╬ █ █ █ █ █ █ █ █ █ ╬ ╬ ╬ ╬ ╬ ╬ ╬ █ █ █ █ █ █ █ █ █ ╬ ╬ █    \n",
      "18:18:02.285 Ophelia [MASK]   █ ╬ ╬ ╬ ╬ ╬ ╬ ╬ ╬ ╬ ╬ ╬ ╬ ╬ ╬ ╬ ╬ ╬ ╬ ╬ ╬ ╬ ╬ ╬ ╬ ╬ ╬ ╬ ╬ ╬ █    \n",
      "18:18:02.285 Ophelia [MASK]   █ ╬ ╬ ╬ ╬ ╬ ╬ ╬ ╬ ╬ ╬ ╬ ╬ ╬ ╬ █ ╬ ╬ ╬ ╬ ╬ ╬ ╬ ╬ ╬ ╬ ╬ ╬ ╬ ╬ █    \n",
      "18:18:02.285 Ophelia [MASK]   █ ╬ ╬ ╬ ╬ ╬ ╬ ╬ ╬ ╬ ╬ ╬ ╬ ╬ ╬ █ ╬ ╬ ╬ ╬ ╬ ╬ ╬ ╬ ╬ ╬ ╬ ╬ ╬ ╬ █    \n",
      "18:18:02.285 Ophelia [MASK]   █ ╬ ╬ ╬ ╬ ╬ ╬ ╬ ╬ ╬ ╬ ╬ ╬ ╬ ╬ █ ╬ ╬ ╬ ╬ ╬ ╬ ╬ ╬ ╬ ╬ ╬ ╬ ╬ ╬ █    \n",
      "18:18:02.285 Ophelia [MASK]   █ ╬ ╬ ╬ ▓ ▓ ▓ ▓ ╬ ╬ ╬ ╬ ╬ ╬ ╬ █ ╬ ╬ ╬ ╬ ╬ ╬ ╬ ▓ ▓ ▓ ▓ ╬ ╬ ╬ █    \n",
      "18:18:02.285 Ophelia [MASK]   █ ╬ ╬ ▓ ▓ ▓ ▓ ▓ ▓ ╬ ╬ █ ╬ ╬ ╬ █ ╬ ╬ ╬ █ ╬ ╬ ▓ ▓ ▓ ▓ ▓ ▓ ╬ ╬ █    \n",
      "18:18:02.285 Ophelia [MASK]   █ ╬ ╬ ╬ ▓ ▓ ▓ ▓ ╬ ╬ █ █ ╬ ╬ ╬ █ ╬ ╬ ╬ █ █ ╬ ╬ ▓ ▓ ▓ ▓ ╬ ╬ ╬ █    \n",
      "18:18:02.285 Ophelia [MASK]   █ ╬ ╬ ╬ ╬ ╬ ╬ ╬ ╬ █ █ ╬ ╬ ╬ ╬ █ ╬ ╬ ╬ ╬ █ █ ╬ ╬ ╬ ╬ ╬ ╬ ╬ ╬ █    \n",
      "18:18:02.286 Ophelia [MASK]   █ ╬ ╬ ╬ ╬ ╬ █ █ █ █ ╬ ╬ ╬ ╬ █ █ █ ╬ ╬ ╬ ╬ █ █ █ █ ╬ ╬ ╬ ╬ ╬ █    \n",
      "18:18:02.286 Ophelia [MASK]   █ ╬ ╬ ╬ ╬ ╬ ╬ ╬ ╬ ╬ ╬ ╬ ╬ ╬ █ █ █ ╬ ╬ ╬ ╬ ╬ ╬ ╬ ╬ ╬ ╬ ╬ ╬ ╬ █    \n",
      "18:18:02.286 Ophelia [MASK]   █ █ ╬ ╬ █ ╬ ╬ ╬ ╬ ╬ ╬ ╬ ╬ █ █ █ █ █ ╬ ╬ ╬ ╬ ╬ ╬ ╬ ╬ █ ╬ ╬ █ █    \n",
      "18:18:02.286 Ophelia [MASK]   █ █ ╬ ╬ █ █ ╬ ╬ ╬ ╬ ╬ ╬ █ █ █ █ █ █ █ ╬ ╬ ╬ ╬ ╬ ╬ █ █ ╬ ╬ █ █    \n",
      "18:18:02.286 Ophelia [MASK]   █ █ ╬ ╬ ▓ █ █ █ ╬ ╬ ╬ █ █ █ █ ╬ █ █ █ █ ╬ ╬ ╬ █ █ █ ▓ ╬ ╬ █ █    \n",
      "18:18:02.286 Ophelia [MASK]   █ █ █ ╬ ╬ ▓ ▓ █ █ █ █ █ █ █ ╬ ╬ ╬ █ █ █ █ █ █ █ ▓ ▓ ╬ ╬ █ █ █    \n",
      "18:18:02.286 Ophelia [MASK]   █ █ █ ╬ ╬ ╬ ╬ ▓ ▓ ▓ ▓ ▓ ▓ ▓ ▓ ▓ ▓ ▓ ▓ ▓ ▓ ▓ ▓ ▓ ╬ ╬ ╬ ╬ █ █ █    \n",
      "18:18:02.286 Ophelia [MASK]   █ █ █ █ ╬ ╬ ╬ ╬ ╬ ╬ ╬ ╬ ╬ ╬ █ █ █ ╬ ╬ ╬ ╬ ╬ ╬ ╬ ╬ ╬ ╬ █ █ █ █    \n",
      "18:18:02.286 Ophelia [MASK]   █ █ █ █ █ ╬ ╬ ╬ ╬ ╬ ╬ ╬ ╬ ╬ ╬ █ ╬ ╬ ╬ ╬ ╬ ╬ ╬ ╬ ╬ ╬ █ █ █ █ █    \n",
      "18:18:02.286 Ophelia [MASK]   █ █ █ █ █ █ ╬ ╬ ╬ ╬ ╬ ╬ ╬ ╬ █ █ █ ╬ ╬ ╬ ╬ ╬ ╬ ╬ ╬ █ █ █ █ █ █    \n",
      "18:18:02.286 Ophelia [MASK]   █ █ █ █ █ █ █ ╬ ╬ ╬ ╬ ╬ ╬ ╬ █ █ █ ╬ ╬ ╬ ╬ ╬ ╬ ╬ █ █ █ █ █ █ █    \n",
      "18:18:02.286 Ophelia [MASK]   █ █ █ █ █ █ █ █ ╬ ╬ ╬ ╬ ╬ ╬ █ █ █ ╬ ╬ ╬ ╬ ╬ ╬ █ █ █ █ █ █ █ █    \n",
      "18:18:02.286 Ophelia [MASK]   █ █ █ █ █ █ █ █ █ ╬ ╬ ╬ ╬ ╬ █ █ █ ╬ ╬ ╬ ╬ ╬ █ █ █ █ █ █ █ █ █    \n",
      "18:18:02.286 Ophelia [MASK]   █ █ █ █ █ █ █ █ █ █ █ ╬ ╬ ╬ ╬ █ ╬ ╬ ╬ ╬ █ █ █ █ █ █ █ █ █ █ █    \n",
      "18:18:02.286 Ophelia [MASK]   █ █ █ █ █ █ █ █ █ █ █ █ █ █ █ █ █ █ █ █ █ █ █ █ █ █ █ █ █ █ █\n",
      "   \n",
      "18:18:02.286 Ophelia [WARN] Initializing Spark Session\n",
      "18:18:35.327 Ophelia [INFO] Spark Version: 3.0.0\n",
      "18:18:35.327 Ophelia [INFO] This Is: 'Ophelia-Test' App\n",
      "18:18:35.327 Ophelia [INFO] Spark Context Initialized Success\n",
      "18:18:35.327 Ophelia [INFO] Spark Context Initialized Success\n"
     ]
    }
   ],
   "source": [
    "ophelia = Ophelia(\"Ophelia-Test\", True)\n",
    "\n",
    "sc = ophelia.Spark.build_spark_context()\n",
    "spark = ophelia.SparkSession"
   ]
  },
  {
   "cell_type": "code",
   "execution_count": null,
   "id": "aa0068c5-b0e4-47c6-9506-03e5b30de056",
   "metadata": {},
   "outputs": [],
   "source": [
    "import pandas as pd\n",
    "\n",
    "dataset = {\n",
    "    'Product': ['A', 'B', 'C', 'A', 'B', 'C', 'A', 'B', 'C'],\n",
    "    'Year': [2010, 2010, 2010, 2011, 2011, 2011, 2012, 2012, 2012],\n",
    "    'Revenue': [100, 200, 300, 110, 190, 320, 120, 220, 350]\n",
    "}\n",
    "\n",
    "df = spark.createDataFrame(pd.DataFrame(data=dataset))\n",
    "df.show(5)"
   ]
  },
  {
   "cell_type": "code",
   "execution_count": null,
   "id": "73a04441-7f1c-40ef-b769-9e3f230555fd",
   "metadata": {},
   "outputs": [],
   "source": [
    "from ophelia.functions import Shape\n",
    "\n",
    "df.Shape"
   ]
  },
  {
   "cell_type": "code",
   "execution_count": null,
   "id": "f254ded8-d683-49d1-b6b1-ef84087738ba",
   "metadata": {},
   "outputs": [],
   "source": [
    "from ophelia.functions import PctChange\n",
    "\n",
    "df.pctChange().show(5, False)"
   ]
  },
  {
   "cell_type": "code",
   "execution_count": null,
   "id": "84d3dd7d-187f-477b-a397-740684427d0c",
   "metadata": {},
   "outputs": [],
   "source": [
    "df.pctChange(periods=2).na.fill(0).show(5, False)"
   ]
  },
  {
   "cell_type": "code",
   "execution_count": null,
   "id": "2c53b0ca-1610-4576-bd0d-b366f5f1da97",
   "metadata": {},
   "outputs": [],
   "source": [
    "df.pctChange(partition_by=\"Product\", order_by=\"Year\", pct_cols=\"Revenue\").na.fill(0).show(5, False)"
   ]
  },
  {
   "cell_type": "code",
   "execution_count": null,
   "id": "222b032e-4b82-4693-93c7-afc5575257e7",
   "metadata": {},
   "outputs": [],
   "source": [
    "df.pctChange(partition_by=\"Product\", order_by=\"Year\", pct_cols=[\"Year\", \"Revenue\"]).na.fill(0).show(5, False)"
   ]
  },
  {
   "cell_type": "code",
   "execution_count": null,
   "id": "7b66a5a9-6b93-4a8b-8838-b89a6066590f",
   "metadata": {},
   "outputs": [],
   "source": [
    "from ophelia.functions import Reshape\n",
    "\n",
    "# We can choose either one column to aggregate with one single operation\n",
    "agg_dict_test = {'Revenue': 'max'}\n",
    "\n",
    "# Or moreTthan one column and more than one operation\n",
    "_agg_dict_test = {\n",
    "    'Revenue': 'mean, count, sum, stddev, var, min',\n",
    "    'Year': 'count, sum',\n",
    "    'Product': 'count'\n",
    "}\n",
    "\n",
    "df.toWide(group_by=\"Product\", pivot_col=\"Year\", agg_dict=agg_dict_test).orderBy(\"Product_Year\").show(5, False)"
   ]
  },
  {
   "cell_type": "code",
   "execution_count": null,
   "id": "572de837-5acc-4dae-9b6b-f2569446149f",
   "metadata": {},
   "outputs": [],
   "source": [
    "bank_dataset = {\n",
    "    'age': [59, 56, 41, 55, 54, 42, 56, 60, 37, 28],\n",
    "    'job': ['admin.', 'admin.', 'technician', 'services', 'admin.', 'management', 'management', 'retired', 'technician', 'services'],\n",
    "    'marital': ['married', 'married', 'married', 'married', 'married', 'single', 'married', 'divorced', 'married', 'single'],\n",
    "    'education': ['secondary', 'secondary', 'secondary', 'secondary', 'tertiary', 'tertiary', 'tertiary', 'secondary', 'secondary', 'secondary'],\n",
    "    'default': ['no', 'yes', 'no', 'no', 'yes', 'no', 'no', 'no', 'no', 'yes'],\n",
    "    'balance': [2343, 45, 1270, 2476, 184, 0, 830, 545, 1, 5090],\n",
    "    'housing': ['yes', 'no', 'yes', 'yes', 'no', 'yes', 'yes', 'yes', 'yes', 'yes'],\n",
    "    'loan': ['yes', 'no', 'no', 'no', 'no', 'yes', 'yes', 'no', 'yes', 'no'],\n",
    "    'day': [5, 5, 5, 5, 5, 5, 6, 6, 6, 6],\n",
    "    'month': ['may', 'may', 'jun', 'jul', 'jan', 'dec', 'oct', 'sep', 'jan', 'jul'],\n",
    "    'duration': [1042, 1467, 1389, 579, 673, 562, 1201, 1030, 608, 1297],\n",
    "    'campaign': [1, 1, 1, 1, 2, 2, 1, 1, 1, 3]\n",
    "}\n",
    "\n",
    "bank_df = spark.createDataFrame(pd.DataFrame(bank_dataset))\n",
    "bank_df.show()"
   ]
  },
  {
   "cell_type": "code",
   "execution_count": null,
   "id": "3f4b5587-5143-471e-aa10-95a3398f8652",
   "metadata": {},
   "outputs": [],
   "source": [
    "from ophelia.functions import Selects\n",
    "from ophelia.generic import regex_expr\n",
    "\n",
    "bank_df.selectRegex(regex_expr(['day', 'ous', 'aig'])).show(5, False)"
   ]
  },
  {
   "cell_type": "code",
   "execution_count": null,
   "id": "2cc8f750-e3bd-453b-95fe-5ac533bc4a64",
   "metadata": {},
   "outputs": [],
   "source": [
    "bank_df.selectContains(['day', 'ous', 'aig']).show(5, False)"
   ]
  },
  {
   "cell_type": "code",
   "execution_count": null,
   "id": "5abfe626-88a7-4911-a810-24182c0c36f5",
   "metadata": {},
   "outputs": [],
   "source": [
    "from ophelia.generic import string_match\n",
    "\n",
    "bank_df.where(string_match('housing == yes')).crosstab('education', 'campaign').orderBy('education_campaign').show()"
   ]
  },
  {
   "cell_type": "code",
   "execution_count": null,
   "id": "02e5adaf-468f-45a8-bf73-d9c8de474b34",
   "metadata": {},
   "outputs": [],
   "source": [
    "test_agg_dict_ = {\n",
    "    'balance': 'sum'\n",
    "}\n",
    "bank_df.where(string_match('housing == yes')).toWide('education', 'campaign', test_agg_dict_).orderBy('education_campaign').show()"
   ]
  },
  {
   "cell_type": "code",
   "execution_count": null,
   "id": "1559b3df-9b7f-4e07-bc5f-95de1f78807b",
   "metadata": {},
   "outputs": [],
   "source": [
    "from ophelia.functions import MapItem\n",
    "\n",
    "map_values = {\n",
    "    'A': '0',\n",
    "    'B': '1',\n",
    "    'C': '2'\n",
    "}\n",
    "\n",
    "df.mapItem('Product', 'bin_product', map_values).show()"
   ]
  },
  {
   "cell_type": "code",
   "execution_count": null,
   "id": "355b9fec-dbfd-45f3-beca-021a96d94355",
   "metadata": {},
   "outputs": [],
   "source": []
  }
 ],
 "metadata": {
  "kernelspec": {
   "display_name": "Python 3",
   "language": "python",
   "name": "python3"
  },
  "language_info": {
   "codemirror_mode": {
    "name": "ipython",
    "version": 3
   },
   "file_extension": ".py",
   "mimetype": "text/x-python",
   "name": "python",
   "nbconvert_exporter": "python",
   "pygments_lexer": "ipython3",
   "version": "3.7.10"
  }
 },
 "nbformat": 4,
 "nbformat_minor": 5
}
