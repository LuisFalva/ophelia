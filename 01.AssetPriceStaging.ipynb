{
 "cells": [
  {
   "cell_type": "code",
   "execution_count": 1,
   "metadata": {},
   "outputs": [],
   "source": [
    "import visualize"
   ]
  },
  {
   "cell_type": "code",
   "execution_count": 2,
   "metadata": {},
   "outputs": [],
   "source": [
    "from enquire.staging.asset_price_staging import AssetPriceStaging"
   ]
  },
  {
   "cell_type": "code",
   "execution_count": 3,
   "metadata": {},
   "outputs": [
    {
     "name": "stdout",
     "output_type": "stream",
     "text": [
      "01:40:55.387 Ophelia [TAPE] +---------------------------------------------------------------------+\n",
      "01:40:55.387 Ophelia [INFO] | My name is Ophelia Vendata                                          |\n",
      "01:40:55.387 Ophelia [INFO] | I am an artificial assistant for data mining & ML engine with spark |\n",
      "01:40:55.388 Ophelia [INFO] | Welcome to Ophelia spark miner engine                               |\n",
      "01:40:55.388 Ophelia [INFO] | Lib Version Ophelia.dev1.0                                          |\n",
      "01:40:55.388 Ophelia [WARN] | V for Vendata...                                                    |\n",
      "01:40:55.388 Ophelia [TAPE] +---------------------------------------------------------------------+\n",
      "01:40:55.388 Ophelia [WARN] Initializing Spark Session\n",
      "01:41:04.704 Ophelia [INFO] Spark Version: 3.0.0\n",
      "01:41:04.704 Ophelia [INFO] This Is: 'AssetPriceStaging' App\n"
     ]
    }
   ],
   "source": [
    "staging_ingestion = AssetPriceStaging(\n",
    "    input_path='data/raw/format/data.xlsx',\n",
    "    sheet_name='Hoja1',\n",
    "    output_path='data/staging/benchmark/ticker_name'\n",
    ")"
   ]
  },
  {
   "cell_type": "code",
   "execution_count": null,
   "metadata": {},
   "outputs": [],
   "source": [
    "staging_ingestion.run()"
   ]
  },
  {
   "cell_type": "code",
   "execution_count": null,
   "metadata": {},
   "outputs": [],
   "source": [
    "staging_ingestion.spark.read.parquet('data/staging/benchmark/close_month_price').orderBy('close_timestamp').show(5)"
   ]
  },
  {
   "cell_type": "code",
   "execution_count": null,
   "metadata": {},
   "outputs": [],
   "source": [
    "staging_ingestion.spark.read.parquet('data/staging/benchmark/close_day_price').orderBy('close_timestamp').show(5)"
   ]
  },
  {
   "cell_type": "code",
   "execution_count": null,
   "metadata": {},
   "outputs": [],
   "source": [
    "staging_ingestion.spark.read.parquet('data/staging/benchmark/close_historic_price').orderBy('close_timestamp').show(5)"
   ]
  },
  {
   "cell_type": "code",
   "execution_count": null,
   "metadata": {},
   "outputs": [],
   "source": [
    "staging_ingestion.spark.read.parquet('data/staging/benchmark/ticker_name').show(5, False)"
   ]
  },
  {
   "cell_type": "markdown",
   "metadata": {},
   "source": [
    "==========================================================================================================================================="
   ]
  }
 ],
 "metadata": {
  "kernelspec": {
   "display_name": "ophelia",
   "language": "python",
   "name": "ophelia"
  },
  "language_info": {
   "codemirror_mode": {
    "name": "ipython",
    "version": 3
   },
   "file_extension": ".py",
   "mimetype": "text/x-python",
   "name": "python",
   "nbconvert_exporter": "python",
   "pygments_lexer": "ipython3",
   "version": "3.8.0"
  }
 },
 "nbformat": 4,
 "nbformat_minor": 4
}
