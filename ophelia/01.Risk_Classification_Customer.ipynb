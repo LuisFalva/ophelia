{
 "cells": [
  {
   "cell_type": "code",
   "execution_count": 1,
   "metadata": {},
   "outputs": [
    {
     "data": {
      "text/html": [
       "<style>\n",
       ".output_subarea.output_text.output_stream.output_stdout > pre {\n",
       "    width:max-content;\n",
       "}\n",
       ".p-Widget.jp-RenderedText.jp-OutputArea-output > pre {\n",
       "   width:max-content;\n",
       "}\n",
       "</style>\n"
      ],
      "text/plain": [
       "<IPython.core.display.HTML object>"
      ]
     },
     "metadata": {},
     "output_type": "display_data"
    }
   ],
   "source": [
    "%%html\n",
    "<style>\n",
    ".output_subarea.output_text.output_stream.output_stdout > pre {\n",
    "    width:max-content;\n",
    "}\n",
    ".p-Widget.jp-RenderedText.jp-OutputArea-output > pre {\n",
    "   width:max-content;\n",
    "}\n",
    "</style>"
   ]
  },
  {
   "cell_type": "code",
   "execution_count": 2,
   "metadata": {},
   "outputs": [],
   "source": [
    "import operator\n",
    "\n",
    "from pyspark.sql import Row\n",
    "from pyspark.sql.functions import udf, when, rand, struct, col, lit\n",
    "from pyspark.sql.types import StringType, IntegerType, StructField, StructType, DoubleType, ArrayType"
   ]
  },
  {
   "cell_type": "code",
   "execution_count": 3,
   "metadata": {},
   "outputs": [],
   "source": [
    "import visualize\n",
    "from com.ophelia.OpheliaVendata import OpheliaVendata"
   ]
  },
  {
   "cell_type": "code",
   "execution_count": 4,
   "metadata": {},
   "outputs": [
    {
     "name": "stdout",
     "output_type": "stream",
     "text": [
      "\n",
      "====================================================================================\n",
      "22:36:14.249 Ophelia [INFO] ¡Hullo! My name is Ophelia and I'm pleased to meet you\n",
      "22:36:14.249 Ophelia [INFO] I am an artificial assistant for intelligent investment\n",
      "22:36:14.249 Ophelia [INFO] Welcome to your asset allocation system\n",
      "22:36:14.249 Ophelia [INFO] V for Vendata...\n",
      "====================================================================================\n",
      "\n",
      "                         - By. Vendetta Gentleman Club -                     \n",
      "\n",
      "           █ █ █ █ █ █ █ █ █ █ █ █ █ █ █ █ █ █ █ █ █ █ █ █ █ █ █ █ █ █ █\n",
      "           █ █ █ █ ╬ ╬ ╬ ╬ ╬ ╬ ╬ ╬ ╬ ╬ ╬ ╬ ╬ ╬ ╬ ╬ ╬ ╬ ╬ ╬ ╬ ╬ ╬ █ █ █ █\n",
      "           █ █ ╬ ╬ ╬ ╬ ╬ ╬ ╬ ╬ ╬ ╬ ╬ ╬ ╬ ╬ ╬ ╬ ╬ ╬ ╬ ╬ ╬ ╬ ╬ ╬ ╬ ╬ ╬ █ █\n",
      "           █ ╬ ╬ ╬ ╬ ╬ ╬ ╬ ╬ ╬ ╬ ╬ ╬ ╬ ╬ ╬ ╬ ╬ ╬ ╬ ╬ ╬ ╬ ╬ ╬ ╬ ╬ ╬ ╬ ╬ █\n",
      "           █ ╬ ╬ ╬ █ █ █ █ █ █ █ ╬ ╬ ╬ ╬ ╬ ╬ ╬ ╬ ╬ █ █ █ █ █ █ █ ╬ ╬ ╬ █\n",
      "           █ ╬ ╬ █ █ ╬ ╬ ╬ ╬ █ █ █ ╬ ╬ ╬ ╬ ╬ ╬ ╬ █ █ █ ╬ ╬ ╬ ╬ █ █ ╬ ╬ █\n",
      "           █ ╬ █ █ ╬ ╬ ╬ ╬ ╬ ╬ ╬ █ █ ╬ ╬ ╬ ╬ ╬ █ █ ╬ ╬ ╬ ╬ ╬ ╬ ╬ █ █ ╬ █\n",
      "           █ ╬ ╬ ╬ ╬ ╬ ╬ ╬ ╬ ╬ ╬ ╬ ╬ ╬ ╬ ╬ ╬ ╬ ╬ ╬ ╬ ╬ ╬ ╬ ╬ ╬ ╬ ╬ ╬ ╬ █\n",
      "           █ ╬ ╬ ╬ ╬ █ █ █ █ █ ╬ ╬ ╬ ╬ ╬ ╬ ╬ ╬ ╬ ╬ ╬ █ █ █ █ █ ╬ ╬ ╬ ╬ █\n",
      "           █ ╬ ╬ █ █ █ █ █ █ █ █ █ ╬ ╬ ╬ ╬ ╬ ╬ ╬ █ █ █ █ █ █ █ █ █ ╬ ╬ █\n",
      "           █ ╬ ╬ ╬ ╬ ╬ ╬ ╬ ╬ ╬ ╬ ╬ ╬ ╬ ╬ ╬ ╬ ╬ ╬ ╬ ╬ ╬ ╬ ╬ ╬ ╬ ╬ ╬ ╬ ╬ █\n",
      "           █ ╬ ╬ ╬ ╬ ╬ ╬ ╬ ╬ ╬ ╬ ╬ ╬ ╬ ╬ █ ╬ ╬ ╬ ╬ ╬ ╬ ╬ ╬ ╬ ╬ ╬ ╬ ╬ ╬ █\n",
      "           █ ╬ ╬ ╬ ╬ ╬ ╬ ╬ ╬ ╬ ╬ ╬ ╬ ╬ ╬ █ ╬ ╬ ╬ ╬ ╬ ╬ ╬ ╬ ╬ ╬ ╬ ╬ ╬ ╬ █\n",
      "           █ ╬ ╬ ╬ ╬ ╬ ╬ ╬ ╬ ╬ ╬ ╬ ╬ ╬ ╬ █ ╬ ╬ ╬ ╬ ╬ ╬ ╬ ╬ ╬ ╬ ╬ ╬ ╬ ╬ █\n",
      "           █ ╬ ╬ ╬ ▓ ▓ ▓ ▓ ╬ ╬ ╬ ╬ ╬ ╬ ╬ █ ╬ ╬ ╬ ╬ ╬ ╬ ╬ ▓ ▓ ▓ ▓ ╬ ╬ ╬ █\n",
      "           █ ╬ ╬ ▓ ▓ ▓ ▓ ▓ ▓ ╬ ╬ █ ╬ ╬ ╬ █ ╬ ╬ ╬ █ ╬ ╬ ▓ ▓ ▓ ▓ ▓ ▓ ╬ ╬ █\n",
      "           █ ╬ ╬ ╬ ▓ ▓ ▓ ▓ ╬ ╬ █ █ ╬ ╬ ╬ █ ╬ ╬ ╬ █ █ ╬ ╬ ▓ ▓ ▓ ▓ ╬ ╬ ╬ █\n",
      "           █ ╬ ╬ ╬ ╬ ╬ ╬ ╬ ╬ █ █ ╬ ╬ ╬ ╬ █ ╬ ╬ ╬ ╬ █ █ ╬ ╬ ╬ ╬ ╬ ╬ ╬ ╬ █\n",
      "           █ ╬ ╬ ╬ ╬ ╬ █ █ █ █ ╬ ╬ ╬ ╬ █ █ █ ╬ ╬ ╬ ╬ █ █ █ █ ╬ ╬ ╬ ╬ ╬ █\n",
      "           █ ╬ ╬ ╬ ╬ ╬ ╬ ╬ ╬ ╬ ╬ ╬ ╬ ╬ █ █ █ ╬ ╬ ╬ ╬ ╬ ╬ ╬ ╬ ╬ ╬ ╬ ╬ ╬ █\n",
      "           █ █ ╬ ╬ █ ╬ ╬ ╬ ╬ ╬ ╬ ╬ ╬ █ █ █ █ █ ╬ ╬ ╬ ╬ ╬ ╬ ╬ ╬ █ ╬ ╬ █ █\n",
      "           █ █ ╬ ╬ █ █ ╬ ╬ ╬ ╬ ╬ ╬ █ █ █ █ █ █ █ ╬ ╬ ╬ ╬ ╬ ╬ █ █ ╬ ╬ █ █\n",
      "           █ █ ╬ ╬ ▓ █ █ █ ╬ ╬ ╬ █ █ █ █ ╬ █ █ █ █ ╬ ╬ ╬ █ █ █ ▓ ╬ ╬ █ █\n",
      "           █ █ █ ╬ ╬ ▓ ▓ █ █ █ █ █ █ █ ╬ ╬ ╬ █ █ █ █ █ █ █ ▓ ▓ ╬ ╬ █ █ █\n",
      "           █ █ █ ╬ ╬ ╬ ╬ ▓ ▓ ▓ ▓ ▓ ▓ ▓ ▓ ▓ ▓ ▓ ▓ ▓ ▓ ▓ ▓ ▓ ╬ ╬ ╬ ╬ █ █ █\n",
      "           █ █ █ █ ╬ ╬ ╬ ╬ ╬ ╬ ╬ ╬ ╬ ╬ █ █ █ ╬ ╬ ╬ ╬ ╬ ╬ ╬ ╬ ╬ ╬ █ █ █ █\n",
      "           █ █ █ █ █ ╬ ╬ ╬ ╬ ╬ ╬ ╬ ╬ ╬ ╬ █ ╬ ╬ ╬ ╬ ╬ ╬ ╬ ╬ ╬ ╬ █ █ █ █ █\n",
      "           █ █ █ █ █ █ ╬ ╬ ╬ ╬ ╬ ╬ ╬ ╬ █ █ █ ╬ ╬ ╬ ╬ ╬ ╬ ╬ ╬ █ █ █ █ █ █\n",
      "           █ █ █ █ █ █ █ ╬ ╬ ╬ ╬ ╬ ╬ ╬ █ █ █ ╬ ╬ ╬ ╬ ╬ ╬ ╬ █ █ █ █ █ █ █\n",
      "           █ █ █ █ █ █ █ █ ╬ ╬ ╬ ╬ ╬ ╬ █ █ █ ╬ ╬ ╬ ╬ ╬ ╬ █ █ █ █ █ █ █ █\n",
      "           █ █ █ █ █ █ █ █ █ ╬ ╬ ╬ ╬ ╬ █ █ █ ╬ ╬ ╬ ╬ ╬ █ █ █ █ █ █ █ █ █\n",
      "           █ █ █ █ █ █ █ █ █ █ █ ╬ ╬ ╬ ╬ █ ╬ ╬ ╬ ╬ █ █ █ █ █ █ █ █ █ █ █\n",
      "           █ █ █ █ █ █ █ █ █ █ █ █ █ █ █ █ █ █ █ █ █ █ █ █ █ █ █ █ █ █ █\n",
      "\n",
      "====================================================================================\n",
      "22:36:14.252 Ophelia [INFO] Initializing OpheliaSpark Session\n",
      "22:36:17.075 Ophelia [INFO] OpheliaSpark Session Version: 2.4.5\n",
      "22:36:17.075 Ophelia [INFO] This Is: 'Risk Classification Demo' Project\n"
     ]
    }
   ],
   "source": [
    "ophelia = OpheliaVendata(\"Risk Classification Demo\")"
   ]
  },
  {
   "cell_type": "code",
   "execution_count": null,
   "metadata": {},
   "outputs": [],
   "source": [
    "path = \"data/raw/csv/bank.csv\"\n",
    "df = spark.read.csv(path, header=True)\n",
    "df.show(5, False)"
   ]
  },
  {
   "cell_type": "code",
   "execution_count": 5,
   "metadata": {},
   "outputs": [
    {
     "name": "stdout",
     "output_type": "stream",
     "text": [
      "+---+----------+-------+---------+------+-----+------+-------+------+--------------------------------------------------------+\n",
      "|age|job       |marital|education|gender|child|saving|insight|backup|struct                                                  |\n",
      "+---+----------+-------+---------+------+-----+------+-------+------+--------------------------------------------------------+\n",
      "|59 |admin.    |married|secondary|male  |1    |0     |1      |1     |[male, 59, secondary, admin., married, 1, 0, 1, 1]      |\n",
      "|56 |admin.    |married|secondary|female|0    |1     |0      |1     |[female, 56, secondary, admin., married, 0, 1, 0, 1]    |\n",
      "|41 |technician|married|secondary|female|1    |1     |0      |0     |[female, 41, secondary, technician, married, 1, 1, 0, 0]|\n",
      "|55 |services  |married|secondary|male  |1    |0     |0      |1     |[male, 55, secondary, services, married, 1, 0, 0, 1]    |\n",
      "|54 |admin.    |married|tertiary |female|1    |0     |0      |1     |[female, 54, tertiary, admin., married, 1, 0, 0, 1]     |\n",
      "+---+----------+-------+---------+------+-----+------+-------+------+--------------------------------------------------------+\n",
      "only showing top 5 rows\n",
      "\n"
     ]
    }
   ],
   "source": [
    "spark = ophelia.ophelia_session\n",
    "path = \"data/master/ophelia/data/OpheliaData/risk_classification/\"\n",
    "random_sample_df = spark.read.parquet(path)\n",
    "random_sample_df.show(5, False)"
   ]
  },
  {
   "cell_type": "code",
   "execution_count": 6,
   "metadata": {},
   "outputs": [],
   "source": [
    "schema_tree = ArrayType(StructType([\n",
    "    StructField(\"weight\", DoubleType(), True),\n",
    "    StructField(\"risk_label\", StringType(), True),\n",
    "    StructField(\"vote\", IntegerType(), True)\n",
    "]))"
   ]
  },
  {
   "cell_type": "code",
   "execution_count": 13,
   "metadata": {},
   "outputs": [
    {
     "name": "stdout",
     "output_type": "stream",
     "text": [
      "22:36:56.096 Ophelia [INFO] OpheliaSpark Context Initialized Successfully\n",
      "22:36:56.096 Ophelia [INFO] Build OpheliaSpark Session\n",
      "22:36:56.101 Ophelia [INFO] OpheliaSpark Session Version: 2.4.5\n",
      "22:36:56.101 Ophelia [WARN] Please, Be Aware To Set App Name Next Time...\n"
     ]
    }
   ],
   "source": [
    "sc = ophelia.ophelia_spark.build_spark_context()\n",
    "sc.addFile(\"../ophelia/\", recursive = True)"
   ]
  },
  {
   "cell_type": "code",
   "execution_count": 14,
   "metadata": {},
   "outputs": [],
   "source": [
    "tree_udf = udf(ophelia.ophelia_class.tree_generator, schema_tree)\n",
    "classification_udf = udf(ophelia.ophelia_class.run_classification_risk, StringType())"
   ]
  },
  {
   "cell_type": "code",
   "execution_count": 15,
   "metadata": {},
   "outputs": [
    {
     "name": "stdout",
     "output_type": "stream",
     "text": [
      "+---+----------+-------+---------+------+-----+------+-------+------+--------------------------------------------------------+-------------------------------------------------------------------------------------------------------------------------------------------------------+\n",
      "|age|job       |marital|education|gender|child|saving|insight|backup|struct                                                  |tree                                                                                                                                                   |\n",
      "+---+----------+-------+---------+------+-----+------+-------+------+--------------------------------------------------------+-------------------------------------------------------------------------------------------------------------------------------------------------------+\n",
      "|59 |admin.    |married|secondary|male  |1    |0     |1      |1     |[male, 59, secondary, admin., married, 1, 0, 1, 1]      |[[0.0072, A, 1], [0.3205, MC, 7], [9.0E-4, MA, 1], [0.3905, MA, 1], [0.0024, MA, 6], [0.1404, MC, 6], [0.0423, MA, 1], [0.0335, A, 6], [0.0623, A, 6]] |\n",
      "|56 |admin.    |married|secondary|female|0    |1     |0      |1     |[female, 56, secondary, admin., married, 0, 1, 0, 1]    |[[0.0072, MA, 1], [0.3205, M, 7], [9.0E-4, MA, 1], [0.3905, MA, 1], [0.0024, MA, 6], [0.1404, MA, 1], [0.0423, MC, 6], [0.0335, M, 1], [0.0623, A, 6]] |\n",
      "|41 |technician|married|secondary|female|1    |1     |0      |0     |[female, 41, secondary, technician, married, 1, 1, 0, 0]|[[0.0072, MA, 1], [0.3205, MA, 6], [9.0E-4, MA, 1], [0.3905, MA, 1], [0.0024, MA, 6], [0.1404, MC, 6], [0.0423, MC, 6], [0.0335, M, 1], [0.0623, M, 1]]|\n",
      "|55 |services  |married|secondary|male  |1    |0     |0      |1     |[male, 55, secondary, services, married, 1, 0, 0, 1]    |[[0.0072, A, 1], [0.3205, M, 7], [9.0E-4, MA, 1], [0.3905, MA, 1], [0.0024, MA, 6], [0.1404, MC, 6], [0.0423, MA, 1], [0.0335, M, 1], [0.0623, A, 6]]  |\n",
      "|54 |admin.    |married|tertiary |female|1    |0     |0      |1     |[female, 54, tertiary, admin., married, 1, 0, 0, 1]     |[[0.0072, MA, 1], [0.3205, M, 7], [9.0E-4, A, 1], [0.3905, MA, 1], [0.0024, MA, 6], [0.1404, MC, 6], [0.0423, MA, 1], [0.0335, M, 1], [0.0623, A, 6]]  |\n",
      "+---+----------+-------+---------+------+-----+------+-------+------+--------------------------------------------------------+-------------------------------------------------------------------------------------------------------------------------------------------------------+\n",
      "only showing top 5 rows\n",
      "\n"
     ]
    }
   ],
   "source": [
    "result_df = random_sample_df.select(\"*\", tree_udf(col(\"struct\")).alias(\"tree\")).cache()\n",
    "result_df.show(5, False)"
   ]
  },
  {
   "cell_type": "code",
   "execution_count": 16,
   "metadata": {},
   "outputs": [
    {
     "name": "stdout",
     "output_type": "stream",
     "text": [
      "+----------+-----+\n",
      "|risk_label|count|\n",
      "+----------+-----+\n",
      "|M         |360  |\n",
      "|C         |628  |\n",
      "|A         |3752 |\n",
      "|MC        |3294 |\n",
      "|MA        |3128 |\n",
      "+----------+-----+\n",
      "\n",
      "+---+----------+--------+---------+------+-----+------+-------+------+----------+\n",
      "|age|job       |marital |education|gender|child|saving|insight|backup|risk_label|\n",
      "+---+----------+--------+---------+------+-----+------+-------+------+----------+\n",
      "|59 |admin.    |married |secondary|male  |1    |0     |1      |1     |MC        |\n",
      "|56 |admin.    |married |secondary|female|0    |1     |0      |1     |MA        |\n",
      "|41 |technician|married |secondary|female|1    |1     |0      |0     |MA        |\n",
      "|55 |services  |married |secondary|male  |1    |0     |0      |1     |MA        |\n",
      "|54 |admin.    |married |tertiary |female|1    |0     |0      |1     |MA        |\n",
      "|42 |management|single  |tertiary |male  |0    |1     |1      |0     |A         |\n",
      "|56 |management|married |tertiary |male  |1    |1     |1      |0     |MC        |\n",
      "|60 |retired   |divorced|secondary|female|0    |1     |0      |0     |MC        |\n",
      "|37 |technician|married |secondary|male  |0    |0     |1      |0     |MA        |\n",
      "|28 |services  |single  |secondary|female|0    |0     |0      |1     |A         |\n",
      "+---+----------+--------+---------+------+-----+------+-------+------+----------+\n",
      "only showing top 10 rows\n",
      "\n"
     ]
    }
   ],
   "source": [
    "final = result_df.select(\"age\", \"job\", \"marital\", \"education\", \"gender\",\n",
    "                         \"child\", \"saving\", \"insight\", \"backup\",\n",
    "                         classification_udf(col(\"tree\")).alias(\"risk_label\"))\n",
    "\n",
    "final.groupBy(\"risk_label\").count().show(10, False)\n",
    "final.show(10, False)"
   ]
  },
  {
   "cell_type": "code",
   "execution_count": null,
   "metadata": {},
   "outputs": [],
   "source": [
    "risk_classification_path = ophelia.ophelia_write.write_parquet(\n",
    "    df=final,\n",
    "    output_type=\"model\",\n",
    "    project=\"OpheliaRiskClassifier\",\n",
    "    part=\"risk_label\"\n",
    ")"
   ]
  }
 ],
 "metadata": {
  "kernelspec": {
   "display_name": "Python 3",
   "language": "python",
   "name": "python3"
  },
  "language_info": {
   "codemirror_mode": {
    "name": "ipython",
    "version": 3
   },
   "file_extension": ".py",
   "mimetype": "text/x-python",
   "name": "python",
   "nbconvert_exporter": "python",
   "pygments_lexer": "ipython3",
   "version": "3.6.9"
  }
 },
 "nbformat": 4,
 "nbformat_minor": 2
}
