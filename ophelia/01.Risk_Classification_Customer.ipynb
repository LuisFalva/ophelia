{
 "cells": [
  {
   "cell_type": "code",
   "execution_count": 1,
   "metadata": {},
   "outputs": [
    {
     "data": {
      "text/html": [
       "<style>\n",
       ".output_subarea.output_text.output_stream.output_stdout > pre {\n",
       "    width:max-content;\n",
       "}\n",
       ".p-Widget.jp-RenderedText.jp-OutputArea-output > pre {\n",
       "   width:max-content;\n",
       "}\n",
       "</style>\n"
      ],
      "text/plain": [
       "<IPython.core.display.HTML object>"
      ]
     },
     "metadata": {},
     "output_type": "display_data"
    }
   ],
   "source": [
    "%%html\n",
    "<style>\n",
    ".output_subarea.output_text.output_stream.output_stdout > pre {\n",
    "    width:max-content;\n",
    "}\n",
    ".p-Widget.jp-RenderedText.jp-OutputArea-output > pre {\n",
    "   width:max-content;\n",
    "}\n",
    "</style>"
   ]
  },
  {
   "cell_type": "code",
   "execution_count": 2,
   "metadata": {},
   "outputs": [],
   "source": [
    "import sys\n",
    "import os\n",
    "import operator\n",
    "\n",
    "from pyspark.sql import Row\n",
    "from pyspark.sql.functions import udf, when, rand, struct, col, lit, current_date, current_timestamp, monotonically_increasing_id\n",
    "from pyspark.sql.types import StringType, IntegerType, StructField, StructType, DoubleType, ArrayType, FloatType"
   ]
  },
  {
   "cell_type": "code",
   "execution_count": 18,
   "metadata": {},
   "outputs": [],
   "source": [
    "import visualize\n",
    "from com.ophelia.OpheliaVendata import OpheliaVendata"
   ]
  },
  {
   "cell_type": "code",
   "execution_count": 5,
   "metadata": {},
   "outputs": [],
   "source": [
    "module_path = os.path.abspath(os.path.join('..'))"
   ]
  },
  {
   "cell_type": "code",
   "execution_count": 6,
   "metadata": {},
   "outputs": [
    {
     "name": "stdout",
     "output_type": "stream",
     "text": [
      "\n",
      "===================================================================================================\n",
      "17:27:37.602 Ophelia [INFO] ¡Hi! My name is Ophelia\n",
      "17:27:37.602 Ophelia [INFO] I am an artificial assistant for machine learning applications in Spark\n",
      "17:27:37.602 Ophelia [INFO] Welcome to Ophelia Assisted Intelligence System (OAIS)\n",
      "17:27:37.602 Ophelia [INFO] V for Vendata...\n",
      "===================================================================================================\n",
      "\n",
      "                                 - By. Vendata-Gentleman Club -                            \n",
      "\n",
      "                   █ █ █ █ █ █ █ █ █ █ █ █ █ █ █ █ █ █ █ █ █ █ █ █ █ █ █ █ █ █ █\n",
      "                   █ █ █ █ ╬ ╬ ╬ ╬ ╬ ╬ ╬ ╬ ╬ ╬ ╬ ╬ ╬ ╬ ╬ ╬ ╬ ╬ ╬ ╬ ╬ ╬ ╬ █ █ █ █\n",
      "                   █ █ ╬ ╬ ╬ ╬ ╬ ╬ ╬ ╬ ╬ ╬ ╬ ╬ ╬ ╬ ╬ ╬ ╬ ╬ ╬ ╬ ╬ ╬ ╬ ╬ ╬ ╬ ╬ █ █\n",
      "                   █ ╬ ╬ ╬ ╬ ╬ ╬ ╬ ╬ ╬ ╬ ╬ ╬ ╬ ╬ ╬ ╬ ╬ ╬ ╬ ╬ ╬ ╬ ╬ ╬ ╬ ╬ ╬ ╬ ╬ █\n",
      "                   █ ╬ ╬ ╬ █ █ █ █ █ █ █ ╬ ╬ ╬ ╬ ╬ ╬ ╬ ╬ ╬ █ █ █ █ █ █ █ ╬ ╬ ╬ █\n",
      "                   █ ╬ ╬ █ █ ╬ ╬ ╬ ╬ █ █ █ ╬ ╬ ╬ ╬ ╬ ╬ ╬ █ █ █ ╬ ╬ ╬ ╬ █ █ ╬ ╬ █\n",
      "                   █ ╬ █ █ ╬ ╬ ╬ ╬ ╬ ╬ ╬ █ █ ╬ ╬ ╬ ╬ ╬ █ █ ╬ ╬ ╬ ╬ ╬ ╬ ╬ █ █ ╬ █\n",
      "                   █ ╬ ╬ ╬ ╬ ╬ ╬ ╬ ╬ ╬ ╬ ╬ ╬ ╬ ╬ ╬ ╬ ╬ ╬ ╬ ╬ ╬ ╬ ╬ ╬ ╬ ╬ ╬ ╬ ╬ █\n",
      "                   █ ╬ ╬ ╬ ╬ █ █ █ █ █ ╬ ╬ ╬ ╬ ╬ ╬ ╬ ╬ ╬ ╬ ╬ █ █ █ █ █ ╬ ╬ ╬ ╬ █\n",
      "                   █ ╬ ╬ █ █ █ █ █ █ █ █ █ ╬ ╬ ╬ ╬ ╬ ╬ ╬ █ █ █ █ █ █ █ █ █ ╬ ╬ █\n",
      "                   █ ╬ ╬ ╬ ╬ ╬ ╬ ╬ ╬ ╬ ╬ ╬ ╬ ╬ ╬ ╬ ╬ ╬ ╬ ╬ ╬ ╬ ╬ ╬ ╬ ╬ ╬ ╬ ╬ ╬ █\n",
      "                   █ ╬ ╬ ╬ ╬ ╬ ╬ ╬ ╬ ╬ ╬ ╬ ╬ ╬ ╬ █ ╬ ╬ ╬ ╬ ╬ ╬ ╬ ╬ ╬ ╬ ╬ ╬ ╬ ╬ █\n",
      "                   █ ╬ ╬ ╬ ╬ ╬ ╬ ╬ ╬ ╬ ╬ ╬ ╬ ╬ ╬ █ ╬ ╬ ╬ ╬ ╬ ╬ ╬ ╬ ╬ ╬ ╬ ╬ ╬ ╬ █\n",
      "                   █ ╬ ╬ ╬ ╬ ╬ ╬ ╬ ╬ ╬ ╬ ╬ ╬ ╬ ╬ █ ╬ ╬ ╬ ╬ ╬ ╬ ╬ ╬ ╬ ╬ ╬ ╬ ╬ ╬ █\n",
      "                   █ ╬ ╬ ╬ ▓ ▓ ▓ ▓ ╬ ╬ ╬ ╬ ╬ ╬ ╬ █ ╬ ╬ ╬ ╬ ╬ ╬ ╬ ▓ ▓ ▓ ▓ ╬ ╬ ╬ █\n",
      "                   █ ╬ ╬ ▓ ▓ ▓ ▓ ▓ ▓ ╬ ╬ █ ╬ ╬ ╬ █ ╬ ╬ ╬ █ ╬ ╬ ▓ ▓ ▓ ▓ ▓ ▓ ╬ ╬ █\n",
      "                   █ ╬ ╬ ╬ ▓ ▓ ▓ ▓ ╬ ╬ █ █ ╬ ╬ ╬ █ ╬ ╬ ╬ █ █ ╬ ╬ ▓ ▓ ▓ ▓ ╬ ╬ ╬ █\n",
      "                   █ ╬ ╬ ╬ ╬ ╬ ╬ ╬ ╬ █ █ ╬ ╬ ╬ ╬ █ ╬ ╬ ╬ ╬ █ █ ╬ ╬ ╬ ╬ ╬ ╬ ╬ ╬ █\n",
      "                   █ ╬ ╬ ╬ ╬ ╬ █ █ █ █ ╬ ╬ ╬ ╬ █ █ █ ╬ ╬ ╬ ╬ █ █ █ █ ╬ ╬ ╬ ╬ ╬ █\n",
      "                   █ ╬ ╬ ╬ ╬ ╬ ╬ ╬ ╬ ╬ ╬ ╬ ╬ ╬ █ █ █ ╬ ╬ ╬ ╬ ╬ ╬ ╬ ╬ ╬ ╬ ╬ ╬ ╬ █\n",
      "                   █ █ ╬ ╬ █ ╬ ╬ ╬ ╬ ╬ ╬ ╬ ╬ █ █ █ █ █ ╬ ╬ ╬ ╬ ╬ ╬ ╬ ╬ █ ╬ ╬ █ █\n",
      "                   █ █ ╬ ╬ █ █ ╬ ╬ ╬ ╬ ╬ ╬ █ █ █ █ █ █ █ ╬ ╬ ╬ ╬ ╬ ╬ █ █ ╬ ╬ █ █\n",
      "                   █ █ ╬ ╬ ▓ █ █ █ ╬ ╬ ╬ █ █ █ █ ╬ █ █ █ █ ╬ ╬ ╬ █ █ █ ▓ ╬ ╬ █ █\n",
      "                   █ █ █ ╬ ╬ ▓ ▓ █ █ █ █ █ █ █ ╬ ╬ ╬ █ █ █ █ █ █ █ ▓ ▓ ╬ ╬ █ █ █\n",
      "                   █ █ █ ╬ ╬ ╬ ╬ ▓ ▓ ▓ ▓ ▓ ▓ ▓ ▓ ▓ ▓ ▓ ▓ ▓ ▓ ▓ ▓ ▓ ╬ ╬ ╬ ╬ █ █ █\n",
      "                   █ █ █ █ ╬ ╬ ╬ ╬ ╬ ╬ ╬ ╬ ╬ ╬ █ █ █ ╬ ╬ ╬ ╬ ╬ ╬ ╬ ╬ ╬ ╬ █ █ █ █\n",
      "                   █ █ █ █ █ ╬ ╬ ╬ ╬ ╬ ╬ ╬ ╬ ╬ ╬ █ ╬ ╬ ╬ ╬ ╬ ╬ ╬ ╬ ╬ ╬ █ █ █ █ █\n",
      "                   █ █ █ █ █ █ ╬ ╬ ╬ ╬ ╬ ╬ ╬ ╬ █ █ █ ╬ ╬ ╬ ╬ ╬ ╬ ╬ ╬ █ █ █ █ █ █\n",
      "                   █ █ █ █ █ █ █ ╬ ╬ ╬ ╬ ╬ ╬ ╬ █ █ █ ╬ ╬ ╬ ╬ ╬ ╬ ╬ █ █ █ █ █ █ █\n",
      "                   █ █ █ █ █ █ █ █ ╬ ╬ ╬ ╬ ╬ ╬ █ █ █ ╬ ╬ ╬ ╬ ╬ ╬ █ █ █ █ █ █ █ █\n",
      "                   █ █ █ █ █ █ █ █ █ ╬ ╬ ╬ ╬ ╬ █ █ █ ╬ ╬ ╬ ╬ ╬ █ █ █ █ █ █ █ █ █\n",
      "                   █ █ █ █ █ █ █ █ █ █ █ ╬ ╬ ╬ ╬ █ ╬ ╬ ╬ ╬ █ █ █ █ █ █ █ █ █ █ █\n",
      "                   █ █ █ █ █ █ █ █ █ █ █ █ █ █ █ █ █ █ █ █ █ █ █ █ █ █ █ █ █ █ █\n",
      "\n",
      "===================================================================================================\n",
      "17:27:37.604 Ophelia [INFO] Initializing OpheliaSpark Session\n",
      "17:27:46.747 Ophelia [INFO] OpheliaSpark Session Version: 3.0.0\n",
      "17:27:46.747 Ophelia [INFO] This Is: 'Risk Classification Demo' Project\n",
      "17:27:46.748 Ophelia [INFO] OpheliaSpark Context Initialized Success\n"
     ]
    }
   ],
   "source": [
    "ophelia = OpheliaVendata(\"Risk Classification Demo\")\n",
    "sc = ophelia.ophelia_spark.build_spark_context()\n",
    "sc.addFile(module_path+\"/enquire/\", recursive = True)"
   ]
  },
  {
   "cell_type": "code",
   "execution_count": 7,
   "metadata": {},
   "outputs": [
    {
     "name": "stdout",
     "output_type": "stream",
     "text": [
      "root\n",
      " |-- age: string (nullable = true)\n",
      " |-- job: string (nullable = true)\n",
      " |-- marital: string (nullable = true)\n",
      " |-- education: string (nullable = true)\n",
      " |-- gender: string (nullable = true)\n",
      " |-- child: float (nullable = true)\n",
      " |-- saving: float (nullable = true)\n",
      " |-- insight: float (nullable = true)\n",
      " |-- backup: float (nullable = true)\n",
      "\n",
      "+---+----------+-------+---------+------+-----+------+-------+------+\n",
      "|age|job       |marital|education|gender|child|saving|insight|backup|\n",
      "+---+----------+-------+---------+------+-----+------+-------+------+\n",
      "|59 |admin.    |married|secondary|female|0.0  |1.0   |0.0    |1.0   |\n",
      "|56 |admin.    |married|secondary|female|1.0  |0.0   |1.0    |0.0   |\n",
      "|41 |technician|married|secondary|male  |1.0  |0.0   |1.0    |1.0   |\n",
      "|55 |services  |married|secondary|male  |0.0  |1.0   |0.0    |0.0   |\n",
      "|54 |admin.    |married|tertiary |female|0.0  |1.0   |1.0    |0.0   |\n",
      "+---+----------+-------+---------+------+-----+------+-------+------+\n",
      "only showing top 5 rows\n",
      "\n"
     ]
    }
   ],
   "source": [
    "spark = ophelia.ophelia_session\n",
    "path = \"data/master/ophelia/data/OpheliaData/risk_classification/\"\n",
    "customer_data = spark.read.parquet(path)\n",
    "customer_data.printSchema()\n",
    "customer_data.show(5, False)"
   ]
  },
  {
   "cell_type": "code",
   "execution_count": 8,
   "metadata": {},
   "outputs": [
    {
     "name": "stdout",
     "output_type": "stream",
     "text": [
      "+---+----------+-------+---------+------+-----+------+-------+------+--------------------------------------------------------------+\n",
      "|age|job       |marital|education|gender|child|saving|insight|backup|struct_assembler                                              |\n",
      "+---+----------+-------+---------+------+-----+------+-------+------+--------------------------------------------------------------+\n",
      "|59 |admin.    |married|secondary|female|0.0  |1.0   |0.0    |1.0   |[59, admin., married, secondary, female, 0.0, 1.0, 0.0, 1.0]  |\n",
      "|56 |admin.    |married|secondary|female|1.0  |0.0   |1.0    |0.0   |[56, admin., married, secondary, female, 1.0, 0.0, 1.0, 0.0]  |\n",
      "|41 |technician|married|secondary|male  |1.0  |0.0   |1.0    |1.0   |[41, technician, married, secondary, male, 1.0, 0.0, 1.0, 1.0]|\n",
      "|55 |services  |married|secondary|male  |0.0  |1.0   |0.0    |0.0   |[55, services, married, secondary, male, 0.0, 1.0, 0.0, 0.0]  |\n",
      "|54 |admin.    |married|tertiary |female|0.0  |1.0   |1.0    |0.0   |[54, admin., married, tertiary, female, 0.0, 1.0, 1.0, 0.0]   |\n",
      "+---+----------+-------+---------+------+-----+------+-------+------+--------------------------------------------------------------+\n",
      "only showing top 5 rows\n",
      "\n",
      "root\n",
      " |-- age: integer (nullable = true)\n",
      " |-- job: string (nullable = true)\n",
      " |-- marital: string (nullable = true)\n",
      " |-- education: string (nullable = true)\n",
      " |-- gender: string (nullable = true)\n",
      " |-- child: float (nullable = true)\n",
      " |-- saving: float (nullable = true)\n",
      " |-- insight: float (nullable = true)\n",
      " |-- backup: float (nullable = true)\n",
      " |-- struct_assembler: struct (nullable = false)\n",
      " |    |-- age: integer (nullable = true)\n",
      " |    |-- job: string (nullable = true)\n",
      " |    |-- marital: string (nullable = true)\n",
      " |    |-- education: string (nullable = true)\n",
      " |    |-- gender: string (nullable = true)\n",
      " |    |-- child: float (nullable = true)\n",
      " |    |-- saving: float (nullable = true)\n",
      " |    |-- insight: float (nullable = true)\n",
      " |    |-- backup: float (nullable = true)\n",
      "\n"
     ]
    }
   ],
   "source": [
    "column_selection = [\n",
    "    col('age').cast('int').alias('age'),\n",
    "    col('job').cast('string').alias('job'),\n",
    "    col('marital').cast('string').alias('marital'),\n",
    "    col('education').cast('string').alias('education'),\n",
    "    col('gender').cast('string').alias('gender'),\n",
    "    col('child').cast('float').alias('child'),\n",
    "    col('saving').cast('float').alias('saving'),\n",
    "    col('insight').cast('float').alias('insight'),\n",
    "    col('backup').cast('float').alias('backup')\n",
    "]\n",
    "\n",
    "struct_assembler = customer_data.select(*column_selection, struct(column_selection).alias(\"struct_assembler\"))\n",
    "struct_assembler.show(5, False)\n",
    "struct_assembler.printSchema()"
   ]
  },
  {
   "cell_type": "code",
   "execution_count": 9,
   "metadata": {},
   "outputs": [],
   "source": [
    "def build_tree_classifier():\n",
    "    schema_tree = ArrayType(StructType([\n",
    "        StructField(\"vote\", FloatType(), False),\n",
    "        StructField(\"weight\", FloatType(), False),\n",
    "        StructField(\"risk_label\", StringType(), False)\n",
    "    ]))\n",
    "    return udf(ophelia.ophelia_classifier.tree_generator, schema_tree)\n",
    "\n",
    "def build_risk_class():\n",
    "    return udf(ophelia.ophelia_classifier.run_classification_risk, StringType())"
   ]
  },
  {
   "cell_type": "code",
   "execution_count": 10,
   "metadata": {},
   "outputs": [],
   "source": [
    "tree_model_udf = build_tree_classifier()\n",
    "risk_class_udf = build_risk_class()"
   ]
  },
  {
   "cell_type": "code",
   "execution_count": 24,
   "metadata": {},
   "outputs": [],
   "source": [
    "\n",
    "dates_list = [\"2020-01-02\"]\n",
    "\n",
    "dates_dict = {date: index for index, date in enumerate(dates_list)}\n",
    "result = udf(lambda x: dates_dict[x], IntegerType())"
   ]
  },
  {
   "cell_type": "code",
   "execution_count": 26,
   "metadata": {},
   "outputs": [
    {
     "data": {
      "text/plain": [
       "function"
      ]
     },
     "execution_count": 26,
     "metadata": {},
     "output_type": "execute_result"
    }
   ],
   "source": [
    "result.__class__"
   ]
  },
  {
   "cell_type": "code",
   "execution_count": 11,
   "metadata": {},
   "outputs": [
    {
     "name": "stdout",
     "output_type": "stream",
     "text": [
      "+---+----------+-------+---------+------+-----+------+-------+------+--------------------------------------------------------------+-------------------------------------------------------------------------------------------------------------------------------------------------------------------------+\n",
      "|age|job       |marital|education|gender|child|saving|insight|backup|struct_assembler                                              |tree                                                                                                                                                                     |\n",
      "+---+----------+-------+---------+------+-----+------+-------+------+--------------------------------------------------------------+-------------------------------------------------------------------------------------------------------------------------------------------------------------------------+\n",
      "|59 |admin.    |married|secondary|female|0.0  |1.0   |0.0    |1.0   |[59, admin., married, secondary, female, 0.0, 1.0, 0.0, 1.0]  |[[1.0, 0.0072, MA], [7.3, 0.3205, MC], [1.0, 9.0E-4, MA], [1.0, 0.3905, MA], [5.5, 0.0024, MA], [1.0, 0.1404, MA], [5.5, 0.0423, MC], [1.0, 0.0335, M], [5.5, 0.0623, A]]|\n",
      "|56 |admin.    |married|secondary|female|1.0  |0.0   |1.0    |0.0   |[56, admin., married, secondary, female, 1.0, 0.0, 1.0, 0.0]  |[[1.0, 0.0072, MA], [7.3, 0.3205, M], [1.0, 9.0E-4, MA], [1.0, 0.3905, MA], [5.5, 0.0024, MA], [5.5, 0.1404, MC], [1.0, 0.0423, MA], [5.5, 0.0335, A], [1.0, 0.0623, M]] |\n",
      "|41 |technician|married|secondary|male  |1.0  |0.0   |1.0    |1.0   |[41, technician, married, secondary, male, 1.0, 0.0, 1.0, 1.0]|[[1.0, 0.0072, A], [5.5, 0.3205, MA], [1.0, 9.0E-4, MA], [1.0, 0.3905, MA], [5.5, 0.0024, MA], [5.5, 0.1404, MC], [1.0, 0.0423, MA], [5.5, 0.0335, A], [5.5, 0.0623, A]] |\n",
      "|55 |services  |married|secondary|male  |0.0  |1.0   |0.0    |0.0   |[55, services, married, secondary, male, 0.0, 1.0, 0.0, 0.0]  |[[1.0, 0.0072, A], [7.3, 0.3205, M], [1.0, 9.0E-4, MA], [1.0, 0.3905, MA], [5.5, 0.0024, MA], [1.0, 0.1404, MA], [5.5, 0.0423, MC], [1.0, 0.0335, M], [1.0, 0.0623, M]]  |\n",
      "|54 |admin.    |married|tertiary |female|0.0  |1.0   |1.0    |0.0   |[54, admin., married, tertiary, female, 0.0, 1.0, 1.0, 0.0]   |[[1.0, 0.0072, MA], [7.3, 0.3205, M], [1.0, 9.0E-4, A], [1.0, 0.3905, MA], [5.5, 0.0024, MA], [1.0, 0.1404, MA], [5.5, 0.0423, MC], [5.5, 0.0335, A], [1.0, 0.0623, M]]  |\n",
      "+---+----------+-------+---------+------+-----+------+-------+------+--------------------------------------------------------------+-------------------------------------------------------------------------------------------------------------------------------------------------------------------------+\n",
      "only showing top 5 rows\n",
      "\n",
      "root\n",
      " |-- age: integer (nullable = true)\n",
      " |-- job: string (nullable = true)\n",
      " |-- marital: string (nullable = true)\n",
      " |-- education: string (nullable = true)\n",
      " |-- gender: string (nullable = true)\n",
      " |-- child: float (nullable = true)\n",
      " |-- saving: float (nullable = true)\n",
      " |-- insight: float (nullable = true)\n",
      " |-- backup: float (nullable = true)\n",
      " |-- struct_assembler: struct (nullable = false)\n",
      " |    |-- age: integer (nullable = true)\n",
      " |    |-- job: string (nullable = true)\n",
      " |    |-- marital: string (nullable = true)\n",
      " |    |-- education: string (nullable = true)\n",
      " |    |-- gender: string (nullable = true)\n",
      " |    |-- child: float (nullable = true)\n",
      " |    |-- saving: float (nullable = true)\n",
      " |    |-- insight: float (nullable = true)\n",
      " |    |-- backup: float (nullable = true)\n",
      " |-- tree: array (nullable = true)\n",
      " |    |-- element: struct (containsNull = true)\n",
      " |    |    |-- vote: float (nullable = false)\n",
      " |    |    |-- weight: float (nullable = false)\n",
      " |    |    |-- risk_label: string (nullable = false)\n",
      "\n"
     ]
    }
   ],
   "source": [
    "tree_model_df = struct_assembler.select(\"*\", tree_model_udf(col(\"struct_assembler\")).alias(\"tree\")).cache()\n",
    "tree_model_df.show(5, False)\n",
    "tree_model_df.printSchema()"
   ]
  },
  {
   "cell_type": "code",
   "execution_count": 12,
   "metadata": {},
   "outputs": [
    {
     "name": "stdout",
     "output_type": "stream",
     "text": [
      "+----------+-----+\n",
      "|risk_label|count|\n",
      "+----------+-----+\n",
      "|M         |533  |\n",
      "|C         |782  |\n",
      "|A         |3369 |\n",
      "|MC        |2654 |\n",
      "|MA        |3824 |\n",
      "+----------+-----+\n",
      "\n",
      "+----------+---+----------+--------+---------+------+-----+------+-------+------+----------------+--------------------------+\n",
      "|risk_label|age|job       |marital |education|gender|child|saving|insight|backup|information_date|model_date                |\n",
      "+----------+---+----------+--------+---------+------+-----+------+-------+------+----------------+--------------------------+\n",
      "|MC        |59 |admin.    |married |secondary|female|0.0  |1.0   |0.0    |1.0   |2020-09-02      |2020-09-02 17:29:48.844817|\n",
      "|MA        |56 |admin.    |married |secondary|female|1.0  |0.0   |1.0    |0.0   |2020-09-02      |2020-09-02 17:29:48.844817|\n",
      "|MA        |41 |technician|married |secondary|male  |1.0  |0.0   |1.0    |1.0   |2020-09-02      |2020-09-02 17:29:48.844817|\n",
      "|M         |55 |services  |married |secondary|male  |0.0  |1.0   |0.0    |0.0   |2020-09-02      |2020-09-02 17:29:48.844817|\n",
      "|MA        |54 |admin.    |married |tertiary |female|0.0  |1.0   |1.0    |0.0   |2020-09-02      |2020-09-02 17:29:48.844817|\n",
      "|MC        |42 |management|single  |tertiary |female|1.0  |1.0   |0.0    |1.0   |2020-09-02      |2020-09-02 17:29:48.844817|\n",
      "|A         |56 |management|married |tertiary |male  |1.0  |1.0   |1.0    |0.0   |2020-09-02      |2020-09-02 17:29:48.844817|\n",
      "|MC        |60 |retired   |divorced|secondary|female|1.0  |0.0   |0.0    |0.0   |2020-09-02      |2020-09-02 17:29:48.844817|\n",
      "|MC        |37 |technician|married |secondary|male  |1.0  |1.0   |1.0    |0.0   |2020-09-02      |2020-09-02 17:29:48.844817|\n",
      "|MA        |28 |services  |single  |secondary|female|0.0  |0.0   |0.0    |0.0   |2020-09-02      |2020-09-02 17:29:48.844817|\n",
      "+----------+---+----------+--------+---------+------+-----+------+-------+------+----------------+--------------------------+\n",
      "only showing top 10 rows\n",
      "\n",
      "root\n",
      " |-- risk_label: string (nullable = true)\n",
      " |-- age: integer (nullable = true)\n",
      " |-- job: string (nullable = true)\n",
      " |-- marital: string (nullable = true)\n",
      " |-- education: string (nullable = true)\n",
      " |-- gender: string (nullable = true)\n",
      " |-- child: float (nullable = true)\n",
      " |-- saving: float (nullable = true)\n",
      " |-- insight: float (nullable = true)\n",
      " |-- backup: float (nullable = true)\n",
      " |-- information_date: date (nullable = false)\n",
      " |-- model_date: timestamp (nullable = false)\n",
      "\n"
     ]
    }
   ],
   "source": [
    "risk_class_df = tree_model_df.select(risk_class_udf(col(\"tree\")).alias(\"risk_label\"),\n",
    "                                     *column_selection, current_date().alias(\"information_date\"),\n",
    "                                     current_timestamp().alias(\"model_date\"))\n",
    "\n",
    "risk_class_df.groupBy(\"risk_label\").count().show(10, False)\n",
    "risk_class_df.show(10, False)\n",
    "risk_class_df.printSchema()"
   ]
  },
  {
   "cell_type": "code",
   "execution_count": 16,
   "metadata": {},
   "outputs": [
    {
     "name": "stdout",
     "output_type": "stream",
     "text": [
      "+-----------+-------------+----------+---+----------+-------+---------+------+-----+------+-------+------+----------------+--------------------------+\n",
      "|customer_id|risk_label_id|risk_label|age|job       |marital|education|gender|child|saving|insight|backup|information_date|model_date                |\n",
      "+-----------+-------------+----------+---+----------+-------+---------+------+-----+------+-------+------+----------------+--------------------------+\n",
      "|100000000  |4.0          |MC        |59 |admin.    |married|secondary|female|0.0  |1.0   |0.0    |1.0   |2020-09-02      |2020-09-02 17:32:36.372511|\n",
      "|100000001  |2.0          |MA        |56 |admin.    |married|secondary|female|1.0  |0.0   |1.0    |0.0   |2020-09-02      |2020-09-02 17:32:36.372511|\n",
      "|100000002  |2.0          |MA        |41 |technician|married|secondary|male  |1.0  |0.0   |1.0    |1.0   |2020-09-02      |2020-09-02 17:32:36.372511|\n",
      "|100000003  |3.0          |M         |55 |services  |married|secondary|male  |0.0  |1.0   |0.0    |0.0   |2020-09-02      |2020-09-02 17:32:36.372511|\n",
      "|100000004  |2.0          |MA        |54 |admin.    |married|tertiary |female|0.0  |1.0   |1.0    |0.0   |2020-09-02      |2020-09-02 17:32:36.372511|\n",
      "+-----------+-------------+----------+---+----------+-------+---------+------+-----+------+-------+------+----------------+--------------------------+\n",
      "only showing top 5 rows\n",
      "\n"
     ]
    }
   ],
   "source": [
    "columns_risk = risk_class_df.columns\n",
    "when_conditions = (\n",
    "    when(col(\"risk_label\") == \"A\", lit(1.0)).otherwise(\n",
    "        when(col(\"risk_label\") == \"MA\", lit(2.0)).otherwise(\n",
    "            when(col(\"risk_label\") == \"M\", lit(3.0)).otherwise(\n",
    "                when(col(\"risk_label\") == \"MC\", lit(4.0)).otherwise(\n",
    "                    when(col(\"risk_label\") == \"C\", lit(5.0))))))\n",
    ")\n",
    "mapped_risk_label = risk_class_df.select((monotonically_increasing_id() + 100000000).alias(\"customer_id\"), \n",
    "                                         when_conditions.alias(\"risk_label_id\"), *columns_risk)\n",
    "mapped_risk_label.show(5, False)"
   ]
  },
  {
   "cell_type": "code",
   "execution_count": 17,
   "metadata": {},
   "outputs": [
    {
     "name": "stdout",
     "output_type": "stream",
     "text": [
      "17:33:14.982 Ophelia [INFO] Write Parquet\n",
      "17:33:19.085 Ophelia [INFO] Write Parquet Successfully\n",
      "17:33:19.085 Ophelia [INFO] New Parquet Path: data/ophelia/out/model/RiskClassifier/information_date=yyy-MM-dd\n"
     ]
    }
   ],
   "source": [
    "riskClassPath = ophelia.ophelia_write.write_parquet(\n",
    "    df=mapped_risk_label,\n",
    "    output_type=\"model\",\n",
    "    project=\"RiskClassifier\",\n",
    "    part=\"information_date\"\n",
    ")"
   ]
  }
 ],
 "metadata": {
  "kernelspec": {
   "display_name": "ophelia",
   "language": "python",
   "name": "ophelia"
  },
  "language_info": {
   "codemirror_mode": {
    "name": "ipython",
    "version": 3
   },
   "file_extension": ".py",
   "mimetype": "text/x-python",
   "name": "python",
   "nbconvert_exporter": "python",
   "pygments_lexer": "ipython3",
   "version": "3.8.0"
  }
 },
 "nbformat": 4,
 "nbformat_minor": 4
}
