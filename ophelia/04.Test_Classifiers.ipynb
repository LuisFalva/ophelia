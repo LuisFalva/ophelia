{
 "cells": [
  {
   "cell_type": "code",
   "execution_count": 1,
   "metadata": {},
   "outputs": [
    {
     "data": {
      "text/html": [
       "<style>\n",
       ".output_subarea.output_text.output_stream.output_stdout > pre {\n",
       "    width:max-content;\n",
       "}\n",
       ".p-Widget.jp-RenderedText.jp-OutputArea-output > pre {\n",
       "   width:max-content;\n",
       "}\n",
       "</style>\n"
      ],
      "text/plain": [
       "<IPython.core.display.HTML object>"
      ]
     },
     "metadata": {},
     "output_type": "display_data"
    }
   ],
   "source": [
    "%%html\n",
    "<style>\n",
    ".output_subarea.output_text.output_stream.output_stdout > pre {\n",
    "    width:max-content;\n",
    "}\n",
    ".p-Widget.jp-RenderedText.jp-OutputArea-output > pre {\n",
    "   width:max-content;\n",
    "}\n",
    "</style>"
   ]
  },
  {
   "cell_type": "code",
   "execution_count": 2,
   "metadata": {},
   "outputs": [],
   "source": [
    "from enquire.vendetta import Ophelia"
   ]
  },
  {
   "cell_type": "code",
   "execution_count": 3,
   "metadata": {},
   "outputs": [
    {
     "name": "stdout",
     "output_type": "stream",
     "text": [
      "\n",
      "========================================================================\n",
      "-Ophelia: ¡Hullo! My Name Is Ophelia, I Am Pleased To Meet You     [...]\n",
      "-Ophelia: I Am An Artificial Assistant For Intelligent Investment  [...]\n",
      "-Ophelia: Welcome To Your Asset Allocation System                  [...]\n",
      "\n",
      "\n",
      "-Ophelia: V For VenData                                            [...]\n",
      "========================================================================\n",
      "\n",
      "                    - By. Vendetta Gentleman Club -                     \n",
      "\n",
      "      █ █ █ █ █ █ █ █ █ █ █ █ █ █ █ █ █ █ █ █ █ █ █ █ █ █ █ █ █ █ █\n",
      "      █ █ █ █ ╬ ╬ ╬ ╬ ╬ ╬ ╬ ╬ ╬ ╬ ╬ ╬ ╬ ╬ ╬ ╬ ╬ ╬ ╬ ╬ ╬ ╬ ╬ █ █ █ █\n",
      "      █ █ ╬ ╬ ╬ ╬ ╬ ╬ ╬ ╬ ╬ ╬ ╬ ╬ ╬ ╬ ╬ ╬ ╬ ╬ ╬ ╬ ╬ ╬ ╬ ╬ ╬ ╬ ╬ █ █\n",
      "      █ ╬ ╬ ╬ ╬ ╬ ╬ ╬ ╬ ╬ ╬ ╬ ╬ ╬ ╬ ╬ ╬ ╬ ╬ ╬ ╬ ╬ ╬ ╬ ╬ ╬ ╬ ╬ ╬ ╬ █\n",
      "      █ ╬ ╬ ╬ █ █ █ █ █ █ █ ╬ ╬ ╬ ╬ ╬ ╬ ╬ ╬ ╬ █ █ █ █ █ █ █ ╬ ╬ ╬ █\n",
      "      █ ╬ ╬ █ █ ╬ ╬ ╬ ╬ █ █ █ ╬ ╬ ╬ ╬ ╬ ╬ ╬ █ █ █ ╬ ╬ ╬ ╬ █ █ ╬ ╬ █\n",
      "      █ ╬ █ █ ╬ ╬ ╬ ╬ ╬ ╬ ╬ █ █ ╬ ╬ ╬ ╬ ╬ █ █ ╬ ╬ ╬ ╬ ╬ ╬ ╬ █ █ ╬ █\n",
      "      █ ╬ ╬ ╬ ╬ ╬ ╬ ╬ ╬ ╬ ╬ ╬ ╬ ╬ ╬ ╬ ╬ ╬ ╬ ╬ ╬ ╬ ╬ ╬ ╬ ╬ ╬ ╬ ╬ ╬ █\n",
      "      █ ╬ ╬ ╬ ╬ █ █ █ █ █ ╬ ╬ ╬ ╬ ╬ ╬ ╬ ╬ ╬ ╬ ╬ █ █ █ █ █ ╬ ╬ ╬ ╬ █\n",
      "      █ ╬ ╬ █ █ █ █ █ █ █ █ █ ╬ ╬ ╬ ╬ ╬ ╬ ╬ █ █ █ █ █ █ █ █ █ ╬ ╬ █\n",
      "      █ ╬ ╬ ╬ ╬ ╬ ╬ ╬ ╬ ╬ ╬ ╬ ╬ ╬ ╬ ╬ ╬ ╬ ╬ ╬ ╬ ╬ ╬ ╬ ╬ ╬ ╬ ╬ ╬ ╬ █\n",
      "      █ ╬ ╬ ╬ ╬ ╬ ╬ ╬ ╬ ╬ ╬ ╬ ╬ ╬ ╬ █ ╬ ╬ ╬ ╬ ╬ ╬ ╬ ╬ ╬ ╬ ╬ ╬ ╬ ╬ █\n",
      "      █ ╬ ╬ ╬ ╬ ╬ ╬ ╬ ╬ ╬ ╬ ╬ ╬ ╬ ╬ █ ╬ ╬ ╬ ╬ ╬ ╬ ╬ ╬ ╬ ╬ ╬ ╬ ╬ ╬ █\n",
      "      █ ╬ ╬ ╬ ╬ ╬ ╬ ╬ ╬ ╬ ╬ ╬ ╬ ╬ ╬ █ ╬ ╬ ╬ ╬ ╬ ╬ ╬ ╬ ╬ ╬ ╬ ╬ ╬ ╬ █\n",
      "      █ ╬ ╬ ╬ ▓ ▓ ▓ ▓ ╬ ╬ ╬ ╬ ╬ ╬ ╬ █ ╬ ╬ ╬ ╬ ╬ ╬ ╬ ▓ ▓ ▓ ▓ ╬ ╬ ╬ █\n",
      "      █ ╬ ╬ ▓ ▓ ▓ ▓ ▓ ▓ ╬ ╬ █ ╬ ╬ ╬ █ ╬ ╬ ╬ █ ╬ ╬ ▓ ▓ ▓ ▓ ▓ ▓ ╬ ╬ █\n",
      "      █ ╬ ╬ ╬ ▓ ▓ ▓ ▓ ╬ ╬ █ █ ╬ ╬ ╬ █ ╬ ╬ ╬ █ █ ╬ ╬ ▓ ▓ ▓ ▓ ╬ ╬ ╬ █\n",
      "      █ ╬ ╬ ╬ ╬ ╬ ╬ ╬ ╬ █ █ ╬ ╬ ╬ ╬ █ ╬ ╬ ╬ ╬ █ █ ╬ ╬ ╬ ╬ ╬ ╬ ╬ ╬ █\n",
      "      █ ╬ ╬ ╬ ╬ ╬ █ █ █ █ ╬ ╬ ╬ ╬ █ █ █ ╬ ╬ ╬ ╬ █ █ █ █ ╬ ╬ ╬ ╬ ╬ █\n",
      "      █ ╬ ╬ ╬ ╬ ╬ ╬ ╬ ╬ ╬ ╬ ╬ ╬ ╬ █ █ █ ╬ ╬ ╬ ╬ ╬ ╬ ╬ ╬ ╬ ╬ ╬ ╬ ╬ █\n",
      "      █ █ ╬ ╬ █ ╬ ╬ ╬ ╬ ╬ ╬ ╬ ╬ █ █ █ █ █ ╬ ╬ ╬ ╬ ╬ ╬ ╬ ╬ █ ╬ ╬ █ █\n",
      "      █ █ ╬ ╬ █ █ ╬ ╬ ╬ ╬ ╬ ╬ █ █ █ █ █ █ █ ╬ ╬ ╬ ╬ ╬ ╬ █ █ ╬ ╬ █ █\n",
      "      █ █ ╬ ╬ ▓ █ █ █ ╬ ╬ ╬ █ █ █ █ ╬ █ █ █ █ ╬ ╬ ╬ █ █ █ ▓ ╬ ╬ █ █\n",
      "      █ █ █ ╬ ╬ ▓ ▓ █ █ █ █ █ █ █ ╬ ╬ ╬ █ █ █ █ █ █ █ ▓ ▓ ╬ ╬ █ █ █\n",
      "      █ █ █ ╬ ╬ ╬ ╬ ▓ ▓ ▓ ▓ ▓ ▓ ▓ ▓ ▓ ▓ ▓ ▓ ▓ ▓ ▓ ▓ ▓ ╬ ╬ ╬ ╬ █ █ █\n",
      "      █ █ █ █ ╬ ╬ ╬ ╬ ╬ ╬ ╬ ╬ ╬ ╬ █ █ █ ╬ ╬ ╬ ╬ ╬ ╬ ╬ ╬ ╬ ╬ █ █ █ █\n",
      "      █ █ █ █ █ ╬ ╬ ╬ ╬ ╬ ╬ ╬ ╬ ╬ ╬ █ ╬ ╬ ╬ ╬ ╬ ╬ ╬ ╬ ╬ ╬ █ █ █ █ █\n",
      "      █ █ █ █ █ █ ╬ ╬ ╬ ╬ ╬ ╬ ╬ ╬ █ █ █ ╬ ╬ ╬ ╬ ╬ ╬ ╬ ╬ █ █ █ █ █ █\n",
      "      █ █ █ █ █ █ █ ╬ ╬ ╬ ╬ ╬ ╬ ╬ █ █ █ ╬ ╬ ╬ ╬ ╬ ╬ ╬ █ █ █ █ █ █ █\n",
      "      █ █ █ █ █ █ █ █ ╬ ╬ ╬ ╬ ╬ ╬ █ █ █ ╬ ╬ ╬ ╬ ╬ ╬ █ █ █ █ █ █ █ █\n",
      "      █ █ █ █ █ █ █ █ █ ╬ ╬ ╬ ╬ ╬ █ █ █ ╬ ╬ ╬ ╬ ╬ █ █ █ █ █ █ █ █ █\n",
      "      █ █ █ █ █ █ █ █ █ █ █ ╬ ╬ ╬ ╬ █ ╬ ╬ ╬ ╬ █ █ █ █ █ █ █ █ █ █ █\n",
      "      █ █ █ █ █ █ █ █ █ █ █ █ █ █ █ █ █ █ █ █ █ █ █ █ █ █ █ █ █ █ █\n",
      "\n",
      "========================================================================\n",
      "-Ophelia[INFO]: Initializing Spark Session [...]\n",
      "-Ophelia[INFO]: Spark Session Initialized, Version: 2.4.5 [...]\n",
      "-Ophelia[WARN]: Please, Be Aware To Set App Name Next Time [...]\n",
      "========================================================================\n",
      "-Ophelia[INFO]: Initializing Spark Context [...]\n",
      "-Ophelia[INFO]: Spark Context Initialized Successfully [...]\n",
      "========================================================================\n"
     ]
    }
   ],
   "source": [
    "ophelia = Ophelia()"
   ]
  },
  {
   "cell_type": "code",
   "execution_count": 4,
   "metadata": {},
   "outputs": [
    {
     "name": "stdout",
     "output_type": "stream",
     "text": [
      "-Ophelia[INFO]: Reading Spark File [...]\n",
      "-Ophelia[INFO]: Read Parquet Successfully From Path: data/master/ophelia/data/OpheliaData/priori_classification [...]\n",
      "========================================================================\n"
     ]
    }
   ],
   "source": [
    "spk = ophelia.spk\n",
    "path = \"data/master/ophelia/data/OpheliaData/priori_classification\"\n",
    "customer_banking = ophelia.tr.read_file(path, \"parquet\", spk)"
   ]
  },
  {
   "cell_type": "code",
   "execution_count": 5,
   "metadata": {},
   "outputs": [
    {
     "name": "stdout",
     "output_type": "stream",
     "text": [
      "+---+----------+-------+---------+------+-----+------+-------+------+----------+\n",
      "|age|       job|marital|education|gender|child|saving|insight|backup|risk_label|\n",
      "+---+----------+-------+---------+------+-----+------+-------+------+----------+\n",
      "| 59|    admin.|married|secondary|  male|    1|     0|      1|     1|        MC|\n",
      "| 56|    admin.|married|secondary|female|    0|     1|      0|     1|        MA|\n",
      "| 41|technician|married|secondary|female|    1|     1|      0|     0|        MA|\n",
      "| 55|  services|married|secondary|  male|    1|     0|      0|     1|        MA|\n",
      "| 54|    admin.|married| tertiary|female|    1|     0|      0|     1|        MA|\n",
      "+---+----------+-------+---------+------+-----+------+-------+------+----------+\n",
      "only showing top 5 rows\n",
      "\n"
     ]
    }
   ],
   "source": [
    "customer_banking.show(5)"
   ]
  },
  {
   "cell_type": "markdown",
   "metadata": {},
   "source": [
    "## Se ha decidido aplicar el algoritmo Gradient-Boosted Tree Classifier, la rezón es por tener el potenciador del gradiente descendente, este ha demostrado tener buenos resultados, dado que el algoritmo no soporta clasificación multiclass, se trabajará un tratamiento especial a los datos.\n",
    "\n",
    "## Se crearán 5 GBTClassifier, uno para cada clase de riesgo {'A', 'MA', 'M', 'MC', 'C'}, convertiremos la clase $k_{i}$ en 1 y el resto en cero."
   ]
  },
  {
   "cell_type": "code",
   "execution_count": 6,
   "metadata": {},
   "outputs": [],
   "source": [
    "import numpy as np\n",
    "\n",
    "from pyspark.ml import Pipeline\n",
    "from pyspark.ml.feature import StringIndexer, VectorAssembler, OneHotEncoderEstimator\n",
    "from pyspark.sql.functions import when, col, lit"
   ]
  },
  {
   "cell_type": "code",
   "execution_count": 7,
   "metadata": {},
   "outputs": [
    {
     "name": "stdout",
     "output_type": "stream",
     "text": [
      "+---+----------+-------+---------+------+-----+------+-------+------+----------+--------+\n",
      "|age|job       |marital|education|gender|child|saving|insight|backup|risk_label|risk_num|\n",
      "+---+----------+-------+---------+------+-----+------+-------+------+----------+--------+\n",
      "|59 |admin.    |married|secondary|male  |1    |0     |1      |1     |MC        |0       |\n",
      "|56 |admin.    |married|secondary|female|0    |1     |0      |1     |MA        |0       |\n",
      "|41 |technician|married|secondary|female|1    |1     |0      |0     |MA        |0       |\n",
      "|55 |services  |married|secondary|male  |1    |0     |0      |1     |MA        |0       |\n",
      "|54 |admin.    |married|tertiary |female|1    |0     |0      |1     |MA        |0       |\n",
      "+---+----------+-------+---------+------+-----+------+-------+------+----------+--------+\n",
      "only showing top 5 rows\n",
      "\n"
     ]
    }
   ],
   "source": [
    "mapping_risk_labels = (when(col(\"risk_label\") == \"C\", lit(1)).otherwise(0))\n",
    "mapped_classes = customer_banking.select(\"*\", mapping_risk_labels.alias(\"risk_num\"))\n",
    "mapped_classes.show(5, False)"
   ]
  },
  {
   "cell_type": "markdown",
   "metadata": {},
   "source": [
    "## Bitácora de experimentos:\n",
    "- para el primer experimento, entrenamos nuestro primer modelo GBTClassifier prediciendo la clase 'C', la distribución es de [1:759, 0:10403], bastante desbalanceada la clase 1, veremos qué resultado arroja el primer modelo a entrenar con este desbalanceo."
   ]
  },
  {
   "cell_type": "code",
   "execution_count": 8,
   "metadata": {},
   "outputs": [
    {
     "name": "stdout",
     "output_type": "stream",
     "text": [
      "+--------+-----+\n",
      "|risk_num|count|\n",
      "+--------+-----+\n",
      "|       1|  759|\n",
      "|       0|10403|\n",
      "+--------+-----+\n",
      "\n"
     ]
    }
   ],
   "source": [
    "mapped_classes.groupBy(\"risk_num\").count().show()"
   ]
  },
  {
   "cell_type": "code",
   "execution_count": 9,
   "metadata": {},
   "outputs": [],
   "source": [
    "categorical_columns = ['job', 'marital', 'education', 'gender']"
   ]
  },
  {
   "cell_type": "code",
   "execution_count": 10,
   "metadata": {},
   "outputs": [
    {
     "name": "stdout",
     "output_type": "stream",
     "text": [
      "+---+----------+-------+---------+------+-----+------+-------+------+----------+--------+---------+-------------+---------------+------------+\n",
      "|age|job       |marital|education|gender|child|saving|insight|backup|risk_label|risk_num|job_index|marital_index|education_index|gender_index|\n",
      "+---+----------+-------+---------+------+-----+------+-------+------+----------+--------+---------+-------------+---------------+------------+\n",
      "|59 |admin.    |married|secondary|male  |1    |0     |1      |1     |MC        |0       |3.0      |0.0          |0.0            |1.0         |\n",
      "|56 |admin.    |married|secondary|female|0    |1     |0      |1     |MA        |0       |3.0      |0.0          |0.0            |0.0         |\n",
      "|41 |technician|married|secondary|female|1    |1     |0      |0     |MA        |0       |2.0      |0.0          |0.0            |0.0         |\n",
      "|55 |services  |married|secondary|male  |1    |0     |0      |1     |MA        |0       |4.0      |0.0          |0.0            |1.0         |\n",
      "|54 |admin.    |married|tertiary |female|1    |0     |0      |1     |MA        |0       |3.0      |0.0          |1.0            |0.0         |\n",
      "+---+----------+-------+---------+------+-----+------+-------+------+----------+--------+---------+-------------+---------------+------------+\n",
      "only showing top 5 rows\n",
      "\n"
     ]
    }
   ],
   "source": [
    "indexers = [StringIndexer(inputCol=column, outputCol=\"{0}_index\".format(column)) for column in categorical_columns]\n",
    "pipeline = Pipeline(stages=indexers)\n",
    "fit_model = pipeline.fit(mapped_classes)\n",
    "transform_df = fit_model.transform(mapped_classes)\n",
    "\n",
    "transform_df.show(5, False)"
   ]
  },
  {
   "cell_type": "code",
   "execution_count": 11,
   "metadata": {},
   "outputs": [],
   "source": [
    "encoder = OneHotEncoderEstimator(\n",
    "    inputCols=[indexer.getOutputCol() for indexer in indexers],\n",
    "    outputCols=[\"{0}_encoded\".format(indexer.getOutputCol()) for indexer in indexers]\n",
    ")"
   ]
  },
  {
   "cell_type": "code",
   "execution_count": 12,
   "metadata": {},
   "outputs": [],
   "source": [
    "encode_vector = encoder.fit(transform_df)\n",
    "encode_vector_df = encode_vector.transform(transform_df)"
   ]
  },
  {
   "cell_type": "code",
   "execution_count": 13,
   "metadata": {},
   "outputs": [
    {
     "name": "stdout",
     "output_type": "stream",
     "text": [
      "+---+----------+-------+---------+------+-----+------+-------+------+----------+--------+---------+-------------+---------------+------------+-----------------+---------------------+-----------------------+--------------------+\n",
      "|age|job       |marital|education|gender|child|saving|insight|backup|risk_label|risk_num|job_index|marital_index|education_index|gender_index|job_index_encoded|marital_index_encoded|education_index_encoded|gender_index_encoded|\n",
      "+---+----------+-------+---------+------+-----+------+-------+------+----------+--------+---------+-------------+---------------+------------+-----------------+---------------------+-----------------------+--------------------+\n",
      "|59 |admin.    |married|secondary|male  |1    |0     |1      |1     |MC        |0       |3.0      |0.0          |0.0            |1.0         |(11,[3],[1.0])   |(2,[0],[1.0])        |(3,[0],[1.0])          |(1,[],[])           |\n",
      "|56 |admin.    |married|secondary|female|0    |1     |0      |1     |MA        |0       |3.0      |0.0          |0.0            |0.0         |(11,[3],[1.0])   |(2,[0],[1.0])        |(3,[0],[1.0])          |(1,[0],[1.0])       |\n",
      "|41 |technician|married|secondary|female|1    |1     |0      |0     |MA        |0       |2.0      |0.0          |0.0            |0.0         |(11,[2],[1.0])   |(2,[0],[1.0])        |(3,[0],[1.0])          |(1,[0],[1.0])       |\n",
      "|55 |services  |married|secondary|male  |1    |0     |0      |1     |MA        |0       |4.0      |0.0          |0.0            |1.0         |(11,[4],[1.0])   |(2,[0],[1.0])        |(3,[0],[1.0])          |(1,[],[])           |\n",
      "|54 |admin.    |married|tertiary |female|1    |0     |0      |1     |MA        |0       |3.0      |0.0          |1.0            |0.0         |(11,[3],[1.0])   |(2,[0],[1.0])        |(3,[1],[1.0])          |(1,[0],[1.0])       |\n",
      "+---+----------+-------+---------+------+-----+------+-------+------+----------+--------+---------+-------------+---------------+------------+-----------------+---------------------+-----------------------+--------------------+\n",
      "only showing top 5 rows\n",
      "\n"
     ]
    }
   ],
   "source": [
    "encode_vector_df.show(5, False)"
   ]
  },
  {
   "cell_type": "code",
   "execution_count": 14,
   "metadata": {},
   "outputs": [],
   "source": [
    "labeling_deposit = StringIndexer(inputCol='risk_num', outputCol='label')"
   ]
  },
  {
   "cell_type": "code",
   "execution_count": 15,
   "metadata": {},
   "outputs": [],
   "source": [
    "labeling_string = labeling_deposit.fit(encode_vector_df)\n",
    "label_df = labeling_string.transform(encode_vector_df)"
   ]
  },
  {
   "cell_type": "code",
   "execution_count": 16,
   "metadata": {},
   "outputs": [
    {
     "name": "stdout",
     "output_type": "stream",
     "text": [
      "+---+----------+-------+---------+------+-----+------+-------+------+----------+--------+---------+-------------+---------------+------------+-----------------+---------------------+-----------------------+--------------------+-----+\n",
      "|age|job       |marital|education|gender|child|saving|insight|backup|risk_label|risk_num|job_index|marital_index|education_index|gender_index|job_index_encoded|marital_index_encoded|education_index_encoded|gender_index_encoded|label|\n",
      "+---+----------+-------+---------+------+-----+------+-------+------+----------+--------+---------+-------------+---------------+------------+-----------------+---------------------+-----------------------+--------------------+-----+\n",
      "|59 |admin.    |married|secondary|male  |1    |0     |1      |1     |MC        |0       |3.0      |0.0          |0.0            |1.0         |(11,[3],[1.0])   |(2,[0],[1.0])        |(3,[0],[1.0])          |(1,[],[])           |0.0  |\n",
      "|56 |admin.    |married|secondary|female|0    |1     |0      |1     |MA        |0       |3.0      |0.0          |0.0            |0.0         |(11,[3],[1.0])   |(2,[0],[1.0])        |(3,[0],[1.0])          |(1,[0],[1.0])       |0.0  |\n",
      "|41 |technician|married|secondary|female|1    |1     |0      |0     |MA        |0       |2.0      |0.0          |0.0            |0.0         |(11,[2],[1.0])   |(2,[0],[1.0])        |(3,[0],[1.0])          |(1,[0],[1.0])       |0.0  |\n",
      "|55 |services  |married|secondary|male  |1    |0     |0      |1     |MA        |0       |4.0      |0.0          |0.0            |1.0         |(11,[4],[1.0])   |(2,[0],[1.0])        |(3,[0],[1.0])          |(1,[],[])           |0.0  |\n",
      "|54 |admin.    |married|tertiary |female|1    |0     |0      |1     |MA        |0       |3.0      |0.0          |1.0            |0.0         |(11,[3],[1.0])   |(2,[0],[1.0])        |(3,[1],[1.0])          |(1,[0],[1.0])       |0.0  |\n",
      "+---+----------+-------+---------+------+-----+------+-------+------+----------+--------+---------+-------------+---------------+------------+-----------------+---------------------+-----------------------+--------------------+-----+\n",
      "only showing top 5 rows\n",
      "\n"
     ]
    }
   ],
   "source": [
    "label_df.show(5, False)"
   ]
  },
  {
   "cell_type": "code",
   "execution_count": 17,
   "metadata": {},
   "outputs": [],
   "source": [
    "string_indexer_cols = []\n",
    "for c in range(len(indexers)):\n",
    "    string_indexer_cols.append(indexers[c].getOutputCol())"
   ]
  },
  {
   "cell_type": "code",
   "execution_count": 18,
   "metadata": {},
   "outputs": [],
   "source": [
    "numericCols = ['age', 'child', 'saving', 'insight', 'backup']\n",
    "assemblerInputs = string_indexer_cols + numericCols\n",
    "assembler = VectorAssembler(inputCols=assemblerInputs, outputCol=\"features\")"
   ]
  },
  {
   "cell_type": "code",
   "execution_count": 19,
   "metadata": {},
   "outputs": [
    {
     "name": "stdout",
     "output_type": "stream",
     "text": [
      "+---+----------+-------+---------+------+-----+------+-------+------+----------+--------+---------+-------------+---------------+------------+-----------------+---------------------+-----------------------+--------------------+-----+--------------------------------------+\n",
      "|age|job       |marital|education|gender|child|saving|insight|backup|risk_label|risk_num|job_index|marital_index|education_index|gender_index|job_index_encoded|marital_index_encoded|education_index_encoded|gender_index_encoded|label|features                              |\n",
      "+---+----------+-------+---------+------+-----+------+-------+------+----------+--------+---------+-------------+---------------+------------+-----------------+---------------------+-----------------------+--------------------+-----+--------------------------------------+\n",
      "|59 |admin.    |married|secondary|male  |1    |0     |1      |1     |MC        |0       |3.0      |0.0          |0.0            |1.0         |(11,[3],[1.0])   |(2,[0],[1.0])        |(3,[0],[1.0])          |(1,[],[])           |0.0  |[3.0,0.0,0.0,1.0,59.0,1.0,0.0,1.0,1.0]|\n",
      "|56 |admin.    |married|secondary|female|0    |1     |0      |1     |MA        |0       |3.0      |0.0          |0.0            |0.0         |(11,[3],[1.0])   |(2,[0],[1.0])        |(3,[0],[1.0])          |(1,[0],[1.0])       |0.0  |(9,[0,4,6,8],[3.0,56.0,1.0,1.0])      |\n",
      "|41 |technician|married|secondary|female|1    |1     |0      |0     |MA        |0       |2.0      |0.0          |0.0            |0.0         |(11,[2],[1.0])   |(2,[0],[1.0])        |(3,[0],[1.0])          |(1,[0],[1.0])       |0.0  |(9,[0,4,5,6],[2.0,41.0,1.0,1.0])      |\n",
      "|55 |services  |married|secondary|male  |1    |0     |0      |1     |MA        |0       |4.0      |0.0          |0.0            |1.0         |(11,[4],[1.0])   |(2,[0],[1.0])        |(3,[0],[1.0])          |(1,[],[])           |0.0  |[4.0,0.0,0.0,1.0,55.0,1.0,0.0,0.0,1.0]|\n",
      "|54 |admin.    |married|tertiary |female|1    |0     |0      |1     |MA        |0       |3.0      |0.0          |1.0            |0.0         |(11,[3],[1.0])   |(2,[0],[1.0])        |(3,[1],[1.0])          |(1,[0],[1.0])       |0.0  |[3.0,0.0,1.0,0.0,54.0,1.0,0.0,0.0,1.0]|\n",
      "+---+----------+-------+---------+------+-----+------+-------+------+----------+--------+---------+-------------+---------------+------------+-----------------+---------------------+-----------------------+--------------------+-----+--------------------------------------+\n",
      "only showing top 5 rows\n",
      "\n"
     ]
    }
   ],
   "source": [
    "assemble_model = assembler.transform(label_df)\n",
    "assemble_model.show(5, False)"
   ]
  },
  {
   "cell_type": "code",
   "execution_count": 32,
   "metadata": {},
   "outputs": [],
   "source": [
    "cols = mapped_classes.columns\n",
    "selectedCols = ['label', 'features'] + cols\n",
    "vectorized_customer_banking = assemble_model.select(selectedCols)"
   ]
  },
  {
   "cell_type": "code",
   "execution_count": 33,
   "metadata": {},
   "outputs": [
    {
     "name": "stdout",
     "output_type": "stream",
     "text": [
      "+-----+--------------------------------------+---+----------+-------+---------+------+-----+------+-------+------+----------+--------+\n",
      "|label|features                              |age|job       |marital|education|gender|child|saving|insight|backup|risk_label|risk_num|\n",
      "+-----+--------------------------------------+---+----------+-------+---------+------+-----+------+-------+------+----------+--------+\n",
      "|0.0  |[3.0,0.0,0.0,1.0,59.0,1.0,0.0,1.0,1.0]|59 |admin.    |married|secondary|male  |1    |0     |1      |1     |MC        |0       |\n",
      "|0.0  |(9,[0,4,6,8],[3.0,56.0,1.0,1.0])      |56 |admin.    |married|secondary|female|0    |1     |0      |1     |MA        |0       |\n",
      "|0.0  |(9,[0,4,5,6],[2.0,41.0,1.0,1.0])      |41 |technician|married|secondary|female|1    |1     |0      |0     |MA        |0       |\n",
      "|0.0  |[4.0,0.0,0.0,1.0,55.0,1.0,0.0,0.0,1.0]|55 |services  |married|secondary|male  |1    |0     |0      |1     |MA        |0       |\n",
      "|0.0  |[3.0,0.0,1.0,0.0,54.0,1.0,0.0,0.0,1.0]|54 |admin.    |married|tertiary |female|1    |0     |0      |1     |MA        |0       |\n",
      "+-----+--------------------------------------+---+----------+-------+---------+------+-----+------+-------+------+----------+--------+\n",
      "only showing top 5 rows\n",
      "\n"
     ]
    }
   ],
   "source": [
    "vectorized_customer_banking.show(5, False)"
   ]
  },
  {
   "cell_type": "code",
   "execution_count": 34,
   "metadata": {},
   "outputs": [
    {
     "name": "stdout",
     "output_type": "stream",
     "text": [
      "Training Dataset Count: 7884\n",
      "Test Dataset Count: 3278\n",
      "\n",
      "Train distribution labels\n",
      "+----------+-----+\n",
      "|risk_label|count|\n",
      "+----------+-----+\n",
      "|         M|  283|\n",
      "|         C|  536|\n",
      "|         A| 2200|\n",
      "|        MC| 1596|\n",
      "|        MA| 3269|\n",
      "+----------+-----+\n",
      "\n",
      "Test distribution labels\n",
      "+----------+-----+\n",
      "|risk_label|count|\n",
      "+----------+-----+\n",
      "|         M|  130|\n",
      "|         C|  223|\n",
      "|         A|  897|\n",
      "|        MC|  680|\n",
      "|        MA| 1348|\n",
      "+----------+-----+\n",
      "\n"
     ]
    }
   ],
   "source": [
    "train, test = vectorized_customer_banking.randomSplit([0.7, 0.3], seed = 2020)\n",
    "print(\"Training Dataset Count: \" + str(train.count()))\n",
    "print(\"Test Dataset Count: \" + str(test.count()))\n",
    "\n",
    "print(\"\\nTrain distribution labels\")\n",
    "train.groupBy(\"risk_label\").count().show()\n",
    "\n",
    "print(\"Test distribution labels\")\n",
    "test.groupBy(\"risk_label\").count().show()"
   ]
  },
  {
   "cell_type": "markdown",
   "metadata": {},
   "source": [
    "## Logistic Regression Model"
   ]
  },
  {
   "cell_type": "code",
   "execution_count": 35,
   "metadata": {},
   "outputs": [],
   "source": [
    "from pyspark.ml.classification import LogisticRegression\n",
    "lr = LogisticRegression(featuresCol='features', labelCol='label', maxIter=10)\n",
    "lrModel = lr.fit(train)"
   ]
  },
  {
   "cell_type": "code",
   "execution_count": 36,
   "metadata": {},
   "outputs": [],
   "source": [
    "def plot_summary(model):\n",
    "    beta = np.sort(model.coefficientMatrix)\n",
    "    plt.plot(beta)\n",
    "    plt.ylabel('Beta Coefficients')\n",
    "    plt.show()"
   ]
  },
  {
   "cell_type": "code",
   "execution_count": 37,
   "metadata": {},
   "outputs": [
    {
     "data": {
      "image/png": "[encoded data removed]",
      "text/plain": [
       "<Figure size 432x288 with 1 Axes>"
      ]
     },
     "metadata": {
      "needs_background": "light"
     },
     "output_type": "display_data"
    }
   ],
   "source": [
    "import matplotlib.pyplot as plt\n",
    "import numpy as np\n",
    "beta = np.sort(lrModel.coefficients)\n",
    "plt.plot(beta)\n",
    "plt.ylabel('Beta Coefficients')\n",
    "plt.show()"
   ]
  },
  {
   "cell_type": "code",
   "execution_count": 38,
   "metadata": {},
   "outputs": [
    {
     "data": {
      "image/png": "[encoded data removed]",
      "text/plain": [
       "<Figure size 432x288 with 1 Axes>"
      ]
     },
     "metadata": {
      "needs_background": "light"
     },
     "output_type": "display_data"
    },
    {
     "name": "stdout",
     "output_type": "stream",
     "text": [
      "Training set areaUnderROC: 0.9180214029200756\n"
     ]
    }
   ],
   "source": [
    "trainingSummary = lrModel.summary\n",
    "roc = trainingSummary.roc.toPandas()\n",
    "plt.plot(roc['FPR'],roc['TPR'])\n",
    "plt.ylabel('False Positive Rate')\n",
    "plt.xlabel('True Positive Rate')\n",
    "plt.title('ROC Curve')\n",
    "plt.show()\n",
    "print('Training set areaUnderROC: ' + str(trainingSummary.areaUnderROC))"
   ]
  },
  {
   "cell_type": "code",
   "execution_count": 39,
   "metadata": {},
   "outputs": [
    {
     "data": {
      "image/png": "[encoded data removed]",
      "text/plain": [
       "<Figure size 432x288 with 1 Axes>"
      ]
     },
     "metadata": {
      "needs_background": "light"
     },
     "output_type": "display_data"
    }
   ],
   "source": [
    "pr = trainingSummary.pr.toPandas()\n",
    "plt.plot(pr['recall'],pr['precision'])\n",
    "plt.ylabel('Precision')\n",
    "plt.xlabel('Recall')\n",
    "plt.show()"
   ]
  },
  {
   "cell_type": "code",
   "execution_count": 70,
   "metadata": {},
   "outputs": [
    {
     "name": "stdout",
     "output_type": "stream",
     "text": [
      "+---+----------+--------+---------+------+-----+------+-------+------+----------+--------+-----+----------+----------------------------------------+--------------------------------------------+\n",
      "|age|job       |marital |education|gender|child|saving|insight|backup|risk_label|risk_num|label|prediction|probability                             |rawPrediction                               |\n",
      "+---+----------+--------+---------+------+-----+------+-------+------+----------+--------+-----+----------+----------------------------------------+--------------------------------------------+\n",
      "|82 |retired   |divorced|tertiary |female|0    |0     |0      |0     |C         |1       |1.0  |1.0       |[0.15315201894985894,0.846847981050141] |[-1.7100901832458124,1.7100901832458124]    |\n",
      "|76 |retired   |divorced|primary  |female|0    |0     |0      |0     |C         |1       |1.0  |1.0       |[0.2248382600869821,0.775161739913018]  |[-1.237690404586898,1.237690404586898]      |\n",
      "|54 |retired   |single  |secondary|male  |0    |0     |0      |0     |C         |1       |1.0  |0.0       |[0.679613635406066,0.32038636459393405] |[0.7519967966250576,-0.7519967966250576]    |\n",
      "|26 |unemployed|single  |secondary|male  |0    |0     |0      |0     |C         |1       |1.0  |0.0       |[0.8596439443530108,0.14035605564698922]|[1.8123358366926219,-1.8123358366926219]    |\n",
      "|43 |unemployed|divorced|secondary|male  |0    |0     |0      |0     |C         |1       |1.0  |0.0       |[0.704050436571023,0.29594956342897705] |[0.8666609504640217,-0.8666609504640217]    |\n",
      "|53 |unemployed|divorced|secondary|male  |0    |0     |0      |0     |C         |1       |1.0  |0.0       |[0.5178909466723304,0.4821090533276696] |[0.07159435225913313,-0.07159435225913313]  |\n",
      "|39 |unemployed|divorced|secondary|female|0    |0     |0      |0     |C         |1       |1.0  |0.0       |[0.6335528086089147,0.3664471913910852] |[0.5474889343931029,-0.5474889343931029]    |\n",
      "|33 |unemployed|single  |secondary|female|1    |0     |0      |0     |C         |1       |1.0  |0.0       |[0.8497891717476868,0.15021082825231327]|[1.7329484565237134,-1.7329484565237134]    |\n",
      "|33 |unemployed|single  |secondary|female|0    |0     |0      |1     |C         |1       |1.0  |0.0       |[0.7961700359179675,0.2038299640820325] |[1.3625266391143445,-1.3625266391143445]    |\n",
      "|58 |retired   |married |primary  |male  |0    |0     |0      |0     |C         |1       |1.0  |0.0       |[0.5046877291673502,0.4953122708326498] |[0.018751466095354274,-0.018751466095354274]|\n",
      "|80 |retired   |married |primary  |male  |0    |0     |0      |0     |C         |1       |1.0  |1.0       |[0.1505370555013639,0.8494629444986361] |[-1.7303950499554022,1.7303950499554022]    |\n",
      "|87 |retired   |married |primary  |male  |0    |0     |0      |0     |C         |1       |1.0  |1.0       |[0.09221023614443634,0.9077897638555636]|[-2.286941668698825,2.286941668698825]      |\n",
      "|63 |retired   |married |unknown  |male  |0    |0     |0      |0     |C         |1       |1.0  |1.0       |[0.4053018149250999,0.5946981850749]    |[-0.38342201327110814,0.38342201327110814]  |\n",
      "|50 |unknown   |married |unknown  |male  |0    |0     |0      |0     |C         |1       |1.0  |1.0       |[0.15689293754249514,0.8431070624575049]|[-1.681530305417004,1.681530305417004]      |\n",
      "|59 |unknown   |married |unknown  |male  |0    |0     |0      |0     |C         |1       |1.0  |1.0       |[0.08339484923481456,0.9166051507651856]|[-2.3970902438014043,2.3970902438014043]    |\n",
      "|74 |retired   |married |tertiary |female|0    |0     |0      |0     |C         |1       |1.0  |1.0       |[0.1317111045294289,0.8682888954705712] |[-1.8859135661213253,1.8859135661213253]    |\n",
      "|50 |retired   |married |primary  |female|1    |0     |0      |0     |C         |1       |1.0  |0.0       |[0.7562011631027761,0.2437988368972239] |[1.1319639832337787,-1.1319639832337787]    |\n",
      "|72 |retired   |married |primary  |female|0    |1     |0      |0     |C         |1       |1.0  |1.0       |[0.3135977916390147,0.6864022083609853] |[-0.7833525189936745,0.7833525189936745]    |\n",
      "|92 |retired   |married |unknown  |female|0    |1     |0      |0     |C         |1       |1.0  |1.0       |[0.08485598695944328,0.9151440130405567]|[-2.3781258956674716,2.3781258956674716]    |\n",
      "|73 |retired   |married |primary  |female|0    |0     |1      |0     |C         |1       |1.0  |1.0       |[0.31130218164725915,0.6886978183527408]|[-0.7940385091640838,0.7940385091640838]    |\n",
      "+---+----------+--------+---------+------+-----+------+-------+------+----------+--------+-----+----------+----------------------------------------+--------------------------------------------+\n",
      "only showing top 20 rows\n",
      "\n"
     ]
    }
   ],
   "source": [
    "predict_cols = mapped_classes.columns + ['label', 'prediction', 'probability', 'rawPrediction']\n",
    "predictions = lrModel.transform(test)\n",
    "predictions.select(*predict_cols).where(col(\"risk_label\") == \"C\").show(20, False)"
   ]
  },
  {
   "cell_type": "code",
   "execution_count": 56,
   "metadata": {},
   "outputs": [
    {
     "name": "stdout",
     "output_type": "stream",
     "text": [
      "Test Area Under ROC 0.8904596596038131\n"
     ]
    }
   ],
   "source": [
    "from pyspark.ml.evaluation import BinaryClassificationEvaluator\n",
    "evaluator = BinaryClassificationEvaluator()\n",
    "print('Test Area Under ROC', evaluator.evaluate(predictions))"
   ]
  },
  {
   "cell_type": "markdown",
   "metadata": {},
   "source": [
    "# Exploraremos el valor de la información (iv) y el peso de la evidencia (woe) que aporta cada variable predictora al resultado de la variable dependiente"
   ]
  },
  {
   "cell_type": "code",
   "execution_count": 42,
   "metadata": {},
   "outputs": [],
   "source": [
    "def __class_mark(observation, min_val, class_length, bins):\n",
    "    \"\"\"\n",
    "    Computes the corresponding bin to a certain data observation given the data set minimum, size, bins\n",
    "    and the class length\n",
    "    :param observation: float, value of which is required to obtain your bin number\n",
    "    :param min_val: float, minimum value observed in the rdd\n",
    "    :param class_length: float, length of each sub interval\n",
    "    :param bins: int, number of sub intervals\n",
    "    :return: int, bin corresponding to the given observation\n",
    "    \"\"\"\n",
    "    interval = int((observation - min_val) / class_length)\n",
    "    if interval >= bins:\n",
    "        return bins - 1\n",
    "    else:\n",
    "        return interval\n",
    "    \n",
    "def __frequency_rdd_continuous(data_set_rdd, min_val, class_length, bins, n):\n",
    "    \"\"\"\n",
    "    Generates the frequency table rdd from certain continuous column rdd\n",
    "\n",
    "    :param data_set_rdd: rdd, rdd of the continuous column of which the histogram will be computed\n",
    "    :param min_val: float, minimum value observed in the rdd\n",
    "    :param class_length: float, length of each sub interval\n",
    "    :param bins: int, number of sub intervals\n",
    "    :param n: int, table length\n",
    "    :return: rdd, rdd containing the frequencies for each class of the histogram\n",
    "    \"\"\"\n",
    "    frequency_rdd = data_set_rdd \\\n",
    "        .map(lambda x: (__class_mark(x, min_val, class_length, bins), 1)) \\\n",
    "        .reduceByKey(lambda x, y: x + y) \\\n",
    "        .map(lambda y: (y[0]+1, min_val+class_length*y[0], min_val+class_length*(y[0]+1), y[1], y[1]/n))\n",
    "    return frequency_rdd\n",
    "\n",
    "def __frequency_rdd_discrete(data_set_rdd, n):\n",
    "    \"\"\"\n",
    "    Generates the frequency table rdd from certain discrete column rdd\n",
    "    :param data_set_rdd: rdd, rdd of the continuous column of which the histogram will be computed\n",
    "    :param n: int, table length\n",
    "    :return: rdd, rdd containing the frequencies for each class of the histogram\n",
    "    \"\"\"\n",
    "    frequency_rdd = data_set_rdd \\\n",
    "        .map(lambda r: (r, 1)) \\\n",
    "        .reduceByKey(lambda x, y: x + y) \\\n",
    "        .map(lambda x: (x[0], x[1], x[1] / n))\n",
    "    return frequency_rdd\n",
    "\n",
    "def frequency_table_continuous(data_set_df, column, bins=None, suffix=''):\n",
    "    \"\"\"\n",
    "    Computes the histogram frequency table from a column with continuous values for a table Dataframe\n",
    "\n",
    "    :param data_set_df: Dataframe, table of which it is required to calculate the frequency histogram of some of\n",
    "    its columns\n",
    "    :param column: string, column with continuous values which is required to calculate its histogram\n",
    "    :param bins: int, number of sub intervals\n",
    "    :param suffix: string, assign the suffix to each column of the frequency table\n",
    "    :return: Dataframe with the histogram frequency table\n",
    "    \"\"\"\n",
    "    freq_schema = ['bin', 'lower_limit'+suffix, 'upper_limit'+suffix, 'fa_'+column+suffix, 'f_'+column+suffix]\n",
    "    window_freq = Window.orderBy('bin').rangeBetween(Window.unboundedPreceding, 0)\n",
    "\n",
    "    cumulative_rel_freq = spark_sum('f_'+column+suffix)\\\n",
    "        .over(window_freq)\\\n",
    "        .alias('F_cumulative_'+column+suffix)\n",
    "\n",
    "    cumulative_abs_freq = spark_sum('fa_'+column+suffix)\\\n",
    "        .over(window_freq)\\\n",
    "        .alias('Fa_cumulative_'+column+suffix)\n",
    "\n",
    "    data_set_rdd = data_set_df.select(column).rdd.map(lambda row: (row[0]))\n",
    "    n = data_set_rdd.count()\n",
    "\n",
    "    if bins is None:\n",
    "        bins = 1 + int(3.322 * np.log(n))\n",
    "\n",
    "    maximum = data_set_rdd.max()\n",
    "    minimum = data_set_rdd.min()\n",
    "    class_length = (maximum - minimum) / bins\n",
    "\n",
    "    frequency_table_df = __frequency_rdd_continuous(data_set_rdd, minimum, class_length, bins, n)\\\n",
    "        .toDF(freq_schema)\\\n",
    "        .select('*', cumulative_abs_freq, cumulative_rel_freq)\n",
    "    return frequency_table_df\n",
    "\n",
    "def frequency_table_discrete(data_set_df, column, suffix=''):\n",
    "    \"\"\"\n",
    "    Generates the frequency table rdd from certain discrete column rdd.\n",
    "\n",
    "    :param data_set_df: Dataframe, table of which it is required to calculate the frequency histogram of some of\n",
    "    its columns\n",
    "    :param column: string, column with continuous values ​​which is required to calculate its histogram\n",
    "    :param suffix: string, assign the suffix to each column of the frequency table\n",
    "    :return: Dataframe with the histogram frequency table\n",
    "    \"\"\"\n",
    "    freq_schema = ['bin', 'fa_' + column + suffix, 'f_' + column + suffix]\n",
    "    window_freq = Window.orderBy('bin').rangeBetween(Window.unboundedPreceding, 0)\n",
    "\n",
    "    cumulative_rel_freq = spark_sum('f_' + column + suffix).over(window_freq).alias(\n",
    "        'F_cumulative_' + column + suffix)\n",
    "\n",
    "    cumulative_abs_freq = spark_sum('fa_' + column + suffix).over(window_freq).alias(\n",
    "        'Fa_cumulative_' + column + suffix)\n",
    "\n",
    "    data_set_rdd = data_set_df.select(column).rdd.map(lambda row: (row[0]))\n",
    "\n",
    "    n = data_set_rdd.count()\n",
    "\n",
    "    frequency_table_df = __frequency_rdd_discrete(data_set_rdd, n)\\\n",
    "        .toDF(freq_schema)\\\n",
    "        .select('*', cumulative_abs_freq, cumulative_rel_freq)\n",
    "    return frequency_table_df\n",
    "\n",
    "def compute_information_value(mixed_dist_df, column):\n",
    "    \"\"\"\n",
    "    Calculate the weight of evidence (woe) and the information value (iv) give a table that contains the\n",
    "    histograms frequency tables of the negative and positive populations.\n",
    "\n",
    "    :param mixed_dist_df: Dataframe, table with the mixed histograms of negative and positive populations\n",
    "    :param column: string, column with continuous values which is required to calculate its histogram\n",
    "    :return: Dataframe, table that includes the woe and iv for each bin inside the histograms\n",
    "    \"\"\"\n",
    "    epsilon = 0.000000001\n",
    "    woe_expr = spark_log((col('f_' + column + '_0') + epsilon) / (col('f_' + column + '_1') + epsilon))\n",
    "    iv_expr = (col('f_' + column + '_0') - col('f_' + column + '_1')) * col('woe_' + column)\n",
    "\n",
    "    iv_table_df = mixed_dist_df\\\n",
    "        .fillna(0)\\\n",
    "        .withColumn('woe_' + column, woe_expr)\\\n",
    "        .withColumn('iv_' + column, iv_expr)\\\n",
    "        .fillna(0, subset=['woe_' + column, 'iv_' + column])\\\n",
    "        .orderBy('bin')\n",
    "    return iv_table_df\n",
    "\n",
    "def information_value_continuous(data_set_df, column, target, neg_label=0, pos_label=1, bins=None):\n",
    "    \"\"\"\n",
    "    Computes de frequency table histograms for the negative and positive populations and then compute the\n",
    "    weight of evidence (woe) and the information value (iv) table.\n",
    "\n",
    "    :param data_set_df: Dataframe, table of which it is required to calculate the frequency histogram of some of\n",
    "    its columns\n",
    "    :param column: string, column with continuous values which is required to calculate its histogram\n",
    "    :param target: string, target column name that contains observations of negative and positive populations\n",
    "    :param neg_label: int, value to identify a negative row observation\n",
    "    :param pos_label: int, value to identify a positive row observation\n",
    "    :param bins: int, number of sub intervals\n",
    "    :return: Dataframe, table that includes the woe and iv for each bin of frequency table histogram\n",
    "    \"\"\"\n",
    "    freq_neg_schema = ['bin', 'lower_limit_' + column, 'upper_limit_' + column, 'fa_' + column + '_0', 'f_' + column + '_0']\n",
    "    freq_pos_schema = ['bin', 'lower_limit_1', 'upper_limit_1', 'fa_' + column + '_1', 'f_' + column + '_1']\n",
    "\n",
    "    data_set_rdd = data_set_df.select(column).rdd.map(lambda row: (row[0]))\n",
    "    n = data_set_rdd.count()\n",
    "\n",
    "    if bins is None:\n",
    "        bins = 1 + int(3.322 * np.log(n))\n",
    "\n",
    "    maximum = data_set_rdd.max()\n",
    "    minimum = data_set_rdd.min()\n",
    "    class_length = (maximum - minimum) / bins\n",
    "\n",
    "    lower_lim_expr = (lit(minimum) + lit(class_length) * (col('bin') - lit(1))).alias('lower_limit')\n",
    "    upper_lim_expr = (lit(minimum) + lit(class_length) * col('bin')).alias('upper_limit')\n",
    "\n",
    "    neg_rdd = data_set_df\\\n",
    "        .where(col(target) == neg_label)\\\n",
    "        .select(column).rdd\\\n",
    "        .map(lambda row: (row[0]))\n",
    "\n",
    "    pos_rdd = data_set_df\\\n",
    "        .where(col(target) == pos_label)\\\n",
    "        .select(column).rdd\\\n",
    "        .map(lambda row: (row[0]))\n",
    "\n",
    "    freq_neg_df = __frequency_rdd_continuous(neg_rdd, minimum, class_length, bins, n)\\\n",
    "        .toDF(freq_neg_schema)\\\n",
    "        .select('bin', 'f_' + column + '_0')\n",
    "\n",
    "    freq_pos_df = __frequency_rdd_continuous(pos_rdd, minimum, class_length, bins, n)\\\n",
    "        .toDF(freq_pos_schema)\\\n",
    "        .select('bin', 'f_' + column + '_1')\n",
    "\n",
    "    mixed_dist_df = freq_pos_df.join(freq_neg_df, on='bin', how='full')\\\n",
    "        .select('*', lower_lim_expr, upper_lim_expr)\\\n",
    "\n",
    "    return compute_information_value(mixed_dist_df, column)\n",
    "\n",
    "def information_value_discrete(data_set_df, column, target, neg_label=0, pos_label=1):\n",
    "    \"\"\"\n",
    "    Computes de frequency table histograms for the negative and positive populations and then compute the\n",
    "    weight of evidence (woe) and the information value (iv) table.\n",
    "\n",
    "    :param data_set_df: Dataframe, table of which it is required to calculate the frequency histogram of some of\n",
    "    its columns\n",
    "    :param column: string, column with continuous values ​​which is required to calculate its histogram\n",
    "    :param target: string, target column name that contains observations of negative and positive populations\n",
    "    :param neg_label: int, value to identify a negative row observation\n",
    "    :param pos_label: int, value to identify a positive row observation\n",
    "    :return: Dataframe, table that includes the woe and iv for each bin of frequency table histogram\n",
    "    \"\"\"\n",
    "    freq_neg_schema = ['bin', 'fa_' + column + '_0', 'f_' + column + '_0']\n",
    "    freq_pos_schema = ['bin', 'fa_' + column + '_1', 'f_' + column + '_1']\n",
    "\n",
    "    data_set_rdd = data_set_df.select(column).rdd.map(lambda row: (row[0]))\n",
    "    n = data_set_rdd.count()\n",
    "\n",
    "    neg_rdd = data_set_df.where(col(target) == neg_label)\\\n",
    "        .select(column).rdd\\\n",
    "        .map(lambda row: (row[0]))\n",
    "\n",
    "    pos_rdd = data_set_df.where(col(target) == pos_label)\\\n",
    "        .select(column).rdd\\\n",
    "        .map(lambda row: (row[0]))\n",
    "\n",
    "    freq_neg_df = __frequency_rdd_discrete(neg_rdd, n)\\\n",
    "        .toDF(freq_neg_schema)\\\n",
    "        .select('bin', 'f_' + column + '_0')\n",
    "\n",
    "    freq_pos_df = __frequency_rdd_discrete(pos_rdd, n)\\\n",
    "        .toDF(freq_pos_schema)\\\n",
    "        .select('bin', 'f_' + column + '_1')\n",
    "\n",
    "    mixed_dist_df = freq_pos_df\\\n",
    "        .join(freq_neg_df, on='bin', how='full')\\\n",
    "        .fillna(0)\n",
    "    return compute_information_value(mixed_dist_df, column)"
   ]
  },
  {
   "cell_type": "code",
   "execution_count": 47,
   "metadata": {},
   "outputs": [],
   "source": [
    "import time\n",
    "import traceback\n",
    "import numpy as np\n",
    "import pandas as pd\n",
    "import matplotlib.pyplot as plt\n",
    "\n",
    "from matplotlib.pyplot import figure\n",
    "from pyspark_dist_explore import hist\n",
    "from pyspark.sql import SparkSession\n",
    "from pyspark.sql.window import Window\n",
    "from pyspark.sql.functions import col, lit, sum as spark_sum, log as spark_log\n",
    "\n",
    "def create_frequency_table(df, coln, targt, function_type):\n",
    "    f_type = {\n",
    "        \"continuous\": information_value_continuous,\n",
    "        \"discrete\": information_value_discrete\n",
    "    }\n",
    "    \n",
    "    freq_df = f_type[function_type](data_set_df=df, column=coln, target=targt)\n",
    "    \n",
    "    return freq_df"
   ]
  },
  {
   "cell_type": "code",
   "execution_count": 53,
   "metadata": {},
   "outputs": [
    {
     "name": "stdout",
     "output_type": "stream",
     "text": [
      "+-------------+---------------------+--------------------+------------------+--------------------+\n",
      "|bin          |f_job_1              |f_job_0             |woe_job           |iv_job              |\n",
      "+-------------+---------------------+--------------------+------------------+--------------------+\n",
      "|admin.       |0.0                  |0.1150091519219036  |18.560522273785608|2.1346299259356845  |\n",
      "|blue-collar  |0.0                  |0.1815131177547285  |19.01683848869751 |3.4518056439216043  |\n",
      "|entrepreneur |0.004270896888346553 |0.02410006101281269 |1.730390330202603 |0.03431219385697657 |\n",
      "|housemaid    |0.007321537522879805 |0.01647345942647956 |0.8109301403367064|0.007421569313636726|\n",
      "|management   |0.0                  |0.22849298352654057 |19.247016065536357|4.397808124797661   |\n",
      "|retired      |0.011287370347773032 |0.05491153142159853 |1.5820388678625064|0.06901511839668652 |\n",
      "|self-employed|6.101281269066504E-4 |0.034472239170225745|4.034239028162587 |0.13660784994693323 |\n",
      "|services     |0.0                  |0.07901159243441122 |18.185105151998545|1.4368341166466208  |\n",
      "|student      |0.0                  |0.032031726662599146|17.282237459019207|0.5535799064054352  |\n",
      "|technician   |0.0                  |0.16625991458206224 |18.929062878320558|3.147144377268061   |\n",
      "|unemployed   |0.002745576571079927 |0.0350823672971324  |2.5477072153092224|0.08238467505270823 |\n",
      "|unknown      |0.0024405125076266015|0.003965832824893227|0.4855076581855992|7.405546952190347E-4|\n",
      "+-------------+---------------------+--------------------+------------------+--------------------+\n",
      "\n",
      "+---+---------------------+---------------------+------------------+------------------+--------------------+---------------------+\n",
      "|bin|f_age_1              |f_age_0              |lower_limit       |upper_limit       |woe_age             |iv_age               |\n",
      "+---+---------------------+---------------------+------------------+------------------+--------------------+---------------------+\n",
      "|1  |0.0                  |0.0021354484441732766|18.0              |20.77777777777778 |14.574187694983554  |0.03112242643834194  |\n",
      "|2  |0.0                  |0.013727882855399633 |20.77777777777778 |23.555555555555557|16.434939640257397  |0.22561692611701734  |\n",
      "|3  |0.0                  |0.04301403294691885  |23.555555555555557|26.333333333333332|17.57703699126903   |0.7560592482516574   |\n",
      "|4  |0.0                  |0.07962172056131787  |26.333333333333332|29.11111111111111 |18.192797497524715  |1.448541838576556    |\n",
      "|5  |0.0                  |0.08816351433801098  |29.11111111111111 |31.88888888888889 |18.294703777097627  |1.6129253787618103   |\n",
      "|6  |3.050640634533252E-4 |0.1293471629042099   |31.88888888888889 |34.666666666666664|6.049730184968462   |0.7806698804886089   |\n",
      "|7  |0.0                  |0.11043319097010372  |34.666666666666664|37.44444444444444 |18.519921298523656  |2.0452140055111543   |\n",
      "|8  |3.050640634533252E-4 |0.08877364246491763  |37.44444444444444 |40.22222222222222 |5.67332000044147    |0.5019105552556518   |\n",
      "|9  |0.0012202562538133007|0.050335570469798654 |40.22222222222222 |43.0              |3.7196503131476923  |0.18269179390383722  |\n",
      "|10 |0.0012202562538133007|0.06650396583282489  |43.0              |45.77777777777778 |3.9981998972062316  |0.2610173209280456   |\n",
      "|11 |0.0021354484441732766|0.06314826113483832  |45.77777777777778 |48.55555555555556 |3.3868081917601995  |0.206638693823075    |\n",
      "|12 |0.0018303843807199512|0.04942037827943868  |48.55555555555556 |51.33333333333333 |3.2958363399057125  |0.15684883130728833  |\n",
      "|13 |0.0024405125076266015|0.05643685173886516  |51.33333333333333 |54.11111111111111 |3.1409138913674917  |0.16959785197438865  |\n",
      "|14 |9.151921903599756E-4 |0.03355704697986577  |54.11111111111111 |56.888888888888886|3.6018670142582363  |0.11757162005052817  |\n",
      "|15 |0.004270896888346553 |0.044234289200732156 |56.888888888888886|59.666666666666664|2.337676201269382   |0.0934214711306556   |\n",
      "|16 |0.0021354484441732766|0.02410006101281269  |59.666666666666664|62.44444444444444 |2.423537276619774   |0.05323205732660882  |\n",
      "|17 |0.0036607687614399025|0.006406345332519829 |62.44444444444444 |65.22222222222223 |0.5596156708640193  |0.001536467674733427 |\n",
      "|18 |0.0                  |0.0036607687614399025|65.22222222222223 |68.0              |15.113184000597267  |0.055325871875279806 |\n",
      "|19 |3.050640634533252E-4 |0.004575960951799878 |68.0              |70.77777777777777 |2.7080471416408924  |0.011565790110729866 |\n",
      "|20 |0.0012202562538133007|0.006711409395973154 |70.77777777777777 |73.55555555555556 |1.7047474217387502  |0.009361029161469647 |\n",
      "|21 |0.0018303843807199512|0.002745576571079927 |73.55555555555556 |76.33333333333333 |0.4054649259971362  |3.710783337374645E-4 |\n",
      "|22 |0.001525320317266626 |0.001525320317266626 |76.33333333333333 |79.11111111111111 |0.0                 |0.0                  |\n",
      "|23 |0.001525320317266626 |0.0012202562538133007|79.11111111111111 |81.88888888888889 |-0.22314338741433073|6.807302849735535E-5 |\n",
      "|24 |3.050640634533252E-4 |9.151921903599756E-4 |81.88888888888889 |84.66666666666666 |1.0986101033395521  |6.702929245512826E-4 |\n",
      "|25 |9.151921903599756E-4 |3.050640634533252E-4 |84.66666666666666 |87.44444444444444 |-1.0986101033395521 |6.702929245512826E-4 |\n",
      "|27 |6.101281269066504E-4 |3.050640634533252E-4 |90.22222222222221 |93.0              |-0.6931455415639748 |2.1145379547406185E-4|\n",
      "+---+---------------------+---------------------+------------------+------------------+--------------------+---------------------+\n",
      "\n",
      "+---------+--------------------+-------------------+------------------+-------------------+\n",
      "|bin      |f_education_1       |f_education_0      |woe_education     |iv_education       |\n",
      "+---------+--------------------+-------------------+------------------+-------------------+\n",
      "|primary  |0.010372178157413058|0.12995729103111653|2.5280787329362844|0.3023205806317948 |\n",
      "|secondary|0.009456985967053081|0.4804758999389872 |3.9280232431139273|1.8501732420280366 |\n",
      "|tertiary |0.003965832824893227|0.3248932275777913 |4.405780471606109 |1.4139356486057433 |\n",
      "|unknown  |0.004881025015253203|0.03599755948749237|1.998095725130565 |0.06217381450985895|\n",
      "+---------+--------------------+-------------------+------------------+-------------------+\n",
      "\n",
      "+------+--------------------+------------------+------------------+------------------+\n",
      "|bin   |f_gender_1          |f_gender_0        |woe_gender        |iv_gender         |\n",
      "+------+--------------------+------------------+------------------+------------------+\n",
      "|female|0.017998779743746186|0.4682733374008542|3.2587481626917625|1.4673313874719467|\n",
      "|male  |0.010677242220866382|0.5030506406345332|3.852576169400918 |1.8969060211754367|\n",
      "+------+--------------------+------------------+------------------+------------------+\n",
      "\n"
     ]
    }
   ],
   "source": [
    "create_frequency_table(predictions, \"job\", \"prediction\", \"discrete\").show(100, False)\n",
    "create_frequency_table(predictions, \"age\", \"prediction\", \"continuous\").show(100, False)\n",
    "create_frequency_table(predictions, \"education\", \"prediction\", \"discrete\").show(100, False)\n",
    "create_frequency_table(predictions, \"gender\", \"prediction\", \"discrete\").show(100, False)"
   ]
  },
  {
   "cell_type": "markdown",
   "metadata": {},
   "source": [
    "## Decision Tree Classifier"
   ]
  },
  {
   "cell_type": "code",
   "execution_count": 57,
   "metadata": {},
   "outputs": [
    {
     "name": "stdout",
     "output_type": "stream",
     "text": [
      "+---+-----------+--------+---------+------+-----+------+-------+------+----------+--------+-----+----------+------------------------------------------+\n",
      "|age|job        |marital |education|gender|child|saving|insight|backup|risk_label|risk_num|label|prediction|probability                               |\n",
      "+---+-----------+--------+---------+------+-----+------+-------+------+----------+--------+-----+----------+------------------------------------------+\n",
      "|38 |blue-collar|single  |primary  |female|0    |0     |0      |0     |MA        |0       |0.0  |0.0       |[0.9995726495726496,4.2735042735042735E-4]|\n",
      "|55 |blue-collar|single  |primary  |female|0    |0     |0      |0     |M         |0       |0.0  |0.0       |[0.9995726495726496,4.2735042735042735E-4]|\n",
      "|41 |blue-collar|divorced|primary  |female|0    |0     |0      |0     |MA        |0       |0.0  |0.0       |[0.9995726495726496,4.2735042735042735E-4]|\n",
      "|52 |blue-collar|divorced|primary  |female|0    |0     |0      |0     |M         |0       |0.0  |0.0       |[0.9995726495726496,4.2735042735042735E-4]|\n",
      "|26 |technician |single  |tertiary |female|0    |0     |0      |0     |MA        |0       |0.0  |0.0       |[0.9995726495726496,4.2735042735042735E-4]|\n",
      "+---+-----------+--------+---------+------+-----+------+-------+------+----------+--------+-----+----------+------------------------------------------+\n",
      "only showing top 5 rows\n",
      "\n"
     ]
    }
   ],
   "source": [
    "from pyspark.ml.classification import DecisionTreeClassifier\n",
    "\n",
    "dt = DecisionTreeClassifier(featuresCol='features', labelCol='label', maxDepth = 3)\n",
    "dtModel = dt.fit(train)\n",
    "predictions = dtModel.transform(test)\n",
    "predictions.select(*predict_cols).show(5, False)"
   ]
  },
  {
   "cell_type": "code",
   "execution_count": 58,
   "metadata": {},
   "outputs": [
    {
     "name": "stdout",
     "output_type": "stream",
     "text": [
      "Test Area Under ROC: 0.9895804129083396\n"
     ]
    }
   ],
   "source": [
    "evaluator = BinaryClassificationEvaluator()\n",
    "print(\"Test Area Under ROC: \" + str(evaluator.evaluate(predictions, {evaluator.metricName: \"areaUnderROC\"})))"
   ]
  },
  {
   "cell_type": "markdown",
   "metadata": {},
   "source": [
    "## Random Forest Classifier"
   ]
  },
  {
   "cell_type": "code",
   "execution_count": 59,
   "metadata": {},
   "outputs": [
    {
     "name": "stdout",
     "output_type": "stream",
     "text": [
      "+---+-----------+--------+---------+------+-----+------+-------+------+----------+--------+-----+----------+-----------------------------------------+\n",
      "|age|job        |marital |education|gender|child|saving|insight|backup|risk_label|risk_num|label|prediction|probability                              |\n",
      "+---+-----------+--------+---------+------+-----+------+-------+------+----------+--------+-----+----------+-----------------------------------------+\n",
      "|38 |blue-collar|single  |primary  |female|0    |0     |0      |0     |MA        |0       |0.0  |0.0       |[0.9885396631599971,0.01146033684000286] |\n",
      "|55 |blue-collar|single  |primary  |female|0    |0     |0      |0     |M         |0       |0.0  |0.0       |[0.9894401342324765,0.010559865767523546]|\n",
      "|41 |blue-collar|divorced|primary  |female|0    |0     |0      |0     |MA        |0       |0.0  |0.0       |[0.9902528353928999,0.00974716460710016] |\n",
      "|52 |blue-collar|divorced|primary  |female|0    |0     |0      |0     |M         |0       |0.0  |0.0       |[0.9911533064653792,0.008846693534620845]|\n",
      "|26 |technician |single  |tertiary |female|0    |0     |0      |0     |MA        |0       |0.0  |0.0       |[0.9930780210944425,0.006921978905557504]|\n",
      "+---+-----------+--------+---------+------+-----+------+-------+------+----------+--------+-----+----------+-----------------------------------------+\n",
      "only showing top 5 rows\n",
      "\n"
     ]
    }
   ],
   "source": [
    "from pyspark.ml.classification import RandomForestClassifier\n",
    "rf = RandomForestClassifier(featuresCol='features', labelCol='label')\n",
    "rfModel = rf.fit(train)\n",
    "predictions = rfModel.transform(test)\n",
    "predictions.select(*predict_cols).show(5, False)"
   ]
  },
  {
   "cell_type": "code",
   "execution_count": 60,
   "metadata": {},
   "outputs": [
    {
     "name": "stdout",
     "output_type": "stream",
     "text": [
      "Test Area Under ROC: 0.9971486866344227\n"
     ]
    }
   ],
   "source": [
    "evaluator = BinaryClassificationEvaluator()\n",
    "print(\"Test Area Under ROC: \" + str(evaluator.evaluate(predictions, {evaluator.metricName: \"areaUnderROC\"})))"
   ]
  },
  {
   "cell_type": "markdown",
   "metadata": {},
   "source": [
    "## Gradient-Boosted Tree Classifier"
   ]
  },
  {
   "cell_type": "code",
   "execution_count": 62,
   "metadata": {},
   "outputs": [
    {
     "name": "stdout",
     "output_type": "stream",
     "text": [
      "+---+-----------+--------+---------+------+-----+------+-------+------+----------+--------+-----+----------+--------------------+\n",
      "|age|        job| marital|education|gender|child|saving|insight|backup|risk_label|risk_num|label|prediction|         probability|\n",
      "+---+-----------+--------+---------+------+-----+------+-------+------+----------+--------+-----+----------+--------------------+\n",
      "| 38|blue-collar|  single|  primary|female|    0|     0|      0|     0|        MA|       0|  0.0|       0.0|[0.93412217565278...|\n",
      "| 55|blue-collar|  single|  primary|female|    0|     0|      0|     0|         M|       0|  0.0|       0.0|[0.93412217565278...|\n",
      "| 41|blue-collar|divorced|  primary|female|    0|     0|      0|     0|        MA|       0|  0.0|       0.0|[0.93412217565278...|\n",
      "| 52|blue-collar|divorced|  primary|female|    0|     0|      0|     0|         M|       0|  0.0|       0.0|[0.93412217565278...|\n",
      "| 26| technician|  single| tertiary|female|    0|     0|      0|     0|        MA|       0|  0.0|       0.0|[0.93412217565278...|\n",
      "| 31| technician|  single| tertiary|female|    0|     0|      0|     0|        MA|       0|  0.0|       0.0|[0.93412217565278...|\n",
      "| 33| technician|  single| tertiary|female|    0|     0|      0|     0|        MA|       0|  0.0|       0.0|[0.93412217565278...|\n",
      "| 34| technician|  single| tertiary|female|    0|     0|      0|     0|        MA|       0|  0.0|       0.0|[0.93412217565278...|\n",
      "| 49| technician|divorced| tertiary|female|    0|     0|      0|     0|        MA|       0|  0.0|       0.0|[0.93412217565278...|\n",
      "| 30|     admin.|  single| tertiary|female|    0|     0|      0|     0|        MA|       0|  0.0|       0.0|[0.93412217565278...|\n",
      "+---+-----------+--------+---------+------+-----+------+-------+------+----------+--------+-----+----------+--------------------+\n",
      "only showing top 10 rows\n",
      "\n"
     ]
    }
   ],
   "source": [
    "from pyspark.ml.classification import GBTClassifier\n",
    "\n",
    "gbt = GBTClassifier(maxIter=10)\n",
    "gbtModel = gbt.fit(train)\n",
    "predictions = gbtModel.transform(test)\n",
    "predictions.select(*predict_cols).show(10)"
   ]
  },
  {
   "cell_type": "code",
   "execution_count": 63,
   "metadata": {},
   "outputs": [
    {
     "name": "stdout",
     "output_type": "stream",
     "text": [
      "Test Area Under ROC: 0.9971031830491807\n"
     ]
    }
   ],
   "source": [
    "evaluator = BinaryClassificationEvaluator()\n",
    "print(\"Test Area Under ROC: \" + str(evaluator.evaluate(predictions, {evaluator.metricName: \"areaUnderROC\"})))"
   ]
  },
  {
   "cell_type": "code",
   "execution_count": 66,
   "metadata": {},
   "outputs": [
    {
     "data": {
      "text/plain": [
       "0.9981497655097503"
      ]
     },
     "execution_count": 66,
     "metadata": {},
     "output_type": "execute_result"
    }
   ],
   "source": [
    "from pyspark.ml.tuning import ParamGridBuilder, CrossValidator\n",
    "\n",
    "paramGrid = ParamGridBuilder()\\\n",
    "                .addGrid(gbt.maxDepth, [2, 4, 6])\\\n",
    "                .addGrid(gbt.maxBins, [20, 60])\\\n",
    "                .addGrid(gbt.maxIter, [10, 20])\\\n",
    "                .build()\n",
    "\n",
    "# Run cross validations.  This can take about 6 minutes since it is training over 20 trees!\n",
    "cv = CrossValidator(estimator=gbt, estimatorParamMaps=paramGrid, evaluator=evaluator, numFolds=5)\n",
    "cvModel = cv.fit(train)\n",
    "\n",
    "boosting_predictions = cvModel.transform(test)\n",
    "evaluator.evaluate(boosting_predictions)"
   ]
  },
  {
   "cell_type": "code",
   "execution_count": 69,
   "metadata": {},
   "outputs": [
    {
     "name": "stdout",
     "output_type": "stream",
     "text": [
      "+---+----------+--------+---------+------+-----+------+-------+------+----------+--------+-----+----------+-----------------------------------------+\n",
      "|age|job       |marital |education|gender|child|saving|insight|backup|risk_label|risk_num|label|prediction|probability                              |\n",
      "+---+----------+--------+---------+------+-----+------+-------+------+----------+--------+-----+----------+-----------------------------------------+\n",
      "|82 |retired   |divorced|tertiary |female|0    |0     |0      |0     |C         |1       |1.0  |1.0       |[0.04364652142729317,0.9563534785727068] |\n",
      "|76 |retired   |divorced|primary  |female|0    |0     |0      |0     |C         |1       |1.0  |1.0       |[0.04364652142729317,0.9563534785727068] |\n",
      "|54 |retired   |single  |secondary|male  |0    |0     |0      |0     |C         |1       |1.0  |1.0       |[0.08767954011207531,0.9123204598879247] |\n",
      "|26 |unemployed|single  |secondary|male  |0    |0     |0      |0     |C         |1       |1.0  |1.0       |[0.04048585562164127,0.9595141443783587] |\n",
      "|43 |unemployed|divorced|secondary|male  |0    |0     |0      |0     |C         |1       |1.0  |1.0       |[0.25981923196549056,0.7401807680345094] |\n",
      "|53 |unemployed|divorced|secondary|male  |0    |0     |0      |0     |C         |1       |1.0  |1.0       |[0.07108170164910972,0.9289182983508902] |\n",
      "|39 |unemployed|divorced|secondary|female|0    |0     |0      |0     |C         |1       |1.0  |0.0       |[0.6989902156947859,0.3010097843052141]  |\n",
      "|33 |unemployed|single  |secondary|female|1    |0     |0      |0     |C         |1       |1.0  |1.0       |[0.0338474489692304,0.9661525510307696]  |\n",
      "|33 |unemployed|single  |secondary|female|0    |0     |0      |1     |C         |1       |1.0  |1.0       |[0.11539332357043283,0.8846066764295671] |\n",
      "|58 |retired   |married |primary  |male  |0    |0     |0      |0     |C         |1       |1.0  |1.0       |[0.29703415397867844,0.7029658460213215] |\n",
      "|80 |retired   |married |primary  |male  |0    |0     |0      |0     |C         |1       |1.0  |1.0       |[0.04364652142729317,0.9563534785727068] |\n",
      "|87 |retired   |married |primary  |male  |0    |0     |0      |0     |C         |1       |1.0  |1.0       |[0.04364652142729317,0.9563534785727068] |\n",
      "|63 |retired   |married |unknown  |male  |0    |0     |0      |0     |C         |1       |1.0  |0.0       |[0.5341196846899852,0.46588031531001484] |\n",
      "|50 |unknown   |married |unknown  |male  |0    |0     |0      |0     |C         |1       |1.0  |1.0       |[0.05890164766065703,0.941098352339343]  |\n",
      "|59 |unknown   |married |unknown  |male  |0    |0     |0      |0     |C         |1       |1.0  |1.0       |[0.030945687270134623,0.9690543127298654]|\n",
      "|74 |retired   |married |tertiary |female|0    |0     |0      |0     |C         |1       |1.0  |1.0       |[0.04364652142729317,0.9563534785727068] |\n",
      "|50 |retired   |married |primary  |female|1    |0     |0      |0     |C         |1       |1.0  |1.0       |[0.08754271002272818,0.9124572899772718] |\n",
      "|72 |retired   |married |primary  |female|0    |1     |0      |0     |C         |1       |1.0  |1.0       |[0.04364652142729317,0.9563534785727068] |\n",
      "|92 |retired   |married |unknown  |female|0    |1     |0      |0     |C         |1       |1.0  |1.0       |[0.04364652142729317,0.9563534785727068] |\n",
      "|73 |retired   |married |primary  |female|0    |0     |1      |0     |C         |1       |1.0  |1.0       |[0.04364652142729317,0.9563534785727068] |\n",
      "|76 |retired   |married |primary  |female|0    |0     |1      |0     |C         |1       |1.0  |1.0       |[0.04364652142729317,0.9563534785727068] |\n",
      "|75 |retired   |married |tertiary |female|0    |0     |0      |1     |C         |1       |1.0  |1.0       |[0.04364652142729317,0.9563534785727068] |\n",
      "|49 |unknown   |married |primary  |female|0    |0     |0      |1     |C         |1       |1.0  |1.0       |[0.11241844068286501,0.887581559317135]  |\n",
      "|60 |unknown   |married |unknown  |female|0    |0     |0      |1     |C         |1       |1.0  |1.0       |[0.037750046527822365,0.9622499534721777]|\n",
      "|51 |retired   |married |secondary|male  |0    |0     |0      |0     |C         |1       |1.0  |1.0       |[0.17721255780359166,0.8227874421964083] |\n",
      "|58 |retired   |married |secondary|male  |0    |0     |0      |0     |C         |1       |1.0  |1.0       |[0.3302417613382569,0.6697582386617431]  |\n",
      "|59 |retired   |married |secondary|male  |0    |0     |0      |0     |C         |1       |1.0  |0.0       |[0.7958696182965532,0.20413038170344677] |\n",
      "|28 |unemployed|married |secondary|male  |0    |0     |0      |0     |C         |1       |1.0  |1.0       |[0.13537474401467972,0.8646252559853203] |\n",
      "|48 |unemployed|married |secondary|male  |0    |0     |0      |0     |C         |1       |1.0  |1.0       |[0.19882072605484274,0.8011792739451573] |\n",
      "|52 |unemployed|married |secondary|male  |0    |0     |0      |0     |C         |1       |1.0  |1.0       |[0.1940267026906919,0.8059732973093081]  |\n",
      "|55 |retired   |married |secondary|male  |1    |0     |0      |0     |C         |1       |1.0  |1.0       |[0.13385387893708978,0.8661461210629102] |\n",
      "|77 |retired   |married |secondary|male  |1    |0     |0      |0     |C         |1       |1.0  |1.0       |[0.04364652142729317,0.9563534785727068] |\n",
      "|68 |retired   |married |secondary|male  |0    |1     |0      |0     |C         |1       |1.0  |1.0       |[0.04364652142729317,0.9563534785727068] |\n",
      "|80 |retired   |married |secondary|male  |0    |1     |0      |0     |C         |1       |1.0  |1.0       |[0.04364652142729317,0.9563534785727068] |\n",
      "|55 |retired   |married |secondary|male  |0    |0     |1      |0     |C         |1       |1.0  |1.0       |[0.19851393720908106,0.8014860627909189] |\n",
      "|55 |retired   |married |secondary|male  |0    |0     |0      |1     |C         |1       |1.0  |1.0       |[0.13078642436941834,0.8692135756305817] |\n",
      "|56 |retired   |married |secondary|male  |0    |0     |0      |1     |C         |1       |1.0  |1.0       |[0.13078642436941834,0.8692135756305817] |\n",
      "|31 |unemployed|married |secondary|female|1    |0     |0      |0     |C         |1       |1.0  |1.0       |[0.29557824526591353,0.7044217547340865] |\n",
      "|34 |unemployed|married |secondary|female|1    |0     |0      |0     |C         |1       |1.0  |1.0       |[0.31742783496801347,0.6825721650319865] |\n",
      "|52 |unemployed|married |secondary|female|1    |1     |0      |0     |C         |1       |1.0  |1.0       |[0.1444518433925154,0.8555481566074846]  |\n",
      "|55 |unemployed|married |secondary|female|1    |0     |1      |0     |C         |1       |1.0  |1.0       |[0.2390083714166888,0.7609916285833112]  |\n",
      "|73 |retired   |married |secondary|female|1    |0     |0      |1     |C         |1       |1.0  |1.0       |[0.04364652142729317,0.9563534785727068] |\n",
      "|87 |retired   |married |secondary|female|1    |0     |0      |1     |C         |1       |1.0  |1.0       |[0.04364652142729317,0.9563534785727068] |\n",
      "|35 |unemployed|married |secondary|female|0    |1     |1      |0     |C         |1       |1.0  |0.0       |[0.6060521655189453,0.39394783448105475] |\n",
      "|30 |unemployed|married |secondary|female|0    |1     |0      |1     |C         |1       |1.0  |1.0       |[0.269872314213597,0.730127685786403]    |\n",
      "|54 |unknown   |married |secondary|female|0    |1     |0      |1     |C         |1       |1.0  |1.0       |[0.0966639452455978,0.9033360547544023]  |\n",
      "|77 |retired   |married |secondary|female|0    |0     |1      |0     |C         |1       |1.0  |1.0       |[0.04364652142729317,0.9563534785727068] |\n",
      "|77 |retired   |married |secondary|female|0    |0     |0      |1     |C         |1       |1.0  |1.0       |[0.04364652142729317,0.9563534785727068] |\n",
      "|72 |retired   |married |secondary|female|1    |0     |1      |1     |C         |1       |1.0  |1.0       |[0.04364652142729317,0.9563534785727068] |\n",
      "|80 |retired   |married |secondary|female|1    |1     |1      |0     |C         |1       |1.0  |1.0       |[0.04364652142729317,0.9563534785727068] |\n",
      "|82 |retired   |married |secondary|female|0    |1     |1      |1     |C         |1       |1.0  |1.0       |[0.04364652142729317,0.9563534785727068] |\n",
      "|84 |retired   |married |secondary|female|1    |0     |1      |1     |C         |1       |1.0  |1.0       |[0.04364652142729317,0.9563534785727068] |\n",
      "|53 |retired   |married |secondary|male  |1    |1     |1      |1     |C         |1       |1.0  |1.0       |[0.057297190781275445,0.9427028092187245]|\n",
      "|54 |retired   |married |secondary|male  |0    |1     |1      |0     |C         |1       |1.0  |1.0       |[0.07786391873680856,0.9221360812631915] |\n",
      "|54 |retired   |married |secondary|male  |1    |1     |0      |1     |C         |1       |1.0  |1.0       |[0.05686289299917762,0.9431371070008224] |\n",
      "|67 |retired   |married |secondary|male  |1    |0     |1      |0     |C         |1       |1.0  |1.0       |[0.04364652142729317,0.9563534785727068] |\n",
      "|70 |retired   |married |secondary|male  |0    |1     |1      |1     |C         |1       |1.0  |1.0       |[0.04364652142729317,0.9563534785727068] |\n",
      "|72 |retired   |married |secondary|male  |0    |1     |1      |0     |C         |1       |1.0  |1.0       |[0.04364652142729317,0.9563534785727068] |\n",
      "|72 |retired   |married |secondary|male  |1    |1     |1      |0     |C         |1       |1.0  |1.0       |[0.04364652142729317,0.9563534785727068] |\n",
      "|76 |retired   |married |secondary|male  |1    |1     |0      |0     |C         |1       |1.0  |1.0       |[0.04364652142729317,0.9563534785727068] |\n",
      "|55 |retired   |married |tertiary |male  |1    |0     |0      |1     |C         |1       |1.0  |1.0       |[0.06370589365566769,0.9362941063443323] |\n",
      "|71 |retired   |married |tertiary |male  |1    |0     |1      |1     |C         |1       |1.0  |1.0       |[0.04364652142729317,0.9563534785727068] |\n",
      "|71 |retired   |married |tertiary |male  |1    |1     |0      |0     |C         |1       |1.0  |1.0       |[0.04364652142729317,0.9563534785727068] |\n",
      "|72 |retired   |married |tertiary |male  |0    |0     |0      |1     |C         |1       |1.0  |1.0       |[0.04364652142729317,0.9563534785727068] |\n",
      "|73 |retired   |married |tertiary |male  |1    |0     |1      |0     |C         |1       |1.0  |1.0       |[0.04364652142729317,0.9563534785727068] |\n",
      "|73 |retired   |married |tertiary |male  |1    |1     |1      |0     |C         |1       |1.0  |1.0       |[0.04364652142729317,0.9563534785727068] |\n",
      "|74 |retired   |married |tertiary |male  |0    |0     |1      |1     |C         |1       |1.0  |1.0       |[0.04364652142729317,0.9563534785727068] |\n",
      "|51 |retired   |married |primary  |female|1    |0     |0      |1     |C         |1       |1.0  |1.0       |[0.06756506795648155,0.9324349320435185] |\n",
      "|52 |retired   |married |primary  |female|0    |1     |1      |1     |C         |1       |1.0  |1.0       |[0.06356125578539437,0.9364387442146056] |\n",
      "|56 |retired   |married |primary  |female|0    |1     |0      |1     |C         |1       |1.0  |1.0       |[0.06935306628032323,0.9306469337196768] |\n",
      "|69 |retired   |married |primary  |female|1    |0     |1      |0     |C         |1       |1.0  |1.0       |[0.04364652142729317,0.9563534785727068] |\n",
      "|70 |retired   |married |primary  |female|0    |1     |1      |0     |C         |1       |1.0  |1.0       |[0.04364652142729317,0.9563534785727068] |\n",
      "|71 |retired   |married |primary  |female|0    |1     |0      |1     |C         |1       |1.0  |1.0       |[0.04364652142729317,0.9563534785727068] |\n",
      "|72 |retired   |married |primary  |female|1    |0     |1      |0     |C         |1       |1.0  |1.0       |[0.04364652142729317,0.9563534785727068] |\n",
      "|74 |retired   |married |primary  |female|1    |1     |1      |0     |C         |1       |1.0  |1.0       |[0.04364652142729317,0.9563534785727068] |\n",
      "|75 |retired   |married |primary  |female|1    |1     |0      |0     |C         |1       |1.0  |1.0       |[0.04364652142729317,0.9563534785727068] |\n",
      "|76 |retired   |married |primary  |female|1    |1     |0      |0     |C         |1       |1.0  |1.0       |[0.04364652142729317,0.9563534785727068] |\n",
      "|77 |retired   |married |primary  |female|1    |0     |1      |0     |C         |1       |1.0  |1.0       |[0.04364652142729317,0.9563534785727068] |\n",
      "|80 |retired   |married |primary  |female|0    |1     |1      |0     |C         |1       |1.0  |1.0       |[0.04364652142729317,0.9563534785727068] |\n",
      "|80 |retired   |married |primary  |female|1    |1     |0      |1     |C         |1       |1.0  |1.0       |[0.04364652142729317,0.9563534785727068] |\n",
      "|34 |retired   |married |primary  |male  |1    |0     |0      |1     |C         |1       |1.0  |1.0       |[0.0761069958243454,0.9238930041756546]  |\n",
      "|42 |retired   |married |primary  |male  |1    |1     |1      |1     |C         |1       |1.0  |1.0       |[0.4539157371568111,0.5460842628431889]  |\n",
      "|54 |retired   |married |primary  |male  |1    |0     |1      |0     |C         |1       |1.0  |1.0       |[0.048190846606703225,0.9518091533932967]|\n",
      "|55 |retired   |married |primary  |male  |0    |0     |0      |1     |C         |1       |1.0  |1.0       |[0.056976583665139614,0.9430234163348604]|\n",
      "|67 |retired   |married |primary  |male  |1    |0     |0      |1     |C         |1       |1.0  |1.0       |[0.04364652142729317,0.9563534785727068] |\n",
      "|69 |retired   |married |primary  |male  |0    |1     |0      |0     |C         |1       |1.0  |1.0       |[0.04364652142729317,0.9563534785727068] |\n",
      "|70 |retired   |married |primary  |male  |1    |0     |0      |1     |C         |1       |1.0  |1.0       |[0.04364652142729317,0.9563534785727068] |\n",
      "|71 |retired   |married |primary  |male  |1    |0     |0      |0     |C         |1       |1.0  |1.0       |[0.04364652142729317,0.9563534785727068] |\n",
      "|72 |retired   |married |primary  |male  |0    |1     |1      |0     |C         |1       |1.0  |1.0       |[0.04364652142729317,0.9563534785727068] |\n",
      "|72 |retired   |married |primary  |male  |1    |1     |0      |0     |C         |1       |1.0  |1.0       |[0.04364652142729317,0.9563534785727068] |\n",
      "|73 |retired   |married |primary  |male  |0    |1     |1      |1     |C         |1       |1.0  |1.0       |[0.04364652142729317,0.9563534785727068] |\n",
      "|73 |retired   |married |primary  |male  |1    |0     |0      |0     |C         |1       |1.0  |1.0       |[0.04364652142729317,0.9563534785727068] |\n",
      "|73 |retired   |married |primary  |male  |1    |0     |0      |1     |C         |1       |1.0  |1.0       |[0.04364652142729317,0.9563534785727068] |\n",
      "|73 |retired   |married |primary  |male  |1    |0     |0      |1     |C         |1       |1.0  |1.0       |[0.04364652142729317,0.9563534785727068] |\n",
      "|73 |retired   |married |primary  |male  |1    |0     |1      |1     |C         |1       |1.0  |1.0       |[0.04364652142729317,0.9563534785727068] |\n",
      "|73 |retired   |married |primary  |male  |1    |1     |1      |1     |C         |1       |1.0  |1.0       |[0.04364652142729317,0.9563534785727068] |\n",
      "|76 |retired   |married |primary  |male  |1    |1     |0      |0     |C         |1       |1.0  |1.0       |[0.04364652142729317,0.9563534785727068] |\n",
      "|77 |retired   |married |primary  |male  |1    |1     |0      |0     |C         |1       |1.0  |1.0       |[0.04364652142729317,0.9563534785727068] |\n",
      "|80 |retired   |married |primary  |male  |1    |1     |0      |0     |C         |1       |1.0  |1.0       |[0.04364652142729317,0.9563534785727068] |\n",
      "|83 |retired   |married |primary  |male  |1    |1     |0      |0     |C         |1       |1.0  |1.0       |[0.04364652142729317,0.9563534785727068] |\n",
      "|85 |retired   |married |primary  |male  |1    |1     |1      |0     |C         |1       |1.0  |1.0       |[0.04364652142729317,0.9563534785727068] |\n",
      "|69 |retired   |married |unknown  |female|0    |1     |0      |1     |C         |1       |1.0  |1.0       |[0.04364652142729317,0.9563534785727068] |\n",
      "|76 |retired   |married |unknown  |female|0    |1     |0      |1     |C         |1       |1.0  |1.0       |[0.04364652142729317,0.9563534785727068] |\n",
      "|78 |retired   |married |unknown  |female|1    |0     |1      |0     |C         |1       |1.0  |1.0       |[0.04364652142729317,0.9563534785727068] |\n",
      "|58 |retired   |married |unknown  |male  |0    |0     |0      |1     |C         |1       |1.0  |1.0       |[0.1644042229105407,0.8355957770894593]  |\n",
      "|59 |retired   |married |unknown  |male  |0    |1     |0      |0     |C         |1       |1.0  |0.0       |[0.9194557090995751,0.08054429090042492] |\n",
      "|66 |retired   |married |unknown  |male  |0    |0     |0      |1     |C         |1       |1.0  |0.0       |[0.6653457257293539,0.3346542742706461]  |\n",
      "|69 |retired   |married |unknown  |male  |1    |1     |0      |0     |C         |1       |1.0  |1.0       |[0.04364652142729317,0.9563534785727068] |\n",
      "|92 |retired   |married |unknown  |male  |1    |1     |1      |1     |C         |1       |1.0  |1.0       |[0.04364652142729317,0.9563534785727068] |\n",
      "|93 |retired   |married |unknown  |male  |1    |0     |0      |0     |C         |1       |1.0  |1.0       |[0.04364652142729317,0.9563534785727068] |\n",
      "|40 |retired   |single  |secondary|female|1    |1     |0      |0     |C         |1       |1.0  |1.0       |[0.16685156596617293,0.8331484340338271] |\n",
      "|59 |retired   |single  |secondary|male  |0    |0     |0      |1     |C         |1       |1.0  |0.0       |[0.7958696182965532,0.20413038170344677] |\n",
      "|68 |retired   |single  |tertiary |male  |1    |1     |1      |0     |C         |1       |1.0  |1.0       |[0.04364652142729317,0.9563534785727068] |\n",
      "|35 |retired   |single  |primary  |male  |1    |0     |1      |0     |C         |1       |1.0  |1.0       |[0.08114495340854365,0.9188550465914563] |\n",
      "|67 |retired   |divorced|secondary|female|0    |1     |0      |1     |C         |1       |1.0  |1.0       |[0.04364652142729317,0.9563534785727068] |\n",
      "|81 |retired   |divorced|secondary|female|0    |1     |1      |0     |C         |1       |1.0  |1.0       |[0.04364652142729317,0.9563534785727068] |\n",
      "|55 |retired   |divorced|secondary|male  |0    |0     |1      |1     |C         |1       |1.0  |1.0       |[0.05286166870361612,0.9471383312963839] |\n",
      "|71 |retired   |divorced|secondary|male  |1    |0     |1      |0     |C         |1       |1.0  |1.0       |[0.04364652142729317,0.9563534785727068] |\n",
      "|54 |retired   |divorced|tertiary |female|0    |0     |1      |0     |C         |1       |1.0  |1.0       |[0.11867379573751552,0.8813262042624845] |\n",
      "|67 |retired   |divorced|primary  |female|0    |1     |0      |0     |C         |1       |1.0  |1.0       |[0.04364652142729317,0.9563534785727068] |\n",
      "|68 |retired   |divorced|primary  |female|1    |1     |1      |1     |C         |1       |1.0  |1.0       |[0.04364652142729317,0.9563534785727068] |\n",
      "|70 |retired   |divorced|primary  |female|0    |0     |0      |1     |C         |1       |1.0  |1.0       |[0.04364652142729317,0.9563534785727068] |\n",
      "|71 |retired   |divorced|primary  |female|1    |0     |0      |0     |C         |1       |1.0  |1.0       |[0.04364652142729317,0.9563534785727068] |\n",
      "|74 |retired   |divorced|primary  |female|1    |1     |0      |1     |C         |1       |1.0  |1.0       |[0.04364652142729317,0.9563534785727068] |\n",
      "|78 |retired   |divorced|primary  |female|1    |1     |0      |0     |C         |1       |1.0  |1.0       |[0.04364652142729317,0.9563534785727068] |\n",
      "|41 |retired   |divorced|primary  |male  |0    |0     |1      |1     |C         |1       |1.0  |1.0       |[0.3136526476444092,0.6863473523555907]  |\n",
      "|52 |retired   |divorced|primary  |male  |0    |0     |0      |1     |C         |1       |1.0  |1.0       |[0.030747302992024075,0.9692526970079759]|\n",
      "|68 |retired   |divorced|primary  |male  |0    |0     |1      |1     |C         |1       |1.0  |1.0       |[0.04364652142729317,0.9563534785727068] |\n",
      "|69 |retired   |divorced|primary  |male  |0    |0     |1      |1     |C         |1       |1.0  |1.0       |[0.04364652142729317,0.9563534785727068] |\n",
      "|70 |retired   |divorced|primary  |male  |1    |0     |0      |0     |C         |1       |1.0  |1.0       |[0.04364652142729317,0.9563534785727068] |\n",
      "|71 |retired   |divorced|primary  |male  |0    |1     |0      |0     |C         |1       |1.0  |1.0       |[0.04364652142729317,0.9563534785727068] |\n",
      "|72 |retired   |divorced|primary  |male  |1    |1     |0      |0     |C         |1       |1.0  |1.0       |[0.04364652142729317,0.9563534785727068] |\n",
      "|74 |retired   |divorced|primary  |male  |0    |1     |0      |1     |C         |1       |1.0  |1.0       |[0.04364652142729317,0.9563534785727068] |\n",
      "|75 |retired   |divorced|primary  |male  |1    |0     |0      |0     |C         |1       |1.0  |1.0       |[0.04364652142729317,0.9563534785727068] |\n",
      "|78 |retired   |divorced|primary  |male  |1    |1     |0      |1     |C         |1       |1.0  |1.0       |[0.04364652142729317,0.9563534785727068] |\n",
      "|79 |retired   |divorced|primary  |male  |0    |1     |0      |1     |C         |1       |1.0  |1.0       |[0.04364652142729317,0.9563534785727068] |\n",
      "|81 |retired   |divorced|primary  |male  |0    |1     |0      |0     |C         |1       |1.0  |1.0       |[0.04364652142729317,0.9563534785727068] |\n",
      "|81 |retired   |divorced|primary  |male  |0    |1     |0      |0     |C         |1       |1.0  |1.0       |[0.04364652142729317,0.9563534785727068] |\n",
      "|86 |retired   |divorced|unknown  |female|0    |1     |0      |1     |C         |1       |1.0  |1.0       |[0.04364652142729317,0.9563534785727068] |\n",
      "|28 |unemployed|married |secondary|female|1    |1     |1      |0     |C         |1       |1.0  |0.0       |[0.5946092356626819,0.40539076433731813] |\n",
      "|35 |unemployed|married |secondary|female|1    |0     |1      |1     |C         |1       |1.0  |0.0       |[0.8646240593215532,0.13537594067844683] |\n",
      "|47 |unemployed|married |secondary|female|1    |0     |1      |1     |C         |1       |1.0  |1.0       |[0.1517114844051263,0.8482885155948737]  |\n",
      "|52 |unemployed|married |secondary|female|1    |0     |1      |1     |C         |1       |1.0  |1.0       |[0.13925783899147245,0.8607421610085275] |\n",
      "|52 |unemployed|married |secondary|female|1    |1     |0      |1     |C         |1       |1.0  |1.0       |[0.0943875549085627,0.9056124450914373]  |\n",
      "|26 |unemployed|married |secondary|male  |1    |1     |0      |1     |C         |1       |1.0  |1.0       |[0.16557274714465828,0.8344272528553417] |\n",
      "|31 |unemployed|married |secondary|male  |1    |1     |1      |0     |C         |1       |1.0  |1.0       |[0.23786239813403864,0.7621376018659614] |\n",
      "|32 |unemployed|married |secondary|male  |0    |1     |1      |0     |C         |1       |1.0  |1.0       |[0.23786239813403864,0.7621376018659614] |\n",
      "|33 |unemployed|married |secondary|male  |1    |0     |0      |1     |C         |1       |1.0  |1.0       |[0.11630000515110415,0.8836999948488958] |\n",
      "|36 |unemployed|married |secondary|male  |1    |0     |1      |0     |C         |1       |1.0  |1.0       |[0.3278842725476352,0.6721157274523648]  |\n",
      "|37 |unemployed|married |secondary|male  |1    |0     |1      |1     |C         |1       |1.0  |0.0       |[0.5360504046166183,0.46394959538338165] |\n",
      "|39 |unemployed|married |secondary|male  |1    |1     |1      |1     |C         |1       |1.0  |1.0       |[0.4662120593542945,0.5337879406457056]  |\n",
      "|41 |unemployed|married |secondary|male  |1    |1     |0      |1     |C         |1       |1.0  |1.0       |[0.3289067485536263,0.6710932514463737]  |\n",
      "|44 |unemployed|married |secondary|male  |1    |1     |0      |0     |C         |1       |1.0  |1.0       |[0.2539298721468575,0.7460701278531425]  |\n",
      "|46 |unemployed|married |secondary|male  |1    |1     |0      |1     |C         |1       |1.0  |1.0       |[0.19087176659870997,0.80912823340129]   |\n",
      "|47 |unemployed|married |secondary|male  |0    |1     |1      |0     |C         |1       |1.0  |1.0       |[0.08007293336295843,0.9199270666370416] |\n",
      "|48 |unemployed|married |secondary|male  |1    |1     |0      |1     |C         |1       |1.0  |1.0       |[0.06932865384110155,0.9306713461588985] |\n",
      "|52 |unemployed|married |secondary|male  |0    |1     |1      |0     |C         |1       |1.0  |1.0       |[0.07786391873680856,0.9221360812631915] |\n",
      "|55 |unemployed|married |secondary|male  |0    |1     |1      |0     |C         |1       |1.0  |1.0       |[0.07786391873680856,0.9221360812631915] |\n",
      "|39 |unemployed|married |tertiary |male  |0    |1     |1      |0     |C         |1       |1.0  |1.0       |[0.2557572031881572,0.7442427968118428]  |\n",
      "|43 |unemployed|married |tertiary |male  |1    |1     |1      |1     |C         |1       |1.0  |0.0       |[0.5354353125575129,0.46456468744248713] |\n",
      "|49 |unemployed|married |primary  |female|1    |0     |1      |0     |C         |1       |1.0  |1.0       |[0.0906475064923992,0.9093524935076008]  |\n",
      "|52 |unemployed|married |primary  |female|0    |1     |1      |1     |C         |1       |1.0  |1.0       |[0.06356125578539437,0.9364387442146056] |\n",
      "|52 |unemployed|married |primary  |female|1    |1     |0      |1     |C         |1       |1.0  |1.0       |[0.06767165331926452,0.9323283466807355] |\n",
      "|56 |unemployed|married |primary  |female|1    |1     |0      |0     |C         |1       |1.0  |1.0       |[0.08527848053332088,0.9147215194666791] |\n",
      "|55 |unemployed|married |primary  |male  |1    |0     |0      |0     |C         |1       |1.0  |1.0       |[0.0469026892695719,0.9530973107304281]  |\n",
      "|32 |unemployed|married |unknown  |male  |0    |0     |0      |1     |C         |1       |1.0  |1.0       |[0.0858227054068968,0.9141772945931033]  |\n",
      "|26 |unemployed|single  |secondary|female|0    |1     |1      |0     |C         |1       |1.0  |1.0       |[0.08548042541188094,0.914519574588119]  |\n",
      "|29 |unemployed|single  |secondary|female|1    |0     |1      |0     |C         |1       |1.0  |1.0       |[0.0868428294620198,0.9131571705379802]  |\n",
      "|29 |unemployed|single  |secondary|female|1    |1     |0      |0     |C         |1       |1.0  |1.0       |[0.03098259496489567,0.9690174050351044] |\n",
      "|54 |unemployed|single  |secondary|female|0    |1     |1      |1     |C         |1       |1.0  |1.0       |[0.08880899856944113,0.9111910014305589] |\n",
      "|26 |unemployed|single  |secondary|male  |0    |0     |0      |1     |C         |1       |1.0  |1.0       |[0.13577748215900326,0.8642225178409968] |\n",
      "|27 |unemployed|single  |secondary|male  |0    |1     |1      |0     |C         |1       |1.0  |1.0       |[0.08775329554498146,0.9122467044550185] |\n",
      "|30 |unemployed|single  |secondary|male  |0    |0     |1      |0     |C         |1       |1.0  |1.0       |[0.0959320736964302,0.9040679263035698]  |\n",
      "|30 |unemployed|single  |secondary|male  |1    |1     |0      |1     |C         |1       |1.0  |1.0       |[0.1508091325595983,0.8491908674404017]  |\n",
      "|35 |unemployed|single  |secondary|male  |1    |1     |0      |0     |C         |1       |1.0  |1.0       |[0.040932097353561424,0.9590679026464386]|\n",
      "|39 |unemployed|single  |secondary|male  |1    |1     |0      |1     |C         |1       |1.0  |1.0       |[0.2368574222708351,0.7631425777291649]  |\n",
      "|45 |unemployed|single  |secondary|male  |1    |1     |1      |1     |C         |1       |1.0  |1.0       |[0.3580541787889731,0.641945821211027]   |\n",
      "|50 |unemployed|single  |secondary|male  |0    |0     |0      |1     |C         |1       |1.0  |1.0       |[0.07660058326580281,0.9233994167341972] |\n",
      "|27 |unemployed|single  |tertiary |female|1    |1     |0      |0     |C         |1       |1.0  |1.0       |[0.03098259496489567,0.9690174050351044] |\n",
      "|28 |unemployed|single  |tertiary |female|1    |1     |1      |0     |C         |1       |1.0  |1.0       |[0.08775329554498146,0.9122467044550185] |\n",
      "|31 |unemployed|single  |tertiary |female|0    |1     |0      |0     |C         |1       |1.0  |1.0       |[0.03098259496489567,0.9690174050351044] |\n",
      "|33 |unemployed|single  |tertiary |female|1    |1     |0      |1     |C         |1       |1.0  |1.0       |[0.11742140853278422,0.8825785914672157] |\n",
      "|40 |unemployed|single  |tertiary |female|0    |1     |1      |0     |C         |1       |1.0  |1.0       |[0.12639509357631748,0.8736049064236825] |\n",
      "|41 |unemployed|single  |tertiary |female|1    |0     |0      |1     |C         |1       |1.0  |1.0       |[0.41741495730373823,0.5825850426962618] |\n",
      "|26 |unemployed|single  |tertiary |male  |1    |0     |0      |0     |C         |1       |1.0  |1.0       |[0.037483636861991264,0.9625163631380087]|\n",
      "|29 |unemployed|single  |tertiary |male  |1    |0     |0      |1     |C         |1       |1.0  |1.0       |[0.13944968940601726,0.8605503105939827] |\n",
      "|29 |unemployed|single  |tertiary |male  |1    |1     |0      |1     |C         |1       |1.0  |1.0       |[0.1508091325595983,0.8491908674404017]  |\n",
      "|29 |unemployed|single  |tertiary |male  |1    |1     |0      |1     |C         |1       |1.0  |1.0       |[0.1508091325595983,0.8491908674404017]  |\n",
      "|30 |unemployed|single  |tertiary |male  |1    |1     |0      |0     |C         |1       |1.0  |1.0       |[0.040932097353561424,0.9590679026464386]|\n",
      "|35 |unemployed|single  |tertiary |male  |1    |0     |0      |0     |C         |1       |1.0  |1.0       |[0.0413750977857763,0.9586249022142237]  |\n",
      "|35 |unemployed|single  |tertiary |male  |1    |1     |0      |0     |C         |1       |1.0  |1.0       |[0.040932097353561424,0.9590679026464386]|\n",
      "|37 |unemployed|single  |tertiary |male  |1    |0     |0      |0     |C         |1       |1.0  |1.0       |[0.0725745620561054,0.9274254379438946]  |\n",
      "|40 |unemployed|single  |tertiary |male  |1    |0     |1      |0     |C         |1       |1.0  |1.0       |[0.0882787230588106,0.9117212769411894]  |\n",
      "|54 |unemployed|single  |tertiary |male  |0    |1     |1      |0     |C         |1       |1.0  |1.0       |[0.041736435201040645,0.9582635647989594]|\n",
      "|25 |unemployed|single  |primary  |female|0    |0     |1      |0     |C         |1       |1.0  |1.0       |[0.0787967333854511,0.9212032666145489]  |\n",
      "|28 |unemployed|single  |primary  |female|0    |0     |0      |1     |C         |1       |1.0  |1.0       |[0.10578791207957086,0.8942120879204292] |\n",
      "|29 |unemployed|single  |primary  |female|1    |0     |0      |0     |C         |1       |1.0  |1.0       |[0.027644757466495955,0.972355242533504] |\n",
      "|23 |unemployed|single  |primary  |male  |0    |0     |0      |0     |C         |1       |1.0  |1.0       |[0.03392459762771221,0.9660754023722878] |\n",
      "|41 |unemployed|single  |primary  |male  |1    |0     |1      |1     |C         |1       |1.0  |1.0       |[0.41636346588774154,0.5836365341122585] |\n",
      "|43 |unemployed|single  |primary  |male  |1    |1     |1      |1     |C         |1       |1.0  |1.0       |[0.40993543603536353,0.5900645639646365] |\n",
      "|45 |unemployed|single  |primary  |male  |1    |1     |1      |0     |C         |1       |1.0  |1.0       |[0.057501405932517395,0.9424985940674826]|\n",
      "|55 |unemployed|single  |primary  |male  |0    |1     |1      |1     |C         |1       |1.0  |1.0       |[0.038105317626496486,0.9618946823735035]|\n",
      "|36 |unemployed|divorced|secondary|female|1    |0     |0      |1     |C         |1       |1.0  |1.0       |[0.40557514664663374,0.5944248533533663] |\n",
      "|38 |unemployed|divorced|secondary|female|0    |1     |0      |1     |C         |1       |1.0  |0.0       |[0.7057773992666326,0.29422260073336737] |\n",
      "|40 |unemployed|divorced|secondary|male  |1    |0     |0      |0     |C         |1       |1.0  |1.0       |[0.25981923196549056,0.7401807680345094] |\n",
      "|40 |unemployed|divorced|secondary|male  |1    |0     |1      |0     |C         |1       |1.0  |1.0       |[0.2567887588736892,0.7432112411263108]  |\n",
      "|42 |unemployed|divorced|secondary|male  |0    |1     |1      |1     |C         |1       |1.0  |1.0       |[0.4602525664224589,0.5397474335775412]  |\n",
      "|47 |unemployed|divorced|secondary|male  |1    |0     |0      |0     |C         |1       |1.0  |0.0       |[0.7110646105191369,0.28893538948086306] |\n",
      "|48 |unemployed|divorced|secondary|male  |1    |0     |0      |0     |C         |1       |1.0  |0.0       |[0.7110646105191369,0.28893538948086306] |\n",
      "|51 |unemployed|divorced|secondary|male  |1    |0     |0      |0     |C         |1       |1.0  |0.0       |[0.7047845181552421,0.2952154818447579]  |\n",
      "|54 |unemployed|divorced|secondary|male  |1    |0     |0      |0     |C         |1       |1.0  |0.0       |[0.7047845181552421,0.2952154818447579]  |\n",
      "|55 |unemployed|divorced|secondary|male  |1    |0     |1      |1     |C         |1       |1.0  |0.0       |[0.63520465463724,0.36479534536276004]   |\n",
      "|37 |unemployed|divorced|tertiary |female|0    |1     |0      |1     |C         |1       |1.0  |0.0       |[0.7057773992666326,0.29422260073336737] |\n",
      "|31 |unknown   |married |secondary|male  |0    |1     |0      |1     |C         |1       |1.0  |1.0       |[0.09098696362057433,0.9090130363794257] |\n",
      "|77 |unknown   |married |unknown  |female|1    |1     |0      |1     |C         |1       |1.0  |1.0       |[0.0436465214272932,0.9563534785727068]  |\n",
      "|57 |unknown   |married |unknown  |male  |1    |0     |1      |1     |C         |1       |1.0  |1.0       |[0.06586441576300228,0.9341355842369977] |\n",
      "|58 |unknown   |married |unknown  |male  |1    |0     |1      |0     |C         |1       |1.0  |1.0       |[0.039070215855040495,0.9609297841449596]|\n",
      "|28 |unknown   |single  |secondary|male  |1    |1     |0      |0     |C         |1       |1.0  |1.0       |[0.040932097353561424,0.9590679026464386]|\n",
      "|38 |unknown   |single  |tertiary |female|0    |0     |1      |1     |C         |1       |1.0  |0.0       |[0.5311910250985219,0.4688089749014781]  |\n",
      "|41 |unknown   |single  |tertiary |male  |1    |0     |1      |0     |C         |1       |1.0  |1.0       |[0.0882787230588106,0.9117212769411894]  |\n",
      "|30 |unknown   |single  |unknown  |female|1    |1     |1      |0     |C         |1       |1.0  |1.0       |[0.06106810452896962,0.9389318954710304] |\n",
      "|41 |unknown   |single  |unknown  |female|1    |1     |1      |1     |C         |1       |1.0  |1.0       |[0.42366834797033126,0.5763316520296687] |\n",
      "|39 |unknown   |single  |unknown  |male  |0    |0     |1      |0     |C         |1       |1.0  |1.0       |[0.06667834631930046,0.9333216536806995] |\n",
      "+---+----------+--------+---------+------+-----+------+-------+------+----------+--------+-----+----------+-----------------------------------------+\n",
      "\n"
     ]
    }
   ],
   "source": [
    "boosting_predictions.select(*predict_cols).where(col(\"risk_label\") == \"C\").show(1000, False)"
   ]
  }
 ],
 "metadata": {
  "kernelspec": {
   "display_name": "Python 3",
   "language": "python",
   "name": "python3"
  },
  "language_info": {
   "codemirror_mode": {
    "name": "ipython",
    "version": 3
   },
   "file_extension": ".py",
   "mimetype": "text/x-python",
   "name": "python",
   "nbconvert_exporter": "python",
   "pygments_lexer": "ipython3",
   "version": "3.6.9"
  }
 },
 "nbformat": 4,
 "nbformat_minor": 2
}
