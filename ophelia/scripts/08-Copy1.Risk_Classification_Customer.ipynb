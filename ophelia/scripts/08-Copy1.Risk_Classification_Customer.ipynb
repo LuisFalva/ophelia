{
 "cells": [
  {
   "cell_type": "code",
   "execution_count": 1,
   "metadata": {},
   "outputs": [],
   "source": [
    "from collections import defaultdict, Counter\n",
    "from pyspark.sql.functions import lit, col, round as spark_round, sum as spark_sum"
   ]
  },
  {
   "cell_type": "code",
   "execution_count": 2,
   "metadata": {},
   "outputs": [],
   "source": [
    "from enquire.vendetta import Ophelia"
   ]
  },
  {
   "cell_type": "code",
   "execution_count": 3,
   "metadata": {},
   "outputs": [],
   "source": [
    "def factor_weights(gender, age, education, occupation, marital):\n",
    "    return [gender, age, education, occupation, marital]"
   ]
  },
  {
   "cell_type": "code",
   "execution_count": 4,
   "metadata": {},
   "outputs": [
    {
     "data": {
      "text/plain": [
       "1.0"
      ]
     },
     "execution_count": 4,
     "metadata": {},
     "output_type": "execute_result"
    }
   ],
   "source": [
    "W = factor_weights(\n",
    "    gender=0.21,\n",
    "    age=0.49,\n",
    "    education=0.16,\n",
    "    occupation=0.09,\n",
    "    marital=0.05\n",
    ")\n",
    "sum(W)"
   ]
  },
  {
   "cell_type": "code",
   "execution_count": 5,
   "metadata": {},
   "outputs": [
    {
     "name": "stdout",
     "output_type": "stream",
     "text": [
      "\n",
      "========================================================================\n",
      "-Ophelia: ¡Hullo! My Name Is Ophelia, I Am Pleased To Meet You     [...]\n",
      "-Ophelia: I Am An Artificial Assistant For Intelligent Investment  [...]\n",
      "-Ophelia: Welcome To Your Asset Allocation System                  [...]\n",
      "\n",
      "\n",
      "-Ophelia: V For VenData                                            [...]\n",
      "========================================================================\n",
      "\n",
      "                    - By. Vendetta Gentleman Club -                     \n",
      "\n",
      "                         - Author. @LuisFalva -                         \n",
      "\n",
      "      █ █ █ █ █ █ █ █ █ █ █ █ █ █ █ █ █ █ █ █ █ █ █ █ █ █ █ █ █ █ █\n",
      "      █ █ █ █ ╬ ╬ ╬ ╬ ╬ ╬ ╬ ╬ ╬ ╬ ╬ ╬ ╬ ╬ ╬ ╬ ╬ ╬ ╬ ╬ ╬ ╬ ╬ █ █ █ █\n",
      "      █ █ ╬ ╬ ╬ ╬ ╬ ╬ ╬ ╬ ╬ ╬ ╬ ╬ ╬ ╬ ╬ ╬ ╬ ╬ ╬ ╬ ╬ ╬ ╬ ╬ ╬ ╬ ╬ █ █\n",
      "      █ ╬ ╬ ╬ ╬ ╬ ╬ ╬ ╬ ╬ ╬ ╬ ╬ ╬ ╬ ╬ ╬ ╬ ╬ ╬ ╬ ╬ ╬ ╬ ╬ ╬ ╬ ╬ ╬ ╬ █\n",
      "      █ ╬ ╬ ╬ █ █ █ █ █ █ █ ╬ ╬ ╬ ╬ ╬ ╬ ╬ ╬ ╬ █ █ █ █ █ █ █ ╬ ╬ ╬ █\n",
      "      █ ╬ ╬ █ █ ╬ ╬ ╬ ╬ █ █ █ ╬ ╬ ╬ ╬ ╬ ╬ ╬ █ █ █ ╬ ╬ ╬ ╬ █ █ ╬ ╬ █\n",
      "      █ ╬ █ █ ╬ ╬ ╬ ╬ ╬ ╬ ╬ █ █ ╬ ╬ ╬ ╬ ╬ █ █ ╬ ╬ ╬ ╬ ╬ ╬ ╬ █ █ ╬ █\n",
      "      █ ╬ ╬ ╬ ╬ ╬ ╬ ╬ ╬ ╬ ╬ ╬ ╬ ╬ ╬ ╬ ╬ ╬ ╬ ╬ ╬ ╬ ╬ ╬ ╬ ╬ ╬ ╬ ╬ ╬ █\n",
      "      █ ╬ ╬ ╬ ╬ █ █ █ █ █ ╬ ╬ ╬ ╬ ╬ ╬ ╬ ╬ ╬ ╬ ╬ █ █ █ █ █ ╬ ╬ ╬ ╬ █\n",
      "      █ ╬ ╬ █ █ █ █ █ █ █ █ █ ╬ ╬ ╬ ╬ ╬ ╬ ╬ █ █ █ █ █ █ █ █ █ ╬ ╬ █\n",
      "      █ ╬ ╬ ╬ ╬ ╬ ╬ ╬ ╬ ╬ ╬ ╬ ╬ ╬ ╬ ╬ ╬ ╬ ╬ ╬ ╬ ╬ ╬ ╬ ╬ ╬ ╬ ╬ ╬ ╬ █\n",
      "      █ ╬ ╬ ╬ ╬ ╬ ╬ ╬ ╬ ╬ ╬ ╬ ╬ ╬ ╬ █ ╬ ╬ ╬ ╬ ╬ ╬ ╬ ╬ ╬ ╬ ╬ ╬ ╬ ╬ █\n",
      "      █ ╬ ╬ ╬ ╬ ╬ ╬ ╬ ╬ ╬ ╬ ╬ ╬ ╬ ╬ █ ╬ ╬ ╬ ╬ ╬ ╬ ╬ ╬ ╬ ╬ ╬ ╬ ╬ ╬ █\n",
      "      █ ╬ ╬ ╬ ╬ ╬ ╬ ╬ ╬ ╬ ╬ ╬ ╬ ╬ ╬ █ ╬ ╬ ╬ ╬ ╬ ╬ ╬ ╬ ╬ ╬ ╬ ╬ ╬ ╬ █\n",
      "      █ ╬ ╬ ╬ ▓ ▓ ▓ ▓ ╬ ╬ ╬ ╬ ╬ ╬ ╬ █ ╬ ╬ ╬ ╬ ╬ ╬ ╬ ▓ ▓ ▓ ▓ ╬ ╬ ╬ █\n",
      "      █ ╬ ╬ ▓ ▓ ▓ ▓ ▓ ▓ ╬ ╬ █ ╬ ╬ ╬ █ ╬ ╬ ╬ █ ╬ ╬ ▓ ▓ ▓ ▓ ▓ ▓ ╬ ╬ █\n",
      "      █ ╬ ╬ ╬ ▓ ▓ ▓ ▓ ╬ ╬ █ █ ╬ ╬ ╬ █ ╬ ╬ ╬ █ █ ╬ ╬ ▓ ▓ ▓ ▓ ╬ ╬ ╬ █\n",
      "      █ ╬ ╬ ╬ ╬ ╬ ╬ ╬ ╬ █ █ ╬ ╬ ╬ ╬ █ ╬ ╬ ╬ ╬ █ █ ╬ ╬ ╬ ╬ ╬ ╬ ╬ ╬ █\n",
      "      █ ╬ ╬ ╬ ╬ ╬ █ █ █ █ ╬ ╬ ╬ ╬ █ █ █ ╬ ╬ ╬ ╬ █ █ █ █ ╬ ╬ ╬ ╬ ╬ █\n",
      "      █ ╬ ╬ ╬ ╬ ╬ ╬ ╬ ╬ ╬ ╬ ╬ ╬ ╬ █ █ █ ╬ ╬ ╬ ╬ ╬ ╬ ╬ ╬ ╬ ╬ ╬ ╬ ╬ █\n",
      "      █ █ ╬ ╬ █ ╬ ╬ ╬ ╬ ╬ ╬ ╬ ╬ █ █ █ █ █ ╬ ╬ ╬ ╬ ╬ ╬ ╬ ╬ █ ╬ ╬ █ █\n",
      "      █ █ ╬ ╬ █ █ ╬ ╬ ╬ ╬ ╬ ╬ █ █ █ █ █ █ █ ╬ ╬ ╬ ╬ ╬ ╬ █ █ ╬ ╬ █ █\n",
      "      █ █ ╬ ╬ ▓ █ █ █ ╬ ╬ ╬ █ █ █ █ ╬ █ █ █ █ ╬ ╬ ╬ █ █ █ ▓ ╬ ╬ █ █\n",
      "      █ █ █ ╬ ╬ ▓ ▓ █ █ █ █ █ █ █ ╬ ╬ ╬ █ █ █ █ █ █ █ ▓ ▓ ╬ ╬ █ █ █\n",
      "      █ █ █ ╬ ╬ ╬ ╬ ▓ ▓ ▓ ▓ ▓ ▓ ▓ ▓ ▓ ▓ ▓ ▓ ▓ ▓ ▓ ▓ ▓ ╬ ╬ ╬ ╬ █ █ █\n",
      "      █ █ █ █ ╬ ╬ ╬ ╬ ╬ ╬ ╬ ╬ ╬ ╬ █ █ █ ╬ ╬ ╬ ╬ ╬ ╬ ╬ ╬ ╬ ╬ █ █ █ █\n",
      "      █ █ █ █ █ ╬ ╬ ╬ ╬ ╬ ╬ ╬ ╬ ╬ ╬ █ ╬ ╬ ╬ ╬ ╬ ╬ ╬ ╬ ╬ ╬ █ █ █ █ █\n",
      "      █ █ █ █ █ █ ╬ ╬ ╬ ╬ ╬ ╬ ╬ ╬ █ █ █ ╬ ╬ ╬ ╬ ╬ ╬ ╬ ╬ █ █ █ █ █ █\n",
      "      █ █ █ █ █ █ █ ╬ ╬ ╬ ╬ ╬ ╬ ╬ █ █ █ ╬ ╬ ╬ ╬ ╬ ╬ ╬ █ █ █ █ █ █ █\n",
      "      █ █ █ █ █ █ █ █ ╬ ╬ ╬ ╬ ╬ ╬ █ █ █ ╬ ╬ ╬ ╬ ╬ ╬ █ █ █ █ █ █ █ █\n",
      "      █ █ █ █ █ █ █ █ █ ╬ ╬ ╬ ╬ ╬ █ █ █ ╬ ╬ ╬ ╬ ╬ █ █ █ █ █ █ █ █ █\n",
      "      █ █ █ █ █ █ █ █ █ █ █ ╬ ╬ ╬ ╬ █ ╬ ╬ ╬ ╬ █ █ █ █ █ █ █ █ █ █ █\n",
      "      █ █ █ █ █ █ █ █ █ █ █ █ █ █ █ █ █ █ █ █ █ █ █ █ █ █ █ █ █ █ █\n",
      "\n",
      "========================================================================\n",
      "-Ophelia[INFO]: Initializing Spark Session [...]\n",
      "-Ophelia[INFO]: Spark Session Initialized, Version: 2.4.5 [...]\n",
      "-Ophelia[WARN]: Please, Be Aware To Set App Name Next Time [...]\n",
      "========================================================================\n",
      "-Ophelia[INFO]: Initializing Spark Context [...]\n",
      "-Ophelia[INFO]: Spark Context Initialized Successfully [...]\n",
      "========================================================================\n"
     ]
    }
   ],
   "source": [
    "ophelia = Ophelia(W=W)"
   ]
  },
  {
   "cell_type": "code",
   "execution_count": 6,
   "metadata": {},
   "outputs": [],
   "source": [
    "class CustomerObject(object):\n",
    "    \n",
    "    def __init__(self, gender, age, marital, education, job):\n",
    "        \"\"\"\n",
    "        Constructor object for input parameters.\n",
    "        :param NAME_PARAM: \"DESCRIPTION HERE\"        \n",
    "       \"\"\"\n",
    "        self.gender = gender\n",
    "        self.age = age\n",
    "        self.marital = marital\n",
    "        self.education = education\n",
    "        self.job = job"
   ]
  },
  {
   "cell_type": "code",
   "execution_count": null,
   "metadata": {},
   "outputs": [],
   "source": [
    "def collect_data_structure(customer_object):\n",
    "    key = ophelia.key\n",
    "    customer_tree = ophelia.demograph.tree_generator(customer_object)\n",
    "    compute_probability = ophelia.demograph.probability_label(customer_tree)\n",
    "    new_structure = []\n",
    "    for k in compute_probability:\n",
    "        new_structure.append(\n",
    "            {key.gender: customer_object.gender,\n",
    "             key.age: customer_object.age,\n",
    "             key.education: customer_object.education,\n",
    "             key.marital: customer_object.marital,\n",
    "             key.occupation: customer_object.job,\n",
    "             key.prob: compute_probability[k],\n",
    "             key.risk_label: k})\n",
    "    return new_structure"
   ]
  },
  {
   "cell_type": "code",
   "execution_count": null,
   "metadata": {},
   "outputs": [],
   "source": [
    "def object_to_dataframe(customer_object):\n",
    "    key = ophelia.key\n",
    "    new_customer_structure = collect_data_structure(customer_object)\n",
    "    new_customer_df = ophelia.spark.createDataFrame(new_customer_structure)\n",
    "    return new_customer_df.withColumn(key.id, lit(key.index))\n",
    "\n",
    "def tree_to_dataframe(customer_object):\n",
    "    tree_object = ophelia.demograph.tree_generator(customer_object)\n",
    "    customer_tree_df = ophelia.spark.createDataFrame(tree_object)\n",
    "    return customer_tree_df"
   ]
  },
  {
   "cell_type": "code",
   "execution_count": null,
   "metadata": {},
   "outputs": [],
   "source": [
    "def join_tree(tree_df, structure_df, how=\"left\"):\n",
    "    key = ophelia.key\n",
    "    join_tree_customer = tree_df\\\n",
    "    .join(structure_df, on=key.risk_label, how=how)\\\n",
    "    .select(\"*\", (col(key.weight) * col(key.prob)).alias(key.weighted_prob))\\\n",
    "    .select(\"*\", (col(key.vote) + col(key.weighted_prob)).alias(key.final_vote))\n",
    "    return join_tree_customer\n",
    "\n",
    "def group_tree(join_df):\n",
    "    key = ophelia.key\n",
    "    group_tree_customer = join_df\\\n",
    "    .groupBy(key.grouping)\\\n",
    "    .agg(spark_round(spark_sum(key.final_vote)).alias(key.final_vote),\n",
    "         spark_sum(key.vote).alias(key.vote),\n",
    "         spark_sum(key.weight).alias(key.weight),\n",
    "         spark_sum(key.prob).alias(key.prob),\n",
    "         spark_sum(key.weighted_prob).alias(key.weighted_prob))\n",
    "    return group_tree_customer\n",
    "\n",
    "def filter_max_vote(group_df):\n",
    "    key = ophelia.key\n",
    "    max_filter_vote = group_df.groupBy().agg({key.vote: \"max\"}).collect()[0][0]\n",
    "    max_vote = group_df.where(col(key.vote) == max_filter_vote)\n",
    "    max_filter_weight = max_vote.groupBy().agg({key.weight: \"max\"}).collect()[0][0]\n",
    "    customer_df = max_vote.where(col(key.weight) == max_filter_weight)\n",
    "    return customer_df"
   ]
  },
  {
   "cell_type": "markdown",
   "metadata": {},
   "source": [
    "**=================================================================== METODO MAIN ====================================================================**"
   ]
  },
  {
   "cell_type": "code",
   "execution_count": null,
   "metadata": {},
   "outputs": [],
   "source": [
    "def create_risk_class(person):\n",
    "    new_customer_df = object_to_dataframe(person)\n",
    "    tree_df = tree_to_dataframe(person)\n",
    "    join_tree_customer = join_tree(tree_df, new_customer_df)\n",
    "    group_tree_customer = group_tree(join_tree_customer)\n",
    "    customer_df = filter_max_vote(group_tree_customer)\n",
    "    return customer_df"
   ]
  },
  {
   "cell_type": "markdown",
   "metadata": {},
   "source": [
    "**================================================================== CASOS TEST F&F ==================================================================**"
   ]
  },
  {
   "cell_type": "code",
   "execution_count": 7,
   "metadata": {},
   "outputs": [],
   "source": [
    "Luis = CustomerObject(\n",
    "    gender=\"male\",\n",
    "    age=30,\n",
    "    education=\"bachelor\",\n",
    "    marital=\"married\",\n",
    "    job=\"employee\"\n",
    ")"
   ]
  },
  {
   "cell_type": "code",
   "execution_count": 8,
   "metadata": {},
   "outputs": [
    {
     "data": {
      "text/plain": [
       "[{'vote': 1, 'weight': 0.09958602599250237, 'risk_label': 'A'},\n",
       " {'vote': 1, 'weight': 0.005163691320346524, 'risk_label': 'A'},\n",
       " {'vote': 1, 'weight': 0.14401142926954083, 'risk_label': 'MA'},\n",
       " {'vote': 1, 'weight': 0.3251857140491525, 'risk_label': 'MA'},\n",
       " {'vote': 1, 'weight': 0.42605313936845784, 'risk_label': 'MA'}]"
      ]
     },
     "execution_count": 8,
     "metadata": {},
     "output_type": "execute_result"
    }
   ],
   "source": [
    "test_tree = ophelia.demograph.tree_generator(Luis)\n",
    "test_tree"
   ]
  },
  {
   "cell_type": "code",
   "execution_count": null,
   "metadata": {},
   "outputs": [],
   "source": [
    "tree_test = [(0.3879590227402336, 'A', 1),\n",
    "             (0.012391383543770888, 'A', 1),\n",
    "             (0.26102554704240866, 'MA', 1),\n",
    "             (0.26562465382106204, 'MA', 1),\n",
    "             (0.07299939285252478, 'MA', 1)]\n",
    "tree_test"
   ]
  },
  {
   "cell_type": "code",
   "execution_count": 9,
   "metadata": {},
   "outputs": [],
   "source": [
    "def filter_dict(dic):\n",
    "    filter_dic = {}\n",
    "    for item in dic:\n",
    "        if dic[item] > 0:\n",
    "            filter_dic[item] = dic[item]\n",
    "    return filter_dic"
   ]
  },
  {
   "cell_type": "code",
   "execution_count": 10,
   "metadata": {},
   "outputs": [],
   "source": [
    "def groupBy_key(tree, key, a=0, ma=0, m=0, mc=0, c=0, counter=0):\n",
    "    for item in tree:\n",
    "        counter += tree.count(item) \n",
    "        if item[\"risk_label\"] == \"A\":\n",
    "            a += item[key]\n",
    "        elif item[\"risk_label\"] == \"MA\":\n",
    "            ma += item[key]\n",
    "        elif item[\"risk_label\"] == \"M\":\n",
    "            m += item[key]\n",
    "        elif item[\"risk_label\"] == \"MC\":\n",
    "            mc += item[key]\n",
    "        elif item[\"risk_label\"] == \"C\":\n",
    "            c += item[key]\n",
    "    return filter_dict({\"A\": a, \"MA\": ma, \"M\": m, \"MC\": mc, \"C\": c, \"tot\": counter})"
   ]
  },
  {
   "cell_type": "code",
   "execution_count": 11,
   "metadata": {},
   "outputs": [],
   "source": [
    "def prob_label(dic, a=0, ma=0, m=0, mc=0, c=0):\n",
    "    for item in dic:\n",
    "        if item == \"A\":\n",
    "            a = dic[item] / dic[\"tot\"]\n",
    "        elif item == \"MA\":\n",
    "            ma = dic[item] / dic[\"tot\"]\n",
    "        elif item == \"M\":\n",
    "            m = dic[item] / dic[\"tot\"]\n",
    "        elif item == \"MC\":\n",
    "            mc = dic[item] / dic[\"tot\"]\n",
    "        elif item == \"C\":\n",
    "            c = dic[item] / dic[\"tot\"]\n",
    "    return filter_dict({\"A\": a, \"MA\": ma, \"M\": m, \"MC\": mc, \"C\": c})"
   ]
  },
  {
   "cell_type": "code",
   "execution_count": 12,
   "metadata": {},
   "outputs": [],
   "source": [
    "def solver(w):\n",
    "    N = len(w)-1\n",
    "    if N is 0:\n",
    "        return float(1.0)\n",
    "    return float(1 / N)"
   ]
  },
  {
   "cell_type": "code",
   "execution_count": 14,
   "metadata": {},
   "outputs": [],
   "source": [
    "def truncate(x, threshold=0.6, truncate=0.5):\n",
    "    return round(x - threshold + truncate)"
   ]
  },
  {
   "cell_type": "code",
   "execution_count": 15,
   "metadata": {},
   "outputs": [],
   "source": [
    "def matmul_dict(weight, prob, w_a=0, w_ma=0, w_m=0, w_mc=0, w_c=0):\n",
    "    for item in weight:\n",
    "        if item == \"A\":\n",
    "            w_a = (weight[item] * prob[item]) + weight[item]\n",
    "        elif item == \"MA\":\n",
    "            w_ma = (weight[item] * prob[item]) + weight[item]\n",
    "        elif item == \"M\":\n",
    "            w_m = (weight[item] * prob[item]) + weight[item]\n",
    "        elif item == \"MC\":\n",
    "            w_mc = (weight[item] * prob[item]) + weight[item]\n",
    "        elif item == \"C\":\n",
    "            w_c = (weight[item] * prob[item]) + weight[item]\n",
    "    return filter_dict({\"A\": w_a, \"MA\": w_ma, \"M\": w_m, \"MC\": w_mc, \"C\": w_c})"
   ]
  },
  {
   "cell_type": "code",
   "execution_count": 16,
   "metadata": {},
   "outputs": [],
   "source": [
    "def result(dot, freq, w_a=0, w_ma=0, w_m=0, w_mc=0, w_c=0):\n",
    "    for item in dot:\n",
    "        if item == \"A\":\n",
    "            w_a = truncate(dot[item] + freq[item])\n",
    "        elif item == \"MA\":\n",
    "            w_ma = truncate(dot[item] + freq[item])\n",
    "        elif item == \"M\":\n",
    "            w_m = truncate(dot[item] + freq[item])\n",
    "        elif item == \"MC\":\n",
    "            w_mc = truncate(dot[item] + freq[item])\n",
    "        elif item == \"C\":\n",
    "            w_c = truncate(dot[item] + freq[item])\n",
    "    return filter_dict({\"A\": w_a, \"MA\": w_ma, \"M\": w_m, \"MC\": w_mc, \"C\": w_c})"
   ]
  },
  {
   "cell_type": "code",
   "execution_count": 17,
   "metadata": {},
   "outputs": [],
   "source": [
    "def assign_label(dic):\n",
    "    if len(dic) is 0:\n",
    "        return str(\"null\")\n",
    "    return str(max(dic))"
   ]
  },
  {
   "cell_type": "code",
   "execution_count": 18,
   "metadata": {},
   "outputs": [],
   "source": [
    "def run_classification_risk(tree):\n",
    "    aggregate_weight = groupBy_key(tree, \"weight\")\n",
    "    label_frequency = groupBy_key(tree, \"vote\")\n",
    "    label_probability = prob_label(label_frequency)\n",
    "    dot = matmul_dict(aggregate_weight, label_probability)\n",
    "    final_vote = result(dot, label_frequency)\n",
    "    return assign_label(final_vote)"
   ]
  },
  {
   "cell_type": "code",
   "execution_count": 19,
   "metadata": {},
   "outputs": [
    {
     "data": {
      "text/plain": [
       "'MA'"
      ]
     },
     "execution_count": 19,
     "metadata": {},
     "output_type": "execute_result"
    }
   ],
   "source": [
    "run_classification_risk(test_tree)"
   ]
  },
  {
   "cell_type": "code",
   "execution_count": null,
   "metadata": {},
   "outputs": [],
   "source": [
    "class ClassificationEngine:    \n",
    "    \n",
    "    def __compute(dataset, dic, key):\n",
    "        weight = dic[key][\"weight\"]\n",
    "        vote = dic[key][\"vote\"]\n",
    "        N = sum(data['vote'] for data in dataset)\n",
    "        return round(((weight * (vote / N)) + weight) + vote)\n",
    "\n",
    "    def compute_probability(dataset):\n",
    "        group_by_key = \"risk_label\"\n",
    "        sum_value_keys = [\"vote\", \"weight\"]\n",
    "        dic = defaultdict(Counter)\n",
    "        for item in dataset:\n",
    "            key = item[group_by_key]\n",
    "            vals = {k:item[k] for k in sum_value_keys}\n",
    "            dic[key].update(vals)\n",
    "        for key in dic:\n",
    "            dic[key] = {\n",
    "                \"vote\":dic[key][\"vote\"],\n",
    "                \"weight\":dic[key][\"weight\"],\n",
    "                \"dotp\":ClassificationEngine.__compute(dataset, dic, key)}\n",
    "        return dic"
   ]
  },
  {
   "cell_type": "code",
   "execution_count": null,
   "metadata": {},
   "outputs": [],
   "source": [
    "r = ClassificationEngine.compute_probability(test_tree)\n",
    "r"
   ]
  },
  {
   "cell_type": "code",
   "execution_count": null,
   "metadata": {},
   "outputs": [],
   "source": [
    "Bruno = CustomerObject(\n",
    "    gender=\"masculino\",\n",
    "    age=62,\n",
    "    education=\"primaria\",\n",
    "    marital=\"casado\",\n",
    "    occupation=\"retirado\"\n",
    ")\n",
    "\n",
    "create_risk_class(Bruno).show()"
   ]
  },
  {
   "cell_type": "code",
   "execution_count": null,
   "metadata": {},
   "outputs": [],
   "source": [
    "Claudia = CustomerObject(\n",
    "    gender=\"femenino\",\n",
    "    age=52,\n",
    "    education=\"media\",\n",
    "    marital=\"casado\",\n",
    "    occupation=\"hogar\"\n",
    ")\n",
    "\n",
    "create_risk_class(Claudia).show()"
   ]
  },
  {
   "cell_type": "code",
   "execution_count": null,
   "metadata": {},
   "outputs": [],
   "source": [
    "Jose = CustomerObject(\n",
    "    gender=\"masculino\",\n",
    "    age=62,\n",
    "    education=\"superior\",\n",
    "    marital=\"casado\",\n",
    "    occupation=\"retirado\"\n",
    ")\n",
    "\n",
    "create_risk_class(Jose).show()"
   ]
  },
  {
   "cell_type": "code",
   "execution_count": null,
   "metadata": {},
   "outputs": [],
   "source": [
    "Jorge = CustomerObject(\n",
    "    gender=\"masculino\",\n",
    "    age=52,\n",
    "    education=\"postgrado\",\n",
    "    marital=\"casado\",\n",
    "    occupation=\"empleado\"\n",
    ")\n",
    "\n",
    "create_risk_class(Jorge).show()"
   ]
  },
  {
   "cell_type": "code",
   "execution_count": null,
   "metadata": {},
   "outputs": [],
   "source": [
    "Javier = CustomerObject(\n",
    "    gender=\"masculino\",\n",
    "    age=48,\n",
    "    education=\"media\",\n",
    "    marital=\"casado\",\n",
    "    occupation=\"independiente\"\n",
    ")\n",
    "\n",
    "create_risk_class(Javier).show()"
   ]
  },
  {
   "cell_type": "code",
   "execution_count": null,
   "metadata": {},
   "outputs": [],
   "source": [
    "Carolina = CustomerObject(\n",
    "    gender=\"femenino\",\n",
    "    age=46,\n",
    "    education=\"superior\",\n",
    "    marital=\"casado\",\n",
    "    occupation=\"independiente\"\n",
    ")\n",
    "\n",
    "create_risk_class(Carolina).show()"
   ]
  },
  {
   "cell_type": "code",
   "execution_count": null,
   "metadata": {},
   "outputs": [],
   "source": [
    "Magu = CustomerObject(\n",
    "    gender=\"femenino\",\n",
    "    age=74,\n",
    "    education=\"secundaria\",\n",
    "    marital=\"viuda\",\n",
    "    occupation=\"retirado\"\n",
    ")\n",
    "\n",
    "create_risk_class(Magu).show()"
   ]
  },
  {
   "cell_type": "markdown",
   "metadata": {},
   "source": [
    "**================================================================== CASOS TEST H ==================================================================**"
   ]
  },
  {
   "cell_type": "code",
   "execution_count": null,
   "metadata": {},
   "outputs": [],
   "source": [
    "# viejo viril\n",
    "Hipotetico = CustomerObject(\n",
    "    gender=\"masculino\",\n",
    "    age=55,\n",
    "    education=\"superior\",\n",
    "    marital=\"casado\",\n",
    "    occupation=\"empleado\"\n",
    ")\n",
    "create_risk_class(Hipotetico).show()"
   ]
  },
  {
   "cell_type": "code",
   "execution_count": null,
   "metadata": {},
   "outputs": [],
   "source": [
    "# mujer con negocio de arreglos\n",
    "Hipotetico2 = CustomerObject(\n",
    "    gender=\"femenino\",\n",
    "    age=55,\n",
    "    education=\"superior\",\n",
    "    marital=\"casado\",\n",
    "    occupation=\"independiente\"\n",
    ")\n",
    "create_risk_class(Hipotetico2).show()"
   ]
  },
  {
   "cell_type": "code",
   "execution_count": null,
   "metadata": {},
   "outputs": [],
   "source": [
    "# CASO ATÍPICO 1\n",
    "# caso hombre con edad de triunfo pero con suerte de perro (tipo que se acaba de quedar sin chamba, liquidación? recorte?)\n",
    "Hipotetico3 = CustomerObject(\n",
    "    gender=\"masculino\",\n",
    "    age=47,\n",
    "    education=\"superior\",\n",
    "    marital=\"casado\",\n",
    "    occupation=\"desempleado\"\n",
    ")\n",
    "create_risk_class(Hipotetico3).show()"
   ]
  },
  {
   "cell_type": "code",
   "execution_count": null,
   "metadata": {},
   "outputs": [],
   "source": [
    "# caso hipster, hombre regresando de cancún con su pareja, luna de miel?\n",
    "# con un negocio propio de imprenta en la san antonio abad, estudió diseño gráfico.\n",
    "Hipotetico4 = CustomerObject(\n",
    "    gender=\"masculino\",\n",
    "    age=30,\n",
    "    education=\"superior\",\n",
    "    marital=\"casado\",\n",
    "    occupation=\"independiente\"\n",
    ")\n",
    "create_risk_class(Hipotetico4).show()"
   ]
  },
  {
   "cell_type": "code",
   "execution_count": null,
   "metadata": {},
   "outputs": [],
   "source": [
    "# caso hipster, hombre regresando de cancún con su pareja, lina de miel?\n",
    "# con un negocio propio de imprenta en la san antonio abad, estudió diseño gráfico.\n",
    "Hipotetico5 = CustomerObject(\n",
    "    gender=\"masculino\",\n",
    "    age=35,\n",
    "    education=\"secundaria\",\n",
    "    marital=\"casado\",\n",
    "    occupation=\"independiente\"\n",
    ")\n",
    "create_risk_class(Hipotetico5).show()"
   ]
  },
  {
   "cell_type": "markdown",
   "metadata": {},
   "source": [
    "**=================================================================== FINAL TEST H ===================================================================**"
   ]
  },
  {
   "cell_type": "code",
   "execution_count": 20,
   "metadata": {},
   "outputs": [],
   "source": [
    "from pyspark.sql.functions import udf, when, rand, struct, array\n",
    "from pyspark.sql.types import StringType, IntegerType, StructField, StructType, DoubleType, MapType, ArrayType"
   ]
  },
  {
   "cell_type": "code",
   "execution_count": 21,
   "metadata": {},
   "outputs": [
    {
     "name": "stdout",
     "output_type": "stream",
     "text": [
      "-Ophelia[INFO]: Reading Spark File [...]\n",
      "-Ophelia[INFO]: Read CSV Successfully From Path: data-resources/customer_banking/ [...]\n",
      "========================================================================\n"
     ]
    }
   ],
   "source": [
    "spark = ophelia.spark\n",
    "customer_banking = ophelia.mazterize.read_file(\"data-resources/customer_banking/\", \"csv\", spark)"
   ]
  },
  {
   "cell_type": "code",
   "execution_count": null,
   "metadata": {},
   "outputs": [],
   "source": [
    "from collections import defaultdict, Counter\n",
    "\n",
    "def __compute(dataset, dic, key):\n",
    "    weight = dic[key][\"weight\"]\n",
    "    vote = dic[key][\"vote\"]\n",
    "    N = sum(data['vote'] for data in dataset)\n",
    "    return round(((weight * (vote / N)) + weight) + vote)\n",
    "\n",
    "def compute_probability(obj):\n",
    "    dataset = ophelia.demograph.tree_generator(obj)\n",
    "    group_by_key = \"risk_label\"\n",
    "    sum_value_keys = [\"vote\", \"weight\"]\n",
    "    dic = defaultdict(Counter)\n",
    "    for item in dataset:\n",
    "        key = item[group_by_key]\n",
    "        vals = {k:item[k] for k in sum_value_keys}\n",
    "        dic[key].update(vals)\n",
    "    for key in dic:\n",
    "        dic[key] = {\n",
    "            \"vote\":dic[key][\"vote\"],\n",
    "            \"weight\":dic[key][\"weight\"],\n",
    "            \"dotp\":__compute(dataset, dic, key)}\n",
    "    return dict(dic)"
   ]
  },
  {
   "cell_type": "code",
   "execution_count": null,
   "metadata": {},
   "outputs": [],
   "source": [
    "Luis = CustomerObject(\n",
    "    gender=\"male\",\n",
    "    age=30,\n",
    "    education=\"bachelor\",\n",
    "    marital=\"married\",\n",
    "    job=\"employee\"\n",
    ")"
   ]
  },
  {
   "cell_type": "code",
   "execution_count": 24,
   "metadata": {},
   "outputs": [
    {
     "name": "stdout",
     "output_type": "stream",
     "text": [
      "+---+-----------+--------+---------+------+--------------------+--------------------+----------+\n",
      "|age|        job| marital|education|gender|              struct|                tree|risk_label|\n",
      "+---+-----------+--------+---------+------+--------------------+--------------------+----------+\n",
      "| 59|     admin.| married|secondary|  male|[male, 59, marrie...|[[0.0922014801652...|        MC|\n",
      "| 56|     admin.| married|secondary|  male|[male, 56, marrie...|[[0.0922014801652...|        MC|\n",
      "| 41| technician| married|secondary|  male|[male, 41, marrie...|[[0.0922014801652...|        MC|\n",
      "| 55|   services| married|secondary|  male|[male, 55, marrie...|[[0.0922014801652...|        MC|\n",
      "| 54|     admin.| married| tertiary|female|[female, 54, marr...|[[0.0922014801652...|        MC|\n",
      "| 42| management|  single| tertiary|female|[female, 42, sing...|[[0.0922014801652...|        MA|\n",
      "| 56| management| married| tertiary|female|[female, 56, marr...|[[0.0922014801652...|        MC|\n",
      "| 60|    retired|divorced|secondary|female|[female, 60, divo...|[[0.0922014801652...|        MC|\n",
      "| 37| technician| married|secondary|  male|[male, 37, marrie...|[[0.0922014801652...|        MC|\n",
      "| 28|   services|  single|secondary|female|[female, 28, sing...|[[0.0922014801652...|        MC|\n",
      "| 38|     admin.|  single|secondary|female|[female, 38, sing...|[[0.0922014801652...|        MC|\n",
      "| 30|blue-collar| married|secondary|female|[female, 30, marr...|[[0.0922014801652...|        MC|\n",
      "| 29| management| married| tertiary|female|[female, 29, marr...|[[0.0922014801652...|        MA|\n",
      "| 46|blue-collar|  single| tertiary|female|[female, 46, sing...|[[0.0922014801652...|        MA|\n",
      "| 31| technician|  single| tertiary|  male|[male, 31, single...|[[0.0922014801652...|        MA|\n",
      "| 35| management|divorced| tertiary|  male|[male, 35, divorc...|[[0.0922014801652...|        MA|\n",
      "| 32|blue-collar|  single|  primary|  male|[male, 32, single...|[[0.0922014801652...|        MA|\n",
      "| 49|   services| married|secondary|female|[female, 49, marr...|[[0.0922014801652...|        MC|\n",
      "| 41|     admin.| married|secondary|female|[female, 41, marr...|[[0.0922014801652...|        MC|\n",
      "| 49|     admin.|divorced|secondary|female|[female, 49, divo...|[[0.0922014801652...|        MC|\n",
      "+---+-----------+--------+---------+------+--------------------+--------------------+----------+\n",
      "only showing top 20 rows\n",
      "\n"
     ]
    }
   ],
   "source": [
    "schema_tree = ArrayType(StructType([StructField(\"weight\", DoubleType(), True),\n",
    "                                    StructField(\"risk_label\", StringType(), True),\n",
    "                                    StructField(\"vote\", IntegerType(), True)]))\n",
    "\n",
    "tree_generator_udf = udf(ophelia.demograph.tree_generator, schema_tree)\n",
    "classification_risk_udf = udf(run_classification_risk)\n",
    "\n",
    "test_customer_df = customer_banking.select(\"age\", \"job\", \"marital\", \"education\")\\\n",
    "                                   .withColumn(\"gender\", when(rand() > 0.5, \"male\").otherwise(\"female\"))\\\n",
    "                                   .withColumn(\"struct\", struct(col(\"gender\"), col(\"age\"), col(\"marital\"), col(\"education\"), col(\"job\")))\\\n",
    "                                   .select(\"*\", tree_generator_udf(col(\"struct\")).alias(\"tree\"))\\\n",
    "                                   .select(\"*\", classification_risk_udf(col(\"tree\")).alias(\"risk_label\"))\n",
    "test_customer_df.show()"
   ]
  },
  {
   "cell_type": "code",
   "execution_count": 25,
   "metadata": {},
   "outputs": [
    {
     "name": "stdout",
     "output_type": "stream",
     "text": [
      "root\n",
      " |-- age: integer (nullable = true)\n",
      " |-- job: string (nullable = true)\n",
      " |-- marital: string (nullable = true)\n",
      " |-- education: string (nullable = true)\n",
      " |-- gender: string (nullable = false)\n",
      " |-- struct: struct (nullable = false)\n",
      " |    |-- gender: string (nullable = false)\n",
      " |    |-- age: integer (nullable = true)\n",
      " |    |-- marital: string (nullable = true)\n",
      " |    |-- education: string (nullable = true)\n",
      " |    |-- job: string (nullable = true)\n",
      " |-- tree: array (nullable = true)\n",
      " |    |-- element: struct (containsNull = true)\n",
      " |    |    |-- weight: double (nullable = true)\n",
      " |    |    |-- risk_label: string (nullable = true)\n",
      " |    |    |-- vote: integer (nullable = true)\n",
      " |-- risk_label: string (nullable = true)\n",
      "\n"
     ]
    }
   ],
   "source": [
    "test_customer_df.printSchema()"
   ]
  }
 ],
 "metadata": {
  "kernelspec": {
   "display_name": "Python 3",
   "language": "python",
   "name": "python3"
  },
  "language_info": {
   "codemirror_mode": {
    "name": "ipython",
    "version": 3
   },
   "file_extension": ".py",
   "mimetype": "text/x-python",
   "name": "python",
   "nbconvert_exporter": "python",
   "pygments_lexer": "ipython3",
   "version": "3.6.9"
  }
 },
 "nbformat": 4,
 "nbformat_minor": 2
}
