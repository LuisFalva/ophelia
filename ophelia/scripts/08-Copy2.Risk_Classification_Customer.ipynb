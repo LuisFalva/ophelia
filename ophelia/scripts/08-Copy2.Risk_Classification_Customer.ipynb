{
 "cells": [
  {
   "cell_type": "code",
   "execution_count": 1,
   "metadata": {},
   "outputs": [],
   "source": [
    "from pyspark.sql.functions import lit, col, round as spark_round, sum as spark_sum"
   ]
  },
  {
   "cell_type": "code",
   "execution_count": 2,
   "metadata": {},
   "outputs": [],
   "source": [
    "from enquire.vendetta import Ophelia"
   ]
  },
  {
   "cell_type": "code",
   "execution_count": 3,
   "metadata": {},
   "outputs": [],
   "source": [
    "def factor_weights(gender, age, education, occupation, marital):\n",
    "    return [gender, age, education, occupation, marital]"
   ]
  },
  {
   "cell_type": "code",
   "execution_count": 4,
   "metadata": {},
   "outputs": [
    {
     "data": {
      "text/plain": [
       "1.0"
      ]
     },
     "execution_count": 4,
     "metadata": {},
     "output_type": "execute_result"
    }
   ],
   "source": [
    "W = factor_weights(\n",
    "    gender=0.21,\n",
    "    age=0.49,\n",
    "    education=0.16,\n",
    "    occupation=0.09,\n",
    "    marital=0.05\n",
    ")\n",
    "sum(W)"
   ]
  },
  {
   "cell_type": "code",
   "execution_count": 5,
   "metadata": {},
   "outputs": [
    {
     "name": "stdout",
     "output_type": "stream",
     "text": [
      "\n",
      "========================================================================\n",
      "-Ophelia: ¡Hullo! My Name Is Ophelia, I Am Pleased To Meet You     [...]\n",
      "-Ophelia: I Am An Artificial Assistant For Intelligent Investment  [...]\n",
      "-Ophelia: Welcome To Your Asset Allocation System                  [...]\n",
      "\n",
      "\n",
      "-Ophelia: V For VenData                                            [...]\n",
      "========================================================================\n",
      "\n",
      "                    - By. Vendetta Gentleman Club -                     \n",
      "\n",
      "                         - Author. @LuisFalva -                         \n",
      "\n",
      "      █ █ █ █ █ █ █ █ █ █ █ █ █ █ █ █ █ █ █ █ █ █ █ █ █ █ █ █ █ █ █\n",
      "      █ █ █ █ ╬ ╬ ╬ ╬ ╬ ╬ ╬ ╬ ╬ ╬ ╬ ╬ ╬ ╬ ╬ ╬ ╬ ╬ ╬ ╬ ╬ ╬ ╬ █ █ █ █\n",
      "      █ █ ╬ ╬ ╬ ╬ ╬ ╬ ╬ ╬ ╬ ╬ ╬ ╬ ╬ ╬ ╬ ╬ ╬ ╬ ╬ ╬ ╬ ╬ ╬ ╬ ╬ ╬ ╬ █ █\n",
      "      █ ╬ ╬ ╬ ╬ ╬ ╬ ╬ ╬ ╬ ╬ ╬ ╬ ╬ ╬ ╬ ╬ ╬ ╬ ╬ ╬ ╬ ╬ ╬ ╬ ╬ ╬ ╬ ╬ ╬ █\n",
      "      █ ╬ ╬ ╬ █ █ █ █ █ █ █ ╬ ╬ ╬ ╬ ╬ ╬ ╬ ╬ ╬ █ █ █ █ █ █ █ ╬ ╬ ╬ █\n",
      "      █ ╬ ╬ █ █ ╬ ╬ ╬ ╬ █ █ █ ╬ ╬ ╬ ╬ ╬ ╬ ╬ █ █ █ ╬ ╬ ╬ ╬ █ █ ╬ ╬ █\n",
      "      █ ╬ █ █ ╬ ╬ ╬ ╬ ╬ ╬ ╬ █ █ ╬ ╬ ╬ ╬ ╬ █ █ ╬ ╬ ╬ ╬ ╬ ╬ ╬ █ █ ╬ █\n",
      "      █ ╬ ╬ ╬ ╬ ╬ ╬ ╬ ╬ ╬ ╬ ╬ ╬ ╬ ╬ ╬ ╬ ╬ ╬ ╬ ╬ ╬ ╬ ╬ ╬ ╬ ╬ ╬ ╬ ╬ █\n",
      "      █ ╬ ╬ ╬ ╬ █ █ █ █ █ ╬ ╬ ╬ ╬ ╬ ╬ ╬ ╬ ╬ ╬ ╬ █ █ █ █ █ ╬ ╬ ╬ ╬ █\n",
      "      █ ╬ ╬ █ █ █ █ █ █ █ █ █ ╬ ╬ ╬ ╬ ╬ ╬ ╬ █ █ █ █ █ █ █ █ █ ╬ ╬ █\n",
      "      █ ╬ ╬ ╬ ╬ ╬ ╬ ╬ ╬ ╬ ╬ ╬ ╬ ╬ ╬ ╬ ╬ ╬ ╬ ╬ ╬ ╬ ╬ ╬ ╬ ╬ ╬ ╬ ╬ ╬ █\n",
      "      █ ╬ ╬ ╬ ╬ ╬ ╬ ╬ ╬ ╬ ╬ ╬ ╬ ╬ ╬ █ ╬ ╬ ╬ ╬ ╬ ╬ ╬ ╬ ╬ ╬ ╬ ╬ ╬ ╬ █\n",
      "      █ ╬ ╬ ╬ ╬ ╬ ╬ ╬ ╬ ╬ ╬ ╬ ╬ ╬ ╬ █ ╬ ╬ ╬ ╬ ╬ ╬ ╬ ╬ ╬ ╬ ╬ ╬ ╬ ╬ █\n",
      "      █ ╬ ╬ ╬ ╬ ╬ ╬ ╬ ╬ ╬ ╬ ╬ ╬ ╬ ╬ █ ╬ ╬ ╬ ╬ ╬ ╬ ╬ ╬ ╬ ╬ ╬ ╬ ╬ ╬ █\n",
      "      █ ╬ ╬ ╬ ▓ ▓ ▓ ▓ ╬ ╬ ╬ ╬ ╬ ╬ ╬ █ ╬ ╬ ╬ ╬ ╬ ╬ ╬ ▓ ▓ ▓ ▓ ╬ ╬ ╬ █\n",
      "      █ ╬ ╬ ▓ ▓ ▓ ▓ ▓ ▓ ╬ ╬ █ ╬ ╬ ╬ █ ╬ ╬ ╬ █ ╬ ╬ ▓ ▓ ▓ ▓ ▓ ▓ ╬ ╬ █\n",
      "      █ ╬ ╬ ╬ ▓ ▓ ▓ ▓ ╬ ╬ █ █ ╬ ╬ ╬ █ ╬ ╬ ╬ █ █ ╬ ╬ ▓ ▓ ▓ ▓ ╬ ╬ ╬ █\n",
      "      █ ╬ ╬ ╬ ╬ ╬ ╬ ╬ ╬ █ █ ╬ ╬ ╬ ╬ █ ╬ ╬ ╬ ╬ █ █ ╬ ╬ ╬ ╬ ╬ ╬ ╬ ╬ █\n",
      "      █ ╬ ╬ ╬ ╬ ╬ █ █ █ █ ╬ ╬ ╬ ╬ █ █ █ ╬ ╬ ╬ ╬ █ █ █ █ ╬ ╬ ╬ ╬ ╬ █\n",
      "      █ ╬ ╬ ╬ ╬ ╬ ╬ ╬ ╬ ╬ ╬ ╬ ╬ ╬ █ █ █ ╬ ╬ ╬ ╬ ╬ ╬ ╬ ╬ ╬ ╬ ╬ ╬ ╬ █\n",
      "      █ █ ╬ ╬ █ ╬ ╬ ╬ ╬ ╬ ╬ ╬ ╬ █ █ █ █ █ ╬ ╬ ╬ ╬ ╬ ╬ ╬ ╬ █ ╬ ╬ █ █\n",
      "      █ █ ╬ ╬ █ █ ╬ ╬ ╬ ╬ ╬ ╬ █ █ █ █ █ █ █ ╬ ╬ ╬ ╬ ╬ ╬ █ █ ╬ ╬ █ █\n",
      "      █ █ ╬ ╬ ▓ █ █ █ ╬ ╬ ╬ █ █ █ █ ╬ █ █ █ █ ╬ ╬ ╬ █ █ █ ▓ ╬ ╬ █ █\n",
      "      █ █ █ ╬ ╬ ▓ ▓ █ █ █ █ █ █ █ ╬ ╬ ╬ █ █ █ █ █ █ █ ▓ ▓ ╬ ╬ █ █ █\n",
      "      █ █ █ ╬ ╬ ╬ ╬ ▓ ▓ ▓ ▓ ▓ ▓ ▓ ▓ ▓ ▓ ▓ ▓ ▓ ▓ ▓ ▓ ▓ ╬ ╬ ╬ ╬ █ █ █\n",
      "      █ █ █ █ ╬ ╬ ╬ ╬ ╬ ╬ ╬ ╬ ╬ ╬ █ █ █ ╬ ╬ ╬ ╬ ╬ ╬ ╬ ╬ ╬ ╬ █ █ █ █\n",
      "      █ █ █ █ █ ╬ ╬ ╬ ╬ ╬ ╬ ╬ ╬ ╬ ╬ █ ╬ ╬ ╬ ╬ ╬ ╬ ╬ ╬ ╬ ╬ █ █ █ █ █\n",
      "      █ █ █ █ █ █ ╬ ╬ ╬ ╬ ╬ ╬ ╬ ╬ █ █ █ ╬ ╬ ╬ ╬ ╬ ╬ ╬ ╬ █ █ █ █ █ █\n",
      "      █ █ █ █ █ █ █ ╬ ╬ ╬ ╬ ╬ ╬ ╬ █ █ █ ╬ ╬ ╬ ╬ ╬ ╬ ╬ █ █ █ █ █ █ █\n",
      "      █ █ █ █ █ █ █ █ ╬ ╬ ╬ ╬ ╬ ╬ █ █ █ ╬ ╬ ╬ ╬ ╬ ╬ █ █ █ █ █ █ █ █\n",
      "      █ █ █ █ █ █ █ █ █ ╬ ╬ ╬ ╬ ╬ █ █ █ ╬ ╬ ╬ ╬ ╬ █ █ █ █ █ █ █ █ █\n",
      "      █ █ █ █ █ █ █ █ █ █ █ ╬ ╬ ╬ ╬ █ ╬ ╬ ╬ ╬ █ █ █ █ █ █ █ █ █ █ █\n",
      "      █ █ █ █ █ █ █ █ █ █ █ █ █ █ █ █ █ █ █ █ █ █ █ █ █ █ █ █ █ █ █\n",
      "\n",
      "========================================================================\n",
      "-Ophelia[INFO]: Initializing Spark Session [...]\n",
      "-Ophelia[INFO]: Spark Session Initialized, Version: 2.4.5 [...]\n",
      "-Ophelia[WARN]: Please, Be Aware To Set App Name Next Time [...]\n",
      "========================================================================\n",
      "-Ophelia[INFO]: Initializing Spark Context [...]\n",
      "-Ophelia[INFO]: Spark Context Initialized Successfully [...]\n",
      "========================================================================\n"
     ]
    }
   ],
   "source": [
    "ophelia = Ophelia(W=W)"
   ]
  },
  {
   "cell_type": "code",
   "execution_count": null,
   "metadata": {},
   "outputs": [],
   "source": [
    "def filter_dict(dic):\n",
    "    filter_dic = {}\n",
    "    for item in dic:\n",
    "        if dic[item] > 0:\n",
    "            filter_dic[item] = dic[item]\n",
    "    return filter_dic"
   ]
  },
  {
   "cell_type": "code",
   "execution_count": null,
   "metadata": {},
   "outputs": [],
   "source": [
    "def groupBy_key(tree, key, a=0, ma=0, m=0, mc=0, c=0, counter=0):\n",
    "    for item in tree:\n",
    "        counter += tree.count(item) \n",
    "        if item[\"risk_label\"] == \"A\":\n",
    "            a += item[key]\n",
    "        elif item[\"risk_label\"] == \"MA\":\n",
    "            ma += item[key]\n",
    "        elif item[\"risk_label\"] == \"M\":\n",
    "            m += item[key]\n",
    "        elif item[\"risk_label\"] == \"MC\":\n",
    "            mc += item[key]\n",
    "        elif item[\"risk_label\"] == \"C\":\n",
    "            c += item[key]\n",
    "    return filter_dict({\"A\": a, \"MA\": ma, \"M\": m, \"MC\": mc, \"C\": c, \"tot\": counter})"
   ]
  },
  {
   "cell_type": "code",
   "execution_count": null,
   "metadata": {},
   "outputs": [],
   "source": [
    "def prob_label(dic, a=0, ma=0, m=0, mc=0, c=0):\n",
    "    for item in dic:\n",
    "        if item == \"A\":\n",
    "            a = dic[item] / dic[\"tot\"]\n",
    "        elif item == \"MA\":\n",
    "            ma = dic[item] / dic[\"tot\"]\n",
    "        elif item == \"M\":\n",
    "            m = dic[item] / dic[\"tot\"]\n",
    "        elif item == \"MC\":\n",
    "            mc = dic[item] / dic[\"tot\"]\n",
    "        elif item == \"C\":\n",
    "            c = dic[item] / dic[\"tot\"]\n",
    "    return filter_dict({\"A\": a, \"MA\": ma, \"M\": m, \"MC\": mc, \"C\": c})"
   ]
  },
  {
   "cell_type": "code",
   "execution_count": null,
   "metadata": {},
   "outputs": [],
   "source": [
    "def solver(w):\n",
    "    N = len(w)-1\n",
    "    if N is 0:\n",
    "        return float(1.0)\n",
    "    return float(1 / N)"
   ]
  },
  {
   "cell_type": "code",
   "execution_count": null,
   "metadata": {},
   "outputs": [],
   "source": [
    "def truncate(x, threshold=0.6, truncate=0.5):\n",
    "    return round(x - threshold + truncate)"
   ]
  },
  {
   "cell_type": "code",
   "execution_count": null,
   "metadata": {},
   "outputs": [],
   "source": [
    "def matmul_dict(weight, prob, w_a=0, w_ma=0, w_m=0, w_mc=0, w_c=0):\n",
    "    for item in weight:\n",
    "        if item == \"A\":\n",
    "            w_a = (weight[item] * prob[item]) + weight[item]\n",
    "        elif item == \"MA\":\n",
    "            w_ma = (weight[item] * prob[item]) + weight[item]\n",
    "        elif item == \"M\":\n",
    "            w_m = (weight[item] * prob[item]) + weight[item]\n",
    "        elif item == \"MC\":\n",
    "            w_mc = (weight[item] * prob[item]) + weight[item]\n",
    "        elif item == \"C\":\n",
    "            w_c = (weight[item] * prob[item]) + weight[item]\n",
    "    return filter_dict({\"A\": w_a, \"MA\": w_ma, \"M\": w_m, \"MC\": w_mc, \"C\": w_c})"
   ]
  },
  {
   "cell_type": "code",
   "execution_count": null,
   "metadata": {},
   "outputs": [],
   "source": [
    "def consensus(dot, freq, w_a=0, w_ma=0, w_m=0, w_mc=0, w_c=0):\n",
    "    for item in dot:\n",
    "        if item == \"A\":\n",
    "            w_a = truncate(dot[item] + freq[item])\n",
    "        elif item == \"MA\":\n",
    "            w_ma = truncate(dot[item] + freq[item])\n",
    "        elif item == \"M\":\n",
    "            w_m = truncate(dot[item] + freq[item])\n",
    "        elif item == \"MC\":\n",
    "            w_mc = truncate(dot[item] + freq[item])\n",
    "        elif item == \"C\":\n",
    "            w_c = truncate(dot[item] + freq[item])\n",
    "    return filter_dict({\"A\": w_a, \"MA\": w_ma, \"M\": w_m, \"MC\": w_mc, \"C\": w_c})"
   ]
  },
  {
   "cell_type": "code",
   "execution_count": null,
   "metadata": {},
   "outputs": [],
   "source": [
    "def assign_label(dic):\n",
    "    if len(dic) is 0:\n",
    "        return str(\"null\")\n",
    "    return str(max(dic))"
   ]
  },
  {
   "cell_type": "code",
   "execution_count": null,
   "metadata": {},
   "outputs": [],
   "source": [
    "def run_classification_risk(tree):\n",
    "    aggregate_weight = ophelia.clss.groupBy_key(tree, \"weight\")\n",
    "    label_frequency = ophelia.clss.groupBy_key(tree, \"vote\")\n",
    "    label_probability = ophelia.clss.prob_label(label_frequency)\n",
    "    dot = ophelia.clss.matmul_dict(aggregate_weight, label_probability)\n",
    "    consensus_vote = ophelia.clss.consensus(dot, label_frequency)\n",
    "    return ophelia.clss.assign_label(consensus_vote)"
   ]
  },
  {
   "cell_type": "markdown",
   "metadata": {},
   "source": [
    "**============================================================ FINAL CLASSIFICATION PROCESS =============================================================**"
   ]
  },
  {
   "cell_type": "code",
   "execution_count": 6,
   "metadata": {},
   "outputs": [],
   "source": [
    "from pyspark.sql.functions import udf, when, rand, struct, array\n",
    "from pyspark.sql.types import StringType, IntegerType, StructField, StructType, DoubleType, MapType, ArrayType"
   ]
  },
  {
   "cell_type": "code",
   "execution_count": 7,
   "metadata": {},
   "outputs": [
    {
     "name": "stdout",
     "output_type": "stream",
     "text": [
      "-Ophelia[INFO]: Reading Spark File [...]\n",
      "-Ophelia[INFO]: Read CSV Successfully From Path: data-resources/customer_banking/ [...]\n",
      "========================================================================\n"
     ]
    }
   ],
   "source": [
    "spark = ophelia.spk\n",
    "customer_banking = ophelia.tr.read_file(\"data-resources/customer_banking/\", \"csv\", spark)"
   ]
  },
  {
   "cell_type": "code",
   "execution_count": 8,
   "metadata": {},
   "outputs": [],
   "source": [
    "schema_tree = ArrayType(StructType([StructField(\"weight\", DoubleType(), True),\n",
    "                                    StructField(\"risk_label\", StringType(), True),\n",
    "                                    StructField(\"vote\", IntegerType(), True)]))"
   ]
  },
  {
   "cell_type": "code",
   "execution_count": 10,
   "metadata": {},
   "outputs": [],
   "source": [
    "tree_generator_udf = udf(ophelia.clss.tree_generator, schema_tree)\n",
    "classification_risk_udf = udf(ophelia.clss.run_classification_risk, StringType())"
   ]
  },
  {
   "cell_type": "code",
   "execution_count": 11,
   "metadata": {},
   "outputs": [
    {
     "name": "stdout",
     "output_type": "stream",
     "text": [
      "+---+-----------+--------+---------+------+----------+\n",
      "|age|        job| marital|education|gender|risk_label|\n",
      "+---+-----------+--------+---------+------+----------+\n",
      "| 59|     admin.| married|secondary|  male|        MC|\n",
      "| 56|     admin.| married|secondary|  male|        MC|\n",
      "| 41| technician| married|secondary|  male|        MC|\n",
      "| 55|   services| married|secondary|female|        MC|\n",
      "| 54|     admin.| married| tertiary|  male|        MC|\n",
      "| 42| management|  single| tertiary|  male|        MA|\n",
      "| 56| management| married| tertiary|  male|        MC|\n",
      "| 60|    retired|divorced|secondary|  male|        MC|\n",
      "| 37| technician| married|secondary|  male|        MC|\n",
      "| 28|   services|  single|secondary|  male|        MC|\n",
      "| 38|     admin.|  single|secondary|female|        MC|\n",
      "| 30|blue-collar| married|secondary|female|        MC|\n",
      "| 29| management| married| tertiary|female|        MA|\n",
      "| 46|blue-collar|  single| tertiary|  male|         M|\n",
      "| 31| technician|  single| tertiary|  male|        MA|\n",
      "| 35| management|divorced| tertiary|  male|        MA|\n",
      "| 32|blue-collar|  single|  primary|female|        MA|\n",
      "| 49|   services| married|secondary|  male|        MC|\n",
      "| 41|     admin.| married|secondary|  male|        MC|\n",
      "| 49|     admin.|divorced|secondary|  male|        MC|\n",
      "+---+-----------+--------+---------+------+----------+\n",
      "only showing top 20 rows\n",
      "\n"
     ]
    }
   ],
   "source": [
    "test_customer_df = customer_banking.select(\"age\", \"job\", \"marital\", \"education\")\\\n",
    "                                   .withColumn(\"gender\", when(rand() > 0.5, \"male\").otherwise(\"female\"))\\\n",
    "                                   .withColumn(\"struct\", struct(col(\"gender\"), col(\"age\"), col(\"marital\"), col(\"education\"), col(\"job\")))\\\n",
    "                                   .select(\"*\", tree_generator_udf(col(\"struct\")).alias(\"tree\"))\\\n",
    "                                   .select(\"*\", classification_risk_udf(col(\"tree\")).alias(\"risk_label\"))\n",
    "test_customer_df.select(\"age\", \"job\", \"marital\", \"education\", \"gender\", \"risk_label\").show()"
   ]
  },
  {
   "cell_type": "markdown",
   "metadata": {},
   "source": [
    "**============================================================ FINAL CLASSIFICATION PROCESS =============================================================**"
   ]
  }
 ],
 "metadata": {
  "kernelspec": {
   "display_name": "Python 3",
   "language": "python",
   "name": "python3"
  },
  "language_info": {
   "codemirror_mode": {
    "name": "ipython",
    "version": 3
   },
   "file_extension": ".py",
   "mimetype": "text/x-python",
   "name": "python",
   "nbconvert_exporter": "python",
   "pygments_lexer": "ipython3",
   "version": "3.6.9"
  }
 },
 "nbformat": 4,
 "nbformat_minor": 2
}
