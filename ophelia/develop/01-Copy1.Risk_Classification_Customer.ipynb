{
 "cells": [
  {
   "cell_type": "code",
   "execution_count": null,
   "metadata": {},
   "outputs": [],
   "source": [
    "%%html\n",
    "<style>\n",
    ".output_subarea.output_text.output_stream.output_stdout > pre {\n",
    "    width:max-content;\n",
    "}\n",
    ".p-Widget.jp-RenderedText.jp-OutputArea-output > pre {\n",
    "   width:max-content;\n",
    "}\n",
    "</style>"
   ]
  },
  {
   "cell_type": "code",
   "execution_count": 1,
   "metadata": {},
   "outputs": [],
   "source": [
    "import operator\n",
    "\n",
    "from pyspark.sql import Row\n",
    "from pyspark.sql.functions import udf, when, rand, struct, col, lit\n",
    "from pyspark.sql.types import StringType, IntegerType, StructField, StructType, DoubleType, ArrayType"
   ]
  },
  {
   "cell_type": "code",
   "execution_count": null,
   "metadata": {},
   "outputs": [],
   "source": [
    "from enquire.vendetta import Ophelia"
   ]
  },
  {
   "cell_type": "code",
   "execution_count": null,
   "metadata": {},
   "outputs": [],
   "source": [
    "if w is None:\n",
    "    self.W = np.random.dirichlet(np.ones(5), size=1).tolist()[0]\n",
    "else:\n",
    "    self.W = w  # valores que pueden venir de otro origen, e.g. .conf"
   ]
  },
  {
   "cell_type": "code",
   "execution_count": 2,
   "metadata": {},
   "outputs": [],
   "source": [
    "def factor_weights(**kargs):\n",
    "    dict_weight = {\n",
    "        \"gender\": float(0.0) if kargs.get(\"gender\") is None else kargs.get(\"gender\"),\n",
    "        \"age\": float(0.0) if kargs.get(\"age\") is None else kargs.get(\"age\"),\n",
    "        \"education\": float(0.0) if kargs.get(\"education\") is None else kargs.get(\"education\"),\n",
    "        \"job\": float(0.0) if kargs.get(\"job\") is None else kargs.get(\"job\"),\n",
    "        \"marital\": float(0.0) if kargs.get(\"marital\") is None else kargs.get(\"marital\"),\n",
    "        \"child\": float(0.0) if kargs.get(\"child\") is None else kargs.get(\"child\"),\n",
    "        \"saving\": float(0.0) if kargs.get(\"saving\") is None else kargs.get(\"saving\"),\n",
    "        \"insight\": float(0.0) if kargs.get(\"insight\") is None else kargs.get(\"insight\"),\n",
    "        \"backup\": float(0.0) if kargs.get(\"backup\") is None else kargs.get(\"backup\")\n",
    "    }\n",
    "    \n",
    "    return dict_weight"
   ]
  },
  {
   "cell_type": "code",
   "execution_count": 3,
   "metadata": {},
   "outputs": [
    {
     "data": {
      "text/plain": [
       "{'gender': 0.0072,\n",
       " 'age': 0.3205,\n",
       " 'education': 0.0009,\n",
       " 'job': 0.3905,\n",
       " 'marital': 0.0024,\n",
       " 'child': 0.1404,\n",
       " 'saving': 0.0423,\n",
       " 'insight': 0.0335,\n",
       " 'backup': 0.0623}"
      ]
     },
     "execution_count": 3,
     "metadata": {},
     "output_type": "execute_result"
    }
   ],
   "source": [
    "W = factor_weights(\n",
    "    gender=0.0072,\n",
    "    age=0.3205,\n",
    "    education=0.0009,\n",
    "    job=0.3905,\n",
    "    marital=0.0024,\n",
    "    child=0.1404,\n",
    "    saving=0.0423,\n",
    "    insight=0.0335,\n",
    "    backup=0.0623\n",
    ")\n",
    "\n",
    "W"
   ]
  },
  {
   "cell_type": "code",
   "execution_count": null,
   "metadata": {},
   "outputs": [],
   "source": [
    "ophelia = Ophelia()"
   ]
  },
  {
   "cell_type": "code",
   "execution_count": null,
   "metadata": {},
   "outputs": [],
   "source": [
    "#spark = ophelia.spk\n",
    "#customer_banking = ophelia.tr.read_file(\"data/raw/csv/bank.csv\", \"csv\", spark)\n",
    "#customer_banking.show(5)"
   ]
  },
  {
   "cell_type": "code",
   "execution_count": null,
   "metadata": {},
   "outputs": [],
   "source": [
    "schema_tree = ArrayType(StructType([StructField(\"weight\", DoubleType(), True),\n",
    "                                    StructField(\"risk_label\", StringType(), True),\n",
    "                                    StructField(\"vote\", IntegerType(), True)]))"
   ]
  },
  {
   "cell_type": "code",
   "execution_count": null,
   "metadata": {},
   "outputs": [],
   "source": [
    "tree_udf = udf(ophelia.clss.tree_generator, schema_tree)\n",
    "classification_udf = udf(ophelia.clss.run_classification_risk, StringType())"
   ]
  },
  {
   "cell_type": "code",
   "execution_count": null,
   "metadata": {},
   "outputs": [],
   "source": [
    "#random_sample = customer_banking\\\n",
    "#    .select(\"age\", \"job\", \"marital\", \"education\")\\\n",
    "#    .withColumn(\"gender\", when(rand() > 0.5, \"male\").otherwise(\"female\"))\\\n",
    "#    .withColumn(\"child\", when(rand() > 0.5, 1).otherwise(0))\\\n",
    "#    .withColumn(\"saving\", when(rand() > 0.5, 1).otherwise(0))\\\n",
    "#    .withColumn(\"insight\", when(rand() > 0.5, 1).otherwise(0))\\\n",
    "#    .withColumn(\"backup\", when(rand() > 0.5, 1).otherwise(0))\\\n",
    "#    .withColumn(\"struct\", struct(col(\"gender\"), col(\"age\"), col(\"education\"), col(\"job\"), \n",
    "#                                 col(\"marital\"), col(\"child\"), col(\"saving\"), col(\"insight\"), col(\"backup\")))\n",
    "#random_sample.show(5)"
   ]
  },
  {
   "cell_type": "code",
   "execution_count": null,
   "metadata": {},
   "outputs": [],
   "source": [
    "#path = \"data/master/ophelia/data/OpheliaData/risk_classification_customer/\"\n",
    "#random_sample.repartition(int(1)).write.mode(\"overwrite\").parquet(path)"
   ]
  },
  {
   "cell_type": "markdown",
   "metadata": {},
   "source": [
    "# a partir de aqui"
   ]
  },
  {
   "cell_type": "code",
   "execution_count": null,
   "metadata": {},
   "outputs": [],
   "source": [
    "spark = ophelia.spk\n",
    "path = \"data/master/ophelia/data/OpheliaData/risk_classification/\"\n",
    "random_sample_df = spark.read.parquet(path)\n",
    "random_sample_df.show(5)"
   ]
  },
  {
   "cell_type": "code",
   "execution_count": null,
   "metadata": {},
   "outputs": [],
   "source": [
    "#spark = ophelia.spk\n",
    "#path = \"data/master/ophelia/data/OpheliaData/risk_classification_customer/\"\n",
    "#random_sample_df = spark.read.parquet(path)\n",
    "#random_sample_df.show(5)"
   ]
  },
  {
   "cell_type": "code",
   "execution_count": null,
   "metadata": {},
   "outputs": [],
   "source": [
    "#schema_tree = ArrayType(StructType([StructField(\"vote\", IntegerType(), True),\n",
    "#                                    StructField(\"weight\", DoubleType(), True),\n",
    "#                                    StructField(\"risk_label\", StringType(), True)]))\n",
    "#\n",
    "#tree_udf = udf(tree_generator, schema_tree)\n",
    "#classification_udf = udf(run_classification_risk, StringType())"
   ]
  },
  {
   "cell_type": "code",
   "execution_count": null,
   "metadata": {},
   "outputs": [],
   "source": [
    "result_df = random_sample_df.select(\"*\", tree_udf(col(\"struct\")).alias(\"tree\")).cache()\n",
    "result_df.show(5)"
   ]
  },
  {
   "cell_type": "code",
   "execution_count": null,
   "metadata": {},
   "outputs": [],
   "source": [
    "final = result_df.select(\"age\", \"job\", \"marital\", \"education\", \"gender\",\n",
    "                         \"child\", \"saving\", \"insight\", \"backup\",\n",
    "                         classification_udf(col(\"tree\")).alias(\"risk_label\"))\n",
    "\n",
    "final.groupBy(\"risk_label\").count().show(20, False)\n",
    "final.show(10)"
   ]
  },
  {
   "cell_type": "code",
   "execution_count": null,
   "metadata": {},
   "outputs": [],
   "source": [
    "final.where((col(\"risk_label\") == \"A\") & (col(\"gender\") == \"female\")).orderBy(col(\"age\").desc()).show(1000000)"
   ]
  },
  {
   "cell_type": "code",
   "execution_count": 14,
   "metadata": {},
   "outputs": [
    {
     "data": {
      "text/plain": [
       "Row(vote=4, weight=0.0072, risk_label='MA')"
      ]
     },
     "execution_count": 14,
     "metadata": {},
     "output_type": "execute_result"
    }
   ],
   "source": [
    "score_gender(\"female\", W)"
   ]
  },
  {
   "cell_type": "code",
   "execution_count": 28,
   "metadata": {},
   "outputs": [
    {
     "data": {
      "text/plain": [
       "Row(vote=1, weight=0.0009, risk_label='MC')"
      ]
     },
     "execution_count": 28,
     "metadata": {},
     "output_type": "execute_result"
    }
   ],
   "source": [
    "score_education(\"primary\", W)"
   ]
  },
  {
   "cell_type": "code",
   "execution_count": 33,
   "metadata": {},
   "outputs": [
    {
     "data": {
      "text/plain": [
       "Row(vote=10, weight=0.3905, risk_label='C')"
      ]
     },
     "execution_count": 33,
     "metadata": {},
     "output_type": "execute_result"
    }
   ],
   "source": [
    "score_occupation(\"retired\", W)"
   ]
  },
  {
   "cell_type": "code",
   "execution_count": 29,
   "metadata": {},
   "outputs": [
    {
     "ename": "TypeError",
     "evalue": "unhashable type: 'list'",
     "output_type": "error",
     "traceback": [
      "\u001b[0;31m---------------------------------------------------------------------------\u001b[0m",
      "\u001b[0;31mTypeError\u001b[0m                                 Traceback (most recent call last)",
      "\u001b[0;32m<ipython-input-29-3c0181e0006c>\u001b[0m in \u001b[0;36m<module>\u001b[0;34m\u001b[0m\n\u001b[0;32m----> 1\u001b[0;31m test = {\n\u001b[0m\u001b[1;32m      2\u001b[0m     \u001b[0;34m[\u001b[0m\u001b[0;34m\"unemployed\"\u001b[0m\u001b[0;34m,\u001b[0m \u001b[0;34m\"retired\"\u001b[0m\u001b[0;34m,\u001b[0m \u001b[0;34m\"unknown\"\u001b[0m\u001b[0;34m]\u001b[0m \u001b[0;34m:\u001b[0m \u001b[0;34m\"hola\"\u001b[0m\u001b[0;34m\u001b[0m\u001b[0;34m\u001b[0m\u001b[0m\n\u001b[1;32m      3\u001b[0m }\n",
      "\u001b[0;31mTypeError\u001b[0m: unhashable type: 'list'"
     ]
    }
   ],
   "source": [
    "+-------------+\n",
    "|          job|\n",
    "+-------------+\n",
    "|   management|\n",
    "|      retired| 1\n",
    "|      unknown| 1\n",
    "|self-employed| 1\n",
    "|      student| 1\n",
    "|  blue-collar| 1\n",
    "| entrepreneur| 1\n",
    "|       admin.| 1\n",
    "|   technician| 1\n",
    "|     services| 1\n",
    "|    housemaid| 1\n",
    "|   unemployed| 1\n",
    "+-------------+"
   ]
  },
  {
   "cell_type": "code",
   "execution_count": 30,
   "metadata": {},
   "outputs": [],
   "source": [
    "# Refactor to hash-maps\n",
    "\n",
    "def score_gender(gender, w):\n",
    "    vote = 1\n",
    "    w_i = w[\"gender\"]\n",
    "    max_vote = len(w)/2\n",
    "    hash_map_option = {\n",
    "        \"female\": key_value(max_vote, w_i, \"MA\"),\n",
    "        \"male\": key_value(vote, w_i, \"A\")\n",
    "    }\n",
    "    return hash_map_option[gender]\n",
    "\n",
    "def score_education(education, w):\n",
    "    vote = 1\n",
    "    w_i = w[\"education\"]\n",
    "    try:\n",
    "        hash_map_option = {\n",
    "            \"unknown\": key_value(vote, w_i, \"C\"),\n",
    "            \"primary\": key_value(vote, w_i, \"MC\"),\n",
    "            \"secondary\": key_value(vote, w_i, \"MA\"),\n",
    "            \"tertiary\": key_value(vote, w_i, \"A\")\n",
    "        }\n",
    "        return hash_map_option[education]\n",
    "    except KeyError:\n",
    "        raise KeyError(\"no se puede chavo\")\n",
    "        \n",
    "def score_occupation(occupation, w):\n",
    "    vote = 1\n",
    "    w_i = w[\"job\"]\n",
    "    min_vote = len(w)/2\n",
    "    mid_vote = min_vote+(len(w)/5)\n",
    "    max_vote = len(w)+1\n",
    "    hash_map_option = {\n",
    "        \"unemployed\": key_value(max_vote, w_i, \"C\"),\n",
    "        \"retired\": key_value(max_vote, w_i, \"C\"),\n",
    "        \"unknown\": key_value(max_vote, w_i, \"C\"),\n",
    "        \"housemaid\": key_value(mid_vote, w_i, \"MC\"),\n",
    "        \"student\": key_value(mid_vote, w_i, \"MC\"),\n",
    "        \"self-employed\": key_value(min_vote, w_i, \"M\"),\n",
    "        \"entrepreneur\": key_value(min_vote, w_i, \"M\"),\n",
    "        \"admin.\": key_value(vote, w_i, \"MA\"),\n",
    "        \"technician\": key_value(vote, w_i, \"MA\"),\n",
    "        \"services\": key_value(vote, w_i, \"MA\"),\n",
    "        \"blue-collar\": key_value(vote, w_i, \"MA\"),\n",
    "        \"white-collar\": key_value(vote, w_i, \"A\"),\n",
    "        \"management\": key_value(vote, w_i, \"A\"),\n",
    "    }\n",
    "    return hash_map_option[occupation]\n",
    "\n",
    "def score_marital(marital, w):\n",
    "    vote = 1\n",
    "    w_i = w[\"marital\"]\n",
    "    min_vote = len(w)/5\n",
    "    max_vote = len(w)/4\n",
    "    hash_map_option = {\n",
    "        \"divorced\": key_value(max_vote, w_i, \"MC\"),\n",
    "        \"married\": key_value(min_vote, w_i, \"MA\"),\n",
    "        \"single\": key_value(vote, w_i, \"A\"),\n",
    "    }\n",
    "    return hash_map_option[marital]\n",
    "\n",
    "def __binary_hashmap(node, vote, w, label):\n",
    "    hasmap_option = {\n",
    "        \"1\": key_value(vote, w, label),\n",
    "        \"0\": key_value(vote, w, label)\n",
    "    }\n",
    "    return hasmap_option[node]\n",
    "\n",
    "def score_child(child, w):\n",
    "    vote = 1\n",
    "    w_i = w[\"child\"]\n",
    "    max_vote = len(w)/4\n",
    "    \n",
    "    if child == 1:\n",
    "        return key_value(max_vote, w_i, \"MC\")\n",
    "    else:\n",
    "        return key_value(vote, w_i, \"MA\")\n",
    "    \n",
    "def score_saving(saving, w):\n",
    "    \n",
    "    vote = 1\n",
    "    w_i = w[\"saving\"]\n",
    "    max_vote = len(w)/2\n",
    "    \n",
    "    if saving == 1:\n",
    "        return key_value(max_vote, w_i, \"MC\")\n",
    "    else:\n",
    "        return key_value(vote, w_i, \"MA\")\n",
    "    \n",
    "def score_insight(insight, w):\n",
    "    \n",
    "    vote = 1\n",
    "    w_i = w[\"insight\"]\n",
    "    max_vote = len(w)/5\n",
    "    \n",
    "    if insight == 1:\n",
    "        return key_value(max_vote, w_i, \"A\")\n",
    "    else:\n",
    "        return key_value(vote, w_i, \"M\")\n",
    "    \n",
    "def score_backup(backup, w):\n",
    "    \n",
    "    vote = 1\n",
    "    w_i = w[\"backup\"]\n",
    "    max_vote = len(w)/2\n",
    "    \n",
    "    if backup == 1:\n",
    "        return key_value(vote, w_i, \"MA\")\n",
    "    else:\n",
    "        return key_value(vote, w_i, \"M\")"
   ]
  },
  {
   "cell_type": "code",
   "execution_count": 9,
   "metadata": {},
   "outputs": [],
   "source": [
    "def key_value(vote, w, clss):\n",
    "    return Row(vote=round(float(vote)), weight=float(w), risk_label=str(clss))\n",
    "\n",
    "def score_gender(gender, w):\n",
    "    \n",
    "    vote = 1\n",
    "    w_i = w[\"gender\"]\n",
    "    max_vote = len(w)/2\n",
    "    \n",
    "    if gender in [\"female\"]:\n",
    "        return key_value(max_vote, w_i, \"MA\")\n",
    "    elif gender in [\"male\"]:\n",
    "        return key_value(vote, w_i, \"A\")\n",
    "\n",
    "def score_age(age, w):\n",
    "    \n",
    "    vote = 1\n",
    "    w_i = w[\"age\"]\n",
    "    min_vote = len(w)/2\n",
    "    mid_vote = min_vote+(len(w)/5)\n",
    "    max_vote = len(w)+1\n",
    "    \n",
    "    def two_bound(age, min_bound, upper_bound):\n",
    "        if min_bound <= age < upper_bound:\n",
    "            return age\n",
    "       \n",
    "    if two_bound(age, min_bound=60, upper_bound=100):\n",
    "        if two_bound(age, min_bound=67, upper_bound=100):\n",
    "            return key_value(max_vote, w_i, \"C\")\n",
    "        elif two_bound(age, min_bound=60, upper_bound=67):\n",
    "            return key_value(max_vote, w_i, \"MC\")\n",
    "    \n",
    "    elif two_bound(age, min_bound=50, upper_bound=60):\n",
    "        if two_bound(age, min_bound=57, upper_bound=60):\n",
    "            return key_value(mid_vote, w_i, \"MC\")\n",
    "        elif two_bound(age, min_bound=50, upper_bound=57):\n",
    "            return key_value(mid_vote, w_i, \"M\")\n",
    "    \n",
    "    elif two_bound(age, min_bound=40, upper_bound=50):\n",
    "        if two_bound(age, min_bound=47, upper_bound=50):\n",
    "            return key_value(min_vote, w_i, \"M\")\n",
    "        elif two_bound(age, min_bound=40, upper_bound=47):\n",
    "            return key_value(min_vote, w_i, \"MA\")\n",
    "    \n",
    "    elif two_bound(age, min_bound=30, upper_bound=40):\n",
    "        if two_bound(age, min_bound=37, upper_bound=40):\n",
    "            return key_value(vote, w_i, \"MA\")\n",
    "        elif two_bound(age, min_bound=30, upper_bound=37):\n",
    "            return key_value(vote, w_i, \"A\")\n",
    "    else:\n",
    "        return key_value(vote, w_i, \"A\")\n",
    "    \n",
    "\n",
    "def score_education(education, w):\n",
    "    \n",
    "    vote = 1\n",
    "    w_i = w[\"education\"]\n",
    "    \n",
    "    unknown = [\"unknown\"]\n",
    "    middle = [\"primary\"]\n",
    "    university = [\"secondary\"]\n",
    "    master = [\"tertiary\"]\n",
    "    \n",
    "    if education in unknown:\n",
    "        return key_value(vote, w_i, \"C\")\n",
    "    elif education in middle:\n",
    "        return key_value(vote, w_i, \"MC\")\n",
    "    elif education in university:\n",
    "        return key_value(vote, w_i, \"MA\")\n",
    "    elif education in master:\n",
    "        return key_value(vote, w_i, \"A\")\n",
    "\n",
    "\n",
    "def score_occupation(occupation, w):\n",
    "\n",
    "    vote = 1\n",
    "    w_i = w[\"job\"]\n",
    "    min_vote = len(w)/2\n",
    "    mid_vote = min_vote+(len(w)/5)\n",
    "    max_vote = len(w)+1\n",
    "    \n",
    "    unemployed = [\"unemployed\", \"retired\", \"unknown\"]\n",
    "    no_employee = [\"housemaid\", \"student\"]\n",
    "    self_employee = [\"self-employed\", \"entrepreneur\"]\n",
    "    employee = [\"admin.\", \"technician\", \"services\", \"blue-collar\"]\n",
    "\n",
    "    if occupation in unemployed:\n",
    "        return key_value(max_vote, w_i, \"C\")\n",
    "    elif occupation in no_employee:\n",
    "        return key_value(mid_vote, w_i, \"MC\")\n",
    "    elif occupation in self_employee:\n",
    "        return key_value(min_vote, w_i, \"M\")\n",
    "    elif occupation in employee:\n",
    "        return key_value(vote, w_i, \"MA\")\n",
    "    else:\n",
    "        return key_value(vote, w_i, \"A\")\n",
    "    \n",
    "def score_marital(marital, w):\n",
    "    \n",
    "    vote = 1\n",
    "    w_i = w[\"marital\"]\n",
    "    min_vote = len(w)/5\n",
    "    max_vote = len(w)/4\n",
    "    \n",
    "    if marital in [\"married\"]:\n",
    "        return key_value(min_vote, w_i, \"MA\")\n",
    "    elif marital in [\"single\"]:\n",
    "        return key_value(vote, w_i, \"A\")\n",
    "    elif marital in [\"divorced\"]:\n",
    "        return key_value(max_vote, w_i, \"MC\")\n",
    "\n",
    "def score_child(child, w):\n",
    "    \n",
    "    vote = 1\n",
    "    w_i = w[\"child\"]\n",
    "    max_vote = len(w)/4\n",
    "    \n",
    "    if child == 1:\n",
    "        return key_value(max_vote, w_i, \"MC\")\n",
    "    else:\n",
    "        return key_value(vote, w_i, \"MA\")\n",
    "    \n",
    "def score_saving(saving, w):\n",
    "    \n",
    "    vote = 1\n",
    "    w_i = w[\"saving\"]\n",
    "    max_vote = len(w)/2\n",
    "    \n",
    "    if saving == 1:\n",
    "        return key_value(max_vote, w_i, \"MC\")\n",
    "    else:\n",
    "        return key_value(vote, w_i, \"MA\")\n",
    "    \n",
    "def score_insight(insight, w):\n",
    "    \n",
    "    vote = 1\n",
    "    w_i = w[\"insight\"]\n",
    "    max_vote = len(w)/5\n",
    "    \n",
    "    if insight == 1:\n",
    "        return key_value(max_vote, w_i, \"A\")\n",
    "    else:\n",
    "        return key_value(vote, w_i, \"M\")\n",
    "    \n",
    "def score_backup(backup, w):\n",
    "    \n",
    "    vote = 1\n",
    "    w_i = w[\"backup\"]\n",
    "    max_vote = len(w)/2\n",
    "    \n",
    "    if backup == 1:\n",
    "        return key_value(vote, w_i, \"MA\")\n",
    "    else:\n",
    "        return key_value(vote, w_i, \"M\")"
   ]
  },
  {
   "cell_type": "code",
   "execution_count": null,
   "metadata": {},
   "outputs": [],
   "source": []
  },
  {
   "cell_type": "markdown",
   "metadata": {},
   "source": [
    "# class 2"
   ]
  },
  {
   "cell_type": "code",
   "execution_count": null,
   "metadata": {},
   "outputs": [],
   "source": [
    "def factor_weights(**kargs):\n",
    "    \n",
    "    dict_weight = {\n",
    "        \"gender\": float(0.0) if kargs.get(\"gender\") is None else float(kargs.get(\"gender\")),\n",
    "        \"age\": float(0.0) if kargs.get(\"age\") is None else float(kargs.get(\"age\")),\n",
    "        \"education\": float(0.0) if kargs.get(\"education\") is None else float(kargs.get(\"education\")),\n",
    "        \"job\": float(0.0) if kargs.get(\"job\") is None else float(kargs.get(\"job\")),\n",
    "        \"marital\": float(0.0) if kargs.get(\"marital\") is None else float(kargs.get(\"marital\")),\n",
    "        \"child\": float(0.0) if kargs.get(\"child\") is None else float(kargs.get(\"child\")),\n",
    "        \"saving\": float(0.0) if kargs.get(\"saving\") is None else float(kargs.get(\"saving\")),\n",
    "        \"insight\": float(0.0) if kargs.get(\"insight\") is None else float(kargs.get(\"insight\")),\n",
    "        \"backup\": float(0.0) if kargs.get(\"backup\") is None else float(kargs.get(\"backup\"))\n",
    "    }\n",
    "    \n",
    "    return dict_weight\n",
    "\n",
    "def tree_generator(obj):\n",
    "\n",
    "    w = factor_weights(\n",
    "        gender=0.0072,\n",
    "        age=0.3205,\n",
    "        education=0.0009,\n",
    "        job=0.3905,\n",
    "        marital=0.0024,\n",
    "        child=0.1404,\n",
    "        saving=0.0423,\n",
    "        insight=0.0335,\n",
    "        backup=0.0623\n",
    "    )\n",
    "\n",
    "    tree = [\n",
    "        score_gender(gender=obj.gender, w=w),\n",
    "        score_age(age=obj.age, w=w),\n",
    "        score_education(education=obj.education, w=w),\n",
    "        score_occupation(occupation=obj.job, w=w),\n",
    "        score_marital(marital=obj.marital, w=w),\n",
    "        score_child(child=obj.child, w=w),\n",
    "        score_saving(saving=obj.saving, w=w),\n",
    "        score_insight(insight=obj.insight, w=w),\n",
    "        score_backup(backup=obj.backup, w=w)\n",
    "    ]\n",
    "\n",
    "    return tree\n",
    "\n",
    "def dict_filter(dic):\n",
    "    filter_dic = {}\n",
    "    for item in dic:\n",
    "        if dic[item] > 0:\n",
    "            filter_dic[item] = dic[item]\n",
    "    return filter_dic\n",
    "\n",
    "def group_key(a, ma, m, mc, c, counter=0.0):\n",
    "\n",
    "    group_key_value = {\"A\": float(a), \"MA\": float(ma), \"M\": float(m), \"MC\": float(mc), \"C\": float(c), \"tot\": float(counter)}\n",
    "\n",
    "    return group_key_value\n",
    "\n",
    "def group_by_key(tree, key, a=0.0, ma=0.0, m=0.0, mc=0.0, c=0.0, counter=0.0):\n",
    "    \n",
    "    for item in tree:\n",
    "        counter += tree.count(item) \n",
    "        if item[\"risk_label\"] == \"A\":\n",
    "            a += item[key]\n",
    "        elif item[\"risk_label\"] == \"MA\":\n",
    "            ma += item[key]\n",
    "        elif item[\"risk_label\"] == \"M\":\n",
    "            m += item[key]\n",
    "        elif item[\"risk_label\"] == \"MC\":\n",
    "            mc += item[key]\n",
    "        elif item[\"risk_label\"] == \"C\":\n",
    "            c += item[key]\n",
    "    \n",
    "    return dict_filter(group_key(a, ma, m, mc, c, counter))\n",
    "\n",
    "def prob_label(dic, a=0.0, ma=0.0, m=0.0, mc=0.0, c=0.0):\n",
    "    \n",
    "    for item in dic:\n",
    "        if item == \"A\":\n",
    "            a = dic[item] / dic[\"tot\"]\n",
    "        elif item == \"MA\":\n",
    "            ma = dic[item] / dic[\"tot\"]\n",
    "        elif item == \"M\":\n",
    "            m = dic[item] / dic[\"tot\"]\n",
    "        elif item == \"MC\":\n",
    "            mc = dic[item] / dic[\"tot\"]\n",
    "        elif item == \"C\":\n",
    "            c = dic[item] / dic[\"tot\"]\n",
    "    \n",
    "    return dict_filter(group_key(a, ma, m, mc, c))\n",
    "\n",
    "\n",
    "def matmul_dict(weight, prob, w_a=0.0, w_ma=0.0, w_m=0.0, w_mc=0.0, w_c=0.0):\n",
    "    \n",
    "    for item in weight:\n",
    "        if item == \"A\":\n",
    "            w_a = (weight[item] * prob[item]) + weight[item]\n",
    "        elif item == \"MA\":\n",
    "            w_ma = (weight[item] * prob[item]) + weight[item]\n",
    "        elif item == \"M\":\n",
    "            w_m = (weight[item] * prob[item]) + weight[item]\n",
    "        elif item == \"MC\":\n",
    "            w_mc = (weight[item] * prob[item]) + weight[item]\n",
    "        elif item == \"C\":\n",
    "            w_c = (weight[item] * prob[item]) + weight[item]\n",
    "\n",
    "    return dict_filter(group_key(w_a, w_ma, w_m, w_mc, w_c))\n",
    "\n",
    "\n",
    "def consensus(dot, freq, threshold=0.6, truncate=0.5, w_a=0.0, w_ma=0.0, w_m=0.0, w_mc=0.0, w_c=0.0):\n",
    "\n",
    "    def truncate(x, thr=threshold, trunc=truncate):\n",
    "        return round(x - thr + trunc)\n",
    "    \n",
    "    for item in dot:\n",
    "        if item == \"A\":\n",
    "            w_a = truncate(dot[item] + freq[item])\n",
    "        elif item == \"MA\":\n",
    "            w_ma = truncate(dot[item] + freq[item])\n",
    "        elif item == \"M\":\n",
    "            w_m = truncate(dot[item] + freq[item])\n",
    "        elif item == \"MC\":\n",
    "            w_mc = truncate(dot[item] + freq[item])\n",
    "        elif item == \"C\":\n",
    "            w_c = truncate(dot[item] + freq[item])\n",
    "\n",
    "    return dict_filter(group_key(w_a, w_ma, w_m, w_mc, w_c))\n",
    "\n",
    "\n",
    "def validate_values(dic):\n",
    "    equal_validation = len(dic.values()) == len(set(dic.values()))\n",
    "    if equal_validation is False:\n",
    "        return str(1)\n",
    "    return str(0)\n",
    "\n",
    "\n",
    "def assign_label(dic, dot_dic):\n",
    "    if len(dic) is 0:\n",
    "        return str(\"null\")\n",
    "    if validate_values(dic) is \"1\":\n",
    "        return str(max(dot_dic.items(), key=operator.itemgetter(1))[0])\n",
    "    else:    \n",
    "        return str(max(dic.items(), key=operator.itemgetter(1))[0])\n",
    "\n",
    "    \n",
    "def run_classification_risk(tree):\n",
    "    aggregate_weight = group_by_key(tree, \"weight\")\n",
    "    label_frequency = group_by_key(tree, \"vote\")\n",
    "    label_probability = prob_label(label_frequency)\n",
    "    dot = matmul_dict(aggregate_weight, label_probability)\n",
    "    consensus_vote = consensus(dot, label_frequency)\n",
    "    return str(assign_label(consensus_vote, dot))"
   ]
  },
  {
   "cell_type": "code",
   "execution_count": null,
   "metadata": {},
   "outputs": [],
   "source": []
  },
  {
   "cell_type": "code",
   "execution_count": null,
   "metadata": {},
   "outputs": [],
   "source": [
    "class Person:\n",
    "    def __init__(self, gender, age, education, job, marital, child, saving, insight, backup):\n",
    "        self.gender = gender\n",
    "        self.age = age\n",
    "        self.education = education\n",
    "        self.job = job\n",
    "        self.marital = marital\n",
    "        self.child = child\n",
    "        self.saving = saving\n",
    "        self.insight = insight\n",
    "        self.backup = backup"
   ]
  },
  {
   "cell_type": "code",
   "execution_count": null,
   "metadata": {},
   "outputs": [],
   "source": [
    "luis = Person(\n",
    "    gender=\"male\",\n",
    "    age=30,\n",
    "    education=\"secondary\",\n",
    "    job=\"admin.\",\n",
    "    marital=\"married\",\n",
    "    child=0,\n",
    "    saving=1,\n",
    "    insight=1,\n",
    "    backup=0\n",
    ")"
   ]
  },
  {
   "cell_type": "code",
   "execution_count": null,
   "metadata": {},
   "outputs": [],
   "source": [
    "tree = ophelia.ophelia_class.tree_generator(luis)\n",
    "tree"
   ]
  },
  {
   "cell_type": "code",
   "execution_count": null,
   "metadata": {},
   "outputs": [],
   "source": [
    "ophelia.ophelia_class.run_classification_risk(tree)"
   ]
  }
 ],
 "metadata": {
  "kernelspec": {
   "display_name": "ophelia",
   "language": "python",
   "name": "ophelia"
  },
  "language_info": {
   "codemirror_mode": {
    "name": "ipython",
    "version": 3
   },
   "file_extension": ".py",
   "mimetype": "text/x-python",
   "name": "python",
   "nbconvert_exporter": "python",
   "pygments_lexer": "ipython3",
   "version": "3.8.0"
  }
 },
 "nbformat": 4,
 "nbformat_minor": 4
}
