{
 "cells": [
  {
   "cell_type": "code",
   "execution_count": 1,
   "metadata": {},
   "outputs": [],
   "source": [
    "import pandas as pd\n",
    "from pyspark.sql import SparkSession, Window\n",
    "from pyspark.sql.functions import col, lag, first, count, max as spark_max, min as spark_min"
   ]
  },
  {
   "cell_type": "code",
   "execution_count": 2,
   "metadata": {},
   "outputs": [],
   "source": [
    "import OpSpark"
   ]
  },
  {
   "cell_type": "code",
   "execution_count": 3,
   "metadata": {},
   "outputs": [],
   "source": [
    "spark = SparkSession.builder.appName(\"Correlation Matrix Spark\").getOrCreate()"
   ]
  },
  {
   "cell_type": "code",
   "execution_count": 4,
   "metadata": {},
   "outputs": [
    {
     "name": "stdout",
     "output_type": "stream",
     "text": [
      "(9, 3)\n",
      "+-------+----+-------+\n",
      "|Product|Year|Revenue|\n",
      "+-------+----+-------+\n",
      "|      A|2010|    100|\n",
      "|      B|2010|    200|\n",
      "|      C|2010|    300|\n",
      "|      A|2011|    110|\n",
      "|      B|2011|    190|\n",
      "|      C|2011|    320|\n",
      "|      A|2012|    120|\n",
      "|      B|2012|    220|\n",
      "|      C|2012|    350|\n",
      "+-------+----+-------+\n",
      "\n"
     ]
    }
   ],
   "source": [
    "dic = {\n",
    "    'Product': ['A', 'B', 'C','A', 'B', 'C','A', 'B', 'C'],\n",
    "    'Year': [2010, 2010, 2010, 2011, 2011, 2011, 2012, 2012, 2012],\n",
    "    'Revenue': [100, 200, 300, 110, 190, 320, 120, 220, 350]\n",
    "}\n",
    "dic_to_df = spark.createDataFrame(pd.DataFrame(data=dic))\n",
    "print(dic_to_df.shape)\n",
    "dic_to_df.show()"
   ]
  },
  {
   "cell_type": "code",
   "execution_count": 18,
   "metadata": {},
   "outputs": [
    {
     "data": {
      "text/plain": [
       "(9, 3)"
      ]
     },
     "execution_count": 18,
     "metadata": {},
     "output_type": "execute_result"
    }
   ],
   "source": [
    "dic_to_df.shape"
   ]
  },
  {
   "cell_type": "code",
   "execution_count": 5,
   "metadata": {},
   "outputs": [
    {
     "name": "stdout",
     "output_type": "stream",
     "text": [
      "+-------+----+-------+---------------------+\n",
      "|Product|Year|Revenue|pct_change           |\n",
      "+-------+----+-------+---------------------+\n",
      "|B      |2010|200    |0.0                  |\n",
      "|B      |2011|190    |-0.050000000000000044|\n",
      "|B      |2012|220    |0.1578947368421053   |\n",
      "|C      |2010|300    |0.0                  |\n",
      "|C      |2011|320    |0.06666666666666665  |\n",
      "+-------+----+-------+---------------------+\n",
      "only showing top 5 rows\n",
      "\n"
     ]
    }
   ],
   "source": [
    "dic_to_df.pct_change(periods=1, partition_by=\"Product\", order_by=\"Year\", pct_cols=\"Revenue\").na.fill(0).show(5, False)"
   ]
  },
  {
   "cell_type": "code",
   "execution_count": 6,
   "metadata": {},
   "outputs": [
    {
     "name": "stdout",
     "output_type": "stream",
     "text": [
      "+-------+----+-------+--------------------+---------------------+\n",
      "|Product|Year|Revenue|Year_pct_change     |Revenue_pct_change   |\n",
      "+-------+----+-------+--------------------+---------------------+\n",
      "|B      |2010|200    |0.0                 |0.0                  |\n",
      "|B      |2011|190    |4.975124378110429E-4|-0.050000000000000044|\n",
      "|B      |2012|220    |4.972650422674363E-4|0.1578947368421053   |\n",
      "|C      |2010|300    |0.0                 |0.0                  |\n",
      "|C      |2011|320    |4.975124378110429E-4|0.06666666666666665  |\n",
      "+-------+----+-------+--------------------+---------------------+\n",
      "only showing top 5 rows\n",
      "\n"
     ]
    }
   ],
   "source": [
    "dic_to_df.pct_change(periods=1, partition_by=\"Product\", order_by=\"Year\", pct_cols=[\"Year\", \"Revenue\"]).na.fill(0).show(5, False)"
   ]
  },
  {
   "cell_type": "code",
   "execution_count": 7,
   "metadata": {},
   "outputs": [
    {
     "name": "stdout",
     "output_type": "stream",
     "text": [
      "+-------+----+-------+---------------------+\n",
      "|Product|Year|Revenue|pct_change           |\n",
      "+-------+----+-------+---------------------+\n",
      "|B      |2010|200    |0.0                  |\n",
      "|B      |2011|190    |-0.050000000000000044|\n",
      "|B      |2012|220    |0.1578947368421053   |\n",
      "|C      |2010|300    |0.0                  |\n",
      "|C      |2011|320    |0.06666666666666665  |\n",
      "+-------+----+-------+---------------------+\n",
      "only showing top 5 rows\n",
      "\n"
     ]
    }
   ],
   "source": [
    "dic_to_df.pct_change().na.fill(0).show(5, False)"
   ]
  },
  {
   "cell_type": "code",
   "execution_count": 8,
   "metadata": {},
   "outputs": [
    {
     "name": "stdout",
     "output_type": "stream",
     "text": [
      "+-------+----+-------+-------------------+\n",
      "|Product|Year|Revenue|pct_change         |\n",
      "+-------+----+-------+-------------------+\n",
      "|B      |2010|200    |0.0                |\n",
      "|B      |2011|190    |0.0                |\n",
      "|B      |2012|220    |0.10000000000000009|\n",
      "|C      |2010|300    |0.0                |\n",
      "|C      |2011|320    |0.0                |\n",
      "+-------+----+-------+-------------------+\n",
      "only showing top 5 rows\n",
      "\n"
     ]
    }
   ],
   "source": [
    "dic_to_df.pct_change(2).na.fill(0).show(5, False)"
   ]
  },
  {
   "cell_type": "code",
   "execution_count": 10,
   "metadata": {},
   "outputs": [
    {
     "name": "stdout",
     "output_type": "stream",
     "text": [
      "(9, 4)\n",
      "+-------+----+-------+---------------------+\n",
      "|Product|Year|Revenue|pct_change           |\n",
      "+-------+----+-------+---------------------+\n",
      "|B      |2010|200    |0.0                  |\n",
      "|B      |2011|190    |-0.050000000000000044|\n",
      "|B      |2012|220    |0.1578947368421053   |\n",
      "|C      |2010|300    |0.0                  |\n",
      "|C      |2011|320    |0.06666666666666665  |\n",
      "+-------+----+-------+---------------------+\n",
      "only showing top 5 rows\n",
      "\n",
      "root\n",
      " |-- Product: string (nullable = true)\n",
      " |-- Year: long (nullable = true)\n",
      " |-- Revenue: long (nullable = true)\n",
      " |-- pct_change: double (nullable = false)\n",
      "\n"
     ]
    }
   ],
   "source": [
    "pct_change_df = dic_to_df.pct_change(partition_by=\"Product\", order_by=\"Year\", pct_cols=\"Revenue\").na.fill(0)\n",
    "print(pct_change_df.shape)\n",
    "pct_change_df.show(5, False)\n",
    "pct_change_df.printSchema()"
   ]
  },
  {
   "cell_type": "code",
   "execution_count": 11,
   "metadata": {},
   "outputs": [
    {
     "name": "stdout",
     "output_type": "stream",
     "text": [
      "(3, 4)\n",
      "+-------+----+---------------------+-------------------+\n",
      "|Product|2010|2011                 |2012               |\n",
      "+-------+----+---------------------+-------------------+\n",
      "|A      |0.0 |0.10000000000000009  |0.09090909090909083|\n",
      "|B      |0.0 |-0.050000000000000044|0.1578947368421053 |\n",
      "|C      |0.0 |0.06666666666666665  |0.09375            |\n",
      "+-------+----+---------------------+-------------------+\n",
      "\n"
     ]
    }
   ],
   "source": [
    "agg_dict_test = {\n",
    "    'pct_change': 'first'\n",
    "}\n",
    "\n",
    "to_matrix_df = pct_change_df.toMatrix(groupBy_col=\"Product\", pivot_col=\"Year\", agg_dict=agg_dict_test).orderBy(\"Product\")\n",
    "print(to_matrix_df.shape)\n",
    "to_matrix_df.show(5, False)"
   ]
  },
  {
   "cell_type": "code",
   "execution_count": 12,
   "metadata": {},
   "outputs": [
    {
     "name": "stdout",
     "output_type": "stream",
     "text": [
      "+-------+----+---------------------+\n",
      "|Product|Year|pct_change           |\n",
      "+-------+----+---------------------+\n",
      "|A      |2010|0.0                  |\n",
      "|A      |2011|0.10000000000000009  |\n",
      "|A      |2012|0.09090909090909083  |\n",
      "|B      |2010|0.0                  |\n",
      "|B      |2011|-0.050000000000000044|\n",
      "|B      |2012|0.1578947368421053   |\n",
      "|C      |2010|0.0                  |\n",
      "+-------+----+---------------------+\n",
      "only showing top 7 rows\n",
      "\n"
     ]
    }
   ],
   "source": [
    "new_col_list = [\"Year\", \"pct_change\"]\n",
    "to_matrix_df.toPanel(pivot_col=\"Product\", new_columns=new_col_list).show(7, False)"
   ]
  },
  {
   "cell_type": "code",
   "execution_count": 13,
   "metadata": {},
   "outputs": [
    {
     "name": "stdout",
     "output_type": "stream",
     "text": [
      "+-------+----+---------------------+\n",
      "|Product|Year|pct_change           |\n",
      "+-------+----+---------------------+\n",
      "|A      |2010|0.0                  |\n",
      "|A      |2011|0.10000000000000009  |\n",
      "|A      |2012|0.09090909090909083  |\n",
      "|B      |2010|0.0                  |\n",
      "|B      |2011|-0.050000000000000044|\n",
      "|B      |2012|0.1578947368421053   |\n",
      "|C      |2010|0.0                  |\n",
      "+-------+----+---------------------+\n",
      "only showing top 7 rows\n",
      "\n"
     ]
    }
   ],
   "source": [
    "new_col_list = [\"Year\", \"pct_change\"]\n",
    "to_matrix_df.transpose(pivot_col=\"Product\", new_columns=new_col_list).show(7, False)"
   ]
  },
  {
   "cell_type": "code",
   "execution_count": 14,
   "metadata": {},
   "outputs": [
    {
     "name": "stdout",
     "output_type": "stream",
     "text": [
      "(9, 3)\n",
      "+-------+----+---------------------+\n",
      "|Product|Year|pct_change           |\n",
      "+-------+----+---------------------+\n",
      "|A      |2010|0.0                  |\n",
      "|A      |2011|0.10000000000000009  |\n",
      "|A      |2012|0.09090909090909083  |\n",
      "|B      |2010|0.0                  |\n",
      "|B      |2011|-0.050000000000000044|\n",
      "|B      |2012|0.1578947368421053   |\n",
      "|C      |2010|0.0                  |\n",
      "+-------+----+---------------------+\n",
      "only showing top 7 rows\n",
      "\n"
     ]
    }
   ],
   "source": [
    "new_col_list = [\"Year\", \"pct_change\"]\n",
    "to_panel_df = to_matrix_df.T(pivot_col=\"Product\", new_columns=new_col_list)\n",
    "print(to_panel_df.shape)\n",
    "to_panel_df.show(7, False)"
   ]
  },
  {
   "cell_type": "code",
   "execution_count": 15,
   "metadata": {},
   "outputs": [
    {
     "name": "stdout",
     "output_type": "stream",
     "text": [
      "+-------+----+---------------------+-------------------+\n",
      "|Product|2010|2011                 |2012               |\n",
      "+-------+----+---------------------+-------------------+\n",
      "|A      |0.0 |0.10000000000000009  |0.09090909090909083|\n",
      "|B      |0.0 |-0.050000000000000044|0.1578947368421053 |\n",
      "|C      |0.0 |0.06666666666666665  |0.09375            |\n",
      "+-------+----+---------------------+-------------------+\n",
      "\n"
     ]
    }
   ],
   "source": [
    "agg_dict_test2 = {\n",
    "    'pct_change': 'first'\n",
    "}\n",
    "to_panel_df.toMatrix(groupBy_col=\"Product\", pivot_col=\"Year\", agg_dict=agg_dict_test2).show(7, False)"
   ]
  },
  {
   "cell_type": "code",
   "execution_count": 16,
   "metadata": {},
   "outputs": [
    {
     "name": "stdout",
     "output_type": "stream",
     "text": [
      "+-------------+-------------+-------------------+\n",
      "|Product_m_dim|Product_n_dim|pearson_coefficient|\n",
      "+-------------+-------------+-------------------+\n",
      "|            A|            A|                1.0|\n",
      "|            A|            B|0.20731725371079707|\n",
      "|            A|            C| 0.9334853274873337|\n",
      "|            B|            A|0.20731725371079707|\n",
      "|            B|            B|                1.0|\n",
      "|            B|            C| 0.5443518400395578|\n",
      "|            C|            A| 0.9334853274873337|\n",
      "|            C|            B| 0.5443518400395579|\n",
      "|            C|            C| 0.9999999999999999|\n",
      "+-------------+-------------+-------------------+\n",
      "\n"
     ]
    }
   ],
   "source": [
    "to_matrix_df.corr(pivot_col=\"Product\").show()"
   ]
  },
  {
   "cell_type": "code",
   "execution_count": 17,
   "metadata": {},
   "outputs": [
    {
     "name": "stdout",
     "output_type": "stream",
     "text": [
      "+-------------+-------------+-------------------+\n",
      "|Product_m_dim|Product_n_dim|pearson_coefficient|\n",
      "+-------------+-------------+-------------------+\n",
      "|            A|            A|                1.0|\n",
      "|            A|            B|0.20731725371079707|\n",
      "|            A|            C| 0.9334853274873337|\n",
      "|            B|            A|0.20731725371079707|\n",
      "|            B|            B|                1.0|\n",
      "|            B|            C| 0.5443518400395578|\n",
      "|            C|            A| 0.9334853274873337|\n",
      "|            C|            B| 0.5443518400395579|\n",
      "|            C|            C| 0.9999999999999999|\n",
      "+-------------+-------------+-------------------+\n",
      "\n"
     ]
    }
   ],
   "source": [
    "to_matrix_df.toCorrelationMatrix().show()"
   ]
  }
 ],
 "metadata": {
  "kernelspec": {
   "display_name": "ophelia",
   "language": "python",
   "name": "ophelia"
  },
  "language_info": {
   "codemirror_mode": {
    "name": "ipython",
    "version": 3
   },
   "file_extension": ".py",
   "mimetype": "text/x-python",
   "name": "python",
   "nbconvert_exporter": "python",
   "pygments_lexer": "ipython3",
   "version": "3.8.0"
  }
 },
 "nbformat": 4,
 "nbformat_minor": 4
}
