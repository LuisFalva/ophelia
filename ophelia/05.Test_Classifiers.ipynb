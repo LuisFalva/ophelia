{
 "cells": [
  {
   "cell_type": "code",
   "execution_count": 1,
   "metadata": {},
   "outputs": [
    {
     "data": {
      "text/html": [
       "<style>\n",
       ".output_subarea.output_text.output_stream.output_stdout > pre {\n",
       "    width:max-content;\n",
       "}\n",
       ".p-Widget.jp-RenderedText.jp-OutputArea-output > pre {\n",
       "   width:max-content;\n",
       "}\n",
       "</style>\n"
      ],
      "text/plain": [
       "<IPython.core.display.HTML object>"
      ]
     },
     "metadata": {},
     "output_type": "display_data"
    }
   ],
   "source": [
    "%%html\n",
    "<style>\n",
    ".output_subarea.output_text.output_stream.output_stdout > pre {\n",
    "    width:max-content;\n",
    "}\n",
    ".p-Widget.jp-RenderedText.jp-OutputArea-output > pre {\n",
    "   width:max-content;\n",
    "}\n",
    "</style>"
   ]
  },
  {
   "cell_type": "code",
   "execution_count": 2,
   "metadata": {},
   "outputs": [],
   "source": [
    "import html\n",
    "import visualize"
   ]
  },
  {
   "cell_type": "code",
   "execution_count": 3,
   "metadata": {},
   "outputs": [],
   "source": [
    "import pandas as pd\n",
    "import sys\n",
    "#sys.path.insert(0, '..')\n",
    "sys.path.append('..')\n",
    "pd.set_option('display.max_columns', 10000000)\n",
    "pd.set_option('display.max_rows', 10000000)\n",
    "pd.set_option('display.width', 10000000)"
   ]
  },
  {
   "cell_type": "code",
   "execution_count": 4,
   "metadata": {},
   "outputs": [],
   "source": [
    "import visualize\n",
    "from com.ophelia.OpheliaVendata import OpheliaVendata"
   ]
  },
  {
   "cell_type": "code",
   "execution_count": 5,
   "metadata": {},
   "outputs": [
    {
     "name": "stdout",
     "output_type": "stream",
     "text": [
      "\n",
      "===================================================================================================\n",
      "14:34:49.093 Ophelia [INFO] ¡Hi! My name is Ophelia\n",
      "14:34:49.093 Ophelia [INFO] I am an artificial assistant for machine learning applications in Spark\n",
      "14:34:49.093 Ophelia [INFO] Welcome to Ophelia Assisted Intelligence System (OAIS)\n",
      "14:34:49.093 Ophelia [INFO] V for Vendata...\n",
      "===================================================================================================\n",
      "\n",
      "                                 - By. Vendata-Gentleman Club -                            \n",
      "\n",
      "                   █ █ █ █ █ █ █ █ █ █ █ █ █ █ █ █ █ █ █ █ █ █ █ █ █ █ █ █ █ █ █\n",
      "                   █ █ █ █ ╬ ╬ ╬ ╬ ╬ ╬ ╬ ╬ ╬ ╬ ╬ ╬ ╬ ╬ ╬ ╬ ╬ ╬ ╬ ╬ ╬ ╬ ╬ █ █ █ █\n",
      "                   █ █ ╬ ╬ ╬ ╬ ╬ ╬ ╬ ╬ ╬ ╬ ╬ ╬ ╬ ╬ ╬ ╬ ╬ ╬ ╬ ╬ ╬ ╬ ╬ ╬ ╬ ╬ ╬ █ █\n",
      "                   █ ╬ ╬ ╬ ╬ ╬ ╬ ╬ ╬ ╬ ╬ ╬ ╬ ╬ ╬ ╬ ╬ ╬ ╬ ╬ ╬ ╬ ╬ ╬ ╬ ╬ ╬ ╬ ╬ ╬ █\n",
      "                   █ ╬ ╬ ╬ █ █ █ █ █ █ █ ╬ ╬ ╬ ╬ ╬ ╬ ╬ ╬ ╬ █ █ █ █ █ █ █ ╬ ╬ ╬ █\n",
      "                   █ ╬ ╬ █ █ ╬ ╬ ╬ ╬ █ █ █ ╬ ╬ ╬ ╬ ╬ ╬ ╬ █ █ █ ╬ ╬ ╬ ╬ █ █ ╬ ╬ █\n",
      "                   █ ╬ █ █ ╬ ╬ ╬ ╬ ╬ ╬ ╬ █ █ ╬ ╬ ╬ ╬ ╬ █ █ ╬ ╬ ╬ ╬ ╬ ╬ ╬ █ █ ╬ █\n",
      "                   █ ╬ ╬ ╬ ╬ ╬ ╬ ╬ ╬ ╬ ╬ ╬ ╬ ╬ ╬ ╬ ╬ ╬ ╬ ╬ ╬ ╬ ╬ ╬ ╬ ╬ ╬ ╬ ╬ ╬ █\n",
      "                   █ ╬ ╬ ╬ ╬ █ █ █ █ █ ╬ ╬ ╬ ╬ ╬ ╬ ╬ ╬ ╬ ╬ ╬ █ █ █ █ █ ╬ ╬ ╬ ╬ █\n",
      "                   █ ╬ ╬ █ █ █ █ █ █ █ █ █ ╬ ╬ ╬ ╬ ╬ ╬ ╬ █ █ █ █ █ █ █ █ █ ╬ ╬ █\n",
      "                   █ ╬ ╬ ╬ ╬ ╬ ╬ ╬ ╬ ╬ ╬ ╬ ╬ ╬ ╬ ╬ ╬ ╬ ╬ ╬ ╬ ╬ ╬ ╬ ╬ ╬ ╬ ╬ ╬ ╬ █\n",
      "                   █ ╬ ╬ ╬ ╬ ╬ ╬ ╬ ╬ ╬ ╬ ╬ ╬ ╬ ╬ █ ╬ ╬ ╬ ╬ ╬ ╬ ╬ ╬ ╬ ╬ ╬ ╬ ╬ ╬ █\n",
      "                   █ ╬ ╬ ╬ ╬ ╬ ╬ ╬ ╬ ╬ ╬ ╬ ╬ ╬ ╬ █ ╬ ╬ ╬ ╬ ╬ ╬ ╬ ╬ ╬ ╬ ╬ ╬ ╬ ╬ █\n",
      "                   █ ╬ ╬ ╬ ╬ ╬ ╬ ╬ ╬ ╬ ╬ ╬ ╬ ╬ ╬ █ ╬ ╬ ╬ ╬ ╬ ╬ ╬ ╬ ╬ ╬ ╬ ╬ ╬ ╬ █\n",
      "                   █ ╬ ╬ ╬ ▓ ▓ ▓ ▓ ╬ ╬ ╬ ╬ ╬ ╬ ╬ █ ╬ ╬ ╬ ╬ ╬ ╬ ╬ ▓ ▓ ▓ ▓ ╬ ╬ ╬ █\n",
      "                   █ ╬ ╬ ▓ ▓ ▓ ▓ ▓ ▓ ╬ ╬ █ ╬ ╬ ╬ █ ╬ ╬ ╬ █ ╬ ╬ ▓ ▓ ▓ ▓ ▓ ▓ ╬ ╬ █\n",
      "                   █ ╬ ╬ ╬ ▓ ▓ ▓ ▓ ╬ ╬ █ █ ╬ ╬ ╬ █ ╬ ╬ ╬ █ █ ╬ ╬ ▓ ▓ ▓ ▓ ╬ ╬ ╬ █\n",
      "                   █ ╬ ╬ ╬ ╬ ╬ ╬ ╬ ╬ █ █ ╬ ╬ ╬ ╬ █ ╬ ╬ ╬ ╬ █ █ ╬ ╬ ╬ ╬ ╬ ╬ ╬ ╬ █\n",
      "                   █ ╬ ╬ ╬ ╬ ╬ █ █ █ █ ╬ ╬ ╬ ╬ █ █ █ ╬ ╬ ╬ ╬ █ █ █ █ ╬ ╬ ╬ ╬ ╬ █\n",
      "                   █ ╬ ╬ ╬ ╬ ╬ ╬ ╬ ╬ ╬ ╬ ╬ ╬ ╬ █ █ █ ╬ ╬ ╬ ╬ ╬ ╬ ╬ ╬ ╬ ╬ ╬ ╬ ╬ █\n",
      "                   █ █ ╬ ╬ █ ╬ ╬ ╬ ╬ ╬ ╬ ╬ ╬ █ █ █ █ █ ╬ ╬ ╬ ╬ ╬ ╬ ╬ ╬ █ ╬ ╬ █ █\n",
      "                   █ █ ╬ ╬ █ █ ╬ ╬ ╬ ╬ ╬ ╬ █ █ █ █ █ █ █ ╬ ╬ ╬ ╬ ╬ ╬ █ █ ╬ ╬ █ █\n",
      "                   █ █ ╬ ╬ ▓ █ █ █ ╬ ╬ ╬ █ █ █ █ ╬ █ █ █ █ ╬ ╬ ╬ █ █ █ ▓ ╬ ╬ █ █\n",
      "                   █ █ █ ╬ ╬ ▓ ▓ █ █ █ █ █ █ █ ╬ ╬ ╬ █ █ █ █ █ █ █ ▓ ▓ ╬ ╬ █ █ █\n",
      "                   █ █ █ ╬ ╬ ╬ ╬ ▓ ▓ ▓ ▓ ▓ ▓ ▓ ▓ ▓ ▓ ▓ ▓ ▓ ▓ ▓ ▓ ▓ ╬ ╬ ╬ ╬ █ █ █\n",
      "                   █ █ █ █ ╬ ╬ ╬ ╬ ╬ ╬ ╬ ╬ ╬ ╬ █ █ █ ╬ ╬ ╬ ╬ ╬ ╬ ╬ ╬ ╬ ╬ █ █ █ █\n",
      "                   █ █ █ █ █ ╬ ╬ ╬ ╬ ╬ ╬ ╬ ╬ ╬ ╬ █ ╬ ╬ ╬ ╬ ╬ ╬ ╬ ╬ ╬ ╬ █ █ █ █ █\n",
      "                   █ █ █ █ █ █ ╬ ╬ ╬ ╬ ╬ ╬ ╬ ╬ █ █ █ ╬ ╬ ╬ ╬ ╬ ╬ ╬ ╬ █ █ █ █ █ █\n",
      "                   █ █ █ █ █ █ █ ╬ ╬ ╬ ╬ ╬ ╬ ╬ █ █ █ ╬ ╬ ╬ ╬ ╬ ╬ ╬ █ █ █ █ █ █ █\n",
      "                   █ █ █ █ █ █ █ █ ╬ ╬ ╬ ╬ ╬ ╬ █ █ █ ╬ ╬ ╬ ╬ ╬ ╬ █ █ █ █ █ █ █ █\n",
      "                   █ █ █ █ █ █ █ █ █ ╬ ╬ ╬ ╬ ╬ █ █ █ ╬ ╬ ╬ ╬ ╬ █ █ █ █ █ █ █ █ █\n",
      "                   █ █ █ █ █ █ █ █ █ █ █ ╬ ╬ ╬ ╬ █ ╬ ╬ ╬ ╬ █ █ █ █ █ █ █ █ █ █ █\n",
      "                   █ █ █ █ █ █ █ █ █ █ █ █ █ █ █ █ █ █ █ █ █ █ █ █ █ █ █ █ █ █ █\n",
      "\n",
      "===================================================================================================\n",
      "14:34:49.094 Ophelia [INFO] Build OpheliaSpark Session\n",
      "14:34:58.457 Ophelia [INFO] OpheliaSpark Session Version: 3.0.0\n",
      "14:34:58.457 Ophelia [WARN] Please, Be Aware To Set App Name Next Time...\n"
     ]
    }
   ],
   "source": [
    "ophelia = OpheliaVendata()"
   ]
  },
  {
   "cell_type": "code",
   "execution_count": 7,
   "metadata": {},
   "outputs": [
    {
     "name": "stdout",
     "output_type": "stream",
     "text": [
      "14:36:10.898 Ophelia [INFO] Read Parquet File\n",
      "14:36:13.762 Ophelia [INFO] Read Parquet Successfully From Path: data/ophelia/out/model/RiskClassifier/\n"
     ]
    }
   ],
   "source": [
    "spark = ophelia.ophelia_session\n",
    "path = \"data/ophelia/out/model/RiskClassifier/\"\n",
    "customer_banking = ophelia.ophelia_read.read_file(spark, path, \"parquet\")"
   ]
  },
  {
   "cell_type": "code",
   "execution_count": 5,
   "metadata": {},
   "outputs": [
    {
     "name": "stdout",
     "output_type": "stream",
     "text": [
      "+---+-----------+-------+---------+------+-----+------+-------+------+----------+\n",
      "|age|        job|marital|education|gender|child|saving|insight|backup|risk_label|\n",
      "+---+-----------+-------+---------+------+-----+------+-------+------+----------+\n",
      "| 54|     admin.|married| tertiary|female|    1|     0|      0|     1|        MA|\n",
      "| 28|   services| single|secondary|female|    0|     0|      0|     1|        MA|\n",
      "| 28|blue-collar| single|secondary|female|    1|     0|      1|     0|        MA|\n",
      "| 52| management|married|  unknown|female|    0|     1|      1|     0|        MA|\n",
      "| 48|blue-collar|married|secondary|female|    0|     1|      1|     0|        MA|\n",
      "+---+-----------+-------+---------+------+-----+------+-------+------+----------+\n",
      "only showing top 5 rows\n",
      "\n"
     ]
    }
   ],
   "source": [
    "customer_banking.show(5)"
   ]
  },
  {
   "cell_type": "markdown",
   "metadata": {},
   "source": [
    "## Se ha decidido aplicar el algoritmo Gradient-Boosted Tree Classifier, la rezón es por tener el potenciador del gradiente descendente, este ha demostrado tener buenos resultados, dado que el algoritmo no soporta clasificación multiclass, se trabajará un tratamiento especial a los datos.\n",
    "\n",
    "## Se crearán 5 GBTClassifier, uno para cada clase de riesgo {'A', 'MA', 'M', 'MC', 'C'}, convertiremos la clase $k_{i}$ en 1 y el resto en cero."
   ]
  },
  {
   "cell_type": "code",
   "execution_count": 8,
   "metadata": {},
   "outputs": [],
   "source": [
    "import numpy as np\n",
    "\n",
    "from pyspark.sql import DataFrame\n",
    "from pyspark.ml import Pipeline\n",
    "from pyspark.ml.feature import StringIndexer, VectorAssembler, OneHotEncoder\n",
    "from pyspark.sql.functions import when, col, lit"
   ]
  },
  {
   "cell_type": "code",
   "execution_count": 9,
   "metadata": {},
   "outputs": [
    {
     "name": "stdout",
     "output_type": "stream",
     "text": [
      "+----------+-------+---------+------+----+-----+------+-------+------+-----+\n",
      "|job       |marital|education|gender|age |child|saving|insight|backup|label|\n",
      "+----------+-------+---------+------+----+-----+------+-------+------+-----+\n",
      "|admin.    |married|secondary|female|59.0|0.0  |1.0   |0.0    |1.0   |0.0  |\n",
      "|admin.    |married|secondary|female|56.0|1.0  |0.0   |1.0    |0.0   |0.0  |\n",
      "|technician|married|secondary|male  |41.0|1.0  |0.0   |1.0    |1.0   |0.0  |\n",
      "|services  |married|secondary|male  |55.0|0.0  |1.0   |0.0    |0.0   |0.0  |\n",
      "|admin.    |married|tertiary |female|54.0|0.0  |1.0   |1.0    |0.0   |0.0  |\n",
      "+----------+-------+---------+------+----+-----+------+-------+------+-----+\n",
      "only showing top 5 rows\n",
      "\n",
      "root\n",
      " |-- job: string (nullable = true)\n",
      " |-- marital: string (nullable = true)\n",
      " |-- education: string (nullable = true)\n",
      " |-- gender: string (nullable = true)\n",
      " |-- age: float (nullable = true)\n",
      " |-- child: float (nullable = true)\n",
      " |-- saving: float (nullable = true)\n",
      " |-- insight: float (nullable = true)\n",
      " |-- backup: float (nullable = true)\n",
      " |-- label: double (nullable = false)\n",
      "\n"
     ]
    }
   ],
   "source": [
    "initial_string_columns = [\n",
    "    \"job\",\n",
    "    \"marital\",\n",
    "    \"education\",\n",
    "    \"gender\"\n",
    "]\n",
    "cast_numeric_columns = [\n",
    "    col(\"age\").cast(\"float\"),\n",
    "    col(\"child\").cast(\"float\"),\n",
    "    col(\"saving\").cast(\"float\"),\n",
    "    col(\"insight\").cast(\"float\"),\n",
    "    col(\"backup\").cast(\"float\")\n",
    "]\n",
    "build_target = when(col(\"risk_label\") == \"C\", lit(1.0)).otherwise(0.0)\n",
    "mapped_classes = customer_banking.select(\n",
    "    *initial_string_columns,\n",
    "    *cast_numeric_columns,\n",
    "    build_target.alias(\"label\")\n",
    ")\n",
    "mapped_classes.show(5, False)\n",
    "mapped_classes.printSchema()"
   ]
  },
  {
   "cell_type": "markdown",
   "metadata": {},
   "source": [
    "## Bitácora de experimentos:\n",
    "- para el primer experimento, entrenamos un modelo Gradient Boosted Tree Classifier prediciendo la clase 'C' (conservador) como variable 'target' = 1, la distribución es de [1:526, 0:10636], la clase 1 (positiva) presenta desbalanceo 20:1, observaremos los resultado producidos con el modelo defacto a entrenar."
   ]
  },
  {
   "cell_type": "code",
   "execution_count": 10,
   "metadata": {},
   "outputs": [
    {
     "name": "stdout",
     "output_type": "stream",
     "text": [
      "Class proportion 13:1\n"
     ]
    }
   ],
   "source": [
    "negative_class = mapped_classes.groupBy(\"label\").count().where(col(\"label\") == 0.0).select(\"count\").collect()[0][0]\n",
    "positive_class = mapped_classes.groupBy(\"label\").count().where(col(\"label\") == 1.0).select(\"count\").collect()[0][0]\n",
    "\n",
    "print(\"Class proportion\", str(round(negative_class/positive_class)) + \":1\")"
   ]
  },
  {
   "cell_type": "code",
   "execution_count": 11,
   "metadata": {},
   "outputs": [],
   "source": [
    "def pipe(transform_list):\n",
    "    return Pipeline(stages=transform_list)\n",
    "\n",
    "def fit(pipe, df):\n",
    "    return pipe.fit(df)\n",
    "\n",
    "def transform(model, df):\n",
    "    return model.transform(df)"
   ]
  },
  {
   "cell_type": "code",
   "execution_count": 12,
   "metadata": {},
   "outputs": [],
   "source": [
    "def string_indexer(col_list):\n",
    "    return [StringIndexer(inputCol=column, outputCol=\"{0}_index\".format(column)) for column in col_list]\n",
    "\n",
    "def build_string_index(df, col_list):\n",
    "    indexers = string_indexer(col_list)\n",
    "    pipe = pipe(indexers)\n",
    "    fit_model = fit(pipe, df)\n",
    "    return transform(fit_model, df)"
   ]
  },
  {
   "cell_type": "code",
   "execution_count": 24,
   "metadata": {},
   "outputs": [],
   "source": [
    "a = []\n",
    "if a is list:\n",
    "    print(\"hola\")"
   ]
  },
  {
   "cell_type": "code",
   "execution_count": 17,
   "metadata": {},
   "outputs": [],
   "source": [
    "from typing import List"
   ]
  },
  {
   "cell_type": "code",
   "execution_count": 18,
   "metadata": {},
   "outputs": [],
   "source": [
    "def single_string_indexer(single_col: str) -> StringIndexer:\n",
    "    return StringIndexer(inputCol=single_col, outputCol=single_col + \"_index\")\n",
    "\n",
    "def multi_string_indexer(multi_col: list) -> List[StringIndexer]:\n",
    "    indexer = [StringIndexer(\n",
    "        inputCol=column,\n",
    "        outputCol=\"{0}_index\".format(column)) for column in multi_col]\n",
    "    return indexer"
   ]
  },
  {
   "cell_type": "code",
   "execution_count": 19,
   "metadata": {},
   "outputs": [],
   "source": [
    "def build_string_index(df: DataFrame, indexer_type: str, col_name: str = None, col_list: list = None) -> DataFrame:\n",
    "    dict_indexer = {\n",
    "        \"single\": single_string_indexer,\n",
    "        \"multi\": multi_string_indexer\n",
    "    }\n",
    "    if col_list is not None:\n",
    "        pipe_ml = pipe(dict_indexer[indexer_type](col_list))\n",
    "    elif col_name is not None:\n",
    "        pipe_ml = pipe(dict_indexer[indexer_type](col_name))\n",
    "    else:\n",
    "        raise ValueError('Unexpected indexer type:{}'.format(dict_indexer[indexer_type]))\n",
    "    fit_model = fit(pipe_ml, df)\n",
    "    return transform(fit_model, df)"
   ]
  },
  {
   "cell_type": "code",
   "execution_count": 20,
   "metadata": {},
   "outputs": [],
   "source": [
    "categorical_columns = ['job', 'marital', 'education', 'gender']"
   ]
  },
  {
   "cell_type": "code",
   "execution_count": 21,
   "metadata": {},
   "outputs": [
    {
     "name": "stdout",
     "output_type": "stream",
     "text": [
      "+----------+-------+---------+------+----+-----+------+-------+------+-----+---------+-------------+---------------+------------+\n",
      "|job       |marital|education|gender|age |child|saving|insight|backup|label|job_index|marital_index|education_index|gender_index|\n",
      "+----------+-------+---------+------+----+-----+------+-------+------+-----+---------+-------------+---------------+------------+\n",
      "|admin.    |married|secondary|female|59.0|0.0  |1.0   |0.0    |1.0   |0.0  |3.0      |0.0          |0.0            |1.0         |\n",
      "|admin.    |married|secondary|female|56.0|1.0  |0.0   |1.0    |0.0   |0.0  |3.0      |0.0          |0.0            |1.0         |\n",
      "|technician|married|secondary|male  |41.0|1.0  |0.0   |1.0    |1.0   |0.0  |2.0      |0.0          |0.0            |0.0         |\n",
      "|services  |married|secondary|male  |55.0|0.0  |1.0   |0.0    |0.0   |0.0  |4.0      |0.0          |0.0            |0.0         |\n",
      "|admin.    |married|tertiary |female|54.0|0.0  |1.0   |1.0    |0.0   |0.0  |3.0      |0.0          |1.0            |1.0         |\n",
      "+----------+-------+---------+------+----+-----+------+-------+------+-----+---------+-------------+---------------+------------+\n",
      "only showing top 5 rows\n",
      "\n",
      "root\n",
      " |-- job: string (nullable = true)\n",
      " |-- marital: string (nullable = true)\n",
      " |-- education: string (nullable = true)\n",
      " |-- gender: string (nullable = true)\n",
      " |-- age: float (nullable = true)\n",
      " |-- child: float (nullable = true)\n",
      " |-- saving: float (nullable = true)\n",
      " |-- insight: float (nullable = true)\n",
      " |-- backup: float (nullable = true)\n",
      " |-- label: double (nullable = false)\n",
      " |-- job_index: double (nullable = false)\n",
      " |-- marital_index: double (nullable = false)\n",
      " |-- education_index: double (nullable = false)\n",
      " |-- gender_index: double (nullable = false)\n",
      "\n"
     ]
    }
   ],
   "source": [
    "transform_df = build_string_index(df=mapped_classes, indexer_type=\"multi\", col_name=categorical_columns)\n",
    "transform_df.show(5, False)\n",
    "transform_df.printSchema()"
   ]
  },
  {
   "cell_type": "code",
   "execution_count": 206,
   "metadata": {},
   "outputs": [],
   "source": [
    "from pyspark.ml.feature import Binarizer, BucketedRandomProjectionLSH, BucketedRandomProjectionLSHModel, Bucketizer, \\\n",
    "    ChiSqSelector, ChiSqSelectorModel, CountVectorizer, CountVectorizerModel, DCT, ElementwiseProduct, FeatureHasher, \\\n",
    "    HashingTF, IDF, IDFModel, Imputer, ImputerModel, IndexToString, MaxAbsScaler, MaxAbsScalerModel, MinHashLSH, \\\n",
    "    MinHashLSHModel, MinMaxScaler, MinMaxScalerModel, NGram, Normalizer, OneHotEncoder, \\\n",
    "    OneHotEncoderModel, PCA, PCAModel, PolynomialExpansion, QuantileDiscretizer, RegexTokenizer, RFormula, \\\n",
    "    RFormulaModel, StringIndexer, StringIndexerModel, VectorSlicer, Word2Vec, VectorSizeHint, StopWordsRemover, \\\n",
    "    StandardScalerModel, StandardScaler, SQLTransformer, Tokenizer, VectorAssembler, VectorIndexer, VectorIndexerModel, \\\n",
    "    Word2VecModel\n",
    "\n",
    "\n",
    "class OpheliaJavaTransformers:\n",
    "\n",
    "    __all__ = [Binarizer, BucketedRandomProjectionLSH, BucketedRandomProjectionLSHModel,\n",
    "               Bucketizer, ChiSqSelector, ChiSqSelectorModel, CountVectorizer, CountVectorizerModel,\n",
    "               DCT, ElementwiseProduct, FeatureHasher, HashingTF, IDF, IDFModel, Imputer, ImputerModel,\n",
    "               IndexToString, MaxAbsScaler, MaxAbsScalerModel, MinHashLSH, MinHashLSHModel, MinMaxScaler,\n",
    "               MinMaxScalerModel, NGram, Normalizer, OneHotEncoder, OneHotEncoderModel,\n",
    "               PCA, PCAModel, PolynomialExpansion, QuantileDiscretizer, RegexTokenizer, RFormula, RFormulaModel,\n",
    "               SQLTransformer, StandardScaler, StandardScalerModel, StopWordsRemover, StringIndexer, StringIndexerModel,\n",
    "               Tokenizer, VectorAssembler, VectorIndexer, VectorIndexerModel, VectorSizeHint, VectorSlicer, Word2Vec,\n",
    "               Word2VecModel]"
   ]
  },
  {
   "cell_type": "code",
   "execution_count": 207,
   "metadata": {},
   "outputs": [],
   "source": [
    "def class_type(dtype):\n",
    "    return dtype.__class__\n",
    "\n",
    "def class_name(dtype):\n",
    "    return dtype.__class__.__name__"
   ]
  },
  {
   "cell_type": "code",
   "execution_count": 208,
   "metadata": {},
   "outputs": [],
   "source": [
    "def fit(pipe, df: DataFrame):\n",
    "    if class_type(pipe) not in OpheliaJavaTransformers.__all__:\n",
    "        raise TypeError(\"'pipe' must be OpheliaMLObjects not \" + class_name(pipe))\n",
    "    return pipe.fit(df)"
   ]
  },
  {
   "cell_type": "code",
   "execution_count": 209,
   "metadata": {},
   "outputs": [],
   "source": [
    "def ohe_estimator(col_list):\n",
    "    indexers = string_indexer(col_list)\n",
    "    encoder = OneHotEncoder(\n",
    "        inputCols=[indexer.getOutputCol() for indexer in indexers],\n",
    "        outputCols=[\"{0}_encoded\".format(indexer.getOutputCol()) for indexer in indexers]\n",
    "    )\n",
    "    return encoder\n",
    "\n",
    "def build_one_hot_encoder(df, col_list):\n",
    "    encoder = ohe_estimator(col_list)\n",
    "    encode_vector = fit(encoder, df)\n",
    "    return transform(encode_vector, df)"
   ]
  },
  {
   "cell_type": "code",
   "execution_count": 210,
   "metadata": {},
   "outputs": [
    {
     "name": "stdout",
     "output_type": "stream",
     "text": [
      "+-----------+-------+---------+------+----+-----+------+-------+------+-----+-----------------+---------------------+-----------------------+--------------------+\n",
      "|        job|marital|education|gender| age|child|saving|insight|backup|label|job_index_encoded|marital_index_encoded|education_index_encoded|gender_index_encoded|\n",
      "+-----------+-------+---------+------+----+-----+------+-------+------+-----+-----------------+---------------------+-----------------------+--------------------+\n",
      "|     admin.|married| tertiary|female|54.0|  1.0|   0.0|    0.0|   1.0|  0.0|   (11,[3],[1.0])|        (2,[0],[1.0])|          (3,[1],[1.0])|       (1,[0],[1.0])|\n",
      "|   services| single|secondary|female|28.0|  0.0|   0.0|    0.0|   1.0|  0.0|   (11,[4],[1.0])|        (2,[1],[1.0])|          (3,[0],[1.0])|       (1,[0],[1.0])|\n",
      "|blue-collar| single|secondary|female|28.0|  1.0|   0.0|    1.0|   0.0|  0.0|   (11,[1],[1.0])|        (2,[1],[1.0])|          (3,[0],[1.0])|       (1,[0],[1.0])|\n",
      "| management|married|  unknown|female|52.0|  0.0|   1.0|    1.0|   0.0|  0.0|   (11,[0],[1.0])|        (2,[0],[1.0])|              (3,[],[])|       (1,[0],[1.0])|\n",
      "|blue-collar|married|secondary|female|48.0|  0.0|   1.0|    1.0|   0.0|  0.0|   (11,[1],[1.0])|        (2,[0],[1.0])|          (3,[0],[1.0])|       (1,[0],[1.0])|\n",
      "+-----------+-------+---------+------+----+-----+------+-------+------+-----+-----------------+---------------------+-----------------------+--------------------+\n",
      "only showing top 5 rows\n",
      "\n"
     ]
    }
   ],
   "source": [
    "columns_lambda = lambda k: k.endswith('_index')\n",
    "indexed_columns = list(filter(columns_lambda, transform_df.columns))\n",
    "encode_vector_df = build_one_hot_encoder(transform_df, categorical_columns).drop(*indexed_columns)\n",
    "encode_vector_df.show(5)"
   ]
  },
  {
   "cell_type": "code",
   "execution_count": 211,
   "metadata": {},
   "outputs": [],
   "source": [
    "def indexer_encoded(index_list):\n",
    "    indexers = string_indexer(index_list)\n",
    "    encode_index_list = []\n",
    "    for c in range(len(indexers)):\n",
    "        encode_index_list.append(indexers[c].getOutputCol() + \"_encoded\")\n",
    "    return encode_index_list"
   ]
  },
  {
   "cell_type": "code",
   "execution_count": 212,
   "metadata": {},
   "outputs": [],
   "source": [
    "indexers = string_indexer(categorical_columns)\n",
    "string_indexer_cols = []\n",
    "for c in range(len(indexers)):\n",
    "    string_indexer_cols.append(indexers[c].getOutputCol() + \"_encoded\")"
   ]
  },
  {
   "cell_type": "code",
   "execution_count": 213,
   "metadata": {},
   "outputs": [
    {
     "data": {
      "text/plain": [
       "['job_index_encoded',\n",
       " 'marital_index_encoded',\n",
       " 'education_index_encoded',\n",
       " 'gender_index_encoded']"
      ]
     },
     "execution_count": 213,
     "metadata": {},
     "output_type": "execute_result"
    }
   ],
   "source": [
    "string_indexer_cols"
   ]
  },
  {
   "cell_type": "code",
   "execution_count": 214,
   "metadata": {},
   "outputs": [],
   "source": [
    "numericCols = ['age', 'child', 'saving', 'insight', 'backup']\n",
    "assemblerInputs = string_indexer_cols + numericCols\n",
    "assembler = VectorAssembler(inputCols=assemblerInputs, outputCol=\"features\")"
   ]
  },
  {
   "cell_type": "code",
   "execution_count": 215,
   "metadata": {},
   "outputs": [
    {
     "name": "stdout",
     "output_type": "stream",
     "text": [
      "+-----------+-------+---------+------+----+-----+------+-------+------+-----+-----------------+---------------------+-----------------------+--------------------+---------------------------------------------------------+\n",
      "|job        |marital|education|gender|age |child|saving|insight|backup|label|job_index_encoded|marital_index_encoded|education_index_encoded|gender_index_encoded|features                                                 |\n",
      "+-----------+-------+---------+------+----+-----+------+-------+------+-----+-----------------+---------------------+-----------------------+--------------------+---------------------------------------------------------+\n",
      "|admin.     |married|tertiary |female|54.0|1.0  |0.0   |0.0    |1.0   |0.0  |(11,[3],[1.0])   |(2,[0],[1.0])        |(3,[1],[1.0])          |(1,[0],[1.0])       |(22,[3,11,14,16,17,18,21],[1.0,1.0,1.0,1.0,54.0,1.0,1.0])|\n",
      "|services   |single |secondary|female|28.0|0.0  |0.0   |0.0    |1.0   |0.0  |(11,[4],[1.0])   |(2,[1],[1.0])        |(3,[0],[1.0])          |(1,[0],[1.0])       |(22,[4,12,13,16,17,21],[1.0,1.0,1.0,1.0,28.0,1.0])       |\n",
      "|blue-collar|single |secondary|female|28.0|1.0  |0.0   |1.0    |0.0   |0.0  |(11,[1],[1.0])   |(2,[1],[1.0])        |(3,[0],[1.0])          |(1,[0],[1.0])       |(22,[1,12,13,16,17,18,20],[1.0,1.0,1.0,1.0,28.0,1.0,1.0])|\n",
      "|management |married|unknown  |female|52.0|0.0  |1.0   |1.0    |0.0   |0.0  |(11,[0],[1.0])   |(2,[0],[1.0])        |(3,[],[])              |(1,[0],[1.0])       |(22,[0,11,16,17,19,20],[1.0,1.0,1.0,52.0,1.0,1.0])       |\n",
      "|blue-collar|married|secondary|female|48.0|0.0  |1.0   |1.0    |0.0   |0.0  |(11,[1],[1.0])   |(2,[0],[1.0])        |(3,[0],[1.0])          |(1,[0],[1.0])       |(22,[1,11,13,16,17,19,20],[1.0,1.0,1.0,1.0,48.0,1.0,1.0])|\n",
      "+-----------+-------+---------+------+----+-----+------+-------+------+-----+-----------------+---------------------+-----------------------+--------------------+---------------------------------------------------------+\n",
      "only showing top 5 rows\n",
      "\n"
     ]
    }
   ],
   "source": [
    "assemble_model = assembler.transform(encode_vector_df)\n",
    "assemble_model.show(5, False)"
   ]
  },
  {
   "cell_type": "code",
   "execution_count": 216,
   "metadata": {},
   "outputs": [],
   "source": [
    "cols = mapped_classes.columns\n",
    "selectedCols = cols + ['features']\n",
    "vectorized_customer_banking = assemble_model.select(selectedCols)"
   ]
  },
  {
   "cell_type": "code",
   "execution_count": 217,
   "metadata": {},
   "outputs": [
    {
     "name": "stdout",
     "output_type": "stream",
     "text": [
      "+-----------+-------+---------+------+----+-----+------+-------+------+-----+---------------------------------------------------------+\n",
      "|job        |marital|education|gender|age |child|saving|insight|backup|label|features                                                 |\n",
      "+-----------+-------+---------+------+----+-----+------+-------+------+-----+---------------------------------------------------------+\n",
      "|admin.     |married|tertiary |female|54.0|1.0  |0.0   |0.0    |1.0   |0.0  |(22,[3,11,14,16,17,18,21],[1.0,1.0,1.0,1.0,54.0,1.0,1.0])|\n",
      "|services   |single |secondary|female|28.0|0.0  |0.0   |0.0    |1.0   |0.0  |(22,[4,12,13,16,17,21],[1.0,1.0,1.0,1.0,28.0,1.0])       |\n",
      "|blue-collar|single |secondary|female|28.0|1.0  |0.0   |1.0    |0.0   |0.0  |(22,[1,12,13,16,17,18,20],[1.0,1.0,1.0,1.0,28.0,1.0,1.0])|\n",
      "|management |married|unknown  |female|52.0|0.0  |1.0   |1.0    |0.0   |0.0  |(22,[0,11,16,17,19,20],[1.0,1.0,1.0,52.0,1.0,1.0])       |\n",
      "|blue-collar|married|secondary|female|48.0|0.0  |1.0   |1.0    |0.0   |0.0  |(22,[1,11,13,16,17,19,20],[1.0,1.0,1.0,1.0,48.0,1.0,1.0])|\n",
      "+-----------+-------+---------+------+----+-----+------+-------+------+-----+---------------------------------------------------------+\n",
      "only showing top 5 rows\n",
      "\n"
     ]
    }
   ],
   "source": [
    "vectorized_customer_banking.show(5, False)"
   ]
  },
  {
   "cell_type": "code",
   "execution_count": 220,
   "metadata": {},
   "outputs": [
    {
     "name": "stdout",
     "output_type": "stream",
     "text": [
      "Training Dataset Count: 7862\n",
      "Test Dataset Count: 3300\n",
      "\n",
      "Train distribution label\n",
      "+-----+-----+\n",
      "|label|count|\n",
      "+-----+-----+\n",
      "|  0.0| 7477|\n",
      "|  1.0|  385|\n",
      "+-----+-----+\n",
      "\n",
      "Test distribution label\n",
      "+-----+-----+\n",
      "|label|count|\n",
      "+-----+-----+\n",
      "|  0.0| 3159|\n",
      "|  1.0|  141|\n",
      "+-----+-----+\n",
      "\n"
     ]
    }
   ],
   "source": [
    "train, test = vectorized_customer_banking.randomSplit([0.7, 0.3], seed = 2020)\n",
    "print(\"Training Dataset Count: \" + str(train.count()))\n",
    "print(\"Test Dataset Count: \" + str(test.count()))\n",
    "\n",
    "print(\"\\nTrain distribution label\")\n",
    "train.groupBy(\"label\").count().show()\n",
    "\n",
    "print(\"Test distribution label\")\n",
    "test.groupBy(\"label\").count().show()"
   ]
  },
  {
   "cell_type": "markdown",
   "metadata": {},
   "source": [
    "## Logistic Regression Model"
   ]
  },
  {
   "cell_type": "code",
   "execution_count": 221,
   "metadata": {},
   "outputs": [],
   "source": [
    "from pyspark.ml.classification import LogisticRegression\n",
    "lr = LogisticRegression(featuresCol='features', labelCol='label', maxIter=10)\n",
    "lrModel = lr.fit(train)"
   ]
  },
  {
   "cell_type": "code",
   "execution_count": 222,
   "metadata": {},
   "outputs": [
    {
     "data": {
      "text/plain": [
       "pyspark.ml.classification.LogisticRegressionModel"
      ]
     },
     "execution_count": 222,
     "metadata": {},
     "output_type": "execute_result"
    }
   ],
   "source": [
    "class_type(lrModel)"
   ]
  },
  {
   "cell_type": "code",
   "execution_count": 223,
   "metadata": {},
   "outputs": [
    {
     "data": {
      "text/plain": [
       "'LogisticRegressionModel'"
      ]
     },
     "execution_count": 223,
     "metadata": {},
     "output_type": "execute_result"
    }
   ],
   "source": [
    "class_name(lrModel)"
   ]
  },
  {
   "cell_type": "code",
   "execution_count": 224,
   "metadata": {},
   "outputs": [],
   "source": [
    "def plot_summary(model):\n",
    "    beta = np.sort(model.coefficientMatrix)\n",
    "    plt.plot(beta)\n",
    "    plt.ylabel('Beta Coefficients')\n",
    "    plt.show()"
   ]
  },
  {
   "cell_type": "code",
   "execution_count": 225,
   "metadata": {},
   "outputs": [
    {
     "data": {
      "text/plain": [
       "DenseMatrix(1, 22, [-3.8223, -4.2224, -3.925, -3.7697, -3.5314, 2.4186, -3.8035, -3.2811, ..., -3.4318, -3.6408, -1.3105, 0.1249, -1.0193, -1.034, -0.5314, -0.9967], 1)"
      ]
     },
     "execution_count": 225,
     "metadata": {},
     "output_type": "execute_result"
    }
   ],
   "source": [
    "lrModel.coefficientMatrix"
   ]
  },
  {
   "cell_type": "code",
   "execution_count": 226,
   "metadata": {},
   "outputs": [
    {
     "data": {
      "text/plain": [
       "DenseVector([-3.8223, -4.2224, -3.925, -3.7697, -3.5314, 2.4186, -3.8035, -3.2811, 2.9953, -3.9444, -4.8353, -0.3106, 2.2887, -3.7233, -3.4318, -3.6408, -1.3105, 0.1249, -1.0193, -1.034, -0.5314, -0.9967])"
      ]
     },
     "execution_count": 226,
     "metadata": {},
     "output_type": "execute_result"
    }
   ],
   "source": [
    "lrModel.coefficients"
   ]
  },
  {
   "cell_type": "code",
   "execution_count": 227,
   "metadata": {},
   "outputs": [
    {
     "data": {
      "text/plain": [
       "Param(parent='LogisticRegression_7d1dc03d1084', name='elasticNetParam', doc='the ElasticNet mixing parameter, in range [0, 1]. For alpha = 0, the penalty is an L2 penalty. For alpha = 1, it is an L1 penalty.')"
      ]
     },
     "execution_count": 227,
     "metadata": {},
     "output_type": "execute_result"
    }
   ],
   "source": [
    "lrModel.elasticNetParam"
   ]
  },
  {
   "cell_type": "code",
   "execution_count": 228,
   "metadata": {},
   "outputs": [
    {
     "data": {
      "text/plain": [
       "-4.42865775731924"
      ]
     },
     "execution_count": 228,
     "metadata": {},
     "output_type": "execute_result"
    }
   ],
   "source": [
    "lrModel.intercept"
   ]
  },
  {
   "cell_type": "code",
   "execution_count": 229,
   "metadata": {},
   "outputs": [
    {
     "data": {
      "text/plain": [
       "DenseVector([-4.4287])"
      ]
     },
     "execution_count": 229,
     "metadata": {},
     "output_type": "execute_result"
    }
   ],
   "source": [
    "lrModel.interceptVector"
   ]
  },
  {
   "cell_type": "code",
   "execution_count": 230,
   "metadata": {},
   "outputs": [
    {
     "data": {
      "image/png": "[encoded data removed]",
      "text/plain": [
       "<Figure size 360x360 with 1 Axes>"
      ]
     },
     "metadata": {
      "needs_background": "light"
     },
     "output_type": "display_data"
    }
   ],
   "source": [
    "import matplotlib.pyplot as plt\n",
    "plt.figure(figsize=(5,5))\n",
    "plt.plot([0, 1], [0, 1], 'r--')\n",
    "plt.plot(lrModel.summary.roc.select('FPR').collect(),\n",
    "         lrModel.summary.roc.select('TPR').collect())\n",
    "plt.xlabel('FPR')\n",
    "plt.ylabel('TPR')\n",
    "plt.show()"
   ]
  },
  {
   "cell_type": "code",
   "execution_count": 231,
   "metadata": {},
   "outputs": [
    {
     "name": "stdout",
     "output_type": "stream",
     "text": [
      "+---------------------+-------------------+\n",
      "|FPR                  |TPR                |\n",
      "+---------------------+-------------------+\n",
      "|0.0                  |0.0                |\n",
      "|9.362043600374481E-4 |0.16103896103896104|\n",
      "|0.0024073826400962954|0.3194805194805195 |\n",
      "|0.004814765280192591 |0.45454545454545453|\n",
      "|0.008292095760331684 |0.5714285714285714 |\n",
      "+---------------------+-------------------+\n",
      "only showing top 5 rows\n",
      "\n"
     ]
    }
   ],
   "source": [
    "lrModel.summary.roc.show(5, False)"
   ]
  },
  {
   "cell_type": "code",
   "execution_count": 232,
   "metadata": {},
   "outputs": [
    {
     "data": {
      "image/png": "[encoded data removed]",
      "text/plain": [
       "<Figure size 432x288 with 1 Axes>"
      ]
     },
     "metadata": {
      "needs_background": "light"
     },
     "output_type": "display_data"
    }
   ],
   "source": [
    "import matplotlib.pyplot as plt\n",
    "import numpy as np\n",
    "beta = np.sort(lrModel.coefficients)\n",
    "plt.plot(beta)\n",
    "plt.ylabel('Beta Coefficients')\n",
    "plt.show()"
   ]
  },
  {
   "cell_type": "code",
   "execution_count": 233,
   "metadata": {},
   "outputs": [
    {
     "data": {
      "image/png": "[encoded data removed]",
      "text/plain": [
       "<Figure size 432x288 with 1 Axes>"
      ]
     },
     "metadata": {
      "needs_background": "light"
     },
     "output_type": "display_data"
    },
    {
     "name": "stdout",
     "output_type": "stream",
     "text": [
      "Training set areaUnderROC: 0.9871203291826536\n"
     ]
    }
   ],
   "source": [
    "trainingSummary = lrModel.summary\n",
    "roc = trainingSummary.roc.toPandas()\n",
    "plt.plot(roc['FPR'],roc['TPR'])\n",
    "plt.ylabel('False Positive Rate')\n",
    "plt.xlabel('True Positive Rate')\n",
    "plt.title('ROC Curve')\n",
    "plt.show()\n",
    "print('Training set areaUnderROC: ' + str(trainingSummary.areaUnderROC))"
   ]
  },
  {
   "cell_type": "code",
   "execution_count": 234,
   "metadata": {},
   "outputs": [
    {
     "data": {
      "image/png": "[encoded data removed]",
      "text/plain": [
       "<Figure size 432x288 with 1 Axes>"
      ]
     },
     "metadata": {
      "needs_background": "light"
     },
     "output_type": "display_data"
    }
   ],
   "source": [
    "pr = trainingSummary.pr.toPandas()\n",
    "plt.plot(pr['recall'],pr['precision'])\n",
    "plt.ylabel('Precision')\n",
    "plt.xlabel('Recall')\n",
    "plt.show()"
   ]
  },
  {
   "cell_type": "code",
   "execution_count": 235,
   "metadata": {},
   "outputs": [
    {
     "data": {
      "text/plain": [
       "['job',\n",
       " 'marital',\n",
       " 'education',\n",
       " 'gender',\n",
       " 'age',\n",
       " 'child',\n",
       " 'saving',\n",
       " 'insight',\n",
       " 'backup',\n",
       " 'label']"
      ]
     },
     "execution_count": 235,
     "metadata": {},
     "output_type": "execute_result"
    }
   ],
   "source": [
    "mapped_classes.columns"
   ]
  },
  {
   "cell_type": "code",
   "execution_count": 236,
   "metadata": {},
   "outputs": [
    {
     "name": "stdout",
     "output_type": "stream",
     "text": [
      "root\n",
      " |-- job: string (nullable = true)\n",
      " |-- marital: string (nullable = true)\n",
      " |-- education: string (nullable = true)\n",
      " |-- gender: string (nullable = true)\n",
      " |-- age: float (nullable = true)\n",
      " |-- child: float (nullable = true)\n",
      " |-- saving: float (nullable = true)\n",
      " |-- insight: float (nullable = true)\n",
      " |-- backup: float (nullable = true)\n",
      " |-- label: double (nullable = false)\n",
      " |-- features: vector (nullable = true)\n",
      "\n"
     ]
    }
   ],
   "source": [
    "test.printSchema()"
   ]
  },
  {
   "cell_type": "code",
   "execution_count": 237,
   "metadata": {},
   "outputs": [
    {
     "name": "stdout",
     "output_type": "stream",
     "text": [
      "+----------+--------+---------+------+----+-----+------+-------+------+-----+----------+-----------------------------------------+------------------------------------------+\n",
      "|job       |marital |education|gender|age |child|saving|insight|backup|label|prediction|probability                              |rawPrediction                             |\n",
      "+----------+--------+---------+------+----+-----+------+-------+------+-----+----------+-----------------------------------------+------------------------------------------+\n",
      "|retired   |divorced|primary  |female|90.0|1.0  |0.0   |0.0    |0.0   |1.0  |1.0       |[0.03692388070218996,0.9630761192978101] |[-3.261273937376176,3.261273937376176]    |\n",
      "|retired   |divorced|primary  |male  |67.0|1.0  |1.0   |0.0    |0.0   |1.0  |1.0       |[0.3396556122936356,0.6603443877063645]  |[-0.6648292992289893,0.6648292992289893]  |\n",
      "|retired   |divorced|primary  |male  |95.0|1.0  |1.0   |1.0    |0.0   |1.0  |1.0       |[0.025806130912177688,0.9741938690878224]|[-3.6309982321214207,3.6309982321214207]  |\n",
      "|retired   |divorced|secondary|male  |77.0|0.0  |1.0   |0.0    |0.0   |1.0  |1.0       |[0.054640607513876366,0.9453593924861236]|[-2.8507878310204484,2.8507878310204484]  |\n",
      "|retired   |divorced|tertiary |female|77.0|1.0  |1.0   |0.0    |1.0   |1.0  |0.0       |[0.545937660442904,0.4540623395570961]   |[0.18427029379872906,-0.18427029379872906]|\n",
      "|retired   |divorced|tertiary |male  |54.0|0.0  |0.0   |0.0    |0.0   |1.0  |1.0       |[0.21360994474460113,0.786390055255399]  |[-1.3033012590464184,1.3033012590464184]  |\n",
      "|retired   |married |primary  |female|81.0|1.0  |0.0   |1.0    |1.0   |1.0  |1.0       |[0.4259356801386306,0.5740643198613695]  |[-0.2984530962695997,0.2984530962695997]  |\n",
      "|retired   |married |primary  |female|88.0|1.0  |1.0   |0.0    |0.0   |1.0  |1.0       |[0.15883906845232393,0.841160931547676]  |[-1.6668914574820137,1.6668914574820137]  |\n",
      "|retired   |married |primary  |male  |73.0|1.0  |0.0   |0.0    |0.0   |1.0  |1.0       |[0.10548390030945103,0.894516099690549]  |[-2.137724563753805,2.137724563753805]    |\n",
      "|retired   |married |secondary|female|70.0|1.0  |1.0   |1.0    |0.0   |1.0  |0.0       |[0.76769986356597,0.23230013643403002]   |[1.1953686270214958,-1.1953686270214958]  |\n",
      "|retired   |married |secondary|female|71.0|1.0  |1.0   |0.0    |1.0   |1.0  |0.0       |[0.8228525544093803,0.1771474455906197]  |[1.5357946166444796,-1.5357946166444796]  |\n",
      "|retired   |married |secondary|female|74.0|1.0  |1.0   |0.0    |1.0   |1.0  |0.0       |[0.7615252332312475,0.23847476676875246] |[1.1610598029863715,-1.1610598029863715]  |\n",
      "|retired   |married |secondary|female|75.0|1.0  |1.0   |1.0    |1.0   |1.0  |0.0       |[0.8274275201230618,0.17257247987693833] |[1.567504193016911,-1.567504193016911]    |\n",
      "|retired   |married |secondary|male  |52.0|0.0  |0.0   |0.0    |0.0   |1.0  |1.0       |[0.3890224041282887,0.6109775958717113]  |[-0.4514233544114781,0.4514233544114781]  |\n",
      "|retired   |married |secondary|male  |68.0|1.0  |0.0   |1.0    |0.0   |1.0  |1.0       |[0.28919121585527563,0.7108087841447243] |[-0.8993153384354287,0.8993153384354287]  |\n",
      "|retired   |married |tertiary |male  |72.0|0.0  |1.0   |0.0    |1.0   |1.0  |1.0       |[0.2296201502709667,0.7703798497290333]  |[-1.2104572814473826,1.2104572814473826]  |\n",
      "|retired   |married |tertiary |male  |74.0|0.0  |0.0   |0.0    |1.0   |1.0  |1.0       |[0.07626064441270661,0.9237393555872934] |[-2.494272944551466,2.494272944551466]    |\n",
      "|unemployed|divorced|primary  |male  |45.0|0.0  |0.0   |0.0    |0.0   |1.0  |1.0       |[0.3665916642213084,0.6334083357786916]  |[-0.5468666973174603,0.5468666973174603]  |\n",
      "|unemployed|married |secondary|male  |53.0|0.0  |0.0   |1.0    |0.0   |1.0  |1.0       |[0.34938547485695626,0.6506145251430439] |[-0.6217415143941434,0.6217415143941434]  |\n",
      "|unemployed|single  |primary  |female|29.0|0.0  |0.0   |0.0    |1.0   |1.0  |0.0       |[0.8130960724934807,0.1869039275065193]  |[1.4702545447281388,-1.4702545447281388]  |\n",
      "+----------+--------+---------+------+----+-----+------+-------+------+-----+----------+-----------------------------------------+------------------------------------------+\n",
      "only showing top 20 rows\n",
      "\n"
     ]
    }
   ],
   "source": [
    "predict_cols = mapped_classes.columns + ['prediction', 'probability', 'rawPrediction']\n",
    "predictions = lrModel.transform(test)\n",
    "predictions.select(*predict_cols).where(col(\"label\") == 1.0).show(20, False)"
   ]
  },
  {
   "cell_type": "code",
   "execution_count": 238,
   "metadata": {},
   "outputs": [
    {
     "name": "stdout",
     "output_type": "stream",
     "text": [
      "Test Area Under ROC 0.9883716231233961\n"
     ]
    }
   ],
   "source": [
    "from pyspark.ml.evaluation import BinaryClassificationEvaluator\n",
    "evaluator = BinaryClassificationEvaluator()\n",
    "print('Test Area Under ROC', evaluator.evaluate(predictions))"
   ]
  },
  {
   "cell_type": "code",
   "execution_count": null,
   "metadata": {},
   "outputs": [],
   "source": [
    "import numpy as np\n",
    "\n",
    "from typing import Any\n",
    "from pyspark.sql import DataFrame\n",
    "from pyspark.ml.linalg import DenseVector, DenseMatrix\n",
    "from pyspark.ml.classification import LogisticRegression, LogisticRegressionModel, \\\n",
    "    BinaryLogisticRegressionTrainingSummary\n",
    "\n",
    "def __build_parameters_model(**kargs: Any) -> dict:\n",
    "        \n",
    "    features_col = str(kargs.get(\"featuresCol\"))\n",
    "    label_col = str(kargs.get(\"labelCol\"))\n",
    "    max_iter = int(kargs.get(\"maxIter\"))\n",
    "    prediction_col = str(kargs.get(\"predictionCol\"))\n",
    "    reg_param = float(kargs.get(\"regParam\"))\n",
    "    elastic_net_param = float(kargs.get(\"elasticNetParam\"))\n",
    "    tolerance = float(kargs.get(\"tol\"))\n",
    "    fit_intercept = bool(kargs.get(\"fitIntercept\"))\n",
    "    threshold = float(kargs.get(\"threshold\"))\n",
    "    thresholds = kargs.get(\"thresholds\")\n",
    "    probability_col = str(kargs.get(\"probabilityCol\"))\n",
    "    raw_prediction_col = str(kargs.get(\"rawPredictionCol\"))\n",
    "    standardization = bool(kargs.get(\"standardization\"))\n",
    "    weight_col = kargs.get(\"weightCol\")\n",
    "    aggregation_depth = int(kargs.get(\"aggregationDepth\"))\n",
    "    family = str(kargs.get(\"family\"))\n",
    "    lower_bounds_coefficients = kargs.get(\"lowerBoundsOnCoefficients\")\n",
    "    upper_bounds_coefficients = kargs.get(\"upperBoundsOnCoefficients\")\n",
    "    lower_bounds_intercepts = kargs.get(\"lowerBoundsOnIntercepts\")\n",
    "    upper_bounds_intercepts = kargs.get(\"upperBoundsOnIntercepts\")\n",
    "    conf = {\n",
    "        \"features_col\": 'features' if features_col is None else features_col,\n",
    "        \"label_col\": 'label' if label_col is None else label_col,\n",
    "        \"max_iter\": 10 if max_iter is None else max_iter,\n",
    "        \"prediction_col\": 'prediction' if prediction_col is None else prediction_col,\n",
    "        \"reg_param\": 0.0 if reg_param is None else reg_param,\n",
    "        \"elastic_net_param\": 0.0 if elastic_net_param is None else elastic_net_param,\n",
    "        \"tolerance\": 1e-6 if tolerance is None else tolerance,\n",
    "        \"fit_intercept\": True if fit_intercept is None else fit_intercept,\n",
    "        \"threshold\": 0.5 if threshold is None else threshold,\n",
    "        \"thresholds\": None if thresholds is None else thresholds,\n",
    "        \"probability_col\": 'probability' if probability_col is None else probability_col,\n",
    "        \"raw_prediction_col\": 'rawPrediction' if raw_prediction_col is None else raw_prediction_col,\n",
    "        \"standardization\": True if standardization is None else standardization,\n",
    "        \"weight_col\": None if weight_col is None else weight_col,\n",
    "        \"aggregation_depth\": 2 if aggregation_depth is None else aggregation_depth,\n",
    "        \"family\": 'auto' if family is None else family,\n",
    "        \"lower_bounds_coefficients\": None if lower_bounds_coefficients is None else lower_bounds_coefficients,\n",
    "        \"upper_bounds_coefficients\": None if upper_bounds_coefficients is None else upper_bounds_coefficients,\n",
    "        \"lower_bounds_intercepts\": None if lower_bounds_intercepts is None else lower_bounds_intercepts,\n",
    "        \"upper_bounds_intercepts\": None if upper_bounds_intercepts is None else upper_bounds_intercepts\n",
    "    }\n",
    "    return conf\n",
    "\n",
    "def train(df: DataFrame, **kargs: Any) -> LogisticRegressionModel:\n",
    "    config_parameters = __build_parameters_model(**kargs)\n",
    "    lr = LogisticRegression(\n",
    "        featuresCol=config_parameters[\"features_col\"],\n",
    "        labelCol=config_parameters[\"label_col\"],\n",
    "        maxIter=config_parameters[\"max_iter\"],\n",
    "        predictionCol=config_parameters[\"prediction_col\"],\n",
    "        regParam=config_parameters[\"reg_param\"],\n",
    "        elasticNetParam=config_parameters[\"elastic_net_param\"],\n",
    "        tol=config_parameters[\"tolerance\"],\n",
    "        fitIntercept=config_parameters[\"fit_intercept\"],\n",
    "        threshold=config_parameters[\"threshold\"],\n",
    "        thresholds=config_parameters[\"thresholds\"],\n",
    "        probabilityCol=config_parameters[\"probability_col\"],\n",
    "        rawPredictionCol=config_parameters[\"raw_prediction_col\"],\n",
    "        standardization=config_parameters[\"standardization\"],\n",
    "        weightCol=config_parameters[\"weight_col\"],\n",
    "        aggregationDepth=config_parameters[\"aggregation_depth\"],\n",
    "        family=config_parameters[\"family\"],\n",
    "        lowerBoundsOnCoefficients=config_parameters[\"lower_bounds_coefficients\"],\n",
    "        upperBoundsOnCoefficients=config_parameters[\"upper_bounds_coefficients\"],\n",
    "        lowerBoundsOnIntercepts=config_parameters[\"lower_bounds_intercepts\"],\n",
    "        upperBoundsOnIntercepts=config_parameters[\"upper_bounds_intercepts\"]\n",
    "    )\n",
    "    return lr.fit(df)"
   ]
  },
  {
   "cell_type": "code",
   "execution_count": null,
   "metadata": {},
   "outputs": [],
   "source": [
    "train(train, maxIter=10)"
   ]
  },
  {
   "cell_type": "code",
   "execution_count": null,
   "metadata": {},
   "outputs": [],
   "source": []
  },
  {
   "cell_type": "markdown",
   "metadata": {},
   "source": [
    "# Exploraremos el valor de la información (iv) y el peso de la evidencia (woe) que aporta cada variable predictora al resultado de la variable dependiente"
   ]
  },
  {
   "cell_type": "code",
   "execution_count": null,
   "metadata": {},
   "outputs": [],
   "source": [
    "def __class_mark(observation, min_val, class_length, bins):\n",
    "    \"\"\"\n",
    "    Computes the corresponding bin to a certain data observation given the data set minimum, size, bins\n",
    "    and the class length\n",
    "    :param observation: float, value of which is required to obtain your bin number\n",
    "    :param min_val: float, minimum value observed in the rdd\n",
    "    :param class_length: float, length of each sub interval\n",
    "    :param bins: int, number of sub intervals\n",
    "    :return: int, bin corresponding to the given observation\n",
    "    \"\"\"\n",
    "    interval = int((observation - min_val) / class_length)\n",
    "    if interval >= bins:\n",
    "        return bins - 1\n",
    "    else:\n",
    "        return interval\n",
    "    \n",
    "def __frequency_rdd_continuous(data_set_rdd, min_val, class_length, bins, n):\n",
    "    \"\"\"\n",
    "    Generates the frequency table rdd from certain continuous column rdd\n",
    "\n",
    "    :param data_set_rdd: rdd, rdd of the continuous column of which the histogram will be computed\n",
    "    :param min_val: float, minimum value observed in the rdd\n",
    "    :param class_length: float, length of each sub interval\n",
    "    :param bins: int, number of sub intervals\n",
    "    :param n: int, table length\n",
    "    :return: rdd, rdd containing the frequencies for each class of the histogram\n",
    "    \"\"\"\n",
    "    frequency_rdd = data_set_rdd \\\n",
    "        .map(lambda x: (__class_mark(x, min_val, class_length, bins), 1)) \\\n",
    "        .reduceByKey(lambda x, y: x + y) \\\n",
    "        .map(lambda y: (y[0]+1, min_val+class_length*y[0], min_val+class_length*(y[0]+1), y[1], y[1]/n))\n",
    "    return frequency_rdd\n",
    "\n",
    "def __frequency_rdd_discrete(data_set_rdd, n):\n",
    "    \"\"\"\n",
    "    Generates the frequency table rdd from certain discrete column rdd\n",
    "    :param data_set_rdd: rdd, rdd of the continuous column of which the histogram will be computed\n",
    "    :param n: int, table length\n",
    "    :return: rdd, rdd containing the frequencies for each class of the histogram\n",
    "    \"\"\"\n",
    "    frequency_rdd = data_set_rdd \\\n",
    "        .map(lambda r: (r, 1)) \\\n",
    "        .reduceByKey(lambda x, y: x + y) \\\n",
    "        .map(lambda x: (x[0], x[1], x[1] / n))\n",
    "    return frequency_rdd\n",
    "\n",
    "def frequency_table_continuous(data_set_df, column, bins=None, suffix=''):\n",
    "    \"\"\"\n",
    "    Computes the histogram frequency table from a column with continuous values for a table DataFrameUtils\n",
    "\n",
    "    :param data_set_df: DataFrameUtils, table of which it is required to calculate the frequency histogram of some of\n",
    "    its columns\n",
    "    :param column: string, column with continuous values which is required to calculate its histogram\n",
    "    :param bins: int, number of sub intervals\n",
    "    :param suffix: string, assign the suffix to each column of the frequency table\n",
    "    :return: DataFrameUtils with the histogram frequency table\n",
    "    \"\"\"\n",
    "    freq_schema = ['bin', 'lower_limit'+suffix, 'upper_limit'+suffix, 'fa_'+column+suffix, 'f_'+column+suffix]\n",
    "    window_freq = Window.orderBy('bin').rangeBetween(Window.unboundedPreceding, 0)\n",
    "\n",
    "    cumulative_rel_freq = spark_sum('f_'+column+suffix)\\\n",
    "        .over(window_freq)\\\n",
    "        .alias('F_cumulative_'+column+suffix)\n",
    "\n",
    "    cumulative_abs_freq = spark_sum('fa_'+column+suffix)\\\n",
    "        .over(window_freq)\\\n",
    "        .alias('Fa_cumulative_'+column+suffix)\n",
    "\n",
    "    data_set_rdd = data_set_df.select(column).rdd.map(lambda row: (row[0]))\n",
    "    n = data_set_rdd.count()\n",
    "\n",
    "    if bins is None:\n",
    "        bins = 1 + int(3.322 * np.log(n))\n",
    "\n",
    "    maximum = data_set_rdd.max()\n",
    "    minimum = data_set_rdd.min()\n",
    "    class_length = (maximum - minimum) / bins\n",
    "\n",
    "    frequency_table_df = __frequency_rdd_continuous(data_set_rdd, minimum, class_length, bins, n)\\\n",
    "        .toDF(freq_schema)\\\n",
    "        .select('*', cumulative_abs_freq, cumulative_rel_freq)\n",
    "    return frequency_table_df\n",
    "\n",
    "def frequency_table_discrete(data_set_df, column, suffix=''):\n",
    "    \"\"\"\n",
    "    Generates the frequency table rdd from certain discrete column rdd.\n",
    "\n",
    "    :param data_set_df: DataFrameUtils, table of which it is required to calculate the frequency histogram of some of\n",
    "    its columns\n",
    "    :param column: string, column with continuous values ​​which is required to calculate its histogram\n",
    "    :param suffix: string, assign the suffix to each column of the frequency table\n",
    "    :return: DataFrameUtils with the histogram frequency table\n",
    "    \"\"\"\n",
    "    freq_schema = ['bin', 'fa_' + column + suffix, 'f_' + column + suffix]\n",
    "    window_freq = Window.orderBy('bin').rangeBetween(Window.unboundedPreceding, 0)\n",
    "\n",
    "    cumulative_rel_freq = spark_sum('f_' + column + suffix).over(window_freq).alias(\n",
    "        'F_cumulative_' + column + suffix)\n",
    "\n",
    "    cumulative_abs_freq = spark_sum('fa_' + column + suffix).over(window_freq).alias(\n",
    "        'Fa_cumulative_' + column + suffix)\n",
    "\n",
    "    data_set_rdd = data_set_df.select(column).rdd.map(lambda row: (row[0]))\n",
    "\n",
    "    n = data_set_rdd.count()\n",
    "\n",
    "    frequency_table_df = __frequency_rdd_discrete(data_set_rdd, n)\\\n",
    "        .toDF(freq_schema)\\\n",
    "        .select('*', cumulative_abs_freq, cumulative_rel_freq)\n",
    "    return frequency_table_df\n",
    "\n",
    "def compute_information_value(mixed_dist_df, column):\n",
    "    \"\"\"\n",
    "    Calculate the weight of evidence (woe) and the information value (iv) give a table that contains the\n",
    "    histograms frequency tables of the negative and positive populations.\n",
    "\n",
    "    :param mixed_dist_df: DataFrameUtils, table with the mixed histograms of negative and positive populations\n",
    "    :param column: string, column with continuous values which is required to calculate its histogram\n",
    "    :return: DataFrameUtils, table that includes the woe and iv for each bin inside the histograms\n",
    "    \"\"\"\n",
    "    epsilon = 0.000000001\n",
    "    woe_expr = spark_log((col('f_' + column + '_0') + epsilon) / (col('f_' + column + '_1') + epsilon))\n",
    "    iv_expr = (col('f_' + column + '_0') - col('f_' + column + '_1')) * col('woe_' + column)\n",
    "\n",
    "    iv_table_df = mixed_dist_df\\\n",
    "        .fillna(0)\\\n",
    "        .withColumn('woe_' + column, woe_expr)\\\n",
    "        .withColumn('iv_' + column, iv_expr)\\\n",
    "        .fillna(0, subset=['woe_' + column, 'iv_' + column])\\\n",
    "        .orderBy('bin')\n",
    "    return iv_table_df\n",
    "\n",
    "def information_value_continuous(data_set_df, column, target, neg_label=0, pos_label=1, bins=None):\n",
    "    \"\"\"\n",
    "    Computes de frequency table histograms for the negative and positive populations and then compute the\n",
    "    weight of evidence (woe) and the information value (iv) table.\n",
    "\n",
    "    :param data_set_df: DataFrameUtils, table of which it is required to calculate the frequency histogram of some of\n",
    "    its columns\n",
    "    :param column: string, column with continuous values which is required to calculate its histogram\n",
    "    :param target: string, target column name that contains observations of negative and positive populations\n",
    "    :param neg_label: int, value to identify a negative row observation\n",
    "    :param pos_label: int, value to identify a positive row observation\n",
    "    :param bins: int, number of sub intervals\n",
    "    :return: DataFrameUtils, table that includes the woe and iv for each bin of frequency table histogram\n",
    "    \"\"\"\n",
    "    freq_neg_schema = ['bin', 'lower_limit_' + column, 'upper_limit_' + column, 'fa_' + column + '_0', 'f_' + column + '_0']\n",
    "    freq_pos_schema = ['bin', 'lower_limit_1', 'upper_limit_1', 'fa_' + column + '_1', 'f_' + column + '_1']\n",
    "\n",
    "    data_set_rdd = data_set_df.select(column).rdd.map(lambda row: (row[0]))\n",
    "    n = data_set_rdd.count()\n",
    "\n",
    "    if bins is None:\n",
    "        bins = 1 + int(3.322 * np.log(n))\n",
    "\n",
    "    maximum = data_set_rdd.max()\n",
    "    minimum = data_set_rdd.min()\n",
    "    class_length = (maximum - minimum) / bins\n",
    "\n",
    "    lower_lim_expr = (lit(minimum) + lit(class_length) * (col('bin') - lit(1))).alias('lower_limit')\n",
    "    upper_lim_expr = (lit(minimum) + lit(class_length) * col('bin')).alias('upper_limit')\n",
    "\n",
    "    neg_rdd = data_set_df\\\n",
    "        .where(col(target) == neg_label)\\\n",
    "        .select(column).rdd\\\n",
    "        .map(lambda row: (row[0]))\n",
    "\n",
    "    pos_rdd = data_set_df\\\n",
    "        .where(col(target) == pos_label)\\\n",
    "        .select(column).rdd\\\n",
    "        .map(lambda row: (row[0]))\n",
    "\n",
    "    freq_neg_df = __frequency_rdd_continuous(neg_rdd, minimum, class_length, bins, n)\\\n",
    "        .toDF(freq_neg_schema)\\\n",
    "        .select('bin', 'f_' + column + '_0')\n",
    "\n",
    "    freq_pos_df = __frequency_rdd_continuous(pos_rdd, minimum, class_length, bins, n)\\\n",
    "        .toDF(freq_pos_schema)\\\n",
    "        .select('bin', 'f_' + column + '_1')\n",
    "\n",
    "    mixed_dist_df = freq_pos_df.join(freq_neg_df, on='bin', how='full')\\\n",
    "        .select('*', lower_lim_expr, upper_lim_expr)\\\n",
    "\n",
    "    return compute_information_value(mixed_dist_df, column)\n",
    "\n",
    "def information_value_discrete(data_set_df, column, target, neg_label=0, pos_label=1):\n",
    "    \"\"\"\n",
    "    Computes de frequency table histograms for the negative and positive populations and then compute the\n",
    "    weight of evidence (woe) and the information value (iv) table.\n",
    "\n",
    "    :param data_set_df: DataFrameUtils, table of which it is required to calculate the frequency histogram of some of\n",
    "    its columns\n",
    "    :param column: string, column with continuous values ​​which is required to calculate its histogram\n",
    "    :param target: string, target column name that contains observations of negative and positive populations\n",
    "    :param neg_label: int, value to identify a negative row observation\n",
    "    :param pos_label: int, value to identify a positive row observation\n",
    "    :return: DataFrameUtils, table that includes the woe and iv for each bin of frequency table histogram\n",
    "    \"\"\"\n",
    "    freq_neg_schema = ['bin', 'fa_' + column + '_0', 'f_' + column + '_0']\n",
    "    freq_pos_schema = ['bin', 'fa_' + column + '_1', 'f_' + column + '_1']\n",
    "\n",
    "    data_set_rdd = data_set_df.select(column).rdd.map(lambda row: (row[0]))\n",
    "    n = data_set_rdd.count()\n",
    "\n",
    "    neg_rdd = data_set_df.where(col(target) == neg_label)\\\n",
    "        .select(column).rdd\\\n",
    "        .map(lambda row: (row[0]))\n",
    "\n",
    "    pos_rdd = data_set_df.where(col(target) == pos_label)\\\n",
    "        .select(column).rdd\\\n",
    "        .map(lambda row: (row[0]))\n",
    "\n",
    "    freq_neg_df = __frequency_rdd_discrete(neg_rdd, n)\\\n",
    "        .toDF(freq_neg_schema)\\\n",
    "        .select('bin', 'f_' + column + '_0')\n",
    "\n",
    "    freq_pos_df = __frequency_rdd_discrete(pos_rdd, n)\\\n",
    "        .toDF(freq_pos_schema)\\\n",
    "        .select('bin', 'f_' + column + '_1')\n",
    "\n",
    "    mixed_dist_df = freq_pos_df\\\n",
    "        .join(freq_neg_df, on='bin', how='full')\\\n",
    "        .fillna(0)\n",
    "    return compute_information_value(mixed_dist_df, column)"
   ]
  },
  {
   "cell_type": "code",
   "execution_count": null,
   "metadata": {},
   "outputs": [],
   "source": [
    "import time\n",
    "import traceback\n",
    "import numpy as np\n",
    "import pandas as pd\n",
    "import matplotlib.pyplot as plt\n",
    "\n",
    "from matplotlib.pyplot import figure\n",
    "from pyspark_dist_explore import hist\n",
    "from pyspark.sql import SparkSession\n",
    "from pyspark.sql.window import Window\n",
    "from pyspark.sql.functions import col, lit, sum as spark_sum, log as spark_log\n",
    "\n",
    "def create_frequency_table(df, coln, targt, function_type):\n",
    "    f_type = {\n",
    "        \"continuous\": information_value_continuous,\n",
    "        \"discrete\": information_value_discrete\n",
    "    }\n",
    "    \n",
    "    freq_df = f_type[function_type](data_set_df=df, column=coln, target=targt)\n",
    "    \n",
    "    return freq_df"
   ]
  },
  {
   "cell_type": "code",
   "execution_count": null,
   "metadata": {},
   "outputs": [],
   "source": [
    "create_frequency_table(predictions, \"job\", \"prediction\", \"discrete\").show(100, False)\n",
    "create_frequency_table(predictions, \"age\", \"prediction\", \"continuous\").show(100, False)\n",
    "create_frequency_table(predictions, \"education\", \"prediction\", \"discrete\").show(100, False)\n",
    "create_frequency_table(predictions, \"gender\", \"prediction\", \"discrete\").show(100, False)"
   ]
  },
  {
   "cell_type": "markdown",
   "metadata": {},
   "source": [
    "## Decision Tree Classifier"
   ]
  },
  {
   "cell_type": "code",
   "execution_count": 239,
   "metadata": {},
   "outputs": [
    {
     "name": "stdout",
     "output_type": "stream",
     "text": [
      "+------+--------+---------+------+----+-----+------+-------+------+-----+----------+-----------------------------------------+-------------+\n",
      "|job   |marital |education|gender|age |child|saving|insight|backup|label|prediction|probability                              |rawPrediction|\n",
      "+------+--------+---------+------+----+-----+------+-------+------+-----+----------+-----------------------------------------+-------------+\n",
      "|admin.|divorced|secondary|female|42.0|0.0  |0.0   |0.0    |1.0   |0.0  |0.0       |[0.9899333424023943,0.010066657597605768]|[7277.0,74.0]|\n",
      "|admin.|divorced|secondary|female|43.0|0.0  |0.0   |1.0    |0.0   |0.0  |0.0       |[0.9899333424023943,0.010066657597605768]|[7277.0,74.0]|\n",
      "|admin.|divorced|secondary|female|44.0|0.0  |0.0   |1.0    |0.0   |0.0  |0.0       |[0.9899333424023943,0.010066657597605768]|[7277.0,74.0]|\n",
      "|admin.|divorced|secondary|female|45.0|0.0  |0.0   |0.0    |1.0   |0.0  |0.0       |[0.9899333424023943,0.010066657597605768]|[7277.0,74.0]|\n",
      "|admin.|divorced|secondary|female|45.0|0.0  |1.0   |0.0    |0.0   |0.0  |0.0       |[0.9899333424023943,0.010066657597605768]|[7277.0,74.0]|\n",
      "+------+--------+---------+------+----+-----+------+-------+------+-----+----------+-----------------------------------------+-------------+\n",
      "only showing top 5 rows\n",
      "\n"
     ]
    }
   ],
   "source": [
    "from pyspark.ml.classification import DecisionTreeClassifier\n",
    "\n",
    "dt = DecisionTreeClassifier(featuresCol='features', labelCol='label', maxDepth = 3)\n",
    "dtModel = dt.fit(train)\n",
    "predictions = dtModel.transform(test)\n",
    "predictions.select(*predict_cols).show(5, False)"
   ]
  },
  {
   "cell_type": "code",
   "execution_count": 240,
   "metadata": {},
   "outputs": [
    {
     "name": "stdout",
     "output_type": "stream",
     "text": [
      "Test Area Under ROC: 0.7209032394217579\n"
     ]
    }
   ],
   "source": [
    "evaluator = BinaryClassificationEvaluator()\n",
    "print(\"Test Area Under ROC: \" + str(evaluator.evaluate(predictions, {evaluator.metricName: \"areaUnderROC\"})))"
   ]
  },
  {
   "cell_type": "markdown",
   "metadata": {},
   "source": [
    "## Random Forest Classifier"
   ]
  },
  {
   "cell_type": "code",
   "execution_count": 241,
   "metadata": {},
   "outputs": [
    {
     "name": "stdout",
     "output_type": "stream",
     "text": [
      "+------+--------+---------+------+----+-----+------+-------+------+-----+----------+-----------------------------------------+----------------------------------------+\n",
      "|job   |marital |education|gender|age |child|saving|insight|backup|label|prediction|probability                              |rawPrediction                           |\n",
      "+------+--------+---------+------+----+-----+------+-------+------+-----+----------+-----------------------------------------+----------------------------------------+\n",
      "|admin.|divorced|secondary|female|42.0|0.0  |0.0   |0.0    |1.0   |0.0  |0.0       |[0.9861787543118202,0.013821245688179778]|[19.723575086236405,0.27642491376359557]|\n",
      "|admin.|divorced|secondary|female|43.0|0.0  |0.0   |1.0    |0.0   |0.0  |0.0       |[0.9861787543118202,0.013821245688179778]|[19.723575086236405,0.27642491376359557]|\n",
      "|admin.|divorced|secondary|female|44.0|0.0  |0.0   |1.0    |0.0   |0.0  |0.0       |[0.9861787543118202,0.013821245688179778]|[19.723575086236405,0.27642491376359557]|\n",
      "|admin.|divorced|secondary|female|45.0|0.0  |0.0   |0.0    |1.0   |0.0  |0.0       |[0.9861787543118202,0.013821245688179778]|[19.723575086236405,0.27642491376359557]|\n",
      "|admin.|divorced|secondary|female|45.0|0.0  |1.0   |0.0    |0.0   |0.0  |0.0       |[0.9861787543118202,0.013821245688179778]|[19.723575086236405,0.27642491376359557]|\n",
      "+------+--------+---------+------+----+-----+------+-------+------+-----+----------+-----------------------------------------+----------------------------------------+\n",
      "only showing top 5 rows\n",
      "\n"
     ]
    }
   ],
   "source": [
    "from pyspark.ml.classification import RandomForestClassifier\n",
    "rf = RandomForestClassifier(featuresCol='features', labelCol='label')\n",
    "rfModel = rf.fit(train)\n",
    "predictions = rfModel.transform(test)\n",
    "predictions.select(*predict_cols).show(5, False)"
   ]
  },
  {
   "cell_type": "code",
   "execution_count": 242,
   "metadata": {},
   "outputs": [
    {
     "name": "stdout",
     "output_type": "stream",
     "text": [
      "Test Area Under ROC: 0.9843203814835022\n"
     ]
    }
   ],
   "source": [
    "evaluator = BinaryClassificationEvaluator()\n",
    "print(\"Test Area Under ROC: \" + str(evaluator.evaluate(predictions, {evaluator.metricName: \"areaUnderROC\"})))"
   ]
  },
  {
   "cell_type": "markdown",
   "metadata": {},
   "source": [
    "## Gradient-Boosted Tree Classifier"
   ]
  },
  {
   "cell_type": "code",
   "execution_count": 279,
   "metadata": {},
   "outputs": [
    {
     "name": "stdout",
     "output_type": "stream",
     "text": [
      "+------+--------+---------+------+----+-----+------+-------+------+-----+----------+----------------------------------------+----------------------------------------+\n",
      "|job   |marital |education|gender|age |child|saving|insight|backup|label|prediction|probability                             |rawPrediction                           |\n",
      "+------+--------+---------+------+----+-----+------+-------+------+-----+----------+----------------------------------------+----------------------------------------+\n",
      "|admin.|divorced|secondary|female|42.0|0.0  |0.0   |0.0    |1.0   |0.0  |0.0       |[0.9338848592918204,0.06611514070817959]|[1.3239776876998863,-1.3239776876998863]|\n",
      "|admin.|divorced|secondary|female|43.0|0.0  |0.0   |1.0    |0.0   |0.0  |0.0       |[0.9338848592918204,0.06611514070817959]|[1.3239776876998863,-1.3239776876998863]|\n",
      "|admin.|divorced|secondary|female|44.0|0.0  |0.0   |1.0    |0.0   |0.0  |0.0       |[0.9338848592918204,0.06611514070817959]|[1.3239776876998863,-1.3239776876998863]|\n",
      "|admin.|divorced|secondary|female|45.0|0.0  |0.0   |0.0    |1.0   |0.0  |0.0       |[0.9338848592918204,0.06611514070817959]|[1.3239776876998863,-1.3239776876998863]|\n",
      "|admin.|divorced|secondary|female|45.0|0.0  |1.0   |0.0    |0.0   |0.0  |0.0       |[0.9338848592918204,0.06611514070817959]|[1.3239776876998863,-1.3239776876998863]|\n",
      "|admin.|divorced|secondary|female|54.0|0.0  |0.0   |0.0    |1.0   |0.0  |0.0       |[0.9326258567515628,0.06737414324843716]|[1.313871398226216,-1.313871398226216]  |\n",
      "|admin.|divorced|secondary|female|55.0|0.0  |0.0   |0.0    |1.0   |0.0  |0.0       |[0.9326258567515628,0.06737414324843716]|[1.313871398226216,-1.313871398226216]  |\n",
      "|admin.|divorced|secondary|male  |46.0|0.0  |0.0   |1.0    |0.0   |0.0  |0.0       |[0.9330489464858239,0.06695105351417607]|[1.3172479265110868,-1.3172479265110868]|\n",
      "|admin.|married |primary  |female|51.0|1.0  |1.0   |0.0    |0.0   |0.0  |0.0       |[0.9324595096872934,0.06754049031270659]|[1.312549227403665,-1.312549227403665]  |\n",
      "|admin.|married |primary  |female|59.0|0.0  |1.0   |1.0    |0.0   |0.0  |0.0       |[0.9324595096872934,0.06754049031270659]|[1.312549227403665,-1.312549227403665]  |\n",
      "+------+--------+---------+------+----+-----+------+-------+------+-----+----------+----------------------------------------+----------------------------------------+\n",
      "only showing top 10 rows\n",
      "\n"
     ]
    }
   ],
   "source": [
    "from pyspark.ml.classification import GBTClassifier\n",
    "\n",
    "gbt = GBTClassifier(maxIter=10)\n",
    "gbtModel = gbt.fit(train)\n",
    "predictions = gbtModel.transform(test)\n",
    "predictions.select(*predict_cols).show(10, False)"
   ]
  },
  {
   "cell_type": "code",
   "execution_count": 271,
   "metadata": {},
   "outputs": [
    {
     "data": {
      "text/plain": [
       "['job',\n",
       " 'marital',\n",
       " 'education',\n",
       " 'gender',\n",
       " 'age',\n",
       " 'child',\n",
       " 'saving',\n",
       " 'insight',\n",
       " 'backup',\n",
       " 'label',\n",
       " 'prediction',\n",
       " 'probability',\n",
       " 'rawPrediction']"
      ]
     },
     "execution_count": 271,
     "metadata": {},
     "output_type": "execute_result"
    }
   ],
   "source": [
    "predict_cols"
   ]
  },
  {
   "cell_type": "code",
   "execution_count": 244,
   "metadata": {},
   "outputs": [
    {
     "data": {
      "text/plain": [
       "SparseVector(22, {0: 0.0012, 2: 0.0006, 4: 0.0018, 5: 0.0781, 6: 0.0051, 8: 0.0647, 9: 0.0006, 11: 0.0062, 12: 0.0157, 13: 0.002, 14: 0.0009, 15: 0.009, 16: 0.0337, 17: 0.6031, 18: 0.0208, 19: 0.0405, 20: 0.0513, 21: 0.0647})"
      ]
     },
     "execution_count": 244,
     "metadata": {},
     "output_type": "execute_result"
    }
   ],
   "source": [
    "gbtModel.featureImportances"
   ]
  },
  {
   "cell_type": "code",
   "execution_count": 245,
   "metadata": {},
   "outputs": [
    {
     "data": {
      "text/plain": [
       "10"
      ]
     },
     "execution_count": 245,
     "metadata": {},
     "output_type": "execute_result"
    }
   ],
   "source": [
    "gbtModel.getNumTrees"
   ]
  },
  {
   "cell_type": "code",
   "execution_count": 246,
   "metadata": {},
   "outputs": [
    {
     "data": {
      "text/plain": [
       "[1.0, 0.1, 0.1, 0.1, 0.1, 0.1, 0.1, 0.1, 0.1, 0.1]"
      ]
     },
     "execution_count": 246,
     "metadata": {},
     "output_type": "execute_result"
    }
   ],
   "source": [
    "gbtModel.treeWeights"
   ]
  },
  {
   "cell_type": "code",
   "execution_count": 247,
   "metadata": {},
   "outputs": [
    {
     "data": {
      "text/plain": [
       "Param(parent='GBTClassifier_7560be6d380a', name='featureSubsetStrategy', doc=\"The number of features to consider for splits at each tree node. Supported options: 'auto' (choose automatically for task: If numTrees == 1, set to 'all'. If numTrees > 1 (forest), set to 'sqrt' for classification and to 'onethird' for regression), 'all' (use all features), 'onethird' (use 1/3 of the features), 'sqrt' (use sqrt(number of features)), 'log2' (use log2(number of features)), 'n' (when n is in the range (0, 1.0], use n * number of features. When n is in the range (1, number of features), use n features). default = 'auto'\")"
      ]
     },
     "execution_count": 247,
     "metadata": {},
     "output_type": "execute_result"
    }
   ],
   "source": [
    "gbtModel.featureSubsetStrategy"
   ]
  },
  {
   "cell_type": "code",
   "execution_count": 248,
   "metadata": {},
   "outputs": [
    {
     "data": {
      "text/plain": [
       "Param(parent='GBTClassifier_7560be6d380a', name='cacheNodeIds', doc='If false, the algorithm will pass trees to executors to match instances with nodes. If true, the algorithm will cache node IDs for each instance. Caching can speed up training of deeper trees. Users can set how often should the cache be checkpointed or disable it by setting checkpointInterval.')"
      ]
     },
     "execution_count": 248,
     "metadata": {},
     "output_type": "execute_result"
    }
   ],
   "source": [
    "gbtModel.cacheNodeIds"
   ]
  },
  {
   "cell_type": "code",
   "execution_count": 249,
   "metadata": {},
   "outputs": [
    {
     "data": {
      "text/plain": [
       "Param(parent='GBTClassifier_7560be6d380a', name='checkpointInterval', doc='set checkpoint interval (>= 1) or disable checkpoint (-1). E.g. 10 means that the cache will get checkpointed every 10 iterations. Note: this setting will be ignored if the checkpoint directory is not set in the SparkContext.')"
      ]
     },
     "execution_count": 249,
     "metadata": {},
     "output_type": "execute_result"
    }
   ],
   "source": [
    "gbtModel.checkpointInterval"
   ]
  },
  {
   "cell_type": "code",
   "execution_count": 250,
   "metadata": {},
   "outputs": [
    {
     "data": {
      "text/plain": [
       "Param(parent='GBTClassifier_7560be6d380a', name='impurity', doc='Criterion used for information gain calculation (case-insensitive). Supported options: variance')"
      ]
     },
     "execution_count": 250,
     "metadata": {},
     "output_type": "execute_result"
    }
   ],
   "source": [
    "gbtModel.impurity"
   ]
  },
  {
   "cell_type": "code",
   "execution_count": 251,
   "metadata": {},
   "outputs": [
    {
     "data": {
      "text/plain": [
       "Param(parent='GBTClassifier_7560be6d380a', name='lossType', doc='Loss function which GBT tries to minimize (case-insensitive). Supported options: logistic')"
      ]
     },
     "execution_count": 251,
     "metadata": {},
     "output_type": "execute_result"
    }
   ],
   "source": [
    "gbtModel.lossType"
   ]
  },
  {
   "cell_type": "code",
   "execution_count": 252,
   "metadata": {},
   "outputs": [
    {
     "name": "stdout",
     "output_type": "stream",
     "text": [
      "Test Area Under ROC: 0.9830687509962529\n"
     ]
    }
   ],
   "source": [
    "evaluator = BinaryClassificationEvaluator()\n",
    "print(\"Test Area Under ROC: \" + str(evaluator.evaluate(predictions, {evaluator.metricName: \"areaUnderROC\"})))"
   ]
  },
  {
   "cell_type": "code",
   "execution_count": 253,
   "metadata": {},
   "outputs": [
    {
     "data": {
      "text/plain": [
       "0.9745947074552275"
      ]
     },
     "execution_count": 253,
     "metadata": {},
     "output_type": "execute_result"
    }
   ],
   "source": [
    "from pyspark.ml.tuning import ParamGridBuilder, CrossValidator\n",
    "\n",
    "paramGrid = ParamGridBuilder()\\\n",
    "                .addGrid(gbt.maxDepth, [2, 4, 6])\\\n",
    "                .addGrid(gbt.maxBins, [20, 60])\\\n",
    "                .addGrid(gbt.maxIter, [10, 20])\\\n",
    "                .build()\n",
    "\n",
    "# Run cross validations.  This can take about 6 minutes since it is training over 20 trees!\n",
    "cv = CrossValidator(estimator=gbt, estimatorParamMaps=paramGrid, evaluator=evaluator, numFolds=5)\n",
    "cvModel = cv.fit(train)\n",
    "\n",
    "boosting_predictions = cvModel.transform(test)\n",
    "evaluator.evaluate(boosting_predictions)"
   ]
  },
  {
   "cell_type": "code",
   "execution_count": 268,
   "metadata": {},
   "outputs": [
    {
     "data": {
      "text/plain": [
       "array([6.07224849e-03, 5.78700340e-04, 5.78043323e-02, 3.08179393e-04,\n",
       "       7.29457669e-02, 8.40282419e-05, 1.72520240e-03, 1.99410600e-03,\n",
       "       1.82416883e-02, 7.09204058e-05, 5.95883565e-04, 6.93032702e-02,\n",
       "       5.80429011e-01, 3.98906389e-02, 5.20049138e-02, 6.36198320e-02,\n",
       "       3.43312778e-02])"
      ]
     },
     "execution_count": 268,
     "metadata": {},
     "output_type": "execute_result"
    }
   ],
   "source": [
    "cvModel.bestModel.featureImportances.values"
   ]
  },
  {
   "cell_type": "code",
   "execution_count": 276,
   "metadata": {},
   "outputs": [
    {
     "data": {
      "text/plain": [
       "[0.30469386155614725,\n",
       " 0.2826660103443805,\n",
       " 0.2637031765098527,\n",
       " 0.24797335990353753,\n",
       " 0.23403004997720384,\n",
       " 0.222159541709738,\n",
       " 0.2114495885432795,\n",
       " 0.2021983395736606,\n",
       " 0.19373741517114026,\n",
       " 0.18630882420573625,\n",
       " 0.17940724430516078,\n",
       " 0.17326168990416116,\n",
       " 0.1676413328617378,\n",
       " 0.1625163216536895,\n",
       " 0.15769668435761855,\n",
       " 0.15334775266164188,\n",
       " 0.14934443757354457,\n",
       " 0.14562926403240425,\n",
       " 0.14204285301966335,\n",
       " 0.138813381107998]"
      ]
     },
     "execution_count": 276,
     "metadata": {},
     "output_type": "execute_result"
    }
   ],
   "source": [
    "cvModel.bestModel.evaluateEachIteration(train)"
   ]
  },
  {
   "cell_type": "code",
   "execution_count": 309,
   "metadata": {},
   "outputs": [
    {
     "data": {
      "text/plain": [
       "{Param(parent='GBTClassifier_7560be6d380a', name='featuresCol', doc='features column name.'): 'features',\n",
       " Param(parent='GBTClassifier_7560be6d380a', name='labelCol', doc='label column name.'): 'label',\n",
       " Param(parent='GBTClassifier_7560be6d380a', name='predictionCol', doc='prediction column name.'): 'prediction',\n",
       " Param(parent='GBTClassifier_7560be6d380a', name='probabilityCol', doc='Column name for predicted class conditional probabilities. Note: Not all models output well-calibrated probability estimates! These probabilities should be treated as confidences, not precise probabilities.'): 'probability',\n",
       " Param(parent='GBTClassifier_7560be6d380a', name='rawPredictionCol', doc='raw prediction (a.k.a. confidence) column name.'): 'rawPrediction',\n",
       " Param(parent='GBTClassifier_7560be6d380a', name='seed', doc='random seed.'): 707723439400678307,\n",
       " Param(parent='GBTClassifier_7560be6d380a', name='cacheNodeIds', doc='If false, the algorithm will pass trees to executors to match instances with nodes. If true, the algorithm will cache node IDs for each instance. Caching can speed up training of deeper trees. Users can set how often should the cache be checkpointed or disable it by setting checkpointInterval.'): False,\n",
       " Param(parent='GBTClassifier_7560be6d380a', name='checkpointInterval', doc='set checkpoint interval (>= 1) or disable checkpoint (-1). E.g. 10 means that the cache will get checkpointed every 10 iterations. Note: this setting will be ignored if the checkpoint directory is not set in the SparkContext.'): 10,\n",
       " Param(parent='GBTClassifier_7560be6d380a', name='featureSubsetStrategy', doc=\"The number of features to consider for splits at each tree node. Supported options: 'auto' (choose automatically for task: If numTrees == 1, set to 'all'. If numTrees > 1 (forest), set to 'sqrt' for classification and to 'onethird' for regression), 'all' (use all features), 'onethird' (use 1/3 of the features), 'sqrt' (use sqrt(number of features)), 'log2' (use log2(number of features)), 'n' (when n is in the range (0, 1.0], use n * number of features. When n is in the range (1, number of features), use n features). default = 'auto'\"): 'all',\n",
       " Param(parent='GBTClassifier_7560be6d380a', name='impurity', doc='Criterion used for information gain calculation (case-insensitive). Supported options: variance'): 'variance',\n",
       " Param(parent='GBTClassifier_7560be6d380a', name='leafCol', doc='Leaf indices column name. Predicted leaf index of each instance in each tree by preorder.'): '',\n",
       " Param(parent='GBTClassifier_7560be6d380a', name='lossType', doc='Loss function which GBT tries to minimize (case-insensitive). Supported options: logistic'): 'logistic',\n",
       " Param(parent='GBTClassifier_7560be6d380a', name='maxBins', doc='Max number of bins for discretizing continuous features.  Must be >=2 and >= number of categories for any categorical feature.'): 60,\n",
       " Param(parent='GBTClassifier_7560be6d380a', name='maxDepth', doc='Maximum depth of the tree. (>= 0) E.g., depth 0 means 1 leaf node; depth 1 means 1 internal node + 2 leaf nodes.'): 4,\n",
       " Param(parent='GBTClassifier_7560be6d380a', name='maxIter', doc='max number of iterations (>= 0).'): 20,\n",
       " Param(parent='GBTClassifier_7560be6d380a', name='maxMemoryInMB', doc='Maximum memory in MB allocated to histogram aggregation. If too small, then 1 node will be split per iteration, and its aggregates may exceed this size.'): 256,\n",
       " Param(parent='GBTClassifier_7560be6d380a', name='minInfoGain', doc='Minimum information gain for a split to be considered at a tree node.'): 0.0,\n",
       " Param(parent='GBTClassifier_7560be6d380a', name='minInstancesPerNode', doc='Minimum number of instances each child must have after split. If a split causes the left or right child to have fewer than minInstancesPerNode, the split will be discarded as invalid. Should be >= 1.'): 1,\n",
       " Param(parent='GBTClassifier_7560be6d380a', name='minWeightFractionPerNode', doc='Minimum fraction of the weighted sample count that each child must have after split. If a split causes the fraction of the total weight in the left or right child to be less than minWeightFractionPerNode, the split will be discarded as invalid. Should be in interval [0.0, 0.5).'): 0.0,\n",
       " Param(parent='GBTClassifier_7560be6d380a', name='stepSize', doc='Step size (a.k.a. learning rate) in interval (0, 1] for shrinking the contribution of each estimator.'): 0.1,\n",
       " Param(parent='GBTClassifier_7560be6d380a', name='subsamplingRate', doc='Fraction of the training data used for learning each decision tree, in range (0, 1].'): 1.0,\n",
       " Param(parent='GBTClassifier_7560be6d380a', name='validationTol', doc='Threshold for stopping early when fit with validation is used. If the error rate on the validation input changes by less than the validationTol, then learning will stop early (before `maxIter`). This parameter is ignored when fit without validation is used.'): 0.01}"
      ]
     },
     "execution_count": 309,
     "metadata": {},
     "output_type": "execute_result"
    }
   ],
   "source": [
    "cvModel.bestModel.extractParamMap()"
   ]
  },
  {
   "cell_type": "code",
   "execution_count": 286,
   "metadata": {},
   "outputs": [
    {
     "name": "stdout",
     "output_type": "stream",
     "text": [
      "cacheNodeIds: If false, the algorithm will pass trees to executors to match instances with nodes. If true, the algorithm will cache node IDs for each instance. Caching can speed up training of deeper trees. Users can set how often should the cache be checkpointed or disable it by setting checkpointInterval. (default: False)\n",
      "checkpointInterval: set checkpoint interval (>= 1) or disable checkpoint (-1). E.g. 10 means that the cache will get checkpointed every 10 iterations. Note: this setting will be ignored if the checkpoint directory is not set in the SparkContext. (default: 10)\n",
      "featureSubsetStrategy: The number of features to consider for splits at each tree node. Supported options: 'auto' (choose automatically for task: If numTrees == 1, set to 'all'. If numTrees > 1 (forest), set to 'sqrt' for classification and to 'onethird' for regression), 'all' (use all features), 'onethird' (use 1/3 of the features), 'sqrt' (use sqrt(number of features)), 'log2' (use log2(number of features)), 'n' (when n is in the range (0, 1.0], use n * number of features. When n is in the range (1, number of features), use n features). default = 'auto' (default: all)\n",
      "featuresCol: features column name. (default: features)\n",
      "impurity: Criterion used for information gain calculation (case-insensitive). Supported options: variance (default: variance)\n",
      "labelCol: label column name. (default: label)\n",
      "leafCol: Leaf indices column name. Predicted leaf index of each instance in each tree by preorder. (default: )\n",
      "lossType: Loss function which GBT tries to minimize (case-insensitive). Supported options: logistic (default: logistic)\n",
      "maxBins: Max number of bins for discretizing continuous features.  Must be >=2 and >= number of categories for any categorical feature. (default: 32, current: 60)\n",
      "maxDepth: Maximum depth of the tree. (>= 0) E.g., depth 0 means 1 leaf node; depth 1 means 1 internal node + 2 leaf nodes. (default: 5, current: 4)\n",
      "maxIter: max number of iterations (>= 0). (default: 20, current: 20)\n",
      "maxMemoryInMB: Maximum memory in MB allocated to histogram aggregation. If too small, then 1 node will be split per iteration, and its aggregates may exceed this size. (default: 256)\n",
      "minInfoGain: Minimum information gain for a split to be considered at a tree node. (default: 0.0)\n",
      "minInstancesPerNode: Minimum number of instances each child must have after split. If a split causes the left or right child to have fewer than minInstancesPerNode, the split will be discarded as invalid. Should be >= 1. (default: 1)\n",
      "minWeightFractionPerNode: Minimum fraction of the weighted sample count that each child must have after split. If a split causes the fraction of the total weight in the left or right child to be less than minWeightFractionPerNode, the split will be discarded as invalid. Should be in interval [0.0, 0.5). (default: 0.0)\n",
      "predictionCol: prediction column name. (default: prediction)\n",
      "probabilityCol: Column name for predicted class conditional probabilities. Note: Not all models output well-calibrated probability estimates! These probabilities should be treated as confidences, not precise probabilities. (default: probability)\n",
      "rawPredictionCol: raw prediction (a.k.a. confidence) column name. (default: rawPrediction)\n",
      "seed: random seed. (default: 707723439400678307)\n",
      "stepSize: Step size (a.k.a. learning rate) in interval (0, 1] for shrinking the contribution of each estimator. (default: 0.1)\n",
      "subsamplingRate: Fraction of the training data used for learning each decision tree, in range (0, 1]. (default: 1.0)\n",
      "thresholds: Thresholds in multi-class classification to adjust the probability of predicting each class. Array must have length equal to the number of classes, with values > 0, excepting that at most one value may be 0. The class with largest value p/t is predicted, where p is the original probability of that class and t is the class's threshold. (undefined)\n",
      "validationIndicatorCol: name of the column that indicates whether each row is for training or for validation. False indicates training; true indicates validation. (undefined)\n",
      "validationTol: Threshold for stopping early when fit with validation is used. If the error rate on the validation input changes by less than the validationTol, then learning will stop early (before `maxIter`). This parameter is ignored when fit without validation is used. (default: 0.01)\n",
      "weightCol: weight column name. If this is not set or empty, we treat all instance weights as 1.0. (undefined)\n"
     ]
    }
   ],
   "source": [
    "print(cvModel.bestModel.explainParams())"
   ]
  },
  {
   "cell_type": "code",
   "execution_count": 293,
   "metadata": {},
   "outputs": [
    {
     "data": {
      "text/plain": [
       "504"
      ]
     },
     "execution_count": 293,
     "metadata": {},
     "output_type": "execute_result"
    }
   ],
   "source": [
    "cvModel.bestModel.totalNumNodes"
   ]
  },
  {
   "cell_type": "code",
   "execution_count": null,
   "metadata": {},
   "outputs": [],
   "source": [
    "boosting_predictions.select(*predict_cols).where(col(\"risk_label\") == \"C\").show(1000, False)"
   ]
  },
  {
   "cell_type": "markdown",
   "metadata": {},
   "source": [
    "# Multilayer Perceptron Classifier"
   ]
  },
  {
   "cell_type": "markdown",
   "metadata": {},
   "source": [
    "# SVC"
   ]
  },
  {
   "cell_type": "markdown",
   "metadata": {},
   "source": [
    "# KMeans"
   ]
  },
  {
   "cell_type": "markdown",
   "metadata": {},
   "source": [
    "# KNN"
   ]
  },
  {
   "cell_type": "markdown",
   "metadata": {},
   "source": [
    "# word2vec\n",
    "# tokenizer\n",
    "# CountVectorizer\n",
    "# TF-IDF\n",
    "# FeatureHasher\n",
    "# StopWordsRemover\n",
    "# n-gram\n",
    "# binarizer\n",
    "# PCA\n",
    "# PolynomialExpansion\n",
    "# Discrete Cosine Transform\n",
    "# IndexToString\n",
    "# Interaction\n",
    "# VectorIndexer\n",
    "# Normalizer\n",
    "# StandardScaler\n",
    "# RobustScaler\n",
    "# MinMaxScaler\n",
    "# MaxAbsScaler\n",
    "# Bucketizer\n",
    "# ElementwiseProduct\n",
    "# SQLTransformer\n",
    "# VectorSizeHint\n",
    "# QuantileDiscretizer\n",
    "# Imputer\n",
    "# VectorSlicer\n",
    "# RFormula\n",
    "# ChiSqSelector\n",
    "# Locality Sensitive Hashing\n",
    "# Approx Nearest Neighbors"
   ]
  },
  {
   "cell_type": "code",
   "execution_count": null,
   "metadata": {},
   "outputs": [],
   "source": []
  }
 ],
 "metadata": {
  "kernelspec": {
   "display_name": "ophelia",
   "language": "python",
   "name": "ophelia"
  },
  "language_info": {
   "codemirror_mode": {
    "name": "ipython",
    "version": 3
   },
   "file_extension": ".py",
   "mimetype": "text/x-python",
   "name": "python",
   "nbconvert_exporter": "python",
   "pygments_lexer": "ipython3",
   "version": "3.8.0"
  }
 },
 "nbformat": 4,
 "nbformat_minor": 4
}
